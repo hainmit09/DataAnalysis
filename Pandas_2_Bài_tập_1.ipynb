{
  "nbformat": 4,
  "nbformat_minor": 0,
  "metadata": {
    "colab": {
      "name": "Pandas-2: Bài tập 1.ipynb",
      "provenance": [],
      "authorship_tag": "ABX9TyPuU0Aq63QZw806OsUfPhX8",
      "include_colab_link": true
    },
    "kernelspec": {
      "name": "python3",
      "display_name": "Python 3"
    },
    "language_info": {
      "name": "python"
    }
  },
  "cells": [
    {
      "cell_type": "markdown",
      "metadata": {
        "id": "view-in-github",
        "colab_type": "text"
      },
      "source": [
        "<a href=\"https://colab.research.google.com/github/hainmit09/DataAnalysis/blob/main/Pandas_2_B%C3%A0i_t%E1%BA%ADp_1.ipynb\" target=\"_parent\"><img src=\"https://colab.research.google.com/assets/colab-badge.svg\" alt=\"Open In Colab\"/></a>"
      ]
    },
    {
      "cell_type": "markdown",
      "source": [
        "# Import các thư viện để thao tác dữ liệu"
      ],
      "metadata": {
        "id": "oE2IjdoWOZAb"
      }
    },
    {
      "cell_type": "code",
      "execution_count": 1,
      "metadata": {
        "id": "yZ0HFrF_3pSw"
      },
      "outputs": [],
      "source": [
        "import pandas as pd\n",
        "import matplotlib.pyplot as plt\n"
      ]
    },
    {
      "cell_type": "markdown",
      "source": [
        "#1. Đọc dữ liệu và cho biết số dòng và số cột"
      ],
      "metadata": {
        "id": "J45SO2g5Oie5"
      }
    },
    {
      "cell_type": "code",
      "source": [
        ""
      ],
      "metadata": {
        "id": "oHurwVud4yf8"
      },
      "execution_count": 1,
      "outputs": []
    },
    {
      "cell_type": "code",
      "source": [
        "df = pd.read_csv(\"https://s3.ap-southeast-1.amazonaws.com/learn.codegym.vn/media/public/2021/12/31020936/GDPlist.csv\", encoding=\"ISO-8859-1\")\n",
        "df.head()"
      ],
      "metadata": {
        "colab": {
          "base_uri": "https://localhost:8080/",
          "height": 206
        },
        "id": "I7kEctzK37ts",
        "outputId": "f0f02619-f3b4-4a96-b1f8-93a84e179e60"
      },
      "execution_count": 2,
      "outputs": [
        {
          "output_type": "execute_result",
          "data": {
            "text/html": [
              "\n",
              "  <div id=\"df-8783b11e-9a01-4779-a239-15154c6209ce\">\n",
              "    <div class=\"colab-df-container\">\n",
              "      <div>\n",
              "<style scoped>\n",
              "    .dataframe tbody tr th:only-of-type {\n",
              "        vertical-align: middle;\n",
              "    }\n",
              "\n",
              "    .dataframe tbody tr th {\n",
              "        vertical-align: top;\n",
              "    }\n",
              "\n",
              "    .dataframe thead th {\n",
              "        text-align: right;\n",
              "    }\n",
              "</style>\n",
              "<table border=\"1\" class=\"dataframe\">\n",
              "  <thead>\n",
              "    <tr style=\"text-align: right;\">\n",
              "      <th></th>\n",
              "      <th>Country</th>\n",
              "      <th>Continent</th>\n",
              "      <th>GDP (millions of US$)</th>\n",
              "    </tr>\n",
              "  </thead>\n",
              "  <tbody>\n",
              "    <tr>\n",
              "      <th>0</th>\n",
              "      <td>Afghanistan</td>\n",
              "      <td>Asia</td>\n",
              "      <td>18181</td>\n",
              "    </tr>\n",
              "    <tr>\n",
              "      <th>1</th>\n",
              "      <td>Albania</td>\n",
              "      <td>Europe</td>\n",
              "      <td>12847</td>\n",
              "    </tr>\n",
              "    <tr>\n",
              "      <th>2</th>\n",
              "      <td>Algeria</td>\n",
              "      <td>Africa</td>\n",
              "      <td>190709</td>\n",
              "    </tr>\n",
              "    <tr>\n",
              "      <th>3</th>\n",
              "      <td>Angola</td>\n",
              "      <td>Africa</td>\n",
              "      <td>100948</td>\n",
              "    </tr>\n",
              "    <tr>\n",
              "      <th>4</th>\n",
              "      <td>Argentina</td>\n",
              "      <td>South America</td>\n",
              "      <td>447644</td>\n",
              "    </tr>\n",
              "  </tbody>\n",
              "</table>\n",
              "</div>\n",
              "      <button class=\"colab-df-convert\" onclick=\"convertToInteractive('df-8783b11e-9a01-4779-a239-15154c6209ce')\"\n",
              "              title=\"Convert this dataframe to an interactive table.\"\n",
              "              style=\"display:none;\">\n",
              "        \n",
              "  <svg xmlns=\"http://www.w3.org/2000/svg\" height=\"24px\"viewBox=\"0 0 24 24\"\n",
              "       width=\"24px\">\n",
              "    <path d=\"M0 0h24v24H0V0z\" fill=\"none\"/>\n",
              "    <path d=\"M18.56 5.44l.94 2.06.94-2.06 2.06-.94-2.06-.94-.94-2.06-.94 2.06-2.06.94zm-11 1L8.5 8.5l.94-2.06 2.06-.94-2.06-.94L8.5 2.5l-.94 2.06-2.06.94zm10 10l.94 2.06.94-2.06 2.06-.94-2.06-.94-.94-2.06-.94 2.06-2.06.94z\"/><path d=\"M17.41 7.96l-1.37-1.37c-.4-.4-.92-.59-1.43-.59-.52 0-1.04.2-1.43.59L10.3 9.45l-7.72 7.72c-.78.78-.78 2.05 0 2.83L4 21.41c.39.39.9.59 1.41.59.51 0 1.02-.2 1.41-.59l7.78-7.78 2.81-2.81c.8-.78.8-2.07 0-2.86zM5.41 20L4 18.59l7.72-7.72 1.47 1.35L5.41 20z\"/>\n",
              "  </svg>\n",
              "      </button>\n",
              "      \n",
              "  <style>\n",
              "    .colab-df-container {\n",
              "      display:flex;\n",
              "      flex-wrap:wrap;\n",
              "      gap: 12px;\n",
              "    }\n",
              "\n",
              "    .colab-df-convert {\n",
              "      background-color: #E8F0FE;\n",
              "      border: none;\n",
              "      border-radius: 50%;\n",
              "      cursor: pointer;\n",
              "      display: none;\n",
              "      fill: #1967D2;\n",
              "      height: 32px;\n",
              "      padding: 0 0 0 0;\n",
              "      width: 32px;\n",
              "    }\n",
              "\n",
              "    .colab-df-convert:hover {\n",
              "      background-color: #E2EBFA;\n",
              "      box-shadow: 0px 1px 2px rgba(60, 64, 67, 0.3), 0px 1px 3px 1px rgba(60, 64, 67, 0.15);\n",
              "      fill: #174EA6;\n",
              "    }\n",
              "\n",
              "    [theme=dark] .colab-df-convert {\n",
              "      background-color: #3B4455;\n",
              "      fill: #D2E3FC;\n",
              "    }\n",
              "\n",
              "    [theme=dark] .colab-df-convert:hover {\n",
              "      background-color: #434B5C;\n",
              "      box-shadow: 0px 1px 3px 1px rgba(0, 0, 0, 0.15);\n",
              "      filter: drop-shadow(0px 1px 2px rgba(0, 0, 0, 0.3));\n",
              "      fill: #FFFFFF;\n",
              "    }\n",
              "  </style>\n",
              "\n",
              "      <script>\n",
              "        const buttonEl =\n",
              "          document.querySelector('#df-8783b11e-9a01-4779-a239-15154c6209ce button.colab-df-convert');\n",
              "        buttonEl.style.display =\n",
              "          google.colab.kernel.accessAllowed ? 'block' : 'none';\n",
              "\n",
              "        async function convertToInteractive(key) {\n",
              "          const element = document.querySelector('#df-8783b11e-9a01-4779-a239-15154c6209ce');\n",
              "          const dataTable =\n",
              "            await google.colab.kernel.invokeFunction('convertToInteractive',\n",
              "                                                     [key], {});\n",
              "          if (!dataTable) return;\n",
              "\n",
              "          const docLinkHtml = 'Like what you see? Visit the ' +\n",
              "            '<a target=\"_blank\" href=https://colab.research.google.com/notebooks/data_table.ipynb>data table notebook</a>'\n",
              "            + ' to learn more about interactive tables.';\n",
              "          element.innerHTML = '';\n",
              "          dataTable['output_type'] = 'display_data';\n",
              "          await google.colab.output.renderOutput(dataTable, element);\n",
              "          const docLink = document.createElement('div');\n",
              "          docLink.innerHTML = docLinkHtml;\n",
              "          element.appendChild(docLink);\n",
              "        }\n",
              "      </script>\n",
              "    </div>\n",
              "  </div>\n",
              "  "
            ],
            "text/plain": [
              "        Country      Continent  GDP (millions of US$)\n",
              "0   Afghanistan           Asia                  18181\n",
              "1       Albania         Europe                  12847\n",
              "2       Algeria         Africa                 190709\n",
              "3        Angola         Africa                 100948\n",
              "4     Argentina  South America                 447644"
            ]
          },
          "metadata": {},
          "execution_count": 2
        }
      ]
    },
    {
      "cell_type": "markdown",
      "source": [
        "Sử dụng lệnh info để biết số dòng và số cột"
      ],
      "metadata": {
        "id": "AXxIi7pBOvlG"
      }
    },
    {
      "cell_type": "code",
      "source": [
        "df.info()"
      ],
      "metadata": {
        "colab": {
          "base_uri": "https://localhost:8080/"
        },
        "id": "qWAUZWlj45Hc",
        "outputId": "c8e39c25-f083-4b6e-a3d8-8fbf2ed9f098"
      },
      "execution_count": 3,
      "outputs": [
        {
          "output_type": "stream",
          "name": "stdout",
          "text": [
            "<class 'pandas.core.frame.DataFrame'>\n",
            "RangeIndex: 125 entries, 0 to 124\n",
            "Data columns (total 3 columns):\n",
            " #   Column                 Non-Null Count  Dtype \n",
            "---  ------                 --------------  ----- \n",
            " 0   Country                125 non-null    object\n",
            " 1   Continent              125 non-null    object\n",
            " 2   GDP (millions of US$)  125 non-null    int64 \n",
            "dtypes: int64(1), object(2)\n",
            "memory usage: 3.1+ KB\n"
          ]
        }
      ]
    },
    {
      "cell_type": "markdown",
      "source": [
        "# 2. Tính giá trị lớn nhất và nhỏ nhất của GDP."
      ],
      "metadata": {
        "id": "pApUfe6bPJ9M"
      }
    },
    {
      "cell_type": "code",
      "source": [
        "print(\"Giá trị lớn nhất của GDP\", df['GDP (millions of US$)'].max())"
      ],
      "metadata": {
        "id": "uIKoWQGDPOyE",
        "outputId": "a5628454-7973-4c3b-b081-5a7904b7eb5f",
        "colab": {
          "base_uri": "https://localhost:8080/"
        }
      },
      "execution_count": 4,
      "outputs": [
        {
          "output_type": "stream",
          "name": "stdout",
          "text": [
            "Giá trị lớn nhất của GDP 15094025\n"
          ]
        }
      ]
    },
    {
      "cell_type": "code",
      "source": [
        "print(\"Giá trị nhỏ nhất của GDP\", df['GDP (millions of US$)'].min())"
      ],
      "metadata": {
        "id": "7WF-TGAuPX9k",
        "outputId": "326e225b-5cce-4d90-ad5b-98ca35baf4b5",
        "colab": {
          "base_uri": "https://localhost:8080/"
        }
      },
      "execution_count": 5,
      "outputs": [
        {
          "output_type": "stream",
          "name": "stdout",
          "text": [
            "Giá trị nhỏ nhất của GDP 10600\n"
          ]
        }
      ]
    },
    {
      "cell_type": "markdown",
      "source": [
        "#3. Hãy cho biết xu hướng phân bố dữ liệu của GDP."
      ],
      "metadata": {
        "id": "VHTV9lMTPlZL"
      }
    },
    {
      "cell_type": "code",
      "source": [
        "df['GDP (millions of US$)'].index"
      ],
      "metadata": {
        "id": "U0lSp1v_xVok",
        "outputId": "43ad9227-b3c4-4158-8720-e5fbb65b0ed9",
        "colab": {
          "base_uri": "https://localhost:8080/"
        }
      },
      "execution_count": 6,
      "outputs": [
        {
          "output_type": "execute_result",
          "data": {
            "text/plain": [
              "RangeIndex(start=0, stop=125, step=1)"
            ]
          },
          "metadata": {},
          "execution_count": 6
        }
      ]
    },
    {
      "cell_type": "code",
      "source": [
        "# df['GDP (millions of US$)'].plot(figsize=(14,6))\n",
        "df['GDP (millions of US$)'].hist(bins=150, figsize=(14,6))"
      ],
      "metadata": {
        "id": "vcOsY3RXyC2D",
        "outputId": "39d2067d-bb7f-46bf-e96a-ba7fe2b4664f",
        "colab": {
          "base_uri": "https://localhost:8080/",
          "height": 404
        }
      },
      "execution_count": 7,
      "outputs": [
        {
          "output_type": "execute_result",
          "data": {
            "text/plain": [
              "<matplotlib.axes._subplots.AxesSubplot at 0x7fd0059f0510>"
            ]
          },
          "metadata": {},
          "execution_count": 7
        },
        {
          "output_type": "display_data",
          "data": {
            "image/png": "[encoded data removed]",
            "text/plain": [
              "<Figure size 1008x432 with 1 Axes>"
            ]
          },
          "metadata": {
            "needs_background": "light"
          }
        }
      ]
    },
    {
      "cell_type": "code",
      "source": [
        "# plt.subplots(figsize=(14,6))\n",
        "# # plt.scatter(x=df['GDP (millions of US$)'].index, y=df['GDP (millions of US$)'],  color='green')\n",
        "# plt.hist(x=df['GDP (millions of US$)'],  density=1, histtype='bar', color='steelblue', edgecolor='red', alpha=0.5)\n",
        "# plt.plot(x=df['GDP (millions of US$)'].index, y=df['GDP (millions of US$)'],  color='green')\n",
        "# plt.xlim(xmin=df['GDP (millions of US$)'].min(), xmax=df['GDP (millions of US$)'].max())\n",
        "# plt.show()"
      ],
      "metadata": {
        "id": "yIgVZQWh4s0d"
      },
      "execution_count": 8,
      "outputs": []
    },
    {
      "cell_type": "code",
      "source": [
        "df['GDP (millions of US$)'].describe(percentiles=[.5, .05, .75])"
      ],
      "metadata": {
        "id": "mlwzwslNJgd7",
        "outputId": "8d781685-13d5-4c04-f887-94bcdf7ef5de",
        "colab": {
          "base_uri": "https://localhost:8080/"
        }
      },
      "execution_count": 9,
      "outputs": [
        {
          "output_type": "execute_result",
          "data": {
            "text/plain": [
              "count    1.250000e+02\n",
              "mean     5.554278e+05\n",
              "std      1.649266e+06\n",
              "min      1.060000e+04\n",
              "5%       1.309840e+04\n",
              "50%      9.608900e+04\n",
              "75%      3.332380e+05\n",
              "max      1.509402e+07\n",
              "Name: GDP (millions of US$), dtype: float64"
            ]
          },
          "metadata": {},
          "execution_count": 9
        }
      ]
    },
    {
      "cell_type": "code",
      "source": [
        "df['GDP (millions of US$)'].quantile()"
      ],
      "metadata": {
        "id": "gvXwy90qK1XC",
        "outputId": "ad38959f-ce3e-4635-f666-70a8798abc32",
        "colab": {
          "base_uri": "https://localhost:8080/"
        }
      },
      "execution_count": 10,
      "outputs": [
        {
          "output_type": "execute_result",
          "data": {
            "text/plain": [
              "96089.0"
            ]
          },
          "metadata": {},
          "execution_count": 10
        }
      ]
    },
    {
      "cell_type": "markdown",
      "source": [
        "# Thầy sẽ xem lại."
      ],
      "metadata": {
        "id": "eOvKBR8mSyFW"
      }
    },
    {
      "cell_type": "code",
      "source": [
        "ax = df['GDP (millions of US$)'].plot(kind='density', figsize=(14,6))\n",
        "ax.axvline(df['GDP (millions of US$)'].mean(), color='red')\n",
        "ax.axvline(df['GDP (millions of US$)'].median(), color='blue')"
      ],
      "metadata": {
        "id": "UXGRUsJWXuLK",
        "outputId": "652302bd-9666-46d1-9b2c-d3fb985c5f29",
        "colab": {
          "base_uri": "https://localhost:8080/",
          "height": 415
        }
      },
      "execution_count": 11,
      "outputs": [
        {
          "output_type": "execute_result",
          "data": {
            "text/plain": [
              "<matplotlib.lines.Line2D at 0x7fcfff2eaa10>"
            ]
          },
          "metadata": {},
          "execution_count": 11
        },
        {
          "output_type": "display_data",
          "data": {
            "image/png": "[encoded data removed]",
            "text/plain": [
              "<Figure size 1008x432 with 1 Axes>"
            ]
          },
          "metadata": {
            "needs_background": "light"
          }
        }
      ]
    },
    {
      "cell_type": "code",
      "source": [
        "df['GDP (millions of US$)']"
      ],
      "metadata": {
        "id": "_AgbfvxaUPiZ",
        "outputId": "51a77999-5bbc-4600-f4f6-1eac91c34f84",
        "colab": {
          "base_uri": "https://localhost:8080/"
        }
      },
      "execution_count": 12,
      "outputs": [
        {
          "output_type": "execute_result",
          "data": {
            "text/plain": [
              "0       18181\n",
              "1       12847\n",
              "2      190709\n",
              "3      100948\n",
              "4      447644\n",
              "        ...  \n",
              "120     45353\n",
              "121    315841\n",
              "122    122722\n",
              "123     33675\n",
              "124     19206\n",
              "Name: GDP (millions of US$), Length: 125, dtype: int64"
            ]
          },
          "metadata": {},
          "execution_count": 12
        }
      ]
    },
    {
      "cell_type": "code",
      "source": [
        "plt.figure(figsize=(16,6))\n",
        "plt.plot(range(df.shape[0]), df['GDP (millions of US$)'])"
      ],
      "metadata": {
        "id": "x5V4nDokVrLx",
        "outputId": "c6e6ae8d-adc8-419e-aef1-5b61de9f9140",
        "colab": {
          "base_uri": "https://localhost:8080/",
          "height": 402
        }
      },
      "execution_count": 13,
      "outputs": [
        {
          "output_type": "execute_result",
          "data": {
            "text/plain": [
              "[<matplotlib.lines.Line2D at 0x7fcfef934d10>]"
            ]
          },
          "metadata": {},
          "execution_count": 13
        },
        {
          "output_type": "display_data",
          "data": {
            "image/png": "[encoded data removed]",
            "text/plain": [
              "<Figure size 1152x432 with 1 Axes>"
            ]
          },
          "metadata": {
            "needs_background": "light"
          }
        }
      ]
    },
    {
      "cell_type": "code",
      "source": [
        "import numpy as np\n"
      ],
      "metadata": {
        "id": "463FxkAbXEki"
      },
      "execution_count": 14,
      "outputs": []
    },
    {
      "cell_type": "code",
      "source": [
        "density = np.histogram(df['GDP (millions of US$)'], bins=10)\n",
        "density"
      ],
      "metadata": {
        "id": "AFzq3NLUW8xw",
        "outputId": "3caa20d3-c098-4c1c-d2d6-cfdd5d10e58a",
        "colab": {
          "base_uri": "https://localhost:8080/"
        }
      },
      "execution_count": 15,
      "outputs": [
        {
          "output_type": "execute_result",
          "data": {
            "text/plain": [
              "(array([114,   7,   1,   1,   1,   0,   0,   0,   0,   1]),\n",
              " array([1.06000000e+04, 1.51894250e+06, 3.02728500e+06, 4.53562750e+06,\n",
              "        6.04397000e+06, 7.55231250e+06, 9.06065500e+06, 1.05689975e+07,\n",
              "        1.20773400e+07, 1.35856825e+07, 1.50940250e+07]))"
            ]
          },
          "metadata": {},
          "execution_count": 15
        }
      ]
    },
    {
      "cell_type": "code",
      "source": [
        "len(density[0])"
      ],
      "metadata": {
        "id": "bELpj2NKtmSN",
        "outputId": "68357fef-1cb6-4425-802d-88a0ee98811c",
        "colab": {
          "base_uri": "https://localhost:8080/"
        }
      },
      "execution_count": 16,
      "outputs": [
        {
          "output_type": "execute_result",
          "data": {
            "text/plain": [
              "10"
            ]
          },
          "metadata": {},
          "execution_count": 16
        }
      ]
    },
    {
      "cell_type": "code",
      "source": [
        "len(density[1])"
      ],
      "metadata": {
        "id": "cQB4b4DattoU",
        "outputId": "e6470e2a-4a41-4346-b237-c5edc5fc8c3a",
        "colab": {
          "base_uri": "https://localhost:8080/"
        }
      },
      "execution_count": 17,
      "outputs": [
        {
          "output_type": "execute_result",
          "data": {
            "text/plain": [
              "11"
            ]
          },
          "metadata": {},
          "execution_count": 17
        }
      ]
    },
    {
      "cell_type": "code",
      "source": [
        "np.hstack(density)"
      ],
      "metadata": {
        "id": "DHjhD1wwjZwT",
        "outputId": "98b35acd-1ab2-46a5-a88f-5b8d27fced00",
        "colab": {
          "base_uri": "https://localhost:8080/"
        }
      },
      "execution_count": 18,
      "outputs": [
        {
          "output_type": "execute_result",
          "data": {
            "text/plain": [
              "array([1.14000000e+02, 7.00000000e+00, 1.00000000e+00, 1.00000000e+00,\n",
              "       1.00000000e+00, 0.00000000e+00, 0.00000000e+00, 0.00000000e+00,\n",
              "       0.00000000e+00, 1.00000000e+00, 1.06000000e+04, 1.51894250e+06,\n",
              "       3.02728500e+06, 4.53562750e+06, 6.04397000e+06, 7.55231250e+06,\n",
              "       9.06065500e+06, 1.05689975e+07, 1.20773400e+07, 1.35856825e+07,\n",
              "       1.50940250e+07])"
            ]
          },
          "metadata": {},
          "execution_count": 18
        }
      ]
    },
    {
      "cell_type": "code",
      "source": [
        "den_mode = max(max(density[0]), max(density[1]))\n",
        "den_mode"
      ],
      "metadata": {
        "id": "-rWdUqbMfYWT",
        "outputId": "645698f4-9e89-4a38-f3ca-5d90d4cd3092",
        "colab": {
          "base_uri": "https://localhost:8080/"
        }
      },
      "execution_count": 19,
      "outputs": [
        {
          "output_type": "execute_result",
          "data": {
            "text/plain": [
              "15094025.0"
            ]
          },
          "metadata": {},
          "execution_count": 19
        }
      ]
    },
    {
      "cell_type": "code",
      "source": [
        "df['GDP (millions of US$)'].mean()\n"
      ],
      "metadata": {
        "id": "DmZXr9HCghwK",
        "outputId": "89a7deb4-0065-4dc1-82b7-b6de9addfbf9",
        "colab": {
          "base_uri": "https://localhost:8080/"
        }
      },
      "execution_count": 20,
      "outputs": [
        {
          "output_type": "execute_result",
          "data": {
            "text/plain": [
              "555427.784"
            ]
          },
          "metadata": {},
          "execution_count": 20
        }
      ]
    },
    {
      "cell_type": "code",
      "source": [
        "df['GDP (millions of US$)'].median()"
      ],
      "metadata": {
        "id": "dt1UxfkzgnCD",
        "outputId": "71942239-5c84-4ae2-97b7-fd943bfe3900",
        "colab": {
          "base_uri": "https://localhost:8080/"
        }
      },
      "execution_count": 21,
      "outputs": [
        {
          "output_type": "execute_result",
          "data": {
            "text/plain": [
              "96089.0"
            ]
          },
          "metadata": {},
          "execution_count": 21
        }
      ]
    },
    {
      "cell_type": "code",
      "source": [
        "max(density[0])"
      ],
      "metadata": {
        "id": "TdP12ZD2uyQV",
        "outputId": "5138826f-e6b2-46d4-bbc7-89a7c167644d",
        "colab": {
          "base_uri": "https://localhost:8080/"
        }
      },
      "execution_count": 22,
      "outputs": [
        {
          "output_type": "execute_result",
          "data": {
            "text/plain": [
              "114"
            ]
          },
          "metadata": {},
          "execution_count": 22
        }
      ]
    },
    {
      "cell_type": "code",
      "source": [
        "ax = df['GDP (millions of US$)'].plot(kind='density', figsize=(14,6))\n",
        "ax.axvline(df['GDP (millions of US$)'].mean(), color='red')\n",
        "ax.axvline(df['GDP (millions of US$)'].median(), color='blue')\n",
        "ax.axvline(max(density[1]), color='green')\n",
        "ax.set_xlim(0, 0.4e7)"
      ],
      "metadata": {
        "id": "lRjdSsqvgLG7",
        "outputId": "5849ffe2-3e1c-4be7-887d-2bc9f5b3a055",
        "colab": {
          "base_uri": "https://localhost:8080/",
          "height": 415
        }
      },
      "execution_count": 23,
      "outputs": [
        {
          "output_type": "execute_result",
          "data": {
            "text/plain": [
              "(0.0, 4000000.0)"
            ]
          },
          "metadata": {},
          "execution_count": 23
        },
        {
          "output_type": "display_data",
          "data": {
            "image/png": "[encoded data removed]",
            "text/plain": [
              "<Figure size 1008x432 with 1 Axes>"
            ]
          },
          "metadata": {
            "needs_background": "light"
          }
        }
      ]
    },
    {
      "cell_type": "code",
      "source": [
        ""
      ],
      "metadata": {
        "id": "pyI5OjYOwDIF"
      },
      "execution_count": 23,
      "outputs": []
    },
    {
      "cell_type": "code",
      "source": [
        "plt.hist(df['GDP (millions of US$)'], bins=20)\n",
        "plt.vlines(df['GDP (millions of US$)'].mean(), colors='red', ymin=0, ymax=100)\n",
        "plt.set_xlim(0, 0.4e7)"
      ],
      "metadata": {
        "id": "cKfyzvW1mLPs",
        "outputId": "8ebe27c2-c563-4bd5-baf0-5b78b33508f1",
        "colab": {
          "base_uri": "https://localhost:8080/",
          "height": 461
        }
      },
      "execution_count": 24,
      "outputs": [
        {
          "output_type": "error",
          "ename": "AttributeError",
          "evalue": "ignored",
          "traceback": [
            "\u001b[0;31m---------------------------------------------------------------------------\u001b[0m",
            "\u001b[0;31mAttributeError\u001b[0m                            Traceback (most recent call last)",
            "\u001b[0;32m<ipython-input-24-eae12aadcf71>\u001b[0m in \u001b[0;36m<module>\u001b[0;34m()\u001b[0m\n\u001b[1;32m      1\u001b[0m \u001b[0mplt\u001b[0m\u001b[0;34m.\u001b[0m\u001b[0mhist\u001b[0m\u001b[0;34m(\u001b[0m\u001b[0mdf\u001b[0m\u001b[0;34m[\u001b[0m\u001b[0;34m'GDP (millions of US$)'\u001b[0m\u001b[0;34m]\u001b[0m\u001b[0;34m,\u001b[0m \u001b[0mbins\u001b[0m\u001b[0;34m=\u001b[0m\u001b[0;36m20\u001b[0m\u001b[0;34m)\u001b[0m\u001b[0;34m\u001b[0m\u001b[0;34m\u001b[0m\u001b[0m\n\u001b[1;32m      2\u001b[0m \u001b[0mplt\u001b[0m\u001b[0;34m.\u001b[0m\u001b[0mvlines\u001b[0m\u001b[0;34m(\u001b[0m\u001b[0mdf\u001b[0m\u001b[0;34m[\u001b[0m\u001b[0;34m'GDP (millions of US$)'\u001b[0m\u001b[0;34m]\u001b[0m\u001b[0;34m.\u001b[0m\u001b[0mmean\u001b[0m\u001b[0;34m(\u001b[0m\u001b[0;34m)\u001b[0m\u001b[0;34m,\u001b[0m \u001b[0mcolors\u001b[0m\u001b[0;34m=\u001b[0m\u001b[0;34m'red'\u001b[0m\u001b[0;34m,\u001b[0m \u001b[0mymin\u001b[0m\u001b[0;34m=\u001b[0m\u001b[0;36m0\u001b[0m\u001b[0;34m,\u001b[0m \u001b[0mymax\u001b[0m\u001b[0;34m=\u001b[0m\u001b[0;36m100\u001b[0m\u001b[0;34m)\u001b[0m\u001b[0;34m\u001b[0m\u001b[0;34m\u001b[0m\u001b[0m\n\u001b[0;32m----> 3\u001b[0;31m \u001b[0mplt\u001b[0m\u001b[0;34m.\u001b[0m\u001b[0mset_xlim\u001b[0m\u001b[0;34m(\u001b[0m\u001b[0;36m0\u001b[0m\u001b[0;34m,\u001b[0m \u001b[0;36m0.4e7\u001b[0m\u001b[0;34m)\u001b[0m\u001b[0;34m\u001b[0m\u001b[0;34m\u001b[0m\u001b[0m\n\u001b[0m",
            "\u001b[0;31mAttributeError\u001b[0m: module 'matplotlib.pyplot' has no attribute 'set_xlim'"
          ]
        },
        {
          "output_type": "display_data",
          "data": {
            "image/png": "[encoded data removed]",
            "text/plain": [
              "<Figure size 432x288 with 1 Axes>"
            ]
          },
          "metadata": {
            "needs_background": "light"
          }
        }
      ]
    },
    {
      "cell_type": "code",
      "source": [
        "plt.hist(df['GDP (millions of US$)'], bins=125, density=True, )\n",
        "plt.vlines(df['GDP (millions of US$)'].mean(), colors='red', ymin=0, ymax=4e-6)"
      ],
      "metadata": {
        "id": "CvqD2yyTwFYV"
      },
      "execution_count": null,
      "outputs": []
    },
    {
      "cell_type": "code",
      "source": [
        ""
      ],
      "metadata": {
        "id": "KqG9UyzfciWi"
      },
      "execution_count": null,
      "outputs": []
    },
    {
      "cell_type": "code",
      "source": [
        "import seaborn as sns\n",
        "sns.set(style='ticks', context='paper')"
      ],
      "metadata": {
        "id": "nuappBd8zHat"
      },
      "execution_count": 25,
      "outputs": []
    },
    {
      "cell_type": "code",
      "source": [
        "def make_density(stat, color, x_label, y_label, ax):\n",
        "    # Draw the histogram and fit a density plot.\n",
        "    sns.distplot(stat, hist=True, kde=True,\n",
        "                 kde_kws={'linewidth': 2}, color=color, ax=ax)\n",
        "\n",
        "    # get the y-coordinates of the points of the density curve.\n",
        "    dens_list = ax.get_lines()[0].get_data()[1]\n",
        "\n",
        "    # find the maximum y-coordinates of the density curve.\n",
        "    max_dens_index = dens_list.argmax()\n",
        "\n",
        "    # find the mode of the density plot.\n",
        "    mode_x = ax.get_lines()[0].get_data()[0][max_dens_index]\n",
        "\n",
        "    # draw a vertical line at the mode of the histogram.\n",
        "    ax.axvline(mode_x, color='blue', linestyle='dashed', linewidth=1.5)\n",
        "    ax.text(mode_x * 1.05, 0.16, 'Mode: {:.4f}'.format(mode_x))\n",
        "\n",
        "    # Plot formatting\n",
        "    ax.set_xlabel(x_label)\n",
        "    ax.set_ylabel(y_label)\n",
        "\n"
      ],
      "metadata": {
        "id": "31AGVUqMzIm_"
      },
      "execution_count": null,
      "outputs": []
    },
    {
      "cell_type": "code",
      "source": [
        ""
      ],
      "metadata": {
        "id": "LltHu08W1Cit"
      },
      "execution_count": null,
      "outputs": []
    },
    {
      "cell_type": "code",
      "source": [
        "fig, axes = plt.subplots(ncols=1, nrows=1, figsize=(16, 6))\n",
        "\n",
        "# Draw the histogram and fit a density plot.\n",
        "stat = df['GDP (millions of US$)']\n",
        "\n",
        "sns.distplot( stat, hist=True, kde=True, kde_kws={'linewidth': 2}, color='red', ax=axes)\n",
        "\n",
        "# get the y-coordinates of the points of the density curve.\n",
        "dens_list = ax.get_lines()[0].get_data()[1]\n",
        "\n",
        "# find the maximum y-coordinates of the density curve.\n",
        "max_dens_index = dens_list.argmax()\n",
        "\n",
        "# find the mode of the density plot.\n",
        "mode_x = ax.get_lines()[0].get_data()[0][max_dens_index]\n",
        "\n",
        "# draw a vertical line at the mode of the histogram.\n",
        "ax.axvline(mode_x, color='blue', linestyle='dashed', linewidth=1.5)\n",
        "\n",
        "print(\"mode_x\", mode_x)\n",
        "ax.text(mode_x * 1.05, 0.16, 'Mode: {:.4f}'.format(mode_x))\n",
        "\n",
        "# Plot formatting\n",
        "axes.set_xlabel('x_label')\n",
        "axes.set_ylabel('y_label')"
      ],
      "metadata": {
        "id": "6kg6BBi-0oq9",
        "outputId": "3bd1db04-2810-4a5b-8ac7-ec218b4ad57a",
        "colab": {
          "base_uri": "https://localhost:8080/",
          "height": 488
        }
      },
      "execution_count": 27,
      "outputs": [
        {
          "output_type": "stream",
          "name": "stdout",
          "text": [
            "mode_x 138937.44994994998\n"
          ]
        },
        {
          "output_type": "stream",
          "name": "stderr",
          "text": [
            "/usr/local/lib/python3.7/dist-packages/seaborn/distributions.py:2619: FutureWarning: `distplot` is a deprecated function and will be removed in a future version. Please adapt your code to use either `displot` (a figure-level function with similar flexibility) or `histplot` (an axes-level function for histograms).\n",
            "  warnings.warn(msg, FutureWarning)\n"
          ]
        },
        {
          "output_type": "execute_result",
          "data": {
            "text/plain": [
              "Text(0, 0.5, 'y_label')"
            ]
          },
          "metadata": {},
          "execution_count": 27
        },
        {
          "output_type": "display_data",
          "data": {
            "image/png": "[encoded data removed]",
            "text/plain": [
              "<Figure size 1152x432 with 1 Axes>"
            ]
          },
          "metadata": {}
        }
      ]
    },
    {
      "cell_type": "code",
      "source": [
        "stat_list = []\n",
        "ncols = 1\n",
        "nrows = 1\n",
        "fig, axes = plt.subplots(ncols=ncols, nrows=nrows, figsize=(16, 6)\n",
        "make_density(df['GDP (millions of US$)'], 'red', 'x_label', 'y_label', axes[0])\n"
      ],
      "metadata": {
        "id": "RPMqFPwzzbsF"
      },
      "execution_count": null,
      "outputs": []
    },
    {
      "cell_type": "code",
      "source": [
        "density = np.squeeze(density)"
      ],
      "metadata": {
        "id": "O77vnvZrcXxy"
      },
      "execution_count": null,
      "outputs": []
    },
    {
      "cell_type": "code",
      "source": [
        "print(np.max(density[1]))"
      ],
      "metadata": {
        "id": "RwUeRnx7XLJh"
      },
      "execution_count": null,
      "outputs": []
    },
    {
      "cell_type": "code",
      "source": [
        "print( \"Median\", \"Mean\" ,df['GDP (millions of US$)'].median(),  df['GDP (millions of US$)'].mean())"
      ],
      "metadata": {
        "id": "VqqkYBCzQdib"
      },
      "execution_count": null,
      "outputs": []
    },
    {
      "cell_type": "markdown",
      "source": [
        "#4. Hãy cho biết châu lục nào xuất hiện nhiều nhất?"
      ],
      "metadata": {
        "id": "1O3zLd9vTgSi"
      }
    },
    {
      "cell_type": "code",
      "source": [
        "con_mode = df['Continent'].mode()"
      ],
      "metadata": {
        "id": "PCsyhDFNTtS6"
      },
      "execution_count": null,
      "outputs": []
    },
    {
      "cell_type": "code",
      "source": [
        "type(con_mode)"
      ],
      "metadata": {
        "id": "QBdjfY4tT54-"
      },
      "execution_count": null,
      "outputs": []
    },
    {
      "cell_type": "code",
      "source": [
        "con_mode.head()"
      ],
      "metadata": {
        "id": "Mffpyck5UGY6"
      },
      "execution_count": null,
      "outputs": []
    },
    {
      "cell_type": "code",
      "source": [
        "con_mode[0]"
      ],
      "metadata": {
        "id": "7eVYfXAZULGc"
      },
      "execution_count": null,
      "outputs": []
    },
    {
      "cell_type": "markdown",
      "source": [
        "Viết gộp"
      ],
      "metadata": {
        "id": "xonqq1-iUUkb"
      }
    },
    {
      "cell_type": "code",
      "source": [
        "print(\"Châu lục xuất hiện nhiều nhất:\", df['Continent'].mode()[0])"
      ],
      "metadata": {
        "id": "9dVlKugrUXPV"
      },
      "execution_count": null,
      "outputs": []
    },
    {
      "cell_type": "markdown",
      "source": [
        "# 5. Với mỗi châu lục hãy tính tổng GDP; trung bình cộng GDP. Hợp nhất 2 bảng này thành một bảng duy nhất gồm 3 thông tin: Tên châu lục; Tổng GDP; TBC GDP.\n",
        "\n",
        "- Tính GDP châu lục: các bạn dùng lệnh\n",
        "df_sum = df.groupby('Continent')['GDP (millions of US$)'].sum()\n",
        "- Trung bình cộng theo châu lục: sử dụng câu lệnh: df_mean = df.groupby('Continent')['GDP (millions of US$)'].mean()\n",
        "- Muốn làm và hiểu rõ bài này các em cần hiểu rõ cấu trúc dữ liệu đc sử dụng\n",
        "- Hãy thử chạy các lệnh sau\n",
        "  + type(df_sum)\n",
        "  + df_sum.index\n"
      ],
      "metadata": {
        "id": "_4z9KebzVGRM"
      }
    },
    {
      "cell_type": "markdown",
      "source": [
        "Tổng GDP theo châu lục"
      ],
      "metadata": {
        "id": "5wp2KEWI5mlE"
      }
    },
    {
      "cell_type": "code",
      "source": [
        "tong_gdp = df.groupby('Continent')['GDP (millions of US$)'].sum()"
      ],
      "metadata": {
        "id": "rv8aS09d5lVN"
      },
      "execution_count": null,
      "outputs": []
    },
    {
      "cell_type": "markdown",
      "source": [
        "Trung bình cộng theo châu lục"
      ],
      "metadata": {
        "id": "pzmJ4q-m7Amx"
      }
    },
    {
      "cell_type": "code",
      "source": [
        "trung_binh_cong = df.groupby('Continent')['GDP (millions of US$)'].mean()"
      ],
      "metadata": {
        "id": "4IHa4YjN7azb"
      },
      "execution_count": null,
      "outputs": []
    },
    {
      "cell_type": "code",
      "source": [
        "type(df.groupby('Continent'))"
      ],
      "metadata": {
        "id": "6K8pHw2vYcCb"
      },
      "execution_count": null,
      "outputs": []
    },
    {
      "cell_type": "code",
      "source": [
        "print(\"Kiểu dữ liệu của tong_gdp\", type(tong_gdp))\n",
        "print(\"Kiểu dữ liệu của trung binh cong\", type(trung_binh_cong))"
      ],
      "metadata": {
        "id": "pWDzZVwLYjXg"
      },
      "execution_count": null,
      "outputs": []
    },
    {
      "cell_type": "code",
      "source": [
        "tong_gdp.head()"
      ],
      "metadata": {
        "id": "0GuDQbKUYoM4"
      },
      "execution_count": null,
      "outputs": []
    },
    {
      "cell_type": "code",
      "source": [
        "tong_gdp.index"
      ],
      "metadata": {
        "id": "AwbnDEXQYttR"
      },
      "execution_count": null,
      "outputs": []
    },
    {
      "cell_type": "code",
      "source": [
        "trung_binh_cong.index"
      ],
      "metadata": {
        "id": "mEO6_-EmcqZs"
      },
      "execution_count": null,
      "outputs": []
    },
    {
      "cell_type": "code",
      "source": [
        "tong_gdp.values"
      ],
      "metadata": {
        "id": "bgax20Slabfk"
      },
      "execution_count": null,
      "outputs": []
    },
    {
      "cell_type": "code",
      "source": [
        "df_sum = pd.DataFrame()\n",
        "df_sum['Continent']= pd.Series(tong_gdp.index)\n",
        "df_sum['Tong_GDP'] = pd.Series(tong_gdp.values)"
      ],
      "metadata": {
        "id": "4o3MX7IgZMbg"
      },
      "execution_count": null,
      "outputs": []
    },
    {
      "cell_type": "code",
      "source": [
        "df_sum.head(20)"
      ],
      "metadata": {
        "id": "L38LKlfCZ73B"
      },
      "execution_count": null,
      "outputs": []
    },
    {
      "cell_type": "code",
      "source": [
        "df_mean = pd.DataFrame()\n",
        "df_mean['Continent'] = pd.Series(trung_binh_cong.index)\n",
        "df_mean['Trung Binh Cong'] = pd.Series(trung_binh_cong.values)\n",
        "df_mean"
      ],
      "metadata": {
        "id": "TOBe3kQlasc6"
      },
      "execution_count": null,
      "outputs": []
    },
    {
      "cell_type": "code",
      "source": [
        "df_rs = pd.merge(right=df_mean, left=df_sum, on='Continent')\n",
        "df_rs"
      ],
      "metadata": {
        "id": "ar2q3vpvbX0q"
      },
      "execution_count": null,
      "outputs": []
    },
    {
      "cell_type": "code",
      "source": [
        "df_rs.info()"
      ],
      "metadata": {
        "id": "Pn2lSFkDb3Z5"
      },
      "execution_count": null,
      "outputs": []
    },
    {
      "cell_type": "markdown",
      "source": [
        "**Chú ý: Ngoài ra thì có thể dùng concat, tạo cột mới"
      ],
      "metadata": {
        "id": "lFJiYkgLcD0p"
      }
    },
    {
      "cell_type": "markdown",
      "source": [
        "#Đoạn mã sau sẽ tương đương\n",
        "df_mean = pd.DataFrame()<br/>\n",
        "df_mean['Continent'] = pd.Series(trung_binh_cong.index)<br/>\n",
        "df_mean['Trung Binh Cong'] = pd.Series(trung_binh_cong.values)<br/>\n",
        "df_mean"
      ],
      "metadata": {
        "id": "-mR0Isa4dijA"
      }
    },
    {
      "cell_type": "code",
      "source": [
        "df_mean_2 = pd.DataFrame()\n",
        "df_mean_2['Continent'] = pd.Series(trung_binh_cong.index, index=trung_binh_cong.index)\n",
        "df_mean_2['Trung Binh Cong'] = pd.Series(trung_binh_cong.values,trung_binh_cong.index) \n",
        "df_mean_2"
      ],
      "metadata": {
        "id": "7vDWZANmdNDJ"
      },
      "execution_count": null,
      "outputs": []
    },
    {
      "cell_type": "code",
      "source": [
        "df_mean_2.info()"
      ],
      "metadata": {
        "id": "qTG8O8hXd_dx"
      },
      "execution_count": null,
      "outputs": []
    },
    {
      "cell_type": "code",
      "source": [
        "df_mean_2.reset_index(drop=True, inplace=True)"
      ],
      "metadata": {
        "id": "0-_MIHjUfVln"
      },
      "execution_count": null,
      "outputs": []
    },
    {
      "cell_type": "code",
      "source": [
        "df_mean_2"
      ],
      "metadata": {
        "id": "Lh8fWgW9f0tY"
      },
      "execution_count": null,
      "outputs": []
    },
    {
      "cell_type": "code",
      "source": [
        "df_mean_2['Continent']"
      ],
      "metadata": {
        "id": "fxDXIldjeX7B"
      },
      "execution_count": null,
      "outputs": []
    },
    {
      "cell_type": "code",
      "source": [
        "trung_binh_cong.index"
      ],
      "metadata": {
        "id": "PRoItxUne6G6"
      },
      "execution_count": null,
      "outputs": []
    }
  ]
}