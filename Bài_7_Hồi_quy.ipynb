{
  "nbformat": 4,
  "nbformat_minor": 0,
  "metadata": {
    "colab": {
      "name": "Bài 7 - Hồi quy.ipynb",
      "provenance": [],
      "collapsed_sections": [],
      "authorship_tag": "ABX9TyM3DnIdo6gCWxAay1aXJL15",
      "include_colab_link": true
    },
    "kernelspec": {
      "name": "python3",
      "display_name": "Python 3"
    },
    "language_info": {
      "name": "python"
    }
  },
  "cells": [
    {
      "cell_type": "markdown",
      "metadata": {
        "id": "view-in-github",
        "colab_type": "text"
      },
      "source": [
        "<a href=\"https://colab.research.google.com/github/hainmit09/DataAnalysis/blob/main/B%C3%A0i_7_H%E1%BB%93i_quy.ipynb\" target=\"_parent\"><img src=\"https://colab.research.google.com/assets/colab-badge.svg\" alt=\"Open In Colab\"/></a>"
      ]
    },
    {
      "cell_type": "markdown",
      "source": [
        "Bài tập: Chạy thử ví dụ trong slide"
      ],
      "metadata": {
        "id": "hlLMV_KE2n6X"
      }
    },
    {
      "cell_type": "markdown",
      "source": [
        "Một ví dụ về hồi quy"
      ],
      "metadata": {
        "id": "IHcvjkiH2wF2"
      }
    },
    {
      "cell_type": "markdown",
      "source": [
        "Xét bộ dữ liệu sau"
      ],
      "metadata": {
        "id": "qv4DqMH_4Omb"
      }
    },
    {
      "cell_type": "code",
      "execution_count": 1,
      "metadata": {
        "id": "vbWctEoF2ZR2"
      },
      "outputs": [],
      "source": [
        "X=[0,     3, 10,    26,  45, 30]\n",
        "y=[32, 37.4, 50, 78.80, 113, 86]"
      ]
    },
    {
      "cell_type": "markdown",
      "source": [
        "bài toán: đặt ra là, cho một x nào đó ví dụ x = 7, thỉ đự đoán y=?"
      ],
      "metadata": {
        "id": "03t5Q70Q4Sr4"
      }
    },
    {
      "cell_type": "code",
      "source": [
        "# Nếu chạy máy cá nhân thay vì colab thì có thể phải cài sklearn\n",
        "#!pip install sklearn"
      ],
      "metadata": {
        "id": "T-GalA6u4wqr"
      },
      "execution_count": 2,
      "outputs": []
    },
    {
      "cell_type": "code",
      "source": [
        "import numpy as np\n",
        "from sklearn import linear_model\n",
        "import matplotlib.pyplot as plt\n"
      ],
      "metadata": {
        "id": "dniT-Ml64MNt"
      },
      "execution_count": 3,
      "outputs": []
    },
    {
      "cell_type": "markdown",
      "source": [
        "**Nhận xét: Đây là bài toán về dự báo (dự đoán) nên cần dùng mô hình hôi quy để chạy.\n",
        "- Muốn tìm được mô hình hồi quy phù hợp thì phải visualize data để xem phân bố dữ liệu"
      ],
      "metadata": {
        "id": "0klbpP1S5Mq0"
      }
    },
    {
      "cell_type": "code",
      "source": [
        "plt.scatter(X, y)"
      ],
      "metadata": {
        "colab": {
          "base_uri": "https://localhost:8080/",
          "height": 282
        },
        "id": "IETp3NVJ5vjs",
        "outputId": "88251650-cf98-4f13-eac9-e9eccedde299"
      },
      "execution_count": 4,
      "outputs": [
        {
          "output_type": "execute_result",
          "data": {
            "text/plain": [
              "<matplotlib.collections.PathCollection at 0x7f17f0359c50>"
            ]
          },
          "metadata": {},
          "execution_count": 4
        },
        {
          "output_type": "display_data",
          "data": {
            "text/plain": [
              "<Figure size 432x288 with 1 Axes>"
            ],
            "image/png": "[encoded data removed]"
          },
          "metadata": {
            "needs_background": "light"
          }
        }
      ]
    },
    {
      "cell_type": "markdown",
      "source": [
        "**Kết luận: Do phân bố dữ liệu xung quanh một đường thằng nên chọn mô hình linear regression (hồi quy tuyến tính)"
      ],
      "metadata": {
        "id": "NsWMPniN5_VA"
      }
    },
    {
      "cell_type": "markdown",
      "source": [
        "# Bước 1: Đào tạo mô hình"
      ],
      "metadata": {
        "id": "W_ywPDnT6QET"
      }
    },
    {
      "cell_type": "code",
      "source": [
        "X = np.array([X]).T"
      ],
      "metadata": {
        "id": "uSSFTn2C6bKm"
      },
      "execution_count": 5,
      "outputs": []
    },
    {
      "cell_type": "code",
      "source": [
        "X"
      ],
      "metadata": {
        "colab": {
          "base_uri": "https://localhost:8080/"
        },
        "id": "tbCyR4zv6quk",
        "outputId": "053bce0f-ee2a-4a7d-b71e-c704d1e71ab7"
      },
      "execution_count": 6,
      "outputs": [
        {
          "output_type": "execute_result",
          "data": {
            "text/plain": [
              "array([[ 0],\n",
              "       [ 3],\n",
              "       [10],\n",
              "       [26],\n",
              "       [45],\n",
              "       [30]])"
            ]
          },
          "metadata": {},
          "execution_count": 6
        }
      ]
    },
    {
      "cell_type": "code",
      "source": [
        "X.shape"
      ],
      "metadata": {
        "colab": {
          "base_uri": "https://localhost:8080/"
        },
        "id": "l7THgalO7E9m",
        "outputId": "47a34f23-a5f4-49de-a4b0-52e1ab1a9c73"
      },
      "execution_count": 7,
      "outputs": [
        {
          "output_type": "execute_result",
          "data": {
            "text/plain": [
              "(6, 1)"
            ]
          },
          "metadata": {},
          "execution_count": 7
        }
      ]
    },
    {
      "cell_type": "code",
      "source": [
        "y = np.array([y]).T"
      ],
      "metadata": {
        "id": "-fXEBWMf6wPj"
      },
      "execution_count": 8,
      "outputs": []
    },
    {
      "cell_type": "markdown",
      "source": [
        "# Tạo mô hình hồi quy"
      ],
      "metadata": {
        "id": "Fu4bf1Zq7zH3"
      }
    },
    {
      "cell_type": "code",
      "source": [
        "model = linear_model.LinearRegression()"
      ],
      "metadata": {
        "id": "6FZtVZ_B7W4Y"
      },
      "execution_count": 9,
      "outputs": []
    },
    {
      "cell_type": "markdown",
      "source": [
        "# Đào tạo mô hình"
      ],
      "metadata": {
        "id": "x5YchPpo75dU"
      }
    },
    {
      "cell_type": "code",
      "source": [
        "model.fit(X, y)"
      ],
      "metadata": {
        "colab": {
          "base_uri": "https://localhost:8080/"
        },
        "id": "2FMYB1Dy78qf",
        "outputId": "aa3c4b5f-c8c9-4cf0-ad77-1392f082ef92"
      },
      "execution_count": 10,
      "outputs": [
        {
          "output_type": "execute_result",
          "data": {
            "text/plain": [
              "LinearRegression()"
            ]
          },
          "metadata": {},
          "execution_count": 10
        }
      ]
    },
    {
      "cell_type": "markdown",
      "source": [
        "# Bước 2: Khai thác mô hình hồi quy để dự báo"
      ],
      "metadata": {
        "id": "V_cTGpPP8GxD"
      }
    },
    {
      "cell_type": "markdown",
      "source": [
        "dự báo xem x = 7 thì y = ?"
      ],
      "metadata": {
        "id": "fuPfhLHo8Xhd"
      }
    },
    {
      "cell_type": "code",
      "source": [
        "x = 7"
      ],
      "metadata": {
        "id": "S3w8Fj5K8P28"
      },
      "execution_count": 11,
      "outputs": []
    },
    {
      "cell_type": "code",
      "source": [
        "x = np.array([[x]]).T"
      ],
      "metadata": {
        "id": "jzLl5N0G8fcN"
      },
      "execution_count": 12,
      "outputs": []
    },
    {
      "cell_type": "code",
      "source": [
        "x"
      ],
      "metadata": {
        "colab": {
          "base_uri": "https://localhost:8080/"
        },
        "id": "L-zWPq5n84KO",
        "outputId": "89516a5a-fe71-4e88-f872-09d0fd7794c1"
      },
      "execution_count": 13,
      "outputs": [
        {
          "output_type": "execute_result",
          "data": {
            "text/plain": [
              "array([[7]])"
            ]
          },
          "metadata": {},
          "execution_count": 13
        }
      ]
    },
    {
      "cell_type": "code",
      "source": [
        "y_pred = model.predict(x)"
      ],
      "metadata": {
        "id": "8ZzNU5yv9Bye"
      },
      "execution_count": 14,
      "outputs": []
    },
    {
      "cell_type": "code",
      "source": [
        "y_pred.shape"
      ],
      "metadata": {
        "colab": {
          "base_uri": "https://localhost:8080/"
        },
        "id": "KdeO_Ju99xe9",
        "outputId": "fa27a321-60a0-4971-a900-9a3e0de3a412"
      },
      "execution_count": 15,
      "outputs": [
        {
          "output_type": "execute_result",
          "data": {
            "text/plain": [
              "(1, 1)"
            ]
          },
          "metadata": {},
          "execution_count": 15
        }
      ]
    },
    {
      "cell_type": "code",
      "source": [
        "y_pred"
      ],
      "metadata": {
        "colab": {
          "base_uri": "https://localhost:8080/"
        },
        "id": "ceqFyT6n9uEk",
        "outputId": "7c494b61-9b86-4dbd-85c2-d9369fb06ded"
      },
      "execution_count": 16,
      "outputs": [
        {
          "output_type": "execute_result",
          "data": {
            "text/plain": [
              "array([[44.6]])"
            ]
          },
          "metadata": {},
          "execution_count": 16
        }
      ]
    },
    {
      "cell_type": "code",
      "source": [
        "print(\"Kết quả dự đoán với x = \", x[0][0], \" thì y =\", y_pred[0][0])"
      ],
      "metadata": {
        "colab": {
          "base_uri": "https://localhost:8080/"
        },
        "id": "Wa8fFBui9P2K",
        "outputId": "eacd992e-6c8f-4af0-922f-7387a39aa0f9"
      },
      "execution_count": 17,
      "outputs": [
        {
          "output_type": "stream",
          "name": "stdout",
          "text": [
            "Kết quả dự đoán với x =  7  thì y = 44.6\n"
          ]
        }
      ]
    },
    {
      "cell_type": "markdown",
      "source": [
        "# Sử mô hình ANN của Deeplearning để làm hồi quy tuyến"
      ],
      "metadata": {
        "id": "XtnUl8k0OhST"
      }
    },
    {
      "cell_type": "code",
      "source": [
        "import keras as K\n",
        "import tensorflow as tf"
      ],
      "metadata": {
        "id": "qZOIPoLASVko"
      },
      "execution_count": 28,
      "outputs": []
    },
    {
      "cell_type": "code",
      "source": [
        "X_train = X.astype(\"float\")"
      ],
      "metadata": {
        "id": "J3jdq-TwThYD"
      },
      "execution_count": 22,
      "outputs": []
    },
    {
      "cell_type": "code",
      "source": [
        "y_train = y.astype(\"float\")"
      ],
      "metadata": {
        "id": "eK3ygnF3Ty65"
      },
      "execution_count": 24,
      "outputs": []
    },
    {
      "cell_type": "code",
      "source": [
        "X_train"
      ],
      "metadata": {
        "colab": {
          "base_uri": "https://localhost:8080/"
        },
        "id": "k2xQzMkNTn7w",
        "outputId": "e48f8479-c29a-4148-e288-5e8b2074d8f2"
      },
      "execution_count": 23,
      "outputs": [
        {
          "output_type": "execute_result",
          "data": {
            "text/plain": [
              "array([[ 0.],\n",
              "       [ 3.],\n",
              "       [10.],\n",
              "       [26.],\n",
              "       [45.],\n",
              "       [30.]])"
            ]
          },
          "metadata": {},
          "execution_count": 23
        }
      ]
    },
    {
      "cell_type": "code",
      "source": [
        "# Xây dựng mang ANN\n",
        "model = K.models.Sequential(\n",
        "    [\n",
        "     K.layers.InputLayer(input_shape=(1)),\n",
        "     K.layers.Dense(units=1)     \n",
        "    ]\n",
        ")"
      ],
      "metadata": {
        "id": "jjHfgQ36SszN"
      },
      "execution_count": 25,
      "outputs": []
    },
    {
      "cell_type": "code",
      "source": [
        "model.build()"
      ],
      "metadata": {
        "id": "K7AEdn9_UHPA"
      },
      "execution_count": 26,
      "outputs": []
    },
    {
      "cell_type": "code",
      "source": [
        "model.summary()"
      ],
      "metadata": {
        "colab": {
          "base_uri": "https://localhost:8080/"
        },
        "id": "WXz-oJWMUKiO",
        "outputId": "9036e459-5f34-46f3-9c93-fd289dab04a6"
      },
      "execution_count": 27,
      "outputs": [
        {
          "output_type": "stream",
          "name": "stdout",
          "text": [
            "Model: \"sequential_1\"\n",
            "_________________________________________________________________\n",
            " Layer (type)                Output Shape              Param #   \n",
            "=================================================================\n",
            " dense_3 (Dense)             (None, 1)                 2         \n",
            "                                                                 \n",
            "=================================================================\n",
            "Total params: 2\n",
            "Trainable params: 2\n",
            "Non-trainable params: 0\n",
            "_________________________________________________________________\n"
          ]
        }
      ]
    },
    {
      "cell_type": "markdown",
      "source": [
        "Biên dịch mô hình: Cấu hình cái hyper paramter"
      ],
      "metadata": {
        "id": "JuhbBrJOUXwu"
      }
    },
    {
      "cell_type": "code",
      "source": [
        "# Trong bài này thì loss là mse, nhưng các em có thể thử bằng mae.\n",
        "model.compile(loss='mean_squared_error', optimizer=tf.keras.optimizers.Adam(0.13))\n"
      ],
      "metadata": {
        "id": "SyGx6CMAUhbI"
      },
      "execution_count": 34,
      "outputs": []
    },
    {
      "cell_type": "markdown",
      "source": [
        "Đào tại mô hình AI"
      ],
      "metadata": {
        "id": "VkBPdrltVJaM"
      }
    },
    {
      "cell_type": "code",
      "source": [
        "history = model.fit(X_train, y_train, epochs=500, verbose=1)\n",
        "print(\"Finished training the model\")"
      ],
      "metadata": {
        "colab": {
          "base_uri": "https://localhost:8080/"
        },
        "id": "QLIee6RcVLlx",
        "outputId": "3f5e266d-d08c-4db5-8ea7-38203070b7ba"
      },
      "execution_count": 35,
      "outputs": [
        {
          "output_type": "stream",
          "name": "stdout",
          "text": [
            "Epoch 1/500\n",
            "1/1 [==============================] - 0s 298ms/step - loss: 0.1404\n",
            "Epoch 2/500\n",
            "1/1 [==============================] - 0s 9ms/step - loss: 9.8707\n",
            "Epoch 3/500\n",
            "1/1 [==============================] - 0s 7ms/step - loss: 0.4679\n",
            "Epoch 4/500\n",
            "1/1 [==============================] - 0s 6ms/step - loss: 2.7979\n",
            "Epoch 5/500\n",
            "1/1 [==============================] - 0s 7ms/step - loss: 6.0364\n",
            "Epoch 6/500\n",
            "1/1 [==============================] - 0s 6ms/step - loss: 3.9496\n",
            "Epoch 7/500\n",
            "1/1 [==============================] - 0s 7ms/step - loss: 0.8232\n",
            "Epoch 8/500\n",
            "1/1 [==============================] - 0s 6ms/step - loss: 0.1547\n",
            "Epoch 9/500\n",
            "1/1 [==============================] - 0s 7ms/step - loss: 1.7890\n",
            "Epoch 10/500\n",
            "1/1 [==============================] - 0s 7ms/step - loss: 3.0273\n",
            "Epoch 11/500\n",
            "1/1 [==============================] - 0s 7ms/step - loss: 2.4268\n",
            "Epoch 12/500\n",
            "1/1 [==============================] - 0s 8ms/step - loss: 0.9135\n",
            "Epoch 13/500\n",
            "1/1 [==============================] - 0s 7ms/step - loss: 0.0372\n",
            "Epoch 14/500\n",
            "1/1 [==============================] - 0s 7ms/step - loss: 0.4088\n",
            "Epoch 15/500\n",
            "1/1 [==============================] - 0s 10ms/step - loss: 1.3053\n",
            "Epoch 16/500\n",
            "1/1 [==============================] - 0s 8ms/step - loss: 1.6239\n",
            "Epoch 17/500\n",
            "1/1 [==============================] - 0s 8ms/step - loss: 1.0863\n",
            "Epoch 18/500\n",
            "1/1 [==============================] - 0s 6ms/step - loss: 0.3067\n",
            "Epoch 19/500\n",
            "1/1 [==============================] - 0s 6ms/step - loss: 0.0109\n",
            "Epoch 20/500\n",
            "1/1 [==============================] - 0s 9ms/step - loss: 0.3398\n",
            "Epoch 21/500\n",
            "1/1 [==============================] - 0s 11ms/step - loss: 0.8024\n",
            "Epoch 22/500\n",
            "1/1 [==============================] - 0s 6ms/step - loss: 0.8642\n",
            "Epoch 23/500\n",
            "1/1 [==============================] - 0s 6ms/step - loss: 0.4924\n",
            "Epoch 24/500\n",
            "1/1 [==============================] - 0s 6ms/step - loss: 0.0911\n",
            "Epoch 25/500\n",
            "1/1 [==============================] - 0s 6ms/step - loss: 0.0269\n",
            "Epoch 26/500\n",
            "1/1 [==============================] - 0s 6ms/step - loss: 0.2734\n",
            "Epoch 27/500\n",
            "1/1 [==============================] - 0s 6ms/step - loss: 0.4942\n",
            "Epoch 28/500\n",
            "1/1 [==============================] - 0s 8ms/step - loss: 0.4382\n",
            "Epoch 29/500\n",
            "1/1 [==============================] - 0s 6ms/step - loss: 0.1859\n",
            "Epoch 30/500\n",
            "1/1 [==============================] - 0s 5ms/step - loss: 0.0094\n",
            "Epoch 31/500\n",
            "1/1 [==============================] - 0s 5ms/step - loss: 0.0596\n",
            "Epoch 32/500\n",
            "1/1 [==============================] - 0s 6ms/step - loss: 0.2254\n",
            "Epoch 33/500\n",
            "1/1 [==============================] - 0s 6ms/step - loss: 0.2909\n",
            "Epoch 34/500\n",
            "1/1 [==============================] - 0s 12ms/step - loss: 0.1861\n",
            "Epoch 35/500\n",
            "1/1 [==============================] - 0s 7ms/step - loss: 0.0395\n",
            "Epoch 36/500\n",
            "1/1 [==============================] - 0s 7ms/step - loss: 0.0058\n",
            "Epoch 37/500\n",
            "1/1 [==============================] - 0s 7ms/step - loss: 0.0910\n",
            "Epoch 38/500\n",
            "1/1 [==============================] - 0s 7ms/step - loss: 0.1677\n",
            "Epoch 39/500\n",
            "1/1 [==============================] - 0s 7ms/step - loss: 0.1399\n",
            "Epoch 40/500\n",
            "1/1 [==============================] - 0s 7ms/step - loss: 0.0478\n",
            "Epoch 41/500\n",
            "1/1 [==============================] - 0s 12ms/step - loss: 4.3537e-05\n",
            "Epoch 42/500\n",
            "1/1 [==============================] - 0s 8ms/step - loss: 0.0368\n",
            "Epoch 43/500\n",
            "1/1 [==============================] - 0s 8ms/step - loss: 0.0932\n",
            "Epoch 44/500\n",
            "1/1 [==============================] - 0s 13ms/step - loss: 0.0922\n",
            "Epoch 45/500\n",
            "1/1 [==============================] - 0s 8ms/step - loss: 0.0388\n",
            "Epoch 46/500\n",
            "1/1 [==============================] - 0s 7ms/step - loss: 0.0011\n",
            "Epoch 47/500\n",
            "1/1 [==============================] - 0s 7ms/step - loss: 0.0173\n",
            "Epoch 48/500\n",
            "1/1 [==============================] - 0s 7ms/step - loss: 0.0536\n",
            "Epoch 49/500\n",
            "1/1 [==============================] - 0s 7ms/step - loss: 0.0573\n",
            "Epoch 50/500\n",
            "1/1 [==============================] - 0s 7ms/step - loss: 0.0255\n",
            "Epoch 51/500\n",
            "1/1 [==============================] - 0s 7ms/step - loss: 9.8724e-04\n",
            "Epoch 52/500\n",
            "1/1 [==============================] - 0s 6ms/step - loss: 0.0105\n",
            "Epoch 53/500\n",
            "1/1 [==============================] - 0s 11ms/step - loss: 0.0330\n",
            "Epoch 54/500\n",
            "1/1 [==============================] - 0s 7ms/step - loss: 0.0344\n",
            "Epoch 55/500\n",
            "1/1 [==============================] - 0s 6ms/step - loss: 0.0141\n",
            "Epoch 56/500\n",
            "1/1 [==============================] - 0s 7ms/step - loss: 3.2586e-04\n",
            "Epoch 57/500\n",
            "1/1 [==============================] - 0s 7ms/step - loss: 0.0081\n",
            "Epoch 58/500\n",
            "1/1 [==============================] - 0s 7ms/step - loss: 0.0215\n",
            "Epoch 59/500\n",
            "1/1 [==============================] - 0s 7ms/step - loss: 0.0197\n",
            "Epoch 60/500\n",
            "1/1 [==============================] - 0s 7ms/step - loss: 0.0063\n",
            "Epoch 61/500\n",
            "1/1 [==============================] - 0s 10ms/step - loss: 1.9331e-04\n",
            "Epoch 62/500\n",
            "1/1 [==============================] - 0s 6ms/step - loss: 0.0072\n",
            "Epoch 63/500\n",
            "1/1 [==============================] - 0s 6ms/step - loss: 0.0141\n",
            "Epoch 64/500\n",
            "1/1 [==============================] - 0s 7ms/step - loss: 0.0103\n",
            "Epoch 65/500\n",
            "1/1 [==============================] - 0s 7ms/step - loss: 0.0019\n",
            "Epoch 66/500\n",
            "1/1 [==============================] - 0s 13ms/step - loss: 8.0093e-04\n",
            "Epoch 67/500\n",
            "1/1 [==============================] - 0s 11ms/step - loss: 0.0064\n",
            "Epoch 68/500\n",
            "1/1 [==============================] - 0s 12ms/step - loss: 0.0088\n",
            "Epoch 69/500\n",
            "1/1 [==============================] - 0s 10ms/step - loss: 0.0044\n",
            "Epoch 70/500\n",
            "1/1 [==============================] - 0s 12ms/step - loss: 1.8349e-04\n",
            "Epoch 71/500\n",
            "1/1 [==============================] - 0s 11ms/step - loss: 0.0017\n",
            "Epoch 72/500\n",
            "1/1 [==============================] - 0s 15ms/step - loss: 0.0052\n",
            "Epoch 73/500\n",
            "1/1 [==============================] - 0s 8ms/step - loss: 0.0047\n",
            "Epoch 74/500\n",
            "1/1 [==============================] - 0s 8ms/step - loss: 0.0012\n",
            "Epoch 75/500\n",
            "1/1 [==============================] - 0s 10ms/step - loss: 1.3254e-04\n",
            "Epoch 76/500\n",
            "1/1 [==============================] - 0s 11ms/step - loss: 0.0023\n",
            "Epoch 77/500\n",
            "1/1 [==============================] - 0s 8ms/step - loss: 0.0035\n",
            "Epoch 78/500\n",
            "1/1 [==============================] - 0s 8ms/step - loss: 0.0018\n",
            "Epoch 79/500\n",
            "1/1 [==============================] - 0s 8ms/step - loss: 6.3628e-05\n",
            "Epoch 80/500\n",
            "1/1 [==============================] - 0s 13ms/step - loss: 7.3261e-04\n",
            "Epoch 81/500\n",
            "1/1 [==============================] - 0s 9ms/step - loss: 0.0021\n",
            "Epoch 82/500\n",
            "1/1 [==============================] - 0s 10ms/step - loss: 0.0018\n",
            "Epoch 83/500\n",
            "1/1 [==============================] - 0s 8ms/step - loss: 3.3855e-04\n",
            "Epoch 84/500\n",
            "1/1 [==============================] - 0s 8ms/step - loss: 1.3897e-04\n",
            "Epoch 85/500\n",
            "1/1 [==============================] - 0s 8ms/step - loss: 0.0011\n",
            "Epoch 86/500\n",
            "1/1 [==============================] - 0s 8ms/step - loss: 0.0014\n",
            "Epoch 87/500\n",
            "1/1 [==============================] - 0s 9ms/step - loss: 5.0572e-04\n",
            "Epoch 88/500\n",
            "1/1 [==============================] - 0s 10ms/step - loss: 6.3575e-06\n",
            "Epoch 89/500\n",
            "1/1 [==============================] - 0s 8ms/step - loss: 5.1622e-04\n",
            "Epoch 90/500\n",
            "1/1 [==============================] - 0s 8ms/step - loss: 9.3552e-04\n",
            "Epoch 91/500\n",
            "1/1 [==============================] - 0s 13ms/step - loss: 5.1390e-04\n",
            "Epoch 92/500\n",
            "1/1 [==============================] - 0s 7ms/step - loss: 2.1573e-05\n",
            "Epoch 93/500\n",
            "1/1 [==============================] - 0s 7ms/step - loss: 2.1627e-04\n",
            "Epoch 94/500\n",
            "1/1 [==============================] - 0s 7ms/step - loss: 5.9004e-04\n",
            "Epoch 95/500\n",
            "1/1 [==============================] - 0s 10ms/step - loss: 4.3262e-04\n",
            "Epoch 96/500\n",
            "1/1 [==============================] - 0s 9ms/step - loss: 5.2600e-05\n",
            "Epoch 97/500\n",
            "1/1 [==============================] - 0s 8ms/step - loss: 8.3388e-05\n",
            "Epoch 98/500\n",
            "1/1 [==============================] - 0s 8ms/step - loss: 3.5680e-04\n",
            "Epoch 99/500\n",
            "1/1 [==============================] - 0s 8ms/step - loss: 3.2706e-04\n",
            "Epoch 100/500\n",
            "1/1 [==============================] - 0s 8ms/step - loss: 6.5113e-05\n",
            "Epoch 101/500\n",
            "1/1 [==============================] - 0s 8ms/step - loss: 3.0127e-05\n",
            "Epoch 102/500\n",
            "1/1 [==============================] - 0s 8ms/step - loss: 2.1258e-04\n",
            "Epoch 103/500\n",
            "1/1 [==============================] - 0s 17ms/step - loss: 2.3206e-04\n",
            "Epoch 104/500\n",
            "1/1 [==============================] - 0s 11ms/step - loss: 6.0929e-05\n",
            "Epoch 105/500\n",
            "1/1 [==============================] - 0s 10ms/step - loss: 1.0493e-05\n",
            "Epoch 106/500\n",
            "1/1 [==============================] - 0s 9ms/step - loss: 1.2787e-04\n",
            "Epoch 107/500\n",
            "1/1 [==============================] - 0s 12ms/step - loss: 1.5887e-04\n",
            "Epoch 108/500\n",
            "1/1 [==============================] - 0s 10ms/step - loss: 4.8735e-05\n",
            "Epoch 109/500\n",
            "1/1 [==============================] - 0s 7ms/step - loss: 3.8214e-06\n",
            "Epoch 110/500\n",
            "1/1 [==============================] - 0s 8ms/step - loss: 7.9187e-05\n",
            "Epoch 111/500\n",
            "1/1 [==============================] - 0s 10ms/step - loss: 1.0661e-04\n",
            "Epoch 112/500\n",
            "1/1 [==============================] - 0s 9ms/step - loss: 3.5101e-05\n",
            "Epoch 113/500\n",
            "1/1 [==============================] - 0s 8ms/step - loss: 1.7760e-06\n",
            "Epoch 114/500\n",
            "1/1 [==============================] - 0s 8ms/step - loss: 5.1146e-05\n",
            "Epoch 115/500\n",
            "1/1 [==============================] - 0s 8ms/step - loss: 7.0826e-05\n",
            "Epoch 116/500\n",
            "1/1 [==============================] - 0s 8ms/step - loss: 2.3368e-05\n",
            "Epoch 117/500\n",
            "1/1 [==============================] - 0s 9ms/step - loss: 1.3362e-06\n",
            "Epoch 118/500\n",
            "1/1 [==============================] - 0s 8ms/step - loss: 3.4732e-05\n",
            "Epoch 119/500\n",
            "1/1 [==============================] - 0s 9ms/step - loss: 4.6723e-05\n",
            "Epoch 120/500\n",
            "1/1 [==============================] - 0s 11ms/step - loss: 1.4305e-05\n",
            "Epoch 121/500\n",
            "1/1 [==============================] - 0s 7ms/step - loss: 1.4513e-06\n",
            "Epoch 122/500\n",
            "1/1 [==============================] - 0s 7ms/step - loss: 2.4588e-05\n",
            "Epoch 123/500\n",
            "1/1 [==============================] - 0s 7ms/step - loss: 3.0411e-05\n",
            "Epoch 124/500\n",
            "1/1 [==============================] - 0s 7ms/step - loss: 7.9862e-06\n",
            "Epoch 125/500\n",
            "1/1 [==============================] - 0s 7ms/step - loss: 1.7626e-06\n",
            "Epoch 126/500\n",
            "1/1 [==============================] - 0s 7ms/step - loss: 1.7915e-05\n",
            "Epoch 127/500\n",
            "1/1 [==============================] - 0s 7ms/step - loss: 1.9366e-05\n",
            "Epoch 128/500\n",
            "1/1 [==============================] - 0s 7ms/step - loss: 3.8844e-06\n",
            "Epoch 129/500\n",
            "1/1 [==============================] - 0s 7ms/step - loss: 2.1363e-06\n",
            "Epoch 130/500\n",
            "1/1 [==============================] - 0s 6ms/step - loss: 1.3166e-05\n",
            "Epoch 131/500\n",
            "1/1 [==============================] - 0s 5ms/step - loss: 1.1825e-05\n",
            "Epoch 132/500\n",
            "1/1 [==============================] - 0s 5ms/step - loss: 1.4951e-06\n",
            "Epoch 133/500\n",
            "1/1 [==============================] - 0s 6ms/step - loss: 2.4484e-06\n",
            "Epoch 134/500\n",
            "1/1 [==============================] - 0s 6ms/step - loss: 9.5693e-06\n",
            "Epoch 135/500\n",
            "1/1 [==============================] - 0s 7ms/step - loss: 6.7825e-06\n",
            "Epoch 136/500\n",
            "1/1 [==============================] - 0s 6ms/step - loss: 3.5284e-07\n",
            "Epoch 137/500\n",
            "1/1 [==============================] - 0s 6ms/step - loss: 2.6439e-06\n",
            "Epoch 138/500\n",
            "1/1 [==============================] - 0s 6ms/step - loss: 6.7095e-06\n",
            "Epoch 139/500\n",
            "1/1 [==============================] - 0s 6ms/step - loss: 3.5096e-06\n",
            "Epoch 140/500\n",
            "1/1 [==============================] - 0s 6ms/step - loss: 1.2015e-08\n",
            "Epoch 141/500\n",
            "1/1 [==============================] - 0s 6ms/step - loss: 2.6195e-06\n",
            "Epoch 142/500\n",
            "1/1 [==============================] - 0s 5ms/step - loss: 4.4788e-06\n",
            "Epoch 143/500\n",
            "1/1 [==============================] - 0s 6ms/step - loss: 1.5144e-06\n",
            "Epoch 144/500\n",
            "1/1 [==============================] - 0s 10ms/step - loss: 1.1530e-07\n",
            "Epoch 145/500\n",
            "1/1 [==============================] - 0s 6ms/step - loss: 2.3824e-06\n",
            "Epoch 146/500\n",
            "1/1 [==============================] - 0s 5ms/step - loss: 2.7280e-06\n",
            "Epoch 147/500\n",
            "1/1 [==============================] - 0s 6ms/step - loss: 4.8499e-07\n",
            "Epoch 148/500\n",
            "1/1 [==============================] - 0s 5ms/step - loss: 3.7952e-07\n",
            "Epoch 149/500\n",
            "1/1 [==============================] - 0s 5ms/step - loss: 1.9685e-06\n",
            "Epoch 150/500\n",
            "1/1 [==============================] - 0s 5ms/step - loss: 1.4623e-06\n",
            "Epoch 151/500\n",
            "1/1 [==============================] - 0s 5ms/step - loss: 6.7609e-08\n",
            "Epoch 152/500\n",
            "1/1 [==============================] - 0s 6ms/step - loss: 6.0516e-07\n",
            "Epoch 153/500\n",
            "1/1 [==============================] - 0s 7ms/step - loss: 1.4423e-06\n",
            "Epoch 154/500\n",
            "1/1 [==============================] - 0s 6ms/step - loss: 6.3975e-07\n",
            "Epoch 155/500\n",
            "1/1 [==============================] - 0s 6ms/step - loss: 1.4043e-08\n",
            "Epoch 156/500\n",
            "1/1 [==============================] - 0s 6ms/step - loss: 6.9786e-07\n",
            "Epoch 157/500\n",
            "1/1 [==============================] - 0s 6ms/step - loss: 9.0232e-07\n",
            "Epoch 158/500\n",
            "1/1 [==============================] - 0s 6ms/step - loss: 1.8664e-07\n",
            "Epoch 159/500\n",
            "1/1 [==============================] - 0s 6ms/step - loss: 1.1221e-07\n",
            "Epoch 160/500\n",
            "1/1 [==============================] - 0s 6ms/step - loss: 6.2917e-07\n",
            "Epoch 161/500\n",
            "1/1 [==============================] - 0s 6ms/step - loss: 4.6294e-07\n",
            "Epoch 162/500\n",
            "1/1 [==============================] - 0s 6ms/step - loss: 1.8437e-08\n",
            "Epoch 163/500\n",
            "1/1 [==============================] - 0s 11ms/step - loss: 2.2070e-07\n",
            "Epoch 164/500\n",
            "1/1 [==============================] - 0s 5ms/step - loss: 4.6434e-07\n",
            "Epoch 165/500\n",
            "1/1 [==============================] - 0s 7ms/step - loss: 1.7059e-07\n",
            "Epoch 166/500\n",
            "1/1 [==============================] - 0s 6ms/step - loss: 1.3461e-08\n",
            "Epoch 167/500\n",
            "1/1 [==============================] - 0s 6ms/step - loss: 2.5852e-07\n",
            "Epoch 168/500\n",
            "1/1 [==============================] - 0s 6ms/step - loss: 2.6802e-07\n",
            "Epoch 169/500\n",
            "1/1 [==============================] - 0s 6ms/step - loss: 3.0232e-08\n",
            "Epoch 170/500\n",
            "1/1 [==============================] - 0s 10ms/step - loss: 6.6969e-08\n",
            "Epoch 171/500\n",
            "1/1 [==============================] - 0s 9ms/step - loss: 2.2085e-07\n",
            "Epoch 172/500\n",
            "1/1 [==============================] - 0s 9ms/step - loss: 1.0811e-07\n",
            "Epoch 173/500\n",
            "1/1 [==============================] - 0s 11ms/step - loss: 6.2331e-10\n",
            "Epoch 174/500\n",
            "1/1 [==============================] - 0s 7ms/step - loss: 1.0456e-07\n",
            "Epoch 175/500\n",
            "1/1 [==============================] - 0s 7ms/step - loss: 1.3399e-07\n",
            "Epoch 176/500\n",
            "1/1 [==============================] - 0s 7ms/step - loss: 2.3026e-08\n",
            "Epoch 177/500\n",
            "1/1 [==============================] - 0s 7ms/step - loss: 2.3666e-08\n",
            "Epoch 178/500\n",
            "1/1 [==============================] - 0s 8ms/step - loss: 1.0070e-07\n",
            "Epoch 179/500\n",
            "1/1 [==============================] - 0s 7ms/step - loss: 5.8608e-08\n",
            "Epoch 180/500\n",
            "1/1 [==============================] - 0s 6ms/step - loss: 1.9645e-10\n",
            "Epoch 181/500\n",
            "1/1 [==============================] - 0s 10ms/step - loss: 4.8914e-08\n",
            "Epoch 182/500\n",
            "1/1 [==============================] - 0s 9ms/step - loss: 6.7669e-08\n",
            "Epoch 183/500\n",
            "1/1 [==============================] - 0s 7ms/step - loss: 1.1159e-08\n",
            "Epoch 184/500\n",
            "1/1 [==============================] - 0s 8ms/step - loss: 1.1137e-08\n",
            "Epoch 185/500\n",
            "1/1 [==============================] - 0s 7ms/step - loss: 4.8482e-08\n",
            "Epoch 186/500\n",
            "1/1 [==============================] - 0s 6ms/step - loss: 2.6759e-08\n",
            "Epoch 187/500\n",
            "1/1 [==============================] - 0s 6ms/step - loss: 2.2555e-10\n",
            "Epoch 188/500\n",
            "1/1 [==============================] - 0s 7ms/step - loss: 2.4816e-08\n",
            "Epoch 189/500\n",
            "1/1 [==============================] - 0s 7ms/step - loss: 3.0971e-08\n",
            "Epoch 190/500\n",
            "1/1 [==============================] - 0s 17ms/step - loss: 4.1546e-09\n",
            "Epoch 191/500\n",
            "1/1 [==============================] - 0s 9ms/step - loss: 7.7077e-09\n",
            "Epoch 192/500\n",
            "1/1 [==============================] - 0s 9ms/step - loss: 2.3666e-08\n",
            "Epoch 193/500\n",
            "1/1 [==============================] - 0s 10ms/step - loss: 1.0053e-08\n",
            "Epoch 194/500\n",
            "1/1 [==============================] - 0s 12ms/step - loss: 6.0633e-10\n",
            "Epoch 195/500\n",
            "1/1 [==============================] - 0s 11ms/step - loss: 1.3606e-08\n",
            "Epoch 196/500\n",
            "1/1 [==============================] - 0s 18ms/step - loss: 1.1811e-08\n",
            "Epoch 197/500\n",
            "1/1 [==============================] - 0s 15ms/step - loss: 6.7181e-10\n",
            "Epoch 198/500\n",
            "1/1 [==============================] - 0s 13ms/step - loss: 5.4157e-09\n",
            "Epoch 199/500\n",
            "1/1 [==============================] - 0s 10ms/step - loss: 1.1188e-08\n",
            "Epoch 200/500\n",
            "1/1 [==============================] - 0s 6ms/step - loss: 2.5927e-09\n",
            "Epoch 201/500\n",
            "1/1 [==============================] - 0s 7ms/step - loss: 1.2612e-09\n",
            "Epoch 202/500\n",
            "1/1 [==============================] - 0s 7ms/step - loss: 7.4627e-09\n",
            "Epoch 203/500\n",
            "1/1 [==============================] - 0s 10ms/step - loss: 3.8369e-09\n",
            "Epoch 204/500\n",
            "1/1 [==============================] - 0s 10ms/step - loss: 2.2434e-11\n",
            "Epoch 205/500\n",
            "1/1 [==============================] - 0s 11ms/step - loss: 3.5895e-09\n",
            "Epoch 206/500\n",
            "1/1 [==============================] - 0s 10ms/step - loss: 4.3680e-09\n",
            "Epoch 207/500\n",
            "1/1 [==============================] - 0s 7ms/step - loss: 3.7896e-10\n",
            "Epoch 208/500\n",
            "1/1 [==============================] - 0s 9ms/step - loss: 1.2636e-09\n",
            "Epoch 209/500\n",
            "1/1 [==============================] - 0s 8ms/step - loss: 3.6725e-09\n",
            "Epoch 210/500\n",
            "1/1 [==============================] - 0s 8ms/step - loss: 1.2787e-09\n",
            "Epoch 211/500\n",
            "1/1 [==============================] - 0s 8ms/step - loss: 2.4011e-10\n",
            "Epoch 212/500\n",
            "1/1 [==============================] - 0s 8ms/step - loss: 2.5569e-09\n",
            "Epoch 213/500\n",
            "1/1 [==============================] - 0s 8ms/step - loss: 1.7274e-09\n",
            "Epoch 214/500\n",
            "1/1 [==============================] - 0s 7ms/step - loss: 4.8506e-12\n",
            "Epoch 215/500\n",
            "1/1 [==============================] - 0s 9ms/step - loss: 1.2787e-09\n",
            "Epoch 216/500\n",
            "1/1 [==============================] - 0s 11ms/step - loss: 1.9093e-09\n",
            "Epoch 217/500\n",
            "1/1 [==============================] - 0s 8ms/step - loss: 1.3824e-10\n",
            "Epoch 218/500\n",
            "1/1 [==============================] - 0s 7ms/step - loss: 7.2820e-10\n",
            "Epoch 219/500\n",
            "1/1 [==============================] - 0s 7ms/step - loss: 1.6013e-09\n",
            "Epoch 220/500\n",
            "1/1 [==============================] - 0s 6ms/step - loss: 3.7896e-10\n",
            "Epoch 221/500\n",
            "1/1 [==============================] - 0s 7ms/step - loss: 1.7765e-10\n",
            "Epoch 222/500\n",
            "1/1 [==============================] - 0s 7ms/step - loss: 1.2618e-09\n",
            "Epoch 223/500\n",
            "1/1 [==============================] - 0s 7ms/step - loss: 6.9182e-10\n",
            "Epoch 224/500\n",
            "1/1 [==============================] - 0s 7ms/step - loss: 1.9403e-11\n",
            "Epoch 225/500\n",
            "1/1 [==============================] - 0s 9ms/step - loss: 8.0763e-10\n",
            "Epoch 226/500\n",
            "1/1 [==============================] - 0s 9ms/step - loss: 6.0148e-10\n",
            "Epoch 227/500\n",
            "1/1 [==============================] - 0s 7ms/step - loss: 1.9403e-11\n",
            "Epoch 228/500\n",
            "1/1 [==============================] - 0s 7ms/step - loss: 2.4496e-10\n",
            "Epoch 229/500\n",
            "1/1 [==============================] - 0s 7ms/step - loss: 5.6510e-10\n",
            "Epoch 230/500\n",
            "1/1 [==============================] - 0s 7ms/step - loss: 1.2127e-10\n",
            "Epoch 231/500\n",
            "1/1 [==============================] - 0s 8ms/step - loss: 1.3824e-10\n",
            "Epoch 232/500\n",
            "1/1 [==============================] - 0s 8ms/step - loss: 3.7835e-10\n",
            "Epoch 233/500\n",
            "1/1 [==============================] - 0s 7ms/step - loss: 1.3824e-10\n",
            "Epoch 234/500\n",
            "1/1 [==============================] - 0s 8ms/step - loss: 9.2162e-11\n",
            "Epoch 235/500\n",
            "1/1 [==============================] - 0s 7ms/step - loss: 2.4496e-10\n",
            "Epoch 236/500\n",
            "1/1 [==============================] - 0s 8ms/step - loss: 1.2127e-10\n",
            "Epoch 237/500\n",
            "1/1 [==============================] - 0s 7ms/step - loss: 1.9403e-11\n",
            "Epoch 238/500\n",
            "1/1 [==============================] - 0s 8ms/step - loss: 1.7462e-10\n",
            "Epoch 239/500\n",
            "1/1 [==============================] - 0s 7ms/step - loss: 1.3824e-10\n",
            "Epoch 240/500\n",
            "1/1 [==============================] - 0s 8ms/step - loss: 0.0000e+00\n",
            "Epoch 241/500\n",
            "1/1 [==============================] - 0s 7ms/step - loss: 1.2127e-10\n",
            "Epoch 242/500\n",
            "1/1 [==============================] - 0s 8ms/step - loss: 1.2127e-10\n",
            "Epoch 243/500\n",
            "1/1 [==============================] - 0s 7ms/step - loss: 0.0000e+00\n",
            "Epoch 244/500\n",
            "1/1 [==============================] - 0s 7ms/step - loss: 1.9403e-11\n",
            "Epoch 245/500\n",
            "1/1 [==============================] - 0s 9ms/step - loss: 5.0932e-11\n",
            "Epoch 246/500\n",
            "1/1 [==============================] - 0s 6ms/step - loss: 1.9403e-11\n",
            "Epoch 247/500\n",
            "1/1 [==============================] - 0s 7ms/step - loss: 0.0000e+00\n",
            "Epoch 248/500\n",
            "1/1 [==============================] - 0s 8ms/step - loss: 9.2162e-11\n",
            "Epoch 249/500\n",
            "1/1 [==============================] - 0s 6ms/step - loss: 1.9403e-11\n",
            "Epoch 250/500\n",
            "1/1 [==============================] - 0s 6ms/step - loss: 0.0000e+00\n",
            "Epoch 251/500\n",
            "1/1 [==============================] - 0s 6ms/step - loss: 5.0932e-11\n",
            "Epoch 252/500\n",
            "1/1 [==============================] - 0s 5ms/step - loss: 5.0932e-11\n",
            "Epoch 253/500\n",
            "1/1 [==============================] - 0s 14ms/step - loss: 0.0000e+00\n",
            "Epoch 254/500\n",
            "1/1 [==============================] - 0s 5ms/step - loss: 1.9403e-11\n",
            "Epoch 255/500\n",
            "1/1 [==============================] - 0s 5ms/step - loss: 9.2162e-11\n",
            "Epoch 256/500\n",
            "1/1 [==============================] - 0s 5ms/step - loss: 0.0000e+00\n",
            "Epoch 257/500\n",
            "1/1 [==============================] - 0s 5ms/step - loss: 1.9403e-11\n",
            "Epoch 258/500\n",
            "1/1 [==============================] - 0s 8ms/step - loss: 5.0932e-11\n",
            "Epoch 259/500\n",
            "1/1 [==============================] - 0s 6ms/step - loss: 1.9403e-11\n",
            "Epoch 260/500\n",
            "1/1 [==============================] - 0s 6ms/step - loss: 0.0000e+00\n",
            "Epoch 261/500\n",
            "1/1 [==============================] - 0s 5ms/step - loss: 9.2162e-11\n",
            "Epoch 262/500\n",
            "1/1 [==============================] - 0s 5ms/step - loss: 1.9403e-11\n",
            "Epoch 263/500\n",
            "1/1 [==============================] - 0s 5ms/step - loss: 0.0000e+00\n",
            "Epoch 264/500\n",
            "1/1 [==============================] - 0s 5ms/step - loss: 5.0932e-11\n",
            "Epoch 265/500\n",
            "1/1 [==============================] - 0s 5ms/step - loss: 5.0932e-11\n",
            "Epoch 266/500\n",
            "1/1 [==============================] - 0s 6ms/step - loss: 0.0000e+00\n",
            "Epoch 267/500\n",
            "1/1 [==============================] - 0s 6ms/step - loss: 1.9403e-11\n",
            "Epoch 268/500\n",
            "1/1 [==============================] - 0s 6ms/step - loss: 9.2162e-11\n",
            "Epoch 269/500\n",
            "1/1 [==============================] - 0s 5ms/step - loss: 0.0000e+00\n",
            "Epoch 270/500\n",
            "1/1 [==============================] - 0s 5ms/step - loss: 1.9403e-11\n",
            "Epoch 271/500\n",
            "1/1 [==============================] - 0s 5ms/step - loss: 1.9403e-11\n",
            "Epoch 272/500\n",
            "1/1 [==============================] - 0s 5ms/step - loss: 0.0000e+00\n",
            "Epoch 273/500\n",
            "1/1 [==============================] - 0s 5ms/step - loss: 0.0000e+00\n",
            "Epoch 274/500\n",
            "1/1 [==============================] - 0s 5ms/step - loss: 1.9403e-11\n",
            "Epoch 275/500\n",
            "1/1 [==============================] - 0s 5ms/step - loss: 0.0000e+00\n",
            "Epoch 276/500\n",
            "1/1 [==============================] - 0s 5ms/step - loss: 0.0000e+00\n",
            "Epoch 277/500\n",
            "1/1 [==============================] - 0s 5ms/step - loss: 0.0000e+00\n",
            "Epoch 278/500\n",
            "1/1 [==============================] - 0s 5ms/step - loss: 0.0000e+00\n",
            "Epoch 279/500\n",
            "1/1 [==============================] - 0s 4ms/step - loss: 0.0000e+00\n",
            "Epoch 280/500\n",
            "1/1 [==============================] - 0s 5ms/step - loss: 0.0000e+00\n",
            "Epoch 281/500\n",
            "1/1 [==============================] - 0s 5ms/step - loss: 0.0000e+00\n",
            "Epoch 282/500\n",
            "1/1 [==============================] - 0s 5ms/step - loss: 0.0000e+00\n",
            "Epoch 283/500\n",
            "1/1 [==============================] - 0s 5ms/step - loss: 0.0000e+00\n",
            "Epoch 284/500\n",
            "1/1 [==============================] - 0s 5ms/step - loss: 0.0000e+00\n",
            "Epoch 285/500\n",
            "1/1 [==============================] - 0s 6ms/step - loss: 0.0000e+00\n",
            "Epoch 286/500\n",
            "1/1 [==============================] - 0s 5ms/step - loss: 0.0000e+00\n",
            "Epoch 287/500\n",
            "1/1 [==============================] - 0s 6ms/step - loss: 0.0000e+00\n",
            "Epoch 288/500\n",
            "1/1 [==============================] - 0s 5ms/step - loss: 0.0000e+00\n",
            "Epoch 289/500\n",
            "1/1 [==============================] - 0s 5ms/step - loss: 0.0000e+00\n",
            "Epoch 290/500\n",
            "1/1 [==============================] - 0s 10ms/step - loss: 0.0000e+00\n",
            "Epoch 291/500\n",
            "1/1 [==============================] - 0s 8ms/step - loss: 0.0000e+00\n",
            "Epoch 292/500\n",
            "1/1 [==============================] - 0s 10ms/step - loss: 0.0000e+00\n",
            "Epoch 293/500\n",
            "1/1 [==============================] - 0s 5ms/step - loss: 0.0000e+00\n",
            "Epoch 294/500\n",
            "1/1 [==============================] - 0s 6ms/step - loss: 0.0000e+00\n",
            "Epoch 295/500\n",
            "1/1 [==============================] - 0s 6ms/step - loss: 0.0000e+00\n",
            "Epoch 296/500\n",
            "1/1 [==============================] - 0s 5ms/step - loss: 0.0000e+00\n",
            "Epoch 297/500\n",
            "1/1 [==============================] - 0s 5ms/step - loss: 0.0000e+00\n",
            "Epoch 298/500\n",
            "1/1 [==============================] - 0s 5ms/step - loss: 0.0000e+00\n",
            "Epoch 299/500\n",
            "1/1 [==============================] - 0s 6ms/step - loss: 0.0000e+00\n",
            "Epoch 300/500\n",
            "1/1 [==============================] - 0s 6ms/step - loss: 0.0000e+00\n",
            "Epoch 301/500\n",
            "1/1 [==============================] - 0s 6ms/step - loss: 0.0000e+00\n",
            "Epoch 302/500\n",
            "1/1 [==============================] - 0s 6ms/step - loss: 0.0000e+00\n",
            "Epoch 303/500\n",
            "1/1 [==============================] - 0s 7ms/step - loss: 0.0000e+00\n",
            "Epoch 304/500\n",
            "1/1 [==============================] - 0s 6ms/step - loss: 0.0000e+00\n",
            "Epoch 305/500\n",
            "1/1 [==============================] - 0s 11ms/step - loss: 0.0000e+00\n",
            "Epoch 306/500\n",
            "1/1 [==============================] - 0s 5ms/step - loss: 0.0000e+00\n",
            "Epoch 307/500\n",
            "1/1 [==============================] - 0s 5ms/step - loss: 0.0000e+00\n",
            "Epoch 308/500\n",
            "1/1 [==============================] - 0s 6ms/step - loss: 0.0000e+00\n",
            "Epoch 309/500\n",
            "1/1 [==============================] - 0s 6ms/step - loss: 0.0000e+00\n",
            "Epoch 310/500\n",
            "1/1 [==============================] - 0s 8ms/step - loss: 0.0000e+00\n",
            "Epoch 311/500\n",
            "1/1 [==============================] - 0s 10ms/step - loss: 0.0000e+00\n",
            "Epoch 312/500\n",
            "1/1 [==============================] - 0s 12ms/step - loss: 0.0000e+00\n",
            "Epoch 313/500\n",
            "1/1 [==============================] - 0s 9ms/step - loss: 0.0000e+00\n",
            "Epoch 314/500\n",
            "1/1 [==============================] - 0s 15ms/step - loss: 0.0000e+00\n",
            "Epoch 315/500\n",
            "1/1 [==============================] - 0s 9ms/step - loss: 0.0000e+00\n",
            "Epoch 316/500\n",
            "1/1 [==============================] - 0s 8ms/step - loss: 0.0000e+00\n",
            "Epoch 317/500\n",
            "1/1 [==============================] - 0s 9ms/step - loss: 0.0000e+00\n",
            "Epoch 318/500\n",
            "1/1 [==============================] - 0s 10ms/step - loss: 0.0000e+00\n",
            "Epoch 319/500\n",
            "1/1 [==============================] - 0s 6ms/step - loss: 0.0000e+00\n",
            "Epoch 320/500\n",
            "1/1 [==============================] - 0s 9ms/step - loss: 0.0000e+00\n",
            "Epoch 321/500\n",
            "1/1 [==============================] - 0s 6ms/step - loss: 0.0000e+00\n",
            "Epoch 322/500\n",
            "1/1 [==============================] - 0s 7ms/step - loss: 0.0000e+00\n",
            "Epoch 323/500\n",
            "1/1 [==============================] - 0s 7ms/step - loss: 0.0000e+00\n",
            "Epoch 324/500\n",
            "1/1 [==============================] - 0s 6ms/step - loss: 0.0000e+00\n",
            "Epoch 325/500\n",
            "1/1 [==============================] - 0s 6ms/step - loss: 0.0000e+00\n",
            "Epoch 326/500\n",
            "1/1 [==============================] - 0s 6ms/step - loss: 0.0000e+00\n",
            "Epoch 327/500\n",
            "1/1 [==============================] - 0s 6ms/step - loss: 0.0000e+00\n",
            "Epoch 328/500\n",
            "1/1 [==============================] - 0s 6ms/step - loss: 0.0000e+00\n",
            "Epoch 329/500\n",
            "1/1 [==============================] - 0s 6ms/step - loss: 0.0000e+00\n",
            "Epoch 330/500\n",
            "1/1 [==============================] - 0s 11ms/step - loss: 0.0000e+00\n",
            "Epoch 331/500\n",
            "1/1 [==============================] - 0s 7ms/step - loss: 0.0000e+00\n",
            "Epoch 332/500\n",
            "1/1 [==============================] - 0s 6ms/step - loss: 0.0000e+00\n",
            "Epoch 333/500\n",
            "1/1 [==============================] - 0s 5ms/step - loss: 0.0000e+00\n",
            "Epoch 334/500\n",
            "1/1 [==============================] - 0s 5ms/step - loss: 0.0000e+00\n",
            "Epoch 335/500\n",
            "1/1 [==============================] - 0s 6ms/step - loss: 0.0000e+00\n",
            "Epoch 336/500\n",
            "1/1 [==============================] - 0s 6ms/step - loss: 0.0000e+00\n",
            "Epoch 337/500\n",
            "1/1 [==============================] - 0s 6ms/step - loss: 0.0000e+00\n",
            "Epoch 338/500\n",
            "1/1 [==============================] - 0s 6ms/step - loss: 0.0000e+00\n",
            "Epoch 339/500\n",
            "1/1 [==============================] - 0s 5ms/step - loss: 0.0000e+00\n",
            "Epoch 340/500\n",
            "1/1 [==============================] - 0s 6ms/step - loss: 0.0000e+00\n",
            "Epoch 341/500\n",
            "1/1 [==============================] - 0s 6ms/step - loss: 0.0000e+00\n",
            "Epoch 342/500\n",
            "1/1 [==============================] - 0s 6ms/step - loss: 0.0000e+00\n",
            "Epoch 343/500\n",
            "1/1 [==============================] - 0s 6ms/step - loss: 0.0000e+00\n",
            "Epoch 344/500\n",
            "1/1 [==============================] - 0s 6ms/step - loss: 0.0000e+00\n",
            "Epoch 345/500\n",
            "1/1 [==============================] - 0s 6ms/step - loss: 0.0000e+00\n",
            "Epoch 346/500\n",
            "1/1 [==============================] - 0s 7ms/step - loss: 0.0000e+00\n",
            "Epoch 347/500\n",
            "1/1 [==============================] - 0s 6ms/step - loss: 0.0000e+00\n",
            "Epoch 348/500\n",
            "1/1 [==============================] - 0s 6ms/step - loss: 0.0000e+00\n",
            "Epoch 349/500\n",
            "1/1 [==============================] - 0s 8ms/step - loss: 0.0000e+00\n",
            "Epoch 350/500\n",
            "1/1 [==============================] - 0s 6ms/step - loss: 0.0000e+00\n",
            "Epoch 351/500\n",
            "1/1 [==============================] - 0s 6ms/step - loss: 0.0000e+00\n",
            "Epoch 352/500\n",
            "1/1 [==============================] - 0s 6ms/step - loss: 0.0000e+00\n",
            "Epoch 353/500\n",
            "1/1 [==============================] - 0s 6ms/step - loss: 0.0000e+00\n",
            "Epoch 354/500\n",
            "1/1 [==============================] - 0s 5ms/step - loss: 0.0000e+00\n",
            "Epoch 355/500\n",
            "1/1 [==============================] - 0s 6ms/step - loss: 0.0000e+00\n",
            "Epoch 356/500\n",
            "1/1 [==============================] - 0s 7ms/step - loss: 0.0000e+00\n",
            "Epoch 357/500\n",
            "1/1 [==============================] - 0s 11ms/step - loss: 0.0000e+00\n",
            "Epoch 358/500\n",
            "1/1 [==============================] - 0s 6ms/step - loss: 0.0000e+00\n",
            "Epoch 359/500\n",
            "1/1 [==============================] - 0s 5ms/step - loss: 0.0000e+00\n",
            "Epoch 360/500\n",
            "1/1 [==============================] - 0s 6ms/step - loss: 0.0000e+00\n",
            "Epoch 361/500\n",
            "1/1 [==============================] - 0s 6ms/step - loss: 0.0000e+00\n",
            "Epoch 362/500\n",
            "1/1 [==============================] - 0s 6ms/step - loss: 0.0000e+00\n",
            "Epoch 363/500\n",
            "1/1 [==============================] - 0s 6ms/step - loss: 0.0000e+00\n",
            "Epoch 364/500\n",
            "1/1 [==============================] - 0s 6ms/step - loss: 0.0000e+00\n",
            "Epoch 365/500\n",
            "1/1 [==============================] - 0s 6ms/step - loss: 0.0000e+00\n",
            "Epoch 366/500\n",
            "1/1 [==============================] - 0s 6ms/step - loss: 0.0000e+00\n",
            "Epoch 367/500\n",
            "1/1 [==============================] - 0s 6ms/step - loss: 0.0000e+00\n",
            "Epoch 368/500\n",
            "1/1 [==============================] - 0s 6ms/step - loss: 0.0000e+00\n",
            "Epoch 369/500\n",
            "1/1 [==============================] - 0s 5ms/step - loss: 0.0000e+00\n",
            "Epoch 370/500\n",
            "1/1 [==============================] - 0s 6ms/step - loss: 0.0000e+00\n",
            "Epoch 371/500\n",
            "1/1 [==============================] - 0s 5ms/step - loss: 0.0000e+00\n",
            "Epoch 372/500\n",
            "1/1 [==============================] - 0s 5ms/step - loss: 0.0000e+00\n",
            "Epoch 373/500\n",
            "1/1 [==============================] - 0s 5ms/step - loss: 0.0000e+00\n",
            "Epoch 374/500\n",
            "1/1 [==============================] - 0s 6ms/step - loss: 0.0000e+00\n",
            "Epoch 375/500\n",
            "1/1 [==============================] - 0s 6ms/step - loss: 0.0000e+00\n",
            "Epoch 376/500\n",
            "1/1 [==============================] - 0s 6ms/step - loss: 0.0000e+00\n",
            "Epoch 377/500\n",
            "1/1 [==============================] - 0s 6ms/step - loss: 0.0000e+00\n",
            "Epoch 378/500\n",
            "1/1 [==============================] - 0s 6ms/step - loss: 0.0000e+00\n",
            "Epoch 379/500\n",
            "1/1 [==============================] - 0s 6ms/step - loss: 0.0000e+00\n",
            "Epoch 380/500\n",
            "1/1 [==============================] - 0s 6ms/step - loss: 0.0000e+00\n",
            "Epoch 381/500\n",
            "1/1 [==============================] - 0s 6ms/step - loss: 0.0000e+00\n",
            "Epoch 382/500\n",
            "1/1 [==============================] - 0s 6ms/step - loss: 0.0000e+00\n",
            "Epoch 383/500\n",
            "1/1 [==============================] - 0s 6ms/step - loss: 0.0000e+00\n",
            "Epoch 384/500\n",
            "1/1 [==============================] - 0s 6ms/step - loss: 0.0000e+00\n",
            "Epoch 385/500\n",
            "1/1 [==============================] - 0s 6ms/step - loss: 0.0000e+00\n",
            "Epoch 386/500\n",
            "1/1 [==============================] - 0s 6ms/step - loss: 0.0000e+00\n",
            "Epoch 387/500\n",
            "1/1 [==============================] - 0s 6ms/step - loss: 0.0000e+00\n",
            "Epoch 388/500\n",
            "1/1 [==============================] - 0s 6ms/step - loss: 0.0000e+00\n",
            "Epoch 389/500\n",
            "1/1 [==============================] - 0s 9ms/step - loss: 0.0000e+00\n",
            "Epoch 390/500\n",
            "1/1 [==============================] - 0s 10ms/step - loss: 0.0000e+00\n",
            "Epoch 391/500\n",
            "1/1 [==============================] - 0s 5ms/step - loss: 0.0000e+00\n",
            "Epoch 392/500\n",
            "1/1 [==============================] - 0s 5ms/step - loss: 0.0000e+00\n",
            "Epoch 393/500\n",
            "1/1 [==============================] - 0s 10ms/step - loss: 0.0000e+00\n",
            "Epoch 394/500\n",
            "1/1 [==============================] - 0s 11ms/step - loss: 0.0000e+00\n",
            "Epoch 395/500\n",
            "1/1 [==============================] - 0s 10ms/step - loss: 0.0000e+00\n",
            "Epoch 396/500\n",
            "1/1 [==============================] - 0s 10ms/step - loss: 0.0000e+00\n",
            "Epoch 397/500\n",
            "1/1 [==============================] - 0s 7ms/step - loss: 0.0000e+00\n",
            "Epoch 398/500\n",
            "1/1 [==============================] - 0s 12ms/step - loss: 0.0000e+00\n",
            "Epoch 399/500\n",
            "1/1 [==============================] - 0s 10ms/step - loss: 0.0000e+00\n",
            "Epoch 400/500\n",
            "1/1 [==============================] - 0s 6ms/step - loss: 0.0000e+00\n",
            "Epoch 401/500\n",
            "1/1 [==============================] - 0s 5ms/step - loss: 0.0000e+00\n",
            "Epoch 402/500\n",
            "1/1 [==============================] - 0s 5ms/step - loss: 0.0000e+00\n",
            "Epoch 403/500\n",
            "1/1 [==============================] - 0s 5ms/step - loss: 0.0000e+00\n",
            "Epoch 404/500\n",
            "1/1 [==============================] - 0s 5ms/step - loss: 0.0000e+00\n",
            "Epoch 405/500\n",
            "1/1 [==============================] - 0s 5ms/step - loss: 0.0000e+00\n",
            "Epoch 406/500\n",
            "1/1 [==============================] - 0s 5ms/step - loss: 0.0000e+00\n",
            "Epoch 407/500\n",
            "1/1 [==============================] - 0s 5ms/step - loss: 0.0000e+00\n",
            "Epoch 408/500\n",
            "1/1 [==============================] - 0s 5ms/step - loss: 0.0000e+00\n",
            "Epoch 409/500\n",
            "1/1 [==============================] - 0s 5ms/step - loss: 0.0000e+00\n",
            "Epoch 410/500\n",
            "1/1 [==============================] - 0s 5ms/step - loss: 0.0000e+00\n",
            "Epoch 411/500\n",
            "1/1 [==============================] - 0s 5ms/step - loss: 0.0000e+00\n",
            "Epoch 412/500\n",
            "1/1 [==============================] - 0s 5ms/step - loss: 0.0000e+00\n",
            "Epoch 413/500\n",
            "1/1 [==============================] - 0s 5ms/step - loss: 0.0000e+00\n",
            "Epoch 414/500\n",
            "1/1 [==============================] - 0s 5ms/step - loss: 0.0000e+00\n",
            "Epoch 415/500\n",
            "1/1 [==============================] - 0s 5ms/step - loss: 0.0000e+00\n",
            "Epoch 416/500\n",
            "1/1 [==============================] - 0s 5ms/step - loss: 0.0000e+00\n",
            "Epoch 417/500\n",
            "1/1 [==============================] - 0s 5ms/step - loss: 0.0000e+00\n",
            "Epoch 418/500\n",
            "1/1 [==============================] - 0s 5ms/step - loss: 0.0000e+00\n",
            "Epoch 419/500\n",
            "1/1 [==============================] - 0s 9ms/step - loss: 0.0000e+00\n",
            "Epoch 420/500\n",
            "1/1 [==============================] - 0s 5ms/step - loss: 0.0000e+00\n",
            "Epoch 421/500\n",
            "1/1 [==============================] - 0s 5ms/step - loss: 0.0000e+00\n",
            "Epoch 422/500\n",
            "1/1 [==============================] - 0s 5ms/step - loss: 0.0000e+00\n",
            "Epoch 423/500\n",
            "1/1 [==============================] - 0s 5ms/step - loss: 0.0000e+00\n",
            "Epoch 424/500\n",
            "1/1 [==============================] - 0s 5ms/step - loss: 0.0000e+00\n",
            "Epoch 425/500\n",
            "1/1 [==============================] - 0s 5ms/step - loss: 0.0000e+00\n",
            "Epoch 426/500\n",
            "1/1 [==============================] - 0s 5ms/step - loss: 0.0000e+00\n",
            "Epoch 427/500\n",
            "1/1 [==============================] - 0s 5ms/step - loss: 0.0000e+00\n",
            "Epoch 428/500\n",
            "1/1 [==============================] - 0s 5ms/step - loss: 0.0000e+00\n",
            "Epoch 429/500\n",
            "1/1 [==============================] - 0s 5ms/step - loss: 0.0000e+00\n",
            "Epoch 430/500\n",
            "1/1 [==============================] - 0s 5ms/step - loss: 0.0000e+00\n",
            "Epoch 431/500\n",
            "1/1 [==============================] - 0s 5ms/step - loss: 0.0000e+00\n",
            "Epoch 432/500\n",
            "1/1 [==============================] - 0s 5ms/step - loss: 0.0000e+00\n",
            "Epoch 433/500\n",
            "1/1 [==============================] - 0s 5ms/step - loss: 0.0000e+00\n",
            "Epoch 434/500\n",
            "1/1 [==============================] - 0s 5ms/step - loss: 0.0000e+00\n",
            "Epoch 435/500\n",
            "1/1 [==============================] - 0s 5ms/step - loss: 0.0000e+00\n",
            "Epoch 436/500\n",
            "1/1 [==============================] - 0s 5ms/step - loss: 0.0000e+00\n",
            "Epoch 437/500\n",
            "1/1 [==============================] - 0s 5ms/step - loss: 0.0000e+00\n",
            "Epoch 438/500\n",
            "1/1 [==============================] - 0s 5ms/step - loss: 0.0000e+00\n",
            "Epoch 439/500\n",
            "1/1 [==============================] - 0s 5ms/step - loss: 0.0000e+00\n",
            "Epoch 440/500\n",
            "1/1 [==============================] - 0s 9ms/step - loss: 0.0000e+00\n",
            "Epoch 441/500\n",
            "1/1 [==============================] - 0s 5ms/step - loss: 0.0000e+00\n",
            "Epoch 442/500\n",
            "1/1 [==============================] - 0s 5ms/step - loss: 0.0000e+00\n",
            "Epoch 443/500\n",
            "1/1 [==============================] - 0s 8ms/step - loss: 0.0000e+00\n",
            "Epoch 444/500\n",
            "1/1 [==============================] - 0s 10ms/step - loss: 0.0000e+00\n",
            "Epoch 445/500\n",
            "1/1 [==============================] - 0s 9ms/step - loss: 0.0000e+00\n",
            "Epoch 446/500\n",
            "1/1 [==============================] - 0s 9ms/step - loss: 0.0000e+00\n",
            "Epoch 447/500\n",
            "1/1 [==============================] - 0s 5ms/step - loss: 0.0000e+00\n",
            "Epoch 448/500\n",
            "1/1 [==============================] - 0s 6ms/step - loss: 0.0000e+00\n",
            "Epoch 449/500\n",
            "1/1 [==============================] - 0s 6ms/step - loss: 0.0000e+00\n",
            "Epoch 450/500\n",
            "1/1 [==============================] - 0s 5ms/step - loss: 0.0000e+00\n",
            "Epoch 451/500\n",
            "1/1 [==============================] - 0s 5ms/step - loss: 0.0000e+00\n",
            "Epoch 452/500\n",
            "1/1 [==============================] - 0s 5ms/step - loss: 0.0000e+00\n",
            "Epoch 453/500\n",
            "1/1 [==============================] - 0s 5ms/step - loss: 0.0000e+00\n",
            "Epoch 454/500\n",
            "1/1 [==============================] - 0s 5ms/step - loss: 0.0000e+00\n",
            "Epoch 455/500\n",
            "1/1 [==============================] - 0s 5ms/step - loss: 0.0000e+00\n",
            "Epoch 456/500\n",
            "1/1 [==============================] - 0s 5ms/step - loss: 0.0000e+00\n",
            "Epoch 457/500\n",
            "1/1 [==============================] - 0s 5ms/step - loss: 0.0000e+00\n",
            "Epoch 458/500\n",
            "1/1 [==============================] - 0s 5ms/step - loss: 0.0000e+00\n",
            "Epoch 459/500\n",
            "1/1 [==============================] - 0s 5ms/step - loss: 0.0000e+00\n",
            "Epoch 460/500\n",
            "1/1 [==============================] - 0s 5ms/step - loss: 0.0000e+00\n",
            "Epoch 461/500\n",
            "1/1 [==============================] - 0s 5ms/step - loss: 0.0000e+00\n",
            "Epoch 462/500\n",
            "1/1 [==============================] - 0s 6ms/step - loss: 0.0000e+00\n",
            "Epoch 463/500\n",
            "1/1 [==============================] - 0s 5ms/step - loss: 0.0000e+00\n",
            "Epoch 464/500\n",
            "1/1 [==============================] - 0s 6ms/step - loss: 0.0000e+00\n",
            "Epoch 465/500\n",
            "1/1 [==============================] - 0s 7ms/step - loss: 0.0000e+00\n",
            "Epoch 466/500\n",
            "1/1 [==============================] - 0s 5ms/step - loss: 0.0000e+00\n",
            "Epoch 467/500\n",
            "1/1 [==============================] - 0s 5ms/step - loss: 0.0000e+00\n",
            "Epoch 468/500\n",
            "1/1 [==============================] - 0s 5ms/step - loss: 0.0000e+00\n",
            "Epoch 469/500\n",
            "1/1 [==============================] - 0s 5ms/step - loss: 0.0000e+00\n",
            "Epoch 470/500\n",
            "1/1 [==============================] - 0s 6ms/step - loss: 0.0000e+00\n",
            "Epoch 471/500\n",
            "1/1 [==============================] - 0s 6ms/step - loss: 0.0000e+00\n",
            "Epoch 472/500\n",
            "1/1 [==============================] - 0s 5ms/step - loss: 0.0000e+00\n",
            "Epoch 473/500\n",
            "1/1 [==============================] - 0s 6ms/step - loss: 0.0000e+00\n",
            "Epoch 474/500\n",
            "1/1 [==============================] - 0s 6ms/step - loss: 0.0000e+00\n",
            "Epoch 475/500\n",
            "1/1 [==============================] - 0s 6ms/step - loss: 0.0000e+00\n",
            "Epoch 476/500\n",
            "1/1 [==============================] - 0s 5ms/step - loss: 0.0000e+00\n",
            "Epoch 477/500\n",
            "1/1 [==============================] - 0s 5ms/step - loss: 0.0000e+00\n",
            "Epoch 478/500\n",
            "1/1 [==============================] - 0s 5ms/step - loss: 0.0000e+00\n",
            "Epoch 479/500\n",
            "1/1 [==============================] - 0s 5ms/step - loss: 0.0000e+00\n",
            "Epoch 480/500\n",
            "1/1 [==============================] - 0s 5ms/step - loss: 0.0000e+00\n",
            "Epoch 481/500\n",
            "1/1 [==============================] - 0s 5ms/step - loss: 0.0000e+00\n",
            "Epoch 482/500\n",
            "1/1 [==============================] - 0s 5ms/step - loss: 0.0000e+00\n",
            "Epoch 483/500\n",
            "1/1 [==============================] - 0s 5ms/step - loss: 0.0000e+00\n",
            "Epoch 484/500\n",
            "1/1 [==============================] - 0s 5ms/step - loss: 0.0000e+00\n",
            "Epoch 485/500\n",
            "1/1 [==============================] - 0s 5ms/step - loss: 0.0000e+00\n",
            "Epoch 486/500\n",
            "1/1 [==============================] - 0s 5ms/step - loss: 0.0000e+00\n",
            "Epoch 487/500\n",
            "1/1 [==============================] - 0s 9ms/step - loss: 0.0000e+00\n",
            "Epoch 488/500\n",
            "1/1 [==============================] - 0s 5ms/step - loss: 0.0000e+00\n",
            "Epoch 489/500\n",
            "1/1 [==============================] - 0s 5ms/step - loss: 0.0000e+00\n",
            "Epoch 490/500\n",
            "1/1 [==============================] - 0s 5ms/step - loss: 0.0000e+00\n",
            "Epoch 491/500\n",
            "1/1 [==============================] - 0s 5ms/step - loss: 0.0000e+00\n",
            "Epoch 492/500\n",
            "1/1 [==============================] - 0s 5ms/step - loss: 0.0000e+00\n",
            "Epoch 493/500\n",
            "1/1 [==============================] - 0s 6ms/step - loss: 0.0000e+00\n",
            "Epoch 494/500\n",
            "1/1 [==============================] - 0s 6ms/step - loss: 0.0000e+00\n",
            "Epoch 495/500\n",
            "1/1 [==============================] - 0s 6ms/step - loss: 0.0000e+00\n",
            "Epoch 496/500\n",
            "1/1 [==============================] - 0s 5ms/step - loss: 0.0000e+00\n",
            "Epoch 497/500\n",
            "1/1 [==============================] - 0s 5ms/step - loss: 0.0000e+00\n",
            "Epoch 498/500\n",
            "1/1 [==============================] - 0s 5ms/step - loss: 0.0000e+00\n",
            "Epoch 499/500\n",
            "1/1 [==============================] - 0s 5ms/step - loss: 0.0000e+00\n",
            "Epoch 500/500\n",
            "1/1 [==============================] - 0s 5ms/step - loss: 0.0000e+00\n",
            "Finished training the model\n"
          ]
        }
      ]
    },
    {
      "cell_type": "markdown",
      "source": [
        "Trực quan hóa kết quả train"
      ],
      "metadata": {
        "id": "-bCzPAWJVok4"
      }
    },
    {
      "cell_type": "code",
      "source": [
        "import matplotlib.pyplot as plt\n",
        "plt.xlabel('Epoch Number')\n",
        "plt.ylabel(\"Loss Magnitude\")\n",
        "plt.plot(history.history['loss'])\n"
      ],
      "metadata": {
        "colab": {
          "base_uri": "https://localhost:8080/",
          "height": 296
        },
        "id": "oSO1qd_QVn1O",
        "outputId": "c4676103-8fee-440b-ffdc-e24c9c4a6119"
      },
      "execution_count": 36,
      "outputs": [
        {
          "output_type": "execute_result",
          "data": {
            "text/plain": [
              "[<matplotlib.lines.Line2D at 0x7f17794ded90>]"
            ]
          },
          "metadata": {},
          "execution_count": 36
        },
        {
          "output_type": "display_data",
          "data": {
            "text/plain": [
              "<Figure size 432x288 with 1 Axes>"
            ],
            "image/png": "[encoded data removed]"
          },
          "metadata": {
            "needs_background": "light"
          }
        }
      ]
    },
    {
      "cell_type": "markdown",
      "source": [
        "Thử sử dụng mô hình AI để dự đoán kết quả"
      ],
      "metadata": {
        "id": "Z4DxeLdhWFo1"
      }
    },
    {
      "cell_type": "code",
      "source": [
        "print(model.predict([7.0]))"
      ],
      "metadata": {
        "colab": {
          "base_uri": "https://localhost:8080/"
        },
        "id": "gc_C5GXLWLce",
        "outputId": "5cc97825-3513-4887-ddc1-3806001d5c66"
      },
      "execution_count": 37,
      "outputs": [
        {
          "output_type": "stream",
          "name": "stdout",
          "text": [
            "[[44.6]]\n"
          ]
        }
      ]
    },
    {
      "cell_type": "markdown",
      "source": [
        "Có thể xây dựng các mô hình phức tạp hơn nếu cần"
      ],
      "metadata": {
        "id": "SQcnVxD7W0S8"
      }
    },
    {
      "cell_type": "code",
      "source": [
        "model = tf.keras.Sequential([\n",
        "  tf.keras.layers.Dense(units=4, input_shape=[1]),\n",
        "  tf.keras.layers.Dense(units=4),\n",
        "  tf.keras.layers.Dense(units=1)\n",
        "])"
      ],
      "metadata": {
        "id": "E9OrsE1kW5qt"
      },
      "execution_count": null,
      "outputs": []
    },
    {
      "cell_type": "markdown",
      "source": [
        "- build\n",
        "- compile\n",
        "- Train model: fit\n",
        "- predict"
      ],
      "metadata": {
        "id": "fT0moNtiXIbE"
      }
    }
  ]
}