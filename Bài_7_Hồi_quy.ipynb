{
  "nbformat": 4,
  "nbformat_minor": 0,
  "metadata": {
    "colab": {
      "name": "Bài 7 - Hồi quy.ipynb",
      "provenance": [],
      "collapsed_sections": [],
      "authorship_tag": "ABX9TyNzrn8GtjIxYNKFpkJIXfAR",
      "include_colab_link": true
    },
    "kernelspec": {
      "name": "python3",
      "display_name": "Python 3"
    },
    "language_info": {
      "name": "python"
    }
  },
  "cells": [
    {
      "cell_type": "markdown",
      "metadata": {
        "id": "view-in-github",
        "colab_type": "text"
      },
      "source": [
        "<a href=\"https://colab.research.google.com/github/hainmit09/DataAnalysis/blob/main/B%C3%A0i_7_H%E1%BB%93i_quy.ipynb\" target=\"_parent\"><img src=\"https://colab.research.google.com/assets/colab-badge.svg\" alt=\"Open In Colab\"/></a>"
      ]
    },
    {
      "cell_type": "markdown",
      "source": [
        "Bài tập: Chạy thử ví dụ trong slide"
      ],
      "metadata": {
        "id": "hlLMV_KE2n6X"
      }
    },
    {
      "cell_type": "markdown",
      "source": [
        "Một ví dụ về hồi quy"
      ],
      "metadata": {
        "id": "IHcvjkiH2wF2"
      }
    },
    {
      "cell_type": "markdown",
      "source": [
        "Xét bộ dữ liệu sau"
      ],
      "metadata": {
        "id": "qv4DqMH_4Omb"
      }
    },
    {
      "cell_type": "code",
      "execution_count": 1,
      "metadata": {
        "id": "vbWctEoF2ZR2"
      },
      "outputs": [],
      "source": [
        "X=[0,     3, 10,    26,  45, 30]\n",
        "y=[32, 37.4, 50, 78.80, 113, 86]"
      ]
    },
    {
      "cell_type": "markdown",
      "source": [
        "bài toán: đặt ra là, cho một x nào đó ví dụ x = 7, thỉ đự đoán y=?"
      ],
      "metadata": {
        "id": "03t5Q70Q4Sr4"
      }
    },
    {
      "cell_type": "code",
      "source": [
        "# Nếu chạy máy cá nhân thay vì colab thì có thể phải cài sklearn\n",
        "#!pip install sklearn"
      ],
      "metadata": {
        "colab": {
          "base_uri": "https://localhost:8080/"
        },
        "id": "T-GalA6u4wqr",
        "outputId": "5f029a3f-8c6c-4a9a-fb7a-2d979e716d67"
      },
      "execution_count": 4,
      "outputs": [
        {
          "output_type": "stream",
          "name": "stdout",
          "text": [
            "Requirement already satisfied: sklearn in /usr/local/lib/python3.7/dist-packages (0.0)\n",
            "Requirement already satisfied: scikit-learn in /usr/local/lib/python3.7/dist-packages (from sklearn) (1.0.2)\n",
            "Requirement already satisfied: numpy>=1.14.6 in /usr/local/lib/python3.7/dist-packages (from scikit-learn->sklearn) (1.21.5)\n",
            "Requirement already satisfied: joblib>=0.11 in /usr/local/lib/python3.7/dist-packages (from scikit-learn->sklearn) (1.1.0)\n",
            "Requirement already satisfied: threadpoolctl>=2.0.0 in /usr/local/lib/python3.7/dist-packages (from scikit-learn->sklearn) (3.1.0)\n",
            "Requirement already satisfied: scipy>=1.1.0 in /usr/local/lib/python3.7/dist-packages (from scikit-learn->sklearn) (1.4.1)\n"
          ]
        }
      ]
    },
    {
      "cell_type": "code",
      "source": [
        "import numpy as np\n",
        "from sklearn import linear_model\n",
        "import matplotlib.pyplot as plt\n"
      ],
      "metadata": {
        "id": "dniT-Ml64MNt"
      },
      "execution_count": 5,
      "outputs": []
    },
    {
      "cell_type": "markdown",
      "source": [
        "**Nhận xét: Đây là bài toán về dự báo (dự đoán) nên cần dùng mô hình hôi quy để chạy.\n",
        "- Muốn tìm được mô hình hồi quy phù hợp thì phải visualize data để xem phân bố dữ liệu"
      ],
      "metadata": {
        "id": "0klbpP1S5Mq0"
      }
    },
    {
      "cell_type": "code",
      "source": [
        "plt.scatter(X, y)"
      ],
      "metadata": {
        "colab": {
          "base_uri": "https://localhost:8080/",
          "height": 282
        },
        "id": "IETp3NVJ5vjs",
        "outputId": "33724f2b-8d5c-41a1-8342-ef23a8203ac6"
      },
      "execution_count": 6,
      "outputs": [
        {
          "output_type": "execute_result",
          "data": {
            "text/plain": [
              "<matplotlib.collections.PathCollection at 0x7fe8391c3450>"
            ]
          },
          "metadata": {},
          "execution_count": 6
        },
        {
          "output_type": "display_data",
          "data": {
            "text/plain": [
              "<Figure size 432x288 with 1 Axes>"
            ],
            "image/png": "[encoded data removed]"
          },
          "metadata": {
            "needs_background": "light"
          }
        }
      ]
    },
    {
      "cell_type": "markdown",
      "source": [
        "**Kết luận: Do phân bố dữ liệu xung quanh một đường thằng nên chọn mô hình linear regression (hồi quy tuyến tính)"
      ],
      "metadata": {
        "id": "NsWMPniN5_VA"
      }
    },
    {
      "cell_type": "markdown",
      "source": [
        "# Bước 1: Đào tạo mô hình"
      ],
      "metadata": {
        "id": "W_ywPDnT6QET"
      }
    },
    {
      "cell_type": "code",
      "source": [
        "X = np.array([X]).T"
      ],
      "metadata": {
        "id": "uSSFTn2C6bKm"
      },
      "execution_count": 7,
      "outputs": []
    },
    {
      "cell_type": "code",
      "source": [
        "X"
      ],
      "metadata": {
        "colab": {
          "base_uri": "https://localhost:8080/"
        },
        "id": "tbCyR4zv6quk",
        "outputId": "0b50250c-5641-4b2a-da3c-8c1fe914ab43"
      },
      "execution_count": 8,
      "outputs": [
        {
          "output_type": "execute_result",
          "data": {
            "text/plain": [
              "array([[ 0],\n",
              "       [ 3],\n",
              "       [10],\n",
              "       [26],\n",
              "       [45],\n",
              "       [30]])"
            ]
          },
          "metadata": {},
          "execution_count": 8
        }
      ]
    },
    {
      "cell_type": "code",
      "source": [
        "X.shape"
      ],
      "metadata": {
        "colab": {
          "base_uri": "https://localhost:8080/"
        },
        "id": "l7THgalO7E9m",
        "outputId": "7b04a38f-570f-4d59-c761-e2b0bd27b018"
      },
      "execution_count": 10,
      "outputs": [
        {
          "output_type": "execute_result",
          "data": {
            "text/plain": [
              "(6, 1)"
            ]
          },
          "metadata": {},
          "execution_count": 10
        }
      ]
    },
    {
      "cell_type": "code",
      "source": [
        "y = np.array([y]).T"
      ],
      "metadata": {
        "id": "-fXEBWMf6wPj"
      },
      "execution_count": 9,
      "outputs": []
    },
    {
      "cell_type": "markdown",
      "source": [
        "# Tạo mô hình hồi quy"
      ],
      "metadata": {
        "id": "Fu4bf1Zq7zH3"
      }
    },
    {
      "cell_type": "code",
      "source": [
        "model = linear_model.LinearRegression()"
      ],
      "metadata": {
        "id": "6FZtVZ_B7W4Y"
      },
      "execution_count": 12,
      "outputs": []
    },
    {
      "cell_type": "markdown",
      "source": [
        "# Đào tạo mô hình"
      ],
      "metadata": {
        "id": "x5YchPpo75dU"
      }
    },
    {
      "cell_type": "code",
      "source": [
        "model.fit(X, y)"
      ],
      "metadata": {
        "colab": {
          "base_uri": "https://localhost:8080/"
        },
        "id": "2FMYB1Dy78qf",
        "outputId": "1f5756ea-4cdf-4556-f71b-b1756c0415bc"
      },
      "execution_count": 13,
      "outputs": [
        {
          "output_type": "execute_result",
          "data": {
            "text/plain": [
              "LinearRegression()"
            ]
          },
          "metadata": {},
          "execution_count": 13
        }
      ]
    },
    {
      "cell_type": "markdown",
      "source": [
        "# Bước 2: Khai thác mô hình hồi quy để dự báo"
      ],
      "metadata": {
        "id": "V_cTGpPP8GxD"
      }
    },
    {
      "cell_type": "markdown",
      "source": [
        "dự báo xem x = 7 thì y = ?"
      ],
      "metadata": {
        "id": "fuPfhLHo8Xhd"
      }
    },
    {
      "cell_type": "code",
      "source": [
        "x = 7"
      ],
      "metadata": {
        "id": "S3w8Fj5K8P28"
      },
      "execution_count": 24,
      "outputs": []
    },
    {
      "cell_type": "code",
      "source": [
        "x = np.array([[x]]).T"
      ],
      "metadata": {
        "id": "jzLl5N0G8fcN"
      },
      "execution_count": 25,
      "outputs": []
    },
    {
      "cell_type": "code",
      "source": [
        "x"
      ],
      "metadata": {
        "colab": {
          "base_uri": "https://localhost:8080/"
        },
        "id": "L-zWPq5n84KO",
        "outputId": "09b65f8c-602e-41a3-8b18-2aeddcff5d6f"
      },
      "execution_count": 33,
      "outputs": [
        {
          "output_type": "execute_result",
          "data": {
            "text/plain": [
              "array([[7]])"
            ]
          },
          "metadata": {},
          "execution_count": 33
        }
      ]
    },
    {
      "cell_type": "code",
      "source": [
        "y_pred = model.predict(x)"
      ],
      "metadata": {
        "id": "8ZzNU5yv9Bye"
      },
      "execution_count": 27,
      "outputs": []
    },
    {
      "cell_type": "code",
      "source": [
        "y_pred.shape"
      ],
      "metadata": {
        "colab": {
          "base_uri": "https://localhost:8080/"
        },
        "id": "KdeO_Ju99xe9",
        "outputId": "b70a428c-86be-4766-90fb-382bfd95f9a1"
      },
      "execution_count": 31,
      "outputs": [
        {
          "output_type": "execute_result",
          "data": {
            "text/plain": [
              "(1, 1)"
            ]
          },
          "metadata": {},
          "execution_count": 31
        }
      ]
    },
    {
      "cell_type": "code",
      "source": [
        "y_pred"
      ],
      "metadata": {
        "colab": {
          "base_uri": "https://localhost:8080/"
        },
        "id": "ceqFyT6n9uEk",
        "outputId": "5600ab6a-5adb-4ebb-c1d2-380b56d3046b"
      },
      "execution_count": 30,
      "outputs": [
        {
          "output_type": "execute_result",
          "data": {
            "text/plain": [
              "array([[44.6]])"
            ]
          },
          "metadata": {},
          "execution_count": 30
        }
      ]
    },
    {
      "cell_type": "code",
      "source": [
        "print(\"Kết quả dự đoán với x = \", x[0][0], \" thì y =\", y_pred[0][0])"
      ],
      "metadata": {
        "colab": {
          "base_uri": "https://localhost:8080/"
        },
        "id": "Wa8fFBui9P2K",
        "outputId": "9ef1a59b-54d3-4922-b6df-56c962780515"
      },
      "execution_count": 32,
      "outputs": [
        {
          "output_type": "stream",
          "name": "stdout",
          "text": [
            "Kết quả dự đoán với x =  7  thì y = 44.6\n"
          ]
        }
      ]
    }
  ]
}