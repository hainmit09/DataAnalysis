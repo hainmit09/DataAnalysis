{
  "nbformat": 4,
  "nbformat_minor": 0,
  "metadata": {
    "colab": {
      "name": "Bài 6. Kiểm định giả thiêt 1 tiếp theo.ipynb",
      "provenance": [],
      "collapsed_sections": [],
      "authorship_tag": "ABX9TyMQTRKKx40u8oq0pSAXHrfP",
      "include_colab_link": true
    },
    "kernelspec": {
      "name": "python3",
      "display_name": "Python 3"
    },
    "language_info": {
      "name": "python"
    }
  },
  "cells": [
    {
      "cell_type": "markdown",
      "metadata": {
        "id": "view-in-github",
        "colab_type": "text"
      },
      "source": [
        "<a href=\"https://colab.research.google.com/github/hainmit09/DataAnalysis/blob/main/B%C3%A0i_6_Ki%E1%BB%83m_%C4%91%E1%BB%8Bnh_gi%E1%BA%A3_thi%C3%AAt_1_ti%E1%BA%BFp_theo.ipynb\" target=\"_parent\"><img src=\"https://colab.research.google.com/assets/colab-badge.svg\" alt=\"Open In Colab\"/></a>"
      ]
    },
    {
      "cell_type": "code",
      "execution_count": null,
      "metadata": {
        "id": "5vyJ9wa71OwQ"
      },
      "outputs": [],
      "source": [
        ""
      ]
    },
    {
      "cell_type": "markdown",
      "source": [
        "# Kiểm định giả thuyết"
      ],
      "metadata": {
        "id": "E74oPefm_nr3"
      }
    },
    {
      "cell_type": "markdown",
      "source": [
        "# Cách 1: Các bước làm kiểm địng giả thuyết (tính bằng tay)\n",
        "- Bước 1: Viết giả thuyến không (Null hypothesis - Giả thuyết vô hiệu)H0\n",
        "- Bước 2: Viết giả thuyết đối H1 (Alternative hypothesis - giả thuyết thay thế)\n",
        "- Bước 3: Xác định mức ý nghĩa (alpha), chú ý phải chia 2 nếu mà bài toán là ước lượng không phải 2 phía.\n",
        "- Bước 4 tính điểm (z-score hoặc T-score) dựa trên alpha.\n",
        "- Bước 5: Tính điểm theo dữ liệu thực tế (sử dụng công thức z-score hoặc t-score).\n",
        "- Bước 6: Kết luận: Nếu điểm bước 5 lớn hơn xác suất của mức ý nghĩa, thì điểm bác bỏ H0, chấp nhận H1.\n",
        "\n",
        "\n"
      ],
      "metadata": {
        "id": "3OTO7yE3_xQ0"
      }
    },
    {
      "cell_type": "markdown",
      "source": [
        "# Cách 2: Sử dụng các hàm có sẵn của python\n",
        "- Bước 1: Viết giả thuyến không (Null hypothesis - Giả thuyết vô hiệu)H0\n",
        "- Bước 2: Viết giả thuyết H1\n",
        "- Bước 3: Xác định mức ý nghĩa (alpha), chú ý phải chia 2 nếu mà bài toán là ước lượng không phải 2 phía.\n",
        "- Bước 4: Gọi hàm scipy.stats.ttest_1samp (cho bài toán kiểm định 1 tập giá trị - ví dụ bài toán chiều cao của người việt nam) và gọi hàm scipy.stats.ttest_ind (cho bài toán kiểm định 2 tập giá trị - chiều cao của người Ha nội liệu có cao hơn chiều cao của HCM)\n",
        "- Bước 5 kết luận: Bác bỏ H0, chấp nhận H1 nếu\n",
        "  + Kiểm định 2 phía: p<alpha: \n",
        "  + Kiểm định phía trái: p<2*alpha và đồng thời statics<0\n",
        "  + Kiểm định phía phải: p<2*alpha và đồng thời statics>0\n"
      ],
      "metadata": {
        "id": "c50mIJrOCPFU"
      }
    },
    {
      "cell_type": "markdown",
      "source": [
        "Bài tập: Có ông hiệu trưởng, ông nhất quyết là học sinh trường của ông ấy thì thông minh hơn học sinh các trường khác. Biết rằng, mức độ thông minh thì được đo bằng IQ và chỉ số thông minh trung bình của con người là 100, độ lệch chuẩn là s=15.\n",
        "\n",
        "Khảo sát 30 học sinh của trường này, thì được kết quả như sau:\n",
        "89,101,115,120,111,103,100,85,130,111,107,150,93,121,144,98,86,123,111,97,95,134,133,117,92,93,124,130,112,150\n",
        "\n",
        "Hãy áp dụng kiểm định giả thiết, với mức ý nghĩa là 5% xem ông hiệu trưởng có đúng hay không"
      ],
      "metadata": {
        "id": "xPbfBm5iErs_"
      }
    },
    {
      "cell_type": "markdown",
      "source": [
        "#0. Import các thư viện cần thiết"
      ],
      "metadata": {
        "id": "Fe8qeoAmFizD"
      }
    },
    {
      "cell_type": "code",
      "source": [
        "import pandas as pd\n",
        "import numpy as np\n",
        "import statistics\n",
        "import seaborn as sns\n",
        "import matplotlib.pyplot as plt\n",
        "from scipy import stats\n",
        "import math"
      ],
      "metadata": {
        "id": "wTmBkpjXEexx"
      },
      "execution_count": null,
      "outputs": []
    },
    {
      "cell_type": "markdown",
      "source": [
        "Bước 1 - Giả thiết không H0: u <= 100\n",
        "Bước 2 - Giả thiết đối H1: u>100. Kiểm định phía phải.\n"
      ],
      "metadata": {
        "id": "wEDxecS4uDnL"
      }
    },
    {
      "cell_type": "markdown",
      "source": [
        "# Cách 1. Tính toán bằng tay theo z-score\n"
      ],
      "metadata": {
        "id": "7KU9ychDtalC"
      }
    },
    {
      "cell_type": "markdown",
      "source": [
        "Bước 4. Dựa mức ý nghĩa, tính được z-score.\n",
        "- alpha = 5% = 0.05 => p = 1- 0.05 = 0.95 => z = 1.645"
      ],
      "metadata": {
        "id": "cScFZBKly4GV"
      }
    },
    {
      "cell_type": "markdown",
      "source": [
        "Bước 5 tính điểm z-score theo dữ liệu khảo sát được"
      ],
      "metadata": {
        "id": "ymtj2y3gzGNo"
      }
    },
    {
      "cell_type": "code",
      "source": [
        "x_ = pd.Series([89,101,115,120,111,103,100,85,130,111,107,150,93,121,144,98,86,123,111,97,95,134,133,117,92,93,124,130,112,150]).mean()\n"
      ],
      "metadata": {
        "id": "6fOG2iANvaKl"
      },
      "execution_count": null,
      "outputs": []
    },
    {
      "cell_type": "code",
      "source": [
        "z = (x_-100)*math.sqrt(30)/15"
      ],
      "metadata": {
        "id": "hl23R5gw1Ebl"
      },
      "execution_count": null,
      "outputs": []
    },
    {
      "cell_type": "code",
      "source": [
        "print(\"Điểm z-score = \",z)"
      ],
      "metadata": {
        "colab": {
          "base_uri": "https://localhost:8080/"
        },
        "id": "s5jI9m131eRZ",
        "outputId": "84b79fab-5326-4674-8160-66c7cb10819d"
      },
      "execution_count": null,
      "outputs": [
        {
          "output_type": "stream",
          "name": "stdout",
          "text": [
            "Điểm z-score =  4.564354645876384\n"
          ]
        }
      ]
    },
    {
      "cell_type": "markdown",
      "source": [
        "Kết luận: Do điểm z-score của dữ liệu khảo sát được lớn hơn điểm z-score của mức ý nghĩa, nên Bác bỏ H0, chấp nhận H1. Nghĩa là ông hiệu trưởng đúng"
      ],
      "metadata": {
        "id": "O_ZynXQy2G7c"
      }
    },
    {
      "cell_type": "markdown",
      "source": [
        ""
      ],
      "metadata": {
        "id": "9akzQhdrt1aa"
      }
    },
    {
      "cell_type": "markdown",
      "source": [
        "# Cách 2: Sửa dụng hàm \n",
        "scipy.stats.ttest_1samp"
      ],
      "metadata": {
        "id": "JsRNp9pK2rSX"
      }
    },
    {
      "cell_type": "code",
      "source": [
        "data = [89,101,115,120,111,103,100,85,130,111,107,150,93,121,144,98,86,123,111,97,95,134,133,117,92,93,124,130,112,150]"
      ],
      "metadata": {
        "id": "zRsb-4Sq3bA0"
      },
      "execution_count": null,
      "outputs": []
    },
    {
      "cell_type": "code",
      "source": [
        "statistic, p_value = stats.ttest_1samp(data, 100)"
      ],
      "metadata": {
        "id": "Tz5mJhq123gT"
      },
      "execution_count": null,
      "outputs": []
    },
    {
      "cell_type": "code",
      "source": [
        "print(\"statistic=\", statistic)\n",
        "print(\"p_value\", p_value)"
      ],
      "metadata": {
        "colab": {
          "base_uri": "https://localhost:8080/"
        },
        "id": "1TMlDcAK4Uji",
        "outputId": "d0fe9049-abc0-4af6-c75a-6e7fe0a7b332"
      },
      "execution_count": null,
      "outputs": [
        {
          "output_type": "stream",
          "name": "stdout",
          "text": [
            "statistic= 3.675684894603567\n",
            "p_value 0.000957582261269995\n"
          ]
        }
      ]
    },
    {
      "cell_type": "markdown",
      "source": [
        "Do 𝑃𝑣𝑎𝑙𝑢𝑒<2𝛼,  statistic >0 nên bác bỏ H0, chấp nhận H1, nghĩa ông hiệu trưởng nói đúng"
      ],
      "metadata": {
        "id": "V20H-zrZ4ouy"
      }
    },
    {
      "cell_type": "code",
      "source": [
        "import scipy\n",
        "scipy.__version__"
      ],
      "metadata": {
        "colab": {
          "base_uri": "https://localhost:8080/",
          "height": 35
        },
        "id": "Ozg7C75g52I9",
        "outputId": "72bbfe5c-e3ea-49e8-f56f-9952e3ab7eb9"
      },
      "execution_count": null,
      "outputs": [
        {
          "output_type": "execute_result",
          "data": {
            "application/vnd.google.colaboratory.intrinsic+json": {
              "type": "string"
            },
            "text/plain": [
              "'1.4.1'"
            ]
          },
          "metadata": {},
          "execution_count": 19
        }
      ]
    }
  ]
}