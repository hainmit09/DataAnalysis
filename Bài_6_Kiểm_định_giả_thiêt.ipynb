{
  "nbformat": 4,
  "nbformat_minor": 0,
  "metadata": {
    "colab": {
      "name": "Bài 6. Kiểm định giả thiêt.ipynb",
      "provenance": [],
      "collapsed_sections": [],
      "authorship_tag": "ABX9TyOaqJKaRkJKyphPB9uYBJaR",
      "include_colab_link": true
    },
    "kernelspec": {
      "name": "python3",
      "display_name": "Python 3"
    },
    "language_info": {
      "name": "python"
    }
  },
  "cells": [
    {
      "cell_type": "markdown",
      "metadata": {
        "id": "view-in-github",
        "colab_type": "text"
      },
      "source": [
        "<a href=\"https://colab.research.google.com/github/hainmit09/DataAnalysis/blob/main/B%C3%A0i_6_Ki%E1%BB%83m_%C4%91%E1%BB%8Bnh_gi%E1%BA%A3_thi%C3%AAt.ipynb\" target=\"_parent\"><img src=\"https://colab.research.google.com/assets/colab-badge.svg\" alt=\"Open In Colab\"/></a>"
      ]
    },
    {
      "cell_type": "code",
      "execution_count": null,
      "metadata": {
        "id": "5vyJ9wa71OwQ"
      },
      "outputs": [],
      "source": [
        ""
      ]
    },
    {
      "cell_type": "markdown",
      "source": [
        "# Kiểm định giả thuyết"
      ],
      "metadata": {
        "id": "E74oPefm_nr3"
      }
    },
    {
      "cell_type": "markdown",
      "source": [
        "# Cách 1: Các bước làm kiểm địng giả thuyết (tính bằng tay)\n",
        "- Bước 1: Viết giả thuyến không (Null hypothesis - Giả thuyết vô hiệu)H0\n",
        "- Bước 2: Viết giả thuyết H1\n",
        "- Bước 3: Xác định mức ý nghĩa (alpha), chú ý phải chia 2 nếu mà bài toán là ước lượng không phải 2 phía.\n",
        "- Bước 4 tính điểm (z-score hoặc T-score) dựa trên alpha.\n",
        "- Bước 5: Tính điểm theo dữ liệu thực tế (sử dụng công thức z-score hoặc t-score).\n",
        "- Bước 6: Kết luận: Nếu điểm bước 5 lớn hơn xác suất của mức ý nghĩa, thì điểm bác bỏ H0, chấp nhận H1.\n",
        "\n",
        "\n"
      ],
      "metadata": {
        "id": "3OTO7yE3_xQ0"
      }
    },
    {
      "cell_type": "markdown",
      "source": [
        "# Cách 2: Sử dụng các hàm có sẵn của python\n",
        "- Bước 1: Viết giả thuyến không (Null hypothesis - Giả thuyết vô hiệu)H0\n",
        "- Bước 2: Viết giả thuyết H1\n",
        "- Bước 3: Xác định mức ý nghĩa (alpha), chú ý phải chia 2 nếu mà bài toán là ước lượng không phải 2 phía.\n",
        "- Bước 4: Gọi hàm scipy.stats.ttest_1samp (cho bài toán kiểm định 1 tập giá trị - ví dụ bài toán chiều cao của người việt nam) và gọi hàm scipy.stats.ttest_ind (cho bài toán kiểm định 2 tập giá trị - chiều cao của người Ha nội liệu có cao hơn chiều cao của HCM)\n",
        "- Bước 5 kết luận: Bác bỏ H0, chấp nhận H1 nếu\n",
        "  + Kiểm định 2 phía: p<alpha: \n",
        "  + Kiểm định phía trái: p<2*alpha và đồng thời statics<0\n",
        "  + Kiểm định phía phải: p<2*alpha và đồng thời statics>0\n"
      ],
      "metadata": {
        "id": "c50mIJrOCPFU"
      }
    },
    {
      "cell_type": "markdown",
      "source": [
        "# Bài tập: Kiểm định giả thuyết sau: Thanh toán không được tăng trưởng trong năm 2016, trên tập dữ liệu data_pay.csv"
      ],
      "metadata": {
        "id": "xPbfBm5iErs_"
      }
    },
    {
      "cell_type": "markdown",
      "source": [
        "#0. Import các thư viện cần thiết"
      ],
      "metadata": {
        "id": "Fe8qeoAmFizD"
      }
    },
    {
      "cell_type": "code",
      "source": [
        "import pandas as pd\n",
        "import numpy as np\n",
        "import statistics\n",
        "import seaborn as sns\n",
        "import matplotlib.pyplot as plt\n",
        "from scipy import stats\n",
        "import math"
      ],
      "metadata": {
        "id": "wTmBkpjXEexx"
      },
      "execution_count": 25,
      "outputs": []
    },
    {
      "cell_type": "markdown",
      "source": [
        "# Đọc dữ liệu vào pandas"
      ],
      "metadata": {
        "id": "maPcGBx7GcUQ"
      }
    },
    {
      "cell_type": "code",
      "source": [
        "df =  pd.read_csv('/content/data_pay.csv')"
      ],
      "metadata": {
        "colab": {
          "base_uri": "https://localhost:8080/"
        },
        "id": "xFs8-tIuGhG4",
        "outputId": "e9043608-2914-4e7d-b02f-a7460c458141"
      },
      "execution_count": 2,
      "outputs": [
        {
          "output_type": "stream",
          "name": "stderr",
          "text": [
            "/usr/local/lib/python3.7/dist-packages/IPython/core/interactiveshell.py:2882: DtypeWarning: Columns (4,24,28) have mixed types.Specify dtype option on import or set low_memory=False.\n",
            "  exec(code_obj, self.user_global_ns, self.user_ns)\n"
          ]
        }
      ]
    },
    {
      "cell_type": "code",
      "source": [
        "df.head()"
      ],
      "metadata": {
        "colab": {
          "base_uri": "https://localhost:8080/",
          "height": 525
        },
        "id": "FV-X3afcGsDv",
        "outputId": "d74702c3-d52d-4db5-9ee9-bc5dc3ffe200"
      },
      "execution_count": 11,
      "outputs": [
        {
          "output_type": "execute_result",
          "data": {
            "text/html": [
              "\n",
              "  <div id=\"df-bb34c439-7337-401f-a11b-58850578681c\">\n",
              "    <div class=\"colab-df-container\">\n",
              "      <div>\n",
              "<style scoped>\n",
              "    .dataframe tbody tr th:only-of-type {\n",
              "        vertical-align: middle;\n",
              "    }\n",
              "\n",
              "    .dataframe tbody tr th {\n",
              "        vertical-align: top;\n",
              "    }\n",
              "\n",
              "    .dataframe thead th {\n",
              "        text-align: right;\n",
              "    }\n",
              "</style>\n",
              "<table border=\"1\" class=\"dataframe\">\n",
              "  <thead>\n",
              "    <tr style=\"text-align: right;\">\n",
              "      <th></th>\n",
              "      <th>Row ID</th>\n",
              "      <th>Year</th>\n",
              "      <th>Department Title</th>\n",
              "      <th>Payroll Department</th>\n",
              "      <th>Record Number</th>\n",
              "      <th>Job_title</th>\n",
              "      <th>Employment Type</th>\n",
              "      <th>Hourly or Event Rate</th>\n",
              "      <th>Annual_sal</th>\n",
              "      <th>Q1 Payments</th>\n",
              "      <th>...</th>\n",
              "      <th>MOU Title</th>\n",
              "      <th>FMS Department</th>\n",
              "      <th>Job Class</th>\n",
              "      <th>Pay Grade</th>\n",
              "      <th>Average Health Cost</th>\n",
              "      <th>Average Dental Cost</th>\n",
              "      <th>Average Basic Life</th>\n",
              "      <th>Average Benefit Cost</th>\n",
              "      <th>Benefits Plan</th>\n",
              "      <th>Job Class Link</th>\n",
              "    </tr>\n",
              "  </thead>\n",
              "  <tbody>\n",
              "    <tr>\n",
              "      <th>1</th>\n",
              "      <td>31732</td>\n",
              "      <td>2013</td>\n",
              "      <td>Police (LAPD)</td>\n",
              "      <td>4301.0</td>\n",
              "      <td>432728338</td>\n",
              "      <td>Police Officer I</td>\n",
              "      <td>Full Time</td>\n",
              "      <td>$25.12</td>\n",
              "      <td>52450.56</td>\n",
              "      <td>11331.00</td>\n",
              "      <td>...</td>\n",
              "      <td>POLICE OFFICERS UNIT</td>\n",
              "      <td>70</td>\n",
              "      <td>2214</td>\n",
              "      <td>A</td>\n",
              "      <td>11651.40</td>\n",
              "      <td>898.08</td>\n",
              "      <td>191.04</td>\n",
              "      <td>12740.52</td>\n",
              "      <td>Police</td>\n",
              "      <td>http://per.lacity.org/perspecs/2214.pdf</td>\n",
              "    </tr>\n",
              "    <tr>\n",
              "      <th>2</th>\n",
              "      <td>27697</td>\n",
              "      <td>2013</td>\n",
              "      <td>Police (LAPD)</td>\n",
              "      <td>4301.0</td>\n",
              "      <td>97182506</td>\n",
              "      <td>Police Officer II</td>\n",
              "      <td>Full Time</td>\n",
              "      <td>$42.77</td>\n",
              "      <td>89303.76</td>\n",
              "      <td>20036.32</td>\n",
              "      <td>...</td>\n",
              "      <td>POLICE OFFICERS UNIT</td>\n",
              "      <td>70</td>\n",
              "      <td>2214</td>\n",
              "      <td>2</td>\n",
              "      <td>11651.40</td>\n",
              "      <td>898.08</td>\n",
              "      <td>191.04</td>\n",
              "      <td>12740.52</td>\n",
              "      <td>Police</td>\n",
              "      <td>http://per.lacity.org/perspecs/2214.pdf</td>\n",
              "    </tr>\n",
              "    <tr>\n",
              "      <th>3</th>\n",
              "      <td>14136</td>\n",
              "      <td>2013</td>\n",
              "      <td>Harbor (Port of LA)</td>\n",
              "      <td>3201.0</td>\n",
              "      <td>950136941</td>\n",
              "      <td>Senior Security Officer</td>\n",
              "      <td>Full Time</td>\n",
              "      <td>$28.75</td>\n",
              "      <td>60028.96</td>\n",
              "      <td>15793.88</td>\n",
              "      <td>...</td>\n",
              "      <td>SUPV BLUE COLLAR</td>\n",
              "      <td>42</td>\n",
              "      <td>3184</td>\n",
              "      <td>0</td>\n",
              "      <td>10710.24</td>\n",
              "      <td>405.24</td>\n",
              "      <td>11.40</td>\n",
              "      <td>11126.88</td>\n",
              "      <td>City</td>\n",
              "      <td>http://per.lacity.org/perspecs/3184.pdf</td>\n",
              "    </tr>\n",
              "    <tr>\n",
              "      <th>4</th>\n",
              "      <td>91896</td>\n",
              "      <td>2014</td>\n",
              "      <td>Public Works - Sanitation</td>\n",
              "      <td>7024.0</td>\n",
              "      <td>3230003445</td>\n",
              "      <td>Senior Clerk Typist</td>\n",
              "      <td>Full Time</td>\n",
              "      <td>$30.92</td>\n",
              "      <td>64553.13</td>\n",
              "      <td>14700.00</td>\n",
              "      <td>...</td>\n",
              "      <td>CLERICAL UNIT</td>\n",
              "      <td>82</td>\n",
              "      <td>1368</td>\n",
              "      <td>0</td>\n",
              "      <td>11000.40</td>\n",
              "      <td>409.68</td>\n",
              "      <td>11.40</td>\n",
              "      <td>11421.48</td>\n",
              "      <td>City</td>\n",
              "      <td>http://per.lacity.org/perspecs/1368.pdf</td>\n",
              "    </tr>\n",
              "    <tr>\n",
              "      <th>6</th>\n",
              "      <td>59695</td>\n",
              "      <td>2014</td>\n",
              "      <td>Airports (LAWA)</td>\n",
              "      <td>101.0</td>\n",
              "      <td>4237826094</td>\n",
              "      <td>Custodian - Airports</td>\n",
              "      <td>Full Time</td>\n",
              "      <td>$22.95</td>\n",
              "      <td>47911.51</td>\n",
              "      <td>13493.87</td>\n",
              "      <td>...</td>\n",
              "      <td>SERVICE EMPLOYEES UNIT</td>\n",
              "      <td>4</td>\n",
              "      <td>3156</td>\n",
              "      <td>A</td>\n",
              "      <td>11000.40</td>\n",
              "      <td>409.68</td>\n",
              "      <td>11.40</td>\n",
              "      <td>11421.48</td>\n",
              "      <td>City</td>\n",
              "      <td>http://per.lacity.org/perspecs/3156.pdf</td>\n",
              "    </tr>\n",
              "  </tbody>\n",
              "</table>\n",
              "<p>5 rows × 35 columns</p>\n",
              "</div>\n",
              "      <button class=\"colab-df-convert\" onclick=\"convertToInteractive('df-bb34c439-7337-401f-a11b-58850578681c')\"\n",
              "              title=\"Convert this dataframe to an interactive table.\"\n",
              "              style=\"display:none;\">\n",
              "        \n",
              "  <svg xmlns=\"http://www.w3.org/2000/svg\" height=\"24px\"viewBox=\"0 0 24 24\"\n",
              "       width=\"24px\">\n",
              "    <path d=\"M0 0h24v24H0V0z\" fill=\"none\"/>\n",
              "    <path d=\"M18.56 5.44l.94 2.06.94-2.06 2.06-.94-2.06-.94-.94-2.06-.94 2.06-2.06.94zm-11 1L8.5 8.5l.94-2.06 2.06-.94-2.06-.94L8.5 2.5l-.94 2.06-2.06.94zm10 10l.94 2.06.94-2.06 2.06-.94-2.06-.94-.94-2.06-.94 2.06-2.06.94z\"/><path d=\"M17.41 7.96l-1.37-1.37c-.4-.4-.92-.59-1.43-.59-.52 0-1.04.2-1.43.59L10.3 9.45l-7.72 7.72c-.78.78-.78 2.05 0 2.83L4 21.41c.39.39.9.59 1.41.59.51 0 1.02-.2 1.41-.59l7.78-7.78 2.81-2.81c.8-.78.8-2.07 0-2.86zM5.41 20L4 18.59l7.72-7.72 1.47 1.35L5.41 20z\"/>\n",
              "  </svg>\n",
              "      </button>\n",
              "      \n",
              "  <style>\n",
              "    .colab-df-container {\n",
              "      display:flex;\n",
              "      flex-wrap:wrap;\n",
              "      gap: 12px;\n",
              "    }\n",
              "\n",
              "    .colab-df-convert {\n",
              "      background-color: #E8F0FE;\n",
              "      border: none;\n",
              "      border-radius: 50%;\n",
              "      cursor: pointer;\n",
              "      display: none;\n",
              "      fill: #1967D2;\n",
              "      height: 32px;\n",
              "      padding: 0 0 0 0;\n",
              "      width: 32px;\n",
              "    }\n",
              "\n",
              "    .colab-df-convert:hover {\n",
              "      background-color: #E2EBFA;\n",
              "      box-shadow: 0px 1px 2px rgba(60, 64, 67, 0.3), 0px 1px 3px 1px rgba(60, 64, 67, 0.15);\n",
              "      fill: #174EA6;\n",
              "    }\n",
              "\n",
              "    [theme=dark] .colab-df-convert {\n",
              "      background-color: #3B4455;\n",
              "      fill: #D2E3FC;\n",
              "    }\n",
              "\n",
              "    [theme=dark] .colab-df-convert:hover {\n",
              "      background-color: #434B5C;\n",
              "      box-shadow: 0px 1px 3px 1px rgba(0, 0, 0, 0.15);\n",
              "      filter: drop-shadow(0px 1px 2px rgba(0, 0, 0, 0.3));\n",
              "      fill: #FFFFFF;\n",
              "    }\n",
              "  </style>\n",
              "\n",
              "      <script>\n",
              "        const buttonEl =\n",
              "          document.querySelector('#df-bb34c439-7337-401f-a11b-58850578681c button.colab-df-convert');\n",
              "        buttonEl.style.display =\n",
              "          google.colab.kernel.accessAllowed ? 'block' : 'none';\n",
              "\n",
              "        async function convertToInteractive(key) {\n",
              "          const element = document.querySelector('#df-bb34c439-7337-401f-a11b-58850578681c');\n",
              "          const dataTable =\n",
              "            await google.colab.kernel.invokeFunction('convertToInteractive',\n",
              "                                                     [key], {});\n",
              "          if (!dataTable) return;\n",
              "\n",
              "          const docLinkHtml = 'Like what you see? Visit the ' +\n",
              "            '<a target=\"_blank\" href=https://colab.research.google.com/notebooks/data_table.ipynb>data table notebook</a>'\n",
              "            + ' to learn more about interactive tables.';\n",
              "          element.innerHTML = '';\n",
              "          dataTable['output_type'] = 'display_data';\n",
              "          await google.colab.output.renderOutput(dataTable, element);\n",
              "          const docLink = document.createElement('div');\n",
              "          docLink.innerHTML = docLinkHtml;\n",
              "          element.appendChild(docLink);\n",
              "        }\n",
              "      </script>\n",
              "    </div>\n",
              "  </div>\n",
              "  "
            ],
            "text/plain": [
              "   Row ID  Year           Department Title  Payroll Department Record Number  \\\n",
              "1   31732  2013              Police (LAPD)              4301.0     432728338   \n",
              "2   27697  2013              Police (LAPD)              4301.0      97182506   \n",
              "3   14136  2013        Harbor (Port of LA)              3201.0     950136941   \n",
              "4   91896  2014  Public Works - Sanitation              7024.0    3230003445   \n",
              "6   59695  2014            Airports (LAWA)               101.0    4237826094   \n",
              "\n",
              "                 Job_title Employment Type Hourly or Event Rate Annual_sal  \\\n",
              "1         Police Officer I       Full Time               $25.12   52450.56   \n",
              "2        Police Officer II       Full Time               $42.77   89303.76   \n",
              "3  Senior Security Officer       Full Time               $28.75   60028.96   \n",
              "4      Senior Clerk Typist       Full Time               $30.92   64553.13   \n",
              "6     Custodian - Airports       Full Time               $22.95   47911.51   \n",
              "\n",
              "  Q1 Payments  ...               MOU Title FMS Department Job Class Pay Grade  \\\n",
              "1    11331.00  ...    POLICE OFFICERS UNIT             70      2214         A   \n",
              "2    20036.32  ...    POLICE OFFICERS UNIT             70      2214         2   \n",
              "3    15793.88  ...        SUPV BLUE COLLAR             42      3184         0   \n",
              "4    14700.00  ...           CLERICAL UNIT             82      1368         0   \n",
              "6    13493.87  ...  SERVICE EMPLOYEES UNIT              4      3156         A   \n",
              "\n",
              "  Average Health Cost Average Dental Cost Average Basic Life  \\\n",
              "1            11651.40              898.08             191.04   \n",
              "2            11651.40              898.08             191.04   \n",
              "3            10710.24              405.24              11.40   \n",
              "4            11000.40              409.68              11.40   \n",
              "6            11000.40              409.68              11.40   \n",
              "\n",
              "  Average Benefit Cost Benefits Plan                           Job Class Link  \n",
              "1             12740.52        Police  http://per.lacity.org/perspecs/2214.pdf  \n",
              "2             12740.52        Police  http://per.lacity.org/perspecs/2214.pdf  \n",
              "3             11126.88          City  http://per.lacity.org/perspecs/3184.pdf  \n",
              "4             11421.48          City  http://per.lacity.org/perspecs/1368.pdf  \n",
              "6             11421.48          City  http://per.lacity.org/perspecs/3156.pdf  \n",
              "\n",
              "[5 rows x 35 columns]"
            ]
          },
          "metadata": {},
          "execution_count": 11
        }
      ]
    },
    {
      "cell_type": "code",
      "source": [
        "df.info()"
      ],
      "metadata": {
        "colab": {
          "base_uri": "https://localhost:8080/"
        },
        "id": "e7jGRnwUGz4v",
        "outputId": "1a58cb03-153a-4826-eab6-c62218b4ab48"
      },
      "execution_count": 10,
      "outputs": [
        {
          "output_type": "stream",
          "name": "stdout",
          "text": [
            "<class 'pandas.core.frame.DataFrame'>\n",
            "Int64Index: 231463 entries, 1 to 274160\n",
            "Data columns (total 35 columns):\n",
            " #   Column                        Non-Null Count   Dtype  \n",
            "---  ------                        --------------   -----  \n",
            " 0   Row ID                        231463 non-null  int64  \n",
            " 1   Year                          231463 non-null  int64  \n",
            " 2   Department Title              231463 non-null  object \n",
            " 3   Payroll Department            231463 non-null  float64\n",
            " 4   Record Number                 231463 non-null  object \n",
            " 5   Job_title                     231463 non-null  object \n",
            " 6   Employment Type               231463 non-null  object \n",
            " 7   Hourly or Event Rate          231463 non-null  object \n",
            " 8   Annual_sal                    231463 non-null  object \n",
            " 9   Q1 Payments                   231463 non-null  object \n",
            " 10  Q2 Payments                   231463 non-null  object \n",
            " 11  Q3 Payments                   231463 non-null  object \n",
            " 12  Q4 Payments                   231463 non-null  object \n",
            " 13  Payments Over Base Pay        231463 non-null  object \n",
            " 14  % Over Base Pay               231463 non-null  object \n",
            " 15  Total Payments                231463 non-null  object \n",
            " 16  Base_Pay                      231463 non-null  object \n",
            " 17  Permanent Bonus Pay           231463 non-null  object \n",
            " 18  Longevity Bonus Pay           231463 non-null  object \n",
            " 19  Temporary Bonus Pay           231463 non-null  object \n",
            " 20  Lump Sum Pay                  231463 non-null  object \n",
            " 21  Overtime Pay                  231463 non-null  object \n",
            " 22  Other Pay & Adjustments       231463 non-null  object \n",
            " 23  Other Pay (Payroll Explorer)  231463 non-null  object \n",
            " 24  MOU                           231463 non-null  object \n",
            " 25  MOU Title                     231463 non-null  object \n",
            " 26  FMS Department                231463 non-null  int64  \n",
            " 27  Job Class                     231463 non-null  int64  \n",
            " 28  Pay Grade                     187905 non-null  object \n",
            " 29  Average Health Cost           231463 non-null  object \n",
            " 30  Average Dental Cost           231463 non-null  object \n",
            " 31  Average Basic Life            231463 non-null  object \n",
            " 32  Average Benefit Cost          231463 non-null  object \n",
            " 33  Benefits Plan                 192896 non-null  object \n",
            " 34  Job Class Link                231463 non-null  object \n",
            "dtypes: float64(1), int64(4), object(30)\n",
            "memory usage: 63.6+ MB\n"
          ]
        }
      ]
    },
    {
      "cell_type": "markdown",
      "source": [
        "#2. Làm sạch dữ liệu"
      ],
      "metadata": {
        "id": "iMmA4izUG-cV"
      }
    },
    {
      "cell_type": "markdown",
      "source": [
        "Chỉ lấy các dòng dữ liệu mà cột \"Payroll Department\" không null"
      ],
      "metadata": {
        "id": "Rl_ZqvTwIS8x"
      }
    },
    {
      "cell_type": "code",
      "source": [
        "df = df[pd.notnull(df['Payroll Department'])]"
      ],
      "metadata": {
        "id": "Yt7ZARTFHB6H"
      },
      "execution_count": 6,
      "outputs": []
    },
    {
      "cell_type": "markdown",
      "source": [
        "Thay đổi tên cột để dễ thao tác hơn"
      ],
      "metadata": {
        "id": "SCdizCnIIasa"
      }
    },
    {
      "cell_type": "code",
      "source": [
        "df.rename(columns={\"Projected Annual Salary\": \"Annual_sal\", \"Job Class Title\": \"Job_title\", \"Base Pay\": \"Base_Pay\"}, inplace=True)"
      ],
      "metadata": {
        "id": "p-0_L7vBHotg"
      },
      "execution_count": 7,
      "outputs": []
    },
    {
      "cell_type": "markdown",
      "source": [
        "Loại bỏ ký tự đặc biệt trong trường số tiền"
      ],
      "metadata": {
        "id": "PS-ZHJ9fIxPm"
      }
    },
    {
      "cell_type": "code",
      "source": [
        "for i in ['Annual_sal', 'Q1 Payments', 'Q2 Payments', 'Q3 Payments', 'Q4 Payments', 'Payments Over Base Pay', 'Total Payments', 'Base_Pay', 'Permanent Bonus Pay', 'Longevity Bonus Pay', 'Temporary Bonus Pay', 'Lump Sum Pay', 'Overtime Pay', 'Other Pay & Adjustments', 'Other Pay (Payroll Explorer)', 'Average Health Cost', 'Average Dental Cost', 'Average Basic Life', 'Average Benefit Cost']:\n",
        "  df[i]=df[i].str.replace('$', '')"
      ],
      "metadata": {
        "colab": {
          "base_uri": "https://localhost:8080/"
        },
        "id": "ZYQGtNH_I6XJ",
        "outputId": "db87ebe6-e308-417c-ca14-9bf0752aed5a"
      },
      "execution_count": 9,
      "outputs": [
        {
          "output_type": "stream",
          "name": "stderr",
          "text": [
            "/usr/local/lib/python3.7/dist-packages/ipykernel_launcher.py:2: FutureWarning: The default value of regex will change from True to False in a future version. In addition, single character regular expressions will *not* be treated as literal strings when regex=True.\n",
            "  \n"
          ]
        }
      ]
    },
    {
      "cell_type": "markdown",
      "source": [
        "Loại bỏ dữ liệu ngoại lai"
      ],
      "metadata": {
        "id": "oOL4T0HcK0Am"
      }
    },
    {
      "cell_type": "code",
      "source": [
        "df = df[df.Annual_sal != 0]\n",
        "df = df[df.Base_Pay != 0]\n"
      ],
      "metadata": {
        "id": "Whcz5MdJK7eK"
      },
      "execution_count": 12,
      "outputs": []
    },
    {
      "cell_type": "code",
      "source": [
        "df.Annual_sal = df.Annual_sal.astype(float)\n",
        "df.Base_Pay = df.Base_Pay.astype(float)"
      ],
      "metadata": {
        "id": "nd9CHkOfLKQZ"
      },
      "execution_count": 13,
      "outputs": []
    },
    {
      "cell_type": "code",
      "source": [
        "plt.figure(figsize=(12, 6))\n",
        "sns.distplot(df.Annual_sal, color='darkgreen')"
      ],
      "metadata": {
        "colab": {
          "base_uri": "https://localhost:8080/",
          "height": 472
        },
        "id": "aBZ5stlYLU9G",
        "outputId": "9748af1a-63dd-498a-ab24-52938edbc0d2"
      },
      "execution_count": 15,
      "outputs": [
        {
          "output_type": "stream",
          "name": "stderr",
          "text": [
            "/usr/local/lib/python3.7/dist-packages/seaborn/distributions.py:2619: FutureWarning: `distplot` is a deprecated function and will be removed in a future version. Please adapt your code to use either `displot` (a figure-level function with similar flexibility) or `histplot` (an axes-level function for histograms).\n",
            "  warnings.warn(msg, FutureWarning)\n"
          ]
        },
        {
          "output_type": "execute_result",
          "data": {
            "text/plain": [
              "<matplotlib.axes._subplots.AxesSubplot at 0x7fe69c6dcb90>"
            ]
          },
          "metadata": {},
          "execution_count": 15
        },
        {
          "output_type": "display_data",
          "data": {
            "image/png": "[encoded data removed]",
            "text/plain": [
              "<Figure size 864x432 with 1 Axes>"
            ]
          },
          "metadata": {
            "needs_background": "light"
          }
        }
      ]
    },
    {
      "cell_type": "code",
      "source": [
        "df.Year.unique()"
      ],
      "metadata": {
        "colab": {
          "base_uri": "https://localhost:8080/"
        },
        "id": "pDV3BOwrLyuX",
        "outputId": "f2a60017-2698-42e1-bd82-ea3ca590813e"
      },
      "execution_count": 16,
      "outputs": [
        {
          "output_type": "execute_result",
          "data": {
            "text/plain": [
              "array([2013, 2014, 2016, 2015])"
            ]
          },
          "metadata": {},
          "execution_count": 16
        }
      ]
    },
    {
      "cell_type": "markdown",
      "source": [
        "Lọc dữ liệu 2016"
      ],
      "metadata": {
        "id": "TVbKQSEbMOHY"
      }
    },
    {
      "cell_type": "code",
      "source": [
        "df_2016 = df[df.Year == 2016]\n",
        "df_2015 = df[df.Year == 2015]\n"
      ],
      "metadata": {
        "id": "ZPxzo0inMZ6m"
      },
      "execution_count": 18,
      "outputs": []
    },
    {
      "cell_type": "markdown",
      "source": [
        "# Bài toán, Thực hiện kiểm định thanh toán có tăng trưởng hay không giữa 2 năm 2015, 2016"
      ],
      "metadata": {
        "id": "ode1zQe3MnO3"
      }
    },
    {
      "cell_type": "markdown",
      "source": [
        "# Làm theo cách 1"
      ],
      "metadata": {
        "id": "Gk5Vjg58M5w4"
      }
    },
    {
      "cell_type": "markdown",
      "source": [
        "Tính một số tham số để tính điểm z-score\n"
      ],
      "metadata": {
        "id": "gmySh2uPNNSu"
      }
    },
    {
      "cell_type": "code",
      "source": [
        "pop_mean_2015 = df_2015.Annual_sal.mean()\n",
        "pop_std_2015 = statistics.stdev(df_2015.Annual_sal)\n",
        "print(\"pop_mean_2015\", pop_mean_2015)\n",
        "print(\"pop_std_2015\", pop_std_2015)"
      ],
      "metadata": {
        "colab": {
          "base_uri": "https://localhost:8080/"
        },
        "id": "3w4zSsxnNTGt",
        "outputId": "c1023ea8-c95a-4784-f883-a7437bca91d6"
      },
      "execution_count": 20,
      "outputs": [
        {
          "output_type": "stream",
          "name": "stdout",
          "text": [
            "pop_mean_2015 76046.39152505301\n",
            "pop_std_2015 34232.25489729045\n"
          ]
        }
      ]
    },
    {
      "cell_type": "markdown",
      "source": [
        "Lấy tập mẫu cho 2016"
      ],
      "metadata": {
        "id": "qD1XO_wkOQ8R"
      }
    },
    {
      "cell_type": "code",
      "source": [
        "sample_2016 = df_2016.sample(frac=0.10)\n",
        "sample_2016_mean = sample_2016.Annual_sal.mean()\n",
        "sample_2016_std = statistics.stdev(sample_2016.Annual_sal)\n",
        "\n",
        "print(\"sample_2016_mean\", sample_2016_mean)\n",
        "print(\"sample_2016_std\", sample_2016_std)"
      ],
      "metadata": {
        "colab": {
          "base_uri": "https://localhost:8080/"
        },
        "id": "f1qLMHBsOX47",
        "outputId": "bfd30975-ad61-4b2e-923d-f196b9def855"
      },
      "execution_count": 21,
      "outputs": [
        {
          "output_type": "stream",
          "name": "stdout",
          "text": [
            "sample_2016_mean 78755.86334190171\n",
            "sample_2016_std 33737.06208789406\n"
          ]
        }
      ]
    },
    {
      "cell_type": "code",
      "source": [
        "sample_2016.info()"
      ],
      "metadata": {
        "colab": {
          "base_uri": "https://localhost:8080/"
        },
        "id": "8x7hPZyORk-b",
        "outputId": "f1060695-5066-4fc0-b987-9ac3c528674e"
      },
      "execution_count": 23,
      "outputs": [
        {
          "output_type": "stream",
          "name": "stdout",
          "text": [
            "<class 'pandas.core.frame.DataFrame'>\n",
            "Int64Index: 8947 entries, 197157 to 248449\n",
            "Data columns (total 35 columns):\n",
            " #   Column                        Non-Null Count  Dtype  \n",
            "---  ------                        --------------  -----  \n",
            " 0   Row ID                        8947 non-null   int64  \n",
            " 1   Year                          8947 non-null   int64  \n",
            " 2   Department Title              8947 non-null   object \n",
            " 3   Payroll Department            8947 non-null   float64\n",
            " 4   Record Number                 8947 non-null   object \n",
            " 5   Job_title                     8947 non-null   object \n",
            " 6   Employment Type               8947 non-null   object \n",
            " 7   Hourly or Event Rate          8947 non-null   object \n",
            " 8   Annual_sal                    8947 non-null   float64\n",
            " 9   Q1 Payments                   8947 non-null   object \n",
            " 10  Q2 Payments                   8947 non-null   object \n",
            " 11  Q3 Payments                   8947 non-null   object \n",
            " 12  Q4 Payments                   8947 non-null   object \n",
            " 13  Payments Over Base Pay        8947 non-null   object \n",
            " 14  % Over Base Pay               8947 non-null   object \n",
            " 15  Total Payments                8947 non-null   object \n",
            " 16  Base_Pay                      8947 non-null   float64\n",
            " 17  Permanent Bonus Pay           8947 non-null   object \n",
            " 18  Longevity Bonus Pay           8947 non-null   object \n",
            " 19  Temporary Bonus Pay           8947 non-null   object \n",
            " 20  Lump Sum Pay                  8947 non-null   object \n",
            " 21  Overtime Pay                  8947 non-null   object \n",
            " 22  Other Pay & Adjustments       8947 non-null   object \n",
            " 23  Other Pay (Payroll Explorer)  8947 non-null   object \n",
            " 24  MOU                           8947 non-null   object \n",
            " 25  MOU Title                     8947 non-null   object \n",
            " 26  FMS Department                8947 non-null   int64  \n",
            " 27  Job Class                     8947 non-null   int64  \n",
            " 28  Pay Grade                     4506 non-null   object \n",
            " 29  Average Health Cost           8947 non-null   object \n",
            " 30  Average Dental Cost           8947 non-null   object \n",
            " 31  Average Basic Life            8947 non-null   object \n",
            " 32  Average Benefit Cost          8947 non-null   object \n",
            " 33  Benefits Plan                 8117 non-null   object \n",
            " 34  Job Class Link                8947 non-null   object \n",
            "dtypes: float64(3), int64(4), object(28)\n",
            "memory usage: 2.5+ MB\n"
          ]
        }
      ]
    },
    {
      "cell_type": "markdown",
      "source": [
        "Làm kiểm định thống kê xem cái chi trả năm 2016 có tăng hay không"
      ],
      "metadata": {
        "id": "U8nxP67vPABa"
      }
    },
    {
      "cell_type": "markdown",
      "source": [
        "Bước 1: Giả thiết H0: Chi trả trong năm 2016 không tăng"
      ],
      "metadata": {
        "id": "pk92HCeUPSzj"
      }
    },
    {
      "cell_type": "markdown",
      "source": [
        "Bước 2: Viết giả thiết đối H1: Chi trả tăng"
      ],
      "metadata": {
        "id": "F2BeFMV2PUey"
      }
    },
    {
      "cell_type": "markdown",
      "source": [
        "Bước 3: Xác định mức ý nghĩa alpha = 5%"
      ],
      "metadata": {
        "id": "ScF4LKa5Pv3l"
      }
    },
    {
      "cell_type": "markdown",
      "source": [
        "Bước 4: Xác định điểm z-score:Mức ý nghĩa là 5% thì phần khẳng định đúng là 95% là đúng, tra bảng z-score được 1.65"
      ],
      "metadata": {
        "id": "d0pAPF8LQm8R"
      }
    },
    {
      "cell_type": "code",
      "source": [
        "z_score_critial = 1.65"
      ],
      "metadata": {
        "id": "LUUlCajFQXCq"
      },
      "execution_count": 22,
      "outputs": []
    },
    {
      "cell_type": "markdown",
      "source": [
        "Bước 5: Tính điểm theo dữ liệu thu thập được"
      ],
      "metadata": {
        "id": "deL1HXbbQ4JD"
      }
    },
    {
      "cell_type": "code",
      "source": [
        "zscore_test = ((sample_2016_mean-pop_mean_2015)*math.sqrt(8947))/sample_2016_std"
      ],
      "metadata": {
        "id": "TN0efvFsRGDS"
      },
      "execution_count": 26,
      "outputs": []
    },
    {
      "cell_type": "code",
      "source": [
        "print(\"zscore_test\", zscore_test)"
      ],
      "metadata": {
        "colab": {
          "base_uri": "https://localhost:8080/"
        },
        "id": "_lddPQDtR-6v",
        "outputId": "9fb0fe85-029c-44b8-ca89-029f693adce0"
      },
      "execution_count": 27,
      "outputs": [
        {
          "output_type": "stream",
          "name": "stdout",
          "text": [
            "zscore_test 7.596544674822238\n"
          ]
        }
      ]
    },
    {
      "cell_type": "markdown",
      "source": [
        "Bước 6: Kết luận do điểm test> lớn hơn điểm của mức ý nghĩa, nên là nhận định H0 bị bác bỏ, nghĩa là Chi trả trong năm 2016 có tăng."
      ],
      "metadata": {
        "id": "V5_5dfd4SRO_"
      }
    },
    {
      "cell_type": "markdown",
      "source": [
        "# Cách 2: Dùng hàm có sẵn"
      ],
      "metadata": {
        "id": "qKXb_SbqSrD0"
      }
    },
    {
      "cell_type": "markdown",
      "source": [
        ""
      ],
      "metadata": {
        "id": "oOTb5GjWPdtj"
      }
    },
    {
      "cell_type": "code",
      "source": [
        ""
      ],
      "metadata": {
        "id": "2LArPKHiPJt_"
      },
      "execution_count": null,
      "outputs": []
    }
  ]
}