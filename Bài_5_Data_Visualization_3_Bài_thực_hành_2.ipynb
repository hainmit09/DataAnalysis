{
  "nbformat": 4,
  "nbformat_minor": 0,
  "metadata": {
    "colab": {
      "name": "Bài 5 Data Visualization 3 - Bài thực hành 2.ipynb",
      "provenance": [],
      "authorship_tag": "ABX9TyPr/1zI0pFhKcidDlMswCbd",
      "include_colab_link": true
    },
    "kernelspec": {
      "name": "python3",
      "display_name": "Python 3"
    },
    "language_info": {
      "name": "python"
    }
  },
  "cells": [
    {
      "cell_type": "markdown",
      "metadata": {
        "id": "view-in-github",
        "colab_type": "text"
      },
      "source": [
        "<a href=\"https://colab.research.google.com/github/hainmit09/DataAnalysis/blob/main/B%C3%A0i_5_Data_Visualization_3_B%C3%A0i_th%E1%BB%B1c_h%C3%A0nh_2.ipynb\" target=\"_parent\"><img src=\"https://colab.research.google.com/assets/colab-badge.svg\" alt=\"Open In Colab\"/></a>"
      ]
    },
    {
      "cell_type": "markdown",
      "source": [
        "# Vẽ đồ thị dựa vào bộ dữ liệu online retail \n",
        "- Bước 1 vẽ đồ thị tần số xuất hiện (histogram) => Rút ra đánh giá về dạnh phân phối của dữ liệu có giống phân phối chuẩn hay không\n",
        "- Bước 2: Từ kết luận của bước 1, đưa ra giải pháp lọc dữ liệu ngoại lai.\n",
        "- Bước 3: Chuẩn hóa dữ liệu nếu cần (có phân tích)\n",
        "- Bước 4: Vẽ các đồ thị như yêu cầu bài thực hành"
      ],
      "metadata": {
        "id": "fWqx5SxrsQaF"
      }
    },
    {
      "cell_type": "code",
      "execution_count": null,
      "metadata": {
        "id": "MBZuQb4IsIpo"
      },
      "outputs": [],
      "source": [
        ""
      ]
    }
  ]
}