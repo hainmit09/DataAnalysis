{
 "cells": [
  {
   "cell_type": "markdown",
   "metadata": {
    "id": "BcvFyXkg8MPA"
   },
   "source": [
    "Cài đặt các thư viện cần thiết"
   ]
  },
  {
   "cell_type": "code",
   "execution_count": 134,
   "metadata": {
    "id": "Vbwfdrlj8TSQ"
   },
   "outputs": [],
   "source": [
    "# !pip install hvplot"
   ]
  },
  {
   "cell_type": "code",
   "execution_count": 135,
   "metadata": {
    "id": "fm0TOJNaDP9S"
   },
   "outputs": [],
   "source": [
    "# !pip install jupyterlab\n",
    "# !pip install hvplot holoviews\n",
    "# !pip install -U bokeh"
   ]
  },
  {
   "cell_type": "code",
   "execution_count": 136,
   "metadata": {
    "id": "4niYfGBT-1vE"
   },
   "outputs": [],
   "source": [
    "# import sklearn\n",
    "# import numpy as np\n",
    "# import pandas as pd\n",
    "# import panel as pn\n",
    "# import holoviews as hv\n",
    "# pn.extension('tabulator')\n",
    "# # hv.extension('bokeh')\n",
    "# import hvplot.pandas"
   ]
  },
  {
   "cell_type": "code",
   "execution_count": 137,
   "metadata": {
    "colab": {
     "base_uri": "https://localhost:8080/",
     "height": 42
    },
    "id": "l2F99aWcHdnc",
    "outputId": "9c675735-7a36-4028-e0f5-2f266d593286"
   },
   "outputs": [],
   "source": [
    "# import numpy as np\n",
    "# https://stackoverflow.com/questions/54793910/how-to-make-the-holoviews-show-graph-on-google-colaboratory-notebook\n",
    "# from bokeh.plotting import figure, show\n",
    "# from bokeh.io import output_notebook\n",
    "# hv.extension('bokeh')\n",
    "\n",
    "# hv.extension('matplotlib')"
   ]
  },
  {
   "cell_type": "code",
   "execution_count": 138,
   "metadata": {},
   "outputs": [],
   "source": [
    "import pandas as pd\n",
    "import numpy as np\n",
    "import panel as pn\n",
    "pn.extension('tabulator')\n",
    "\n",
    "import hvplot.pandas"
   ]
  },
  {
   "cell_type": "markdown",
   "metadata": {
    "id": "ieMtptOn88kY"
   },
   "source": [
    "Đọc dữ liệu"
   ]
  },
  {
   "cell_type": "code",
   "execution_count": 139,
   "metadata": {
    "id": "aihpih68NqM_"
   },
   "outputs": [],
   "source": [
    "# Thay vì đọc\n",
    "df = pd.read_csv(\"https://github.com/hainmit09/DataAnalysis/raw/main/Marketing/marketing_campaign.csv\",sep = \";\")\n",
    "# # cache data to improve dashboard performance\n",
    "# pn.state.cache['data']=None\n",
    "# if 'data' not in pn.state.cache.keys():  \n",
    "#   df = pd.read_csv(https://github.com/hainmit09/DataAnalysis/raw/main/Marketing/marketing_campaign.csv',sep = \";\")\n",
    "#   pn.state.cache['data'] = df.copy()\n",
    "# else:\n",
    "#   df = pn.state.cache['data']"
   ]
  },
  {
   "cell_type": "markdown",
   "metadata": {
    "id": "1lF5MLTe87Jg"
   },
   "source": [
    "Lọc lấy các cột cần thiết"
   ]
  },
  {
   "cell_type": "code",
   "execution_count": 140,
   "metadata": {
    "id": "6beZMJtGNt8T"
   },
   "outputs": [],
   "source": [
    "need_cols = [\"Education\", \"Income\", \"Marital_Status\", \"MntWines\", \"MntFruits\", \"MntMeatProducts\", \"MntFishProducts\", \"MntSweetProducts\", \\\n",
    "             \"MntGoldProds\", \"NumDealsPurchases\", \"NumWebPurchases\", \"NumCatalogPurchases\", \"NumStorePurchases\", \"Kidhome\", \"Teenhome\"]"
   ]
  },
  {
   "cell_type": "code",
   "execution_count": 141,
   "metadata": {
    "id": "Msu0u9VS9WA4"
   },
   "outputs": [],
   "source": [
    "data = df[need_cols]"
   ]
  },
  {
   "cell_type": "code",
   "execution_count": 142,
   "metadata": {},
   "outputs": [
    {
     "name": "stderr",
     "output_type": "stream",
     "text": [
      "C:\\Users\\MSI\\AppData\\Local\\Temp\\ipykernel_10224\\3949158118.py:1: SettingWithCopyWarning: \n",
      "A value is trying to be set on a copy of a slice from a DataFrame.\n",
      "Try using .loc[row_indexer,col_indexer] = value instead\n",
      "\n",
      "See the caveats in the documentation: https://pandas.pydata.org/pandas-docs/stable/user_guide/indexing.html#returning-a-view-versus-a-copy\n",
      "  data['TotalPurchases'] = data.NumDealsPurchases+data.NumWebPurchases+data.NumCatalogPurchases+data.NumStorePurchases\n",
      "C:\\Users\\MSI\\AppData\\Local\\Temp\\ipykernel_10224\\3949158118.py:2: SettingWithCopyWarning: \n",
      "A value is trying to be set on a copy of a slice from a DataFrame.\n",
      "Try using .loc[row_indexer,col_indexer] = value instead\n",
      "\n",
      "See the caveats in the documentation: https://pandas.pydata.org/pandas-docs/stable/user_guide/indexing.html#returning-a-view-versus-a-copy\n",
      "  data['LAL']=-1\n"
     ]
    }
   ],
   "source": [
    "data['TotalPurchases'] = data.NumDealsPurchases+data.NumWebPurchases+data.NumCatalogPurchases+data.NumStorePurchases\n",
    "data['LAL']=-1"
   ]
  },
  {
   "cell_type": "code",
   "execution_count": 143,
   "metadata": {},
   "outputs": [
    {
     "data": {
      "text/html": [
       "<div>\n",
       "<style scoped>\n",
       "    .dataframe tbody tr th:only-of-type {\n",
       "        vertical-align: middle;\n",
       "    }\n",
       "\n",
       "    .dataframe tbody tr th {\n",
       "        vertical-align: top;\n",
       "    }\n",
       "\n",
       "    .dataframe thead th {\n",
       "        text-align: right;\n",
       "    }\n",
       "</style>\n",
       "<table border=\"1\" class=\"dataframe\">\n",
       "  <thead>\n",
       "    <tr style=\"text-align: right;\">\n",
       "      <th></th>\n",
       "      <th>Education</th>\n",
       "      <th>Income</th>\n",
       "      <th>Marital_Status</th>\n",
       "      <th>MntWines</th>\n",
       "      <th>MntFruits</th>\n",
       "      <th>MntMeatProducts</th>\n",
       "      <th>MntFishProducts</th>\n",
       "      <th>MntSweetProducts</th>\n",
       "      <th>MntGoldProds</th>\n",
       "      <th>NumDealsPurchases</th>\n",
       "      <th>NumWebPurchases</th>\n",
       "      <th>NumCatalogPurchases</th>\n",
       "      <th>NumStorePurchases</th>\n",
       "      <th>Kidhome</th>\n",
       "      <th>Teenhome</th>\n",
       "      <th>TotalPurchases</th>\n",
       "      <th>LAL</th>\n",
       "    </tr>\n",
       "  </thead>\n",
       "  <tbody>\n",
       "    <tr>\n",
       "      <th>0</th>\n",
       "      <td>Graduation</td>\n",
       "      <td>58138.0</td>\n",
       "      <td>Single</td>\n",
       "      <td>635</td>\n",
       "      <td>88</td>\n",
       "      <td>546</td>\n",
       "      <td>172</td>\n",
       "      <td>88</td>\n",
       "      <td>88</td>\n",
       "      <td>3</td>\n",
       "      <td>8</td>\n",
       "      <td>10</td>\n",
       "      <td>4</td>\n",
       "      <td>0</td>\n",
       "      <td>0</td>\n",
       "      <td>25</td>\n",
       "      <td>-1</td>\n",
       "    </tr>\n",
       "    <tr>\n",
       "      <th>1</th>\n",
       "      <td>Graduation</td>\n",
       "      <td>46344.0</td>\n",
       "      <td>Single</td>\n",
       "      <td>11</td>\n",
       "      <td>1</td>\n",
       "      <td>6</td>\n",
       "      <td>2</td>\n",
       "      <td>1</td>\n",
       "      <td>6</td>\n",
       "      <td>2</td>\n",
       "      <td>1</td>\n",
       "      <td>1</td>\n",
       "      <td>2</td>\n",
       "      <td>1</td>\n",
       "      <td>1</td>\n",
       "      <td>6</td>\n",
       "      <td>-1</td>\n",
       "    </tr>\n",
       "    <tr>\n",
       "      <th>2</th>\n",
       "      <td>Graduation</td>\n",
       "      <td>71613.0</td>\n",
       "      <td>Together</td>\n",
       "      <td>426</td>\n",
       "      <td>49</td>\n",
       "      <td>127</td>\n",
       "      <td>111</td>\n",
       "      <td>21</td>\n",
       "      <td>42</td>\n",
       "      <td>1</td>\n",
       "      <td>8</td>\n",
       "      <td>2</td>\n",
       "      <td>10</td>\n",
       "      <td>0</td>\n",
       "      <td>0</td>\n",
       "      <td>21</td>\n",
       "      <td>-1</td>\n",
       "    </tr>\n",
       "    <tr>\n",
       "      <th>3</th>\n",
       "      <td>Graduation</td>\n",
       "      <td>26646.0</td>\n",
       "      <td>Together</td>\n",
       "      <td>11</td>\n",
       "      <td>4</td>\n",
       "      <td>20</td>\n",
       "      <td>10</td>\n",
       "      <td>3</td>\n",
       "      <td>5</td>\n",
       "      <td>2</td>\n",
       "      <td>2</td>\n",
       "      <td>0</td>\n",
       "      <td>4</td>\n",
       "      <td>1</td>\n",
       "      <td>0</td>\n",
       "      <td>8</td>\n",
       "      <td>-1</td>\n",
       "    </tr>\n",
       "    <tr>\n",
       "      <th>4</th>\n",
       "      <td>PhD</td>\n",
       "      <td>58293.0</td>\n",
       "      <td>Married</td>\n",
       "      <td>173</td>\n",
       "      <td>43</td>\n",
       "      <td>118</td>\n",
       "      <td>46</td>\n",
       "      <td>27</td>\n",
       "      <td>15</td>\n",
       "      <td>5</td>\n",
       "      <td>5</td>\n",
       "      <td>3</td>\n",
       "      <td>6</td>\n",
       "      <td>1</td>\n",
       "      <td>0</td>\n",
       "      <td>19</td>\n",
       "      <td>-1</td>\n",
       "    </tr>\n",
       "  </tbody>\n",
       "</table>\n",
       "</div>"
      ],
      "text/plain": [
       "    Education   Income Marital_Status  MntWines  MntFruits  MntMeatProducts  \\\n",
       "0  Graduation  58138.0         Single       635         88              546   \n",
       "1  Graduation  46344.0         Single        11          1                6   \n",
       "2  Graduation  71613.0       Together       426         49              127   \n",
       "3  Graduation  26646.0       Together        11          4               20   \n",
       "4         PhD  58293.0        Married       173         43              118   \n",
       "\n",
       "   MntFishProducts  MntSweetProducts  MntGoldProds  NumDealsPurchases  \\\n",
       "0              172                88            88                  3   \n",
       "1                2                 1             6                  2   \n",
       "2              111                21            42                  1   \n",
       "3               10                 3             5                  2   \n",
       "4               46                27            15                  5   \n",
       "\n",
       "   NumWebPurchases  NumCatalogPurchases  NumStorePurchases  Kidhome  Teenhome  \\\n",
       "0                8                   10                  4        0         0   \n",
       "1                1                    1                  2        1         1   \n",
       "2                8                    2                 10        0         0   \n",
       "3                2                    0                  4        1         0   \n",
       "4                5                    3                  6        1         0   \n",
       "\n",
       "   TotalPurchases  LAL  \n",
       "0              25   -1  \n",
       "1               6   -1  \n",
       "2              21   -1  \n",
       "3               8   -1  \n",
       "4              19   -1  "
      ]
     },
     "execution_count": 143,
     "metadata": {},
     "output_type": "execute_result"
    }
   ],
   "source": [
    "data.head()"
   ]
  },
  {
   "cell_type": "markdown",
   "metadata": {
    "id": "9wolLrdg9e-H"
   },
   "source": [
    "Tiền xử lý dữ liệu"
   ]
  },
  {
   "cell_type": "code",
   "execution_count": 144,
   "metadata": {
    "colab": {
     "base_uri": "https://localhost:8080/"
    },
    "id": "-pMnsQ1I9hhg",
    "outputId": "1057f3cb-b74f-4396-ccf7-a738633dba57"
   },
   "outputs": [
    {
     "name": "stdout",
     "output_type": "stream",
     "text": [
      "<class 'pandas.core.frame.DataFrame'>\n",
      "RangeIndex: 2240 entries, 0 to 2239\n",
      "Data columns (total 17 columns):\n",
      " #   Column               Non-Null Count  Dtype  \n",
      "---  ------               --------------  -----  \n",
      " 0   Education            2240 non-null   object \n",
      " 1   Income               2216 non-null   float64\n",
      " 2   Marital_Status       2240 non-null   object \n",
      " 3   MntWines             2240 non-null   int64  \n",
      " 4   MntFruits            2240 non-null   int64  \n",
      " 5   MntMeatProducts      2240 non-null   int64  \n",
      " 6   MntFishProducts      2240 non-null   int64  \n",
      " 7   MntSweetProducts     2240 non-null   int64  \n",
      " 8   MntGoldProds         2240 non-null   int64  \n",
      " 9   NumDealsPurchases    2240 non-null   int64  \n",
      " 10  NumWebPurchases      2240 non-null   int64  \n",
      " 11  NumCatalogPurchases  2240 non-null   int64  \n",
      " 12  NumStorePurchases    2240 non-null   int64  \n",
      " 13  Kidhome              2240 non-null   int64  \n",
      " 14  Teenhome             2240 non-null   int64  \n",
      " 15  TotalPurchases       2240 non-null   int64  \n",
      " 16  LAL                  2240 non-null   int64  \n",
      "dtypes: float64(1), int64(14), object(2)\n",
      "memory usage: 297.6+ KB\n"
     ]
    }
   ],
   "source": [
    "data.info()"
   ]
  },
  {
   "cell_type": "code",
   "execution_count": 145,
   "metadata": {
    "colab": {
     "base_uri": "https://localhost:8080/"
    },
    "id": "JSxwReRQ9oqg",
    "outputId": "b43c8076-36a6-42f8-8dda-a453b591b56f"
   },
   "outputs": [
    {
     "name": "stderr",
     "output_type": "stream",
     "text": [
      "C:\\Users\\MSI\\AppData\\Local\\Temp\\ipykernel_10224\\1368182302.py:1: SettingWithCopyWarning: \n",
      "A value is trying to be set on a copy of a slice from a DataFrame\n",
      "\n",
      "See the caveats in the documentation: https://pandas.pydata.org/pandas-docs/stable/user_guide/indexing.html#returning-a-view-versus-a-copy\n",
      "  data.dropna(inplace=True)\n"
     ]
    }
   ],
   "source": [
    "data.dropna(inplace=True)"
   ]
  },
  {
   "cell_type": "markdown",
   "metadata": {
    "id": "eKmUvC9j9yQg"
   },
   "source": [
    "Phân tích dữ liệu ngoại lai"
   ]
  },
  {
   "cell_type": "code",
   "execution_count": 146,
   "metadata": {
    "id": "2KBbz5df92F4"
   },
   "outputs": [],
   "source": [
    "# Vẽ thử biểu đồ boxplot xem có dữ liệu ngoại không\n",
    "#plt.xticks(rotation=57)\n",
    "#sns.boxplot(data=data)"
   ]
  },
  {
   "cell_type": "code",
   "execution_count": 147,
   "metadata": {
    "id": "hIZpHEjB-CBQ"
   },
   "outputs": [],
   "source": [
    "data = data[data.Income <300000]"
   ]
  },
  {
   "cell_type": "markdown",
   "metadata": {
    "id": "Fs_l15VY-RJx"
   },
   "source": [
    "Phân tích"
   ]
  },
  {
   "cell_type": "markdown",
   "metadata": {
    "id": "pbAAPgG1-UNw"
   },
   "source": [
    "Tìm min max"
   ]
  },
  {
   "cell_type": "code",
   "execution_count": 148,
   "metadata": {
    "id": "FHIcEXe7-2rI"
   },
   "outputs": [],
   "source": [
    "# Make DataFrame Pipeline Interactive\n",
    "idf = data.interactive()"
   ]
  },
  {
   "cell_type": "code",
   "execution_count": 149,
   "metadata": {
    "colab": {
     "base_uri": "https://localhost:8080/"
    },
    "id": "DEcRTsxuAzvZ",
    "outputId": "38467ab3-d43a-4401-c2d1-d0cfdf5ec275"
   },
   "outputs": [
    {
     "name": "stdout",
     "output_type": "stream",
     "text": [
      "<class 'pandas.core.frame.DataFrame'>\n",
      "Int64Index: 2215 entries, 0 to 2239\n",
      "Data columns (total 17 columns):\n",
      " #   Column               Non-Null Count  Dtype  \n",
      "---  ------               --------------  -----  \n",
      " 0   Education            2215 non-null   object \n",
      " 1   Income               2215 non-null   float64\n",
      " 2   Marital_Status       2215 non-null   object \n",
      " 3   MntWines             2215 non-null   int64  \n",
      " 4   MntFruits            2215 non-null   int64  \n",
      " 5   MntMeatProducts      2215 non-null   int64  \n",
      " 6   MntFishProducts      2215 non-null   int64  \n",
      " 7   MntSweetProducts     2215 non-null   int64  \n",
      " 8   MntGoldProds         2215 non-null   int64  \n",
      " 9   NumDealsPurchases    2215 non-null   int64  \n",
      " 10  NumWebPurchases      2215 non-null   int64  \n",
      " 11  NumCatalogPurchases  2215 non-null   int64  \n",
      " 12  NumStorePurchases    2215 non-null   int64  \n",
      " 13  Kidhome              2215 non-null   int64  \n",
      " 14  Teenhome             2215 non-null   int64  \n",
      " 15  TotalPurchases       2215 non-null   int64  \n",
      " 16  LAL                  2215 non-null   int64  \n",
      "dtypes: float64(1), int64(14), object(2)\n",
      "memory usage: 311.5+ KB\n",
      "<class 'pandas.core.frame.DataFrame'>\n",
      "Int64Index: 2215 entries, 0 to 2239\n",
      "Data columns (total 17 columns):\n",
      " #   Column               Non-Null Count  Dtype  \n",
      "---  ------               --------------  -----  \n",
      " 0   Education            2215 non-null   object \n",
      " 1   Income               2215 non-null   float64\n",
      " 2   Marital_Status       2215 non-null   object \n",
      " 3   MntWines             2215 non-null   int64  \n",
      " 4   MntFruits            2215 non-null   int64  \n",
      " 5   MntMeatProducts      2215 non-null   int64  \n",
      " 6   MntFishProducts      2215 non-null   int64  \n",
      " 7   MntSweetProducts     2215 non-null   int64  \n",
      " 8   MntGoldProds         2215 non-null   int64  \n",
      " 9   NumDealsPurchases    2215 non-null   int64  \n",
      " 10  NumWebPurchases      2215 non-null   int64  \n",
      " 11  NumCatalogPurchases  2215 non-null   int64  \n",
      " 12  NumStorePurchases    2215 non-null   int64  \n",
      " 13  Kidhome              2215 non-null   int64  \n",
      " 14  Teenhome             2215 non-null   int64  \n",
      " 15  TotalPurchases       2215 non-null   int64  \n",
      " 16  LAL                  2215 non-null   int64  \n",
      "dtypes: float64(1), int64(14), object(2)\n",
      "memory usage: 311.5+ KB\n"
     ]
    },
    {
     "data": {},
     "metadata": {},
     "output_type": "display_data"
    },
    {
     "data": {
      "application/vnd.holoviews_exec.v0+json": "",
      "text/html": [
       "<div id='18214'>\n",
       "\n",
       "\n",
       "\n",
       "\n",
       "\n",
       "  <div class=\"bk-root\" id=\"a7b8ca02-6ba2-4e76-86fc-1643d4d26ddf\" data-root-id=\"18214\"></div>\n",
       "</div>\n",
       "<script type=\"application/javascript\">(function(root) {\n",
       "  function embed_document(root) {\n",
       "    var docs_json = {\"8901f646-73a5-4d28-af0e-661cd392e3ef\":{\"defs\":[{\"extends\":null,\"module\":null,\"name\":\"ReactiveHTML1\",\"overrides\":[],\"properties\":[]},{\"extends\":null,\"module\":null,\"name\":\"FlexBox1\",\"overrides\":[],\"properties\":[{\"default\":\"flex-start\",\"kind\":null,\"name\":\"align_content\"},{\"default\":\"flex-start\",\"kind\":null,\"name\":\"align_items\"},{\"default\":\"row\",\"kind\":null,\"name\":\"flex_direction\"},{\"default\":\"wrap\",\"kind\":null,\"name\":\"flex_wrap\"},{\"default\":\"flex-start\",\"kind\":null,\"name\":\"justify_content\"}]},{\"extends\":null,\"module\":null,\"name\":\"GridStack1\",\"overrides\":[],\"properties\":[{\"default\":\"warn\",\"kind\":null,\"name\":\"mode\"},{\"default\":null,\"kind\":null,\"name\":\"ncols\"},{\"default\":null,\"kind\":null,\"name\":\"nrows\"},{\"default\":true,\"kind\":null,\"name\":\"allow_resize\"},{\"default\":true,\"kind\":null,\"name\":\"allow_drag\"},{\"default\":[],\"kind\":null,\"name\":\"state\"}]},{\"extends\":null,\"module\":null,\"name\":\"click1\",\"overrides\":[],\"properties\":[{\"default\":\"\",\"kind\":null,\"name\":\"terminal_output\"},{\"default\":\"\",\"kind\":null,\"name\":\"debug_name\"},{\"default\":0,\"kind\":null,\"name\":\"clears\"}]},{\"extends\":null,\"module\":null,\"name\":\"TemplateActions1\",\"overrides\":[],\"properties\":[{\"default\":0,\"kind\":null,\"name\":\"open_modal\"},{\"default\":0,\"kind\":null,\"name\":\"close_modal\"}]},{\"extends\":null,\"module\":null,\"name\":\"MaterialTemplateActions1\",\"overrides\":[],\"properties\":[{\"default\":0,\"kind\":null,\"name\":\"open_modal\"},{\"default\":0,\"kind\":null,\"name\":\"close_modal\"}]}],\"roots\":{\"references\":[{\"attributes\":{\"margin\":[0,0,0,0],\"name\":\"Column26890\"},\"id\":\"18217\",\"type\":\"Column\"},{\"attributes\":{\"margin\":[5,5,5,5],\"name\":\"Str26893\",\"text\":\"&lt;pre&gt; &lt;/pre&gt;\"},\"id\":\"18220\",\"type\":\"panel.models.markup.HTML\"},{\"attributes\":{\"client_comm_id\":\"d50f095cbc2c42af9fad59af8c06f6ca\",\"comm_id\":\"9d7feaebba054534aef24af88bf93e94\",\"plot_id\":\"18214\"},\"id\":\"18221\",\"type\":\"panel.models.comm_manager.CommManager\"},{\"attributes\":{\"children\":[{\"id\":\"18216\"},{\"id\":\"18219\"}],\"margin\":[0,0,0,0],\"name\":\"Column26922\"},\"id\":\"18215\",\"type\":\"Column\"},{\"attributes\":{\"children\":[{\"id\":\"18220\"}],\"margin\":[0,0,0,0],\"name\":\"Row26895\"},\"id\":\"18219\",\"type\":\"Row\"},{\"attributes\":{\"margin\":[5,5,5,5],\"name\":\"HSpacer26920\",\"sizing_mode\":\"stretch_width\"},\"id\":\"18218\",\"type\":\"Spacer\"},{\"attributes\":{\"children\":[{\"id\":\"18217\"},{\"id\":\"18218\"}],\"margin\":[0,0,0,0],\"name\":\"Row26921\"},\"id\":\"18216\",\"type\":\"Row\"},{\"attributes\":{\"children\":[{\"id\":\"18215\"}],\"margin\":[0,0,0,0],\"name\":\"Row26923\"},\"id\":\"18214\",\"type\":\"Row\"}],\"root_ids\":[\"18214\",\"18221\"]},\"title\":\"Bokeh Application\",\"version\":\"2.4.2\"}};\n",
       "    var render_items = [{\"docid\":\"8901f646-73a5-4d28-af0e-661cd392e3ef\",\"root_ids\":[\"18214\"],\"roots\":{\"18214\":\"a7b8ca02-6ba2-4e76-86fc-1643d4d26ddf\"}}];\n",
       "    root.Bokeh.embed.embed_items_notebook(docs_json, render_items);\n",
       "  }\n",
       "  if (root.Bokeh !== undefined && root.Bokeh.Panel !== undefined && ( root['Tabulator'] !== undefined)) {\n",
       "    embed_document(root);\n",
       "  } else {\n",
       "    var attempts = 0;\n",
       "    var timer = setInterval(function(root) {\n",
       "      if (root.Bokeh !== undefined && root.Bokeh.Panel !== undefined && (root['Tabulator'] !== undefined)) {\n",
       "        clearInterval(timer);\n",
       "        embed_document(root);\n",
       "      } else if (document.readyState == \"complete\") {\n",
       "        attempts++;\n",
       "        if (attempts > 200) {\n",
       "          clearInterval(timer);\n",
       "          console.log(\"Bokeh: ERROR: Unable to run BokehJS code because BokehJS library is missing\");\n",
       "        }\n",
       "      }\n",
       "    }, 25, root)\n",
       "  }\n",
       "})(window);</script>"
      ],
      "text/plain": [
       "<hvplot.interactive.Interactive at 0x15df785b1f0>"
      ]
     },
     "execution_count": 149,
     "metadata": {
      "application/vnd.holoviews_exec.v0+json": {
       "id": "18214"
      }
     },
     "output_type": "execute_result"
    }
   ],
   "source": [
    "idf.info()"
   ]
  },
  {
   "cell_type": "code",
   "execution_count": 150,
   "metadata": {
    "colab": {
     "base_uri": "https://localhost:8080/"
    },
    "id": "3pnJbYJtAc8Z",
    "outputId": "d0a0a779-5e1f-4d68-d558-78260b0d5e0d"
   },
   "outputs": [
    {
     "data": {
      "text/plain": [
       "hvplot.interactive.Interactive"
      ]
     },
     "execution_count": 150,
     "metadata": {},
     "output_type": "execute_result"
    }
   ],
   "source": [
    "type(idf)"
   ]
  },
  {
   "cell_type": "code",
   "execution_count": 151,
   "metadata": {
    "colab": {
     "base_uri": "https://localhost:8080/"
    },
    "id": "lSUIU-qvNvpF",
    "outputId": "25b10b12-1ad0-43c6-8a0a-3ca30d373dae"
   },
   "outputs": [
    {
     "name": "stdout",
     "output_type": "stream",
     "text": [
      "income_min 1730  income_max 162397\n"
     ]
    }
   ],
   "source": [
    "income_min = int(data.Income.min())\n",
    "income_max = int(data.Income.max())\n",
    "print(\"income_min\", income_min, \" income_max\", income_max)"
   ]
  },
  {
   "cell_type": "code",
   "execution_count": 152,
   "metadata": {
    "colab": {
     "base_uri": "https://localhost:8080/",
     "height": 66
    },
    "id": "61TIvbYTNy1d",
    "outputId": "5e610850-7cf5-4220-dd14-dd9ef3c15f7c"
   },
   "outputs": [
    {
     "data": {},
     "metadata": {},
     "output_type": "display_data"
    },
    {
     "data": {
      "application/vnd.holoviews_exec.v0+json": "",
      "text/html": [
       "<div id='18222'>\n",
       "\n",
       "\n",
       "\n",
       "\n",
       "\n",
       "  <div class=\"bk-root\" id=\"95098054-b0a1-48d2-82c7-0aa5cd6e0c58\" data-root-id=\"18222\"></div>\n",
       "</div>\n",
       "<script type=\"application/javascript\">(function(root) {\n",
       "  function embed_document(root) {\n",
       "    var docs_json = {\"0cd1cde8-c36e-4426-b78a-2b48d735c2a7\":{\"defs\":[{\"extends\":null,\"module\":null,\"name\":\"ReactiveHTML1\",\"overrides\":[],\"properties\":[]},{\"extends\":null,\"module\":null,\"name\":\"FlexBox1\",\"overrides\":[],\"properties\":[{\"default\":\"flex-start\",\"kind\":null,\"name\":\"align_content\"},{\"default\":\"flex-start\",\"kind\":null,\"name\":\"align_items\"},{\"default\":\"row\",\"kind\":null,\"name\":\"flex_direction\"},{\"default\":\"wrap\",\"kind\":null,\"name\":\"flex_wrap\"},{\"default\":\"flex-start\",\"kind\":null,\"name\":\"justify_content\"}]},{\"extends\":null,\"module\":null,\"name\":\"GridStack1\",\"overrides\":[],\"properties\":[{\"default\":\"warn\",\"kind\":null,\"name\":\"mode\"},{\"default\":null,\"kind\":null,\"name\":\"ncols\"},{\"default\":null,\"kind\":null,\"name\":\"nrows\"},{\"default\":true,\"kind\":null,\"name\":\"allow_resize\"},{\"default\":true,\"kind\":null,\"name\":\"allow_drag\"},{\"default\":[],\"kind\":null,\"name\":\"state\"}]},{\"extends\":null,\"module\":null,\"name\":\"click1\",\"overrides\":[],\"properties\":[{\"default\":\"\",\"kind\":null,\"name\":\"terminal_output\"},{\"default\":\"\",\"kind\":null,\"name\":\"debug_name\"},{\"default\":0,\"kind\":null,\"name\":\"clears\"}]},{\"extends\":null,\"module\":null,\"name\":\"TemplateActions1\",\"overrides\":[],\"properties\":[{\"default\":0,\"kind\":null,\"name\":\"open_modal\"},{\"default\":0,\"kind\":null,\"name\":\"close_modal\"}]},{\"extends\":null,\"module\":null,\"name\":\"MaterialTemplateActions1\",\"overrides\":[],\"properties\":[{\"default\":0,\"kind\":null,\"name\":\"open_modal\"},{\"default\":0,\"kind\":null,\"name\":\"close_modal\"}]}],\"roots\":{\"references\":[{\"attributes\":{\"end\":162397,\"margin\":[5,10,5,10],\"start\":1730,\"step\":5,\"title\":\"Min Income slider\",\"value\":1730},\"id\":\"18222\",\"type\":\"Slider\"},{\"attributes\":{\"client_comm_id\":\"68fc6e6a2238491480d6802e08734452\",\"comm_id\":\"67cd6c0603344b1ca230bb8497f15ad3\",\"plot_id\":\"18222\"},\"id\":\"18223\",\"type\":\"panel.models.comm_manager.CommManager\"}],\"root_ids\":[\"18222\",\"18223\"]},\"title\":\"Bokeh Application\",\"version\":\"2.4.2\"}};\n",
       "    var render_items = [{\"docid\":\"0cd1cde8-c36e-4426-b78a-2b48d735c2a7\",\"root_ids\":[\"18222\"],\"roots\":{\"18222\":\"95098054-b0a1-48d2-82c7-0aa5cd6e0c58\"}}];\n",
       "    root.Bokeh.embed.embed_items_notebook(docs_json, render_items);\n",
       "  }\n",
       "  if (root.Bokeh !== undefined && root.Bokeh.Panel !== undefined && ( root['Tabulator'] !== undefined)) {\n",
       "    embed_document(root);\n",
       "  } else {\n",
       "    var attempts = 0;\n",
       "    var timer = setInterval(function(root) {\n",
       "      if (root.Bokeh !== undefined && root.Bokeh.Panel !== undefined && (root['Tabulator'] !== undefined)) {\n",
       "        clearInterval(timer);\n",
       "        embed_document(root);\n",
       "      } else if (document.readyState == \"complete\") {\n",
       "        attempts++;\n",
       "        if (attempts > 200) {\n",
       "          clearInterval(timer);\n",
       "          console.log(\"Bokeh: ERROR: Unable to run BokehJS code because BokehJS library is missing\");\n",
       "        }\n",
       "      }\n",
       "    }, 25, root)\n",
       "  }\n",
       "})(window);</script>"
      ],
      "text/plain": [
       "IntSlider(end=162397, name='Min Income slider', start=1730, step=5, value=1730)"
      ]
     },
     "execution_count": 152,
     "metadata": {
      "application/vnd.holoviews_exec.v0+json": {
       "id": "18222"
      }
     },
     "output_type": "execute_result"
    }
   ],
   "source": [
    "# Define Panel widgets\n",
    "min_income_slider = pn.widgets.IntSlider(name='Min Income slider', start=income_min, end=income_max, step=5, value=income_min)\n",
    "min_income_slider"
   ]
  },
  {
   "cell_type": "code",
   "execution_count": 153,
   "metadata": {
    "colab": {
     "base_uri": "https://localhost:8080/",
     "height": 66
    },
    "id": "hXm_zw9BCNkq",
    "outputId": "8e0a28bd-7a43-443e-b807-67102cea76df"
   },
   "outputs": [
    {
     "data": {},
     "metadata": {},
     "output_type": "display_data"
    },
    {
     "data": {
      "application/vnd.holoviews_exec.v0+json": "",
      "text/html": [
       "<div id='18224'>\n",
       "\n",
       "\n",
       "\n",
       "\n",
       "\n",
       "  <div class=\"bk-root\" id=\"21c1b4e1-ae9d-4c13-a5b8-e8b487046a44\" data-root-id=\"18224\"></div>\n",
       "</div>\n",
       "<script type=\"application/javascript\">(function(root) {\n",
       "  function embed_document(root) {\n",
       "    var docs_json = {\"f24130b6-18c1-4351-83b8-ad5aeaabf96e\":{\"defs\":[{\"extends\":null,\"module\":null,\"name\":\"ReactiveHTML1\",\"overrides\":[],\"properties\":[]},{\"extends\":null,\"module\":null,\"name\":\"FlexBox1\",\"overrides\":[],\"properties\":[{\"default\":\"flex-start\",\"kind\":null,\"name\":\"align_content\"},{\"default\":\"flex-start\",\"kind\":null,\"name\":\"align_items\"},{\"default\":\"row\",\"kind\":null,\"name\":\"flex_direction\"},{\"default\":\"wrap\",\"kind\":null,\"name\":\"flex_wrap\"},{\"default\":\"flex-start\",\"kind\":null,\"name\":\"justify_content\"}]},{\"extends\":null,\"module\":null,\"name\":\"GridStack1\",\"overrides\":[],\"properties\":[{\"default\":\"warn\",\"kind\":null,\"name\":\"mode\"},{\"default\":null,\"kind\":null,\"name\":\"ncols\"},{\"default\":null,\"kind\":null,\"name\":\"nrows\"},{\"default\":true,\"kind\":null,\"name\":\"allow_resize\"},{\"default\":true,\"kind\":null,\"name\":\"allow_drag\"},{\"default\":[],\"kind\":null,\"name\":\"state\"}]},{\"extends\":null,\"module\":null,\"name\":\"click1\",\"overrides\":[],\"properties\":[{\"default\":\"\",\"kind\":null,\"name\":\"terminal_output\"},{\"default\":\"\",\"kind\":null,\"name\":\"debug_name\"},{\"default\":0,\"kind\":null,\"name\":\"clears\"}]},{\"extends\":null,\"module\":null,\"name\":\"TemplateActions1\",\"overrides\":[],\"properties\":[{\"default\":0,\"kind\":null,\"name\":\"open_modal\"},{\"default\":0,\"kind\":null,\"name\":\"close_modal\"}]},{\"extends\":null,\"module\":null,\"name\":\"MaterialTemplateActions1\",\"overrides\":[],\"properties\":[{\"default\":0,\"kind\":null,\"name\":\"open_modal\"},{\"default\":0,\"kind\":null,\"name\":\"close_modal\"}]}],\"roots\":{\"references\":[{\"attributes\":{\"client_comm_id\":\"8408fa1834dd47ec82b786384a2f853d\",\"comm_id\":\"bb61415043574a22b8cd8b12cb250f6d\",\"plot_id\":\"18224\"},\"id\":\"18225\",\"type\":\"panel.models.comm_manager.CommManager\"},{\"attributes\":{\"end\":162397,\"margin\":[5,10,5,10],\"start\":1730,\"step\":5,\"title\":\"Max Income slider\",\"value\":162397},\"id\":\"18224\",\"type\":\"Slider\"}],\"root_ids\":[\"18224\",\"18225\"]},\"title\":\"Bokeh Application\",\"version\":\"2.4.2\"}};\n",
       "    var render_items = [{\"docid\":\"f24130b6-18c1-4351-83b8-ad5aeaabf96e\",\"root_ids\":[\"18224\"],\"roots\":{\"18224\":\"21c1b4e1-ae9d-4c13-a5b8-e8b487046a44\"}}];\n",
       "    root.Bokeh.embed.embed_items_notebook(docs_json, render_items);\n",
       "  }\n",
       "  if (root.Bokeh !== undefined && root.Bokeh.Panel !== undefined && ( root['Tabulator'] !== undefined)) {\n",
       "    embed_document(root);\n",
       "  } else {\n",
       "    var attempts = 0;\n",
       "    var timer = setInterval(function(root) {\n",
       "      if (root.Bokeh !== undefined && root.Bokeh.Panel !== undefined && (root['Tabulator'] !== undefined)) {\n",
       "        clearInterval(timer);\n",
       "        embed_document(root);\n",
       "      } else if (document.readyState == \"complete\") {\n",
       "        attempts++;\n",
       "        if (attempts > 200) {\n",
       "          clearInterval(timer);\n",
       "          console.log(\"Bokeh: ERROR: Unable to run BokehJS code because BokehJS library is missing\");\n",
       "        }\n",
       "      }\n",
       "    }, 25, root)\n",
       "  }\n",
       "})(window);</script>"
      ],
      "text/plain": [
       "IntSlider(end=162397, name='Max Income slider', start=1730, step=5, value=162397)"
      ]
     },
     "execution_count": 153,
     "metadata": {
      "application/vnd.holoviews_exec.v0+json": {
       "id": "18224"
      }
     },
     "output_type": "execute_result"
    }
   ],
   "source": [
    "# Define Panel widgets\n",
    "max_income_slider = pn.widgets.IntSlider(name='Max Income slider', start=income_min, end=income_max, step=5, value=income_max)\n",
    "max_income_slider"
   ]
  },
  {
   "cell_type": "code",
   "execution_count": 154,
   "metadata": {
    "colab": {
     "base_uri": "https://localhost:8080/",
     "height": 59
    },
    "id": "a51JtXmjN0EE",
    "outputId": "47d592a0-1ab3-4121-ed45-844813fc90c7"
   },
   "outputs": [
    {
     "data": {},
     "metadata": {},
     "output_type": "display_data"
    },
    {
     "data": {
      "application/vnd.holoviews_exec.v0+json": "",
      "text/html": [
       "<div id='18226'>\n",
       "\n",
       "\n",
       "\n",
       "\n",
       "\n",
       "  <div class=\"bk-root\" id=\"31c21ddd-c70e-4392-ac69-edcffbd825a6\" data-root-id=\"18226\"></div>\n",
       "</div>\n",
       "<script type=\"application/javascript\">(function(root) {\n",
       "  function embed_document(root) {\n",
       "    var docs_json = {\"4b4e6f57-d189-4e38-aad4-37bf67516051\":{\"defs\":[{\"extends\":null,\"module\":null,\"name\":\"ReactiveHTML1\",\"overrides\":[],\"properties\":[]},{\"extends\":null,\"module\":null,\"name\":\"FlexBox1\",\"overrides\":[],\"properties\":[{\"default\":\"flex-start\",\"kind\":null,\"name\":\"align_content\"},{\"default\":\"flex-start\",\"kind\":null,\"name\":\"align_items\"},{\"default\":\"row\",\"kind\":null,\"name\":\"flex_direction\"},{\"default\":\"wrap\",\"kind\":null,\"name\":\"flex_wrap\"},{\"default\":\"flex-start\",\"kind\":null,\"name\":\"justify_content\"}]},{\"extends\":null,\"module\":null,\"name\":\"GridStack1\",\"overrides\":[],\"properties\":[{\"default\":\"warn\",\"kind\":null,\"name\":\"mode\"},{\"default\":null,\"kind\":null,\"name\":\"ncols\"},{\"default\":null,\"kind\":null,\"name\":\"nrows\"},{\"default\":true,\"kind\":null,\"name\":\"allow_resize\"},{\"default\":true,\"kind\":null,\"name\":\"allow_drag\"},{\"default\":[],\"kind\":null,\"name\":\"state\"}]},{\"extends\":null,\"module\":null,\"name\":\"click1\",\"overrides\":[],\"properties\":[{\"default\":\"\",\"kind\":null,\"name\":\"terminal_output\"},{\"default\":\"\",\"kind\":null,\"name\":\"debug_name\"},{\"default\":0,\"kind\":null,\"name\":\"clears\"}]},{\"extends\":null,\"module\":null,\"name\":\"TemplateActions1\",\"overrides\":[],\"properties\":[{\"default\":0,\"kind\":null,\"name\":\"open_modal\"},{\"default\":0,\"kind\":null,\"name\":\"close_modal\"}]},{\"extends\":null,\"module\":null,\"name\":\"MaterialTemplateActions1\",\"overrides\":[],\"properties\":[{\"default\":0,\"kind\":null,\"name\":\"open_modal\"},{\"default\":0,\"kind\":null,\"name\":\"close_modal\"}]}],\"roots\":{\"references\":[{\"attributes\":{\"client_comm_id\":\"73cb6bb173304925a6bc4fc69fcf77d9\",\"comm_id\":\"496c43ccde174acfab6160fde3143857\",\"plot_id\":\"18226\"},\"id\":\"18227\",\"type\":\"panel.models.comm_manager.CommManager\"},{\"attributes\":{\"active\":0,\"button_type\":\"success\",\"labels\":[\"0\",\"1\",\"2\"],\"margin\":[5,10,5,10]},\"id\":\"18226\",\"type\":\"RadioButtonGroup\"}],\"root_ids\":[\"18226\",\"18227\"]},\"title\":\"Bokeh Application\",\"version\":\"2.4.2\"}};\n",
       "    var render_items = [{\"docid\":\"4b4e6f57-d189-4e38-aad4-37bf67516051\",\"root_ids\":[\"18226\"],\"roots\":{\"18226\":\"31c21ddd-c70e-4392-ac69-edcffbd825a6\"}}];\n",
       "    root.Bokeh.embed.embed_items_notebook(docs_json, render_items);\n",
       "  }\n",
       "  if (root.Bokeh !== undefined && root.Bokeh.Panel !== undefined && ( root['Tabulator'] !== undefined)) {\n",
       "    embed_document(root);\n",
       "  } else {\n",
       "    var attempts = 0;\n",
       "    var timer = setInterval(function(root) {\n",
       "      if (root.Bokeh !== undefined && root.Bokeh.Panel !== undefined && (root['Tabulator'] !== undefined)) {\n",
       "        clearInterval(timer);\n",
       "        embed_document(root);\n",
       "      } else if (document.readyState == \"complete\") {\n",
       "        attempts++;\n",
       "        if (attempts > 200) {\n",
       "          clearInterval(timer);\n",
       "          console.log(\"Bokeh: ERROR: Unable to run BokehJS code because BokehJS library is missing\");\n",
       "        }\n",
       "      }\n",
       "    }, 25, root)\n",
       "  }\n",
       "})(window);</script>"
      ],
      "text/plain": [
       "RadioButtonGroup(button_type='success', name='Teen Home', options=[0, 1, 2], value=0)"
      ]
     },
     "execution_count": 154,
     "metadata": {
      "application/vnd.holoviews_exec.v0+json": {
       "id": "18226"
      }
     },
     "output_type": "execute_result"
    }
   ],
   "source": [
    "# Radio buttons for Tean Home\n",
    "yaxis_co2 = pn.widgets.RadioButtonGroup(\n",
    "    name='Teen Home', \n",
    "    options=list(df.Teenhome.unique()),\n",
    "    button_type='success'\n",
    ")\n",
    "yaxis_co2"
   ]
  },
  {
   "cell_type": "code",
   "execution_count": 155,
   "metadata": {
    "colab": {
     "base_uri": "https://localhost:8080/",
     "height": 77
    },
    "id": "wo_90phoCns6",
    "outputId": "8e967259-8268-4ba6-ccc3-b9dd151b0f5c"
   },
   "outputs": [
    {
     "data": {},
     "metadata": {},
     "output_type": "display_data"
    },
    {
     "data": {
      "application/vnd.holoviews_exec.v0+json": "",
      "text/html": [
       "<div id='18228'>\n",
       "\n",
       "\n",
       "\n",
       "\n",
       "\n",
       "  <div class=\"bk-root\" id=\"64ae149a-883f-4126-83b6-dee4694bfbda\" data-root-id=\"18228\"></div>\n",
       "</div>\n",
       "<script type=\"application/javascript\">(function(root) {\n",
       "  function embed_document(root) {\n",
       "    var docs_json = {\"bf245a48-6c55-4b8c-a925-a490466f7a49\":{\"defs\":[{\"extends\":null,\"module\":null,\"name\":\"ReactiveHTML1\",\"overrides\":[],\"properties\":[]},{\"extends\":null,\"module\":null,\"name\":\"FlexBox1\",\"overrides\":[],\"properties\":[{\"default\":\"flex-start\",\"kind\":null,\"name\":\"align_content\"},{\"default\":\"flex-start\",\"kind\":null,\"name\":\"align_items\"},{\"default\":\"row\",\"kind\":null,\"name\":\"flex_direction\"},{\"default\":\"wrap\",\"kind\":null,\"name\":\"flex_wrap\"},{\"default\":\"flex-start\",\"kind\":null,\"name\":\"justify_content\"}]},{\"extends\":null,\"module\":null,\"name\":\"GridStack1\",\"overrides\":[],\"properties\":[{\"default\":\"warn\",\"kind\":null,\"name\":\"mode\"},{\"default\":null,\"kind\":null,\"name\":\"ncols\"},{\"default\":null,\"kind\":null,\"name\":\"nrows\"},{\"default\":true,\"kind\":null,\"name\":\"allow_resize\"},{\"default\":true,\"kind\":null,\"name\":\"allow_drag\"},{\"default\":[],\"kind\":null,\"name\":\"state\"}]},{\"extends\":null,\"module\":null,\"name\":\"click1\",\"overrides\":[],\"properties\":[{\"default\":\"\",\"kind\":null,\"name\":\"terminal_output\"},{\"default\":\"\",\"kind\":null,\"name\":\"debug_name\"},{\"default\":0,\"kind\":null,\"name\":\"clears\"}]},{\"extends\":null,\"module\":null,\"name\":\"TemplateActions1\",\"overrides\":[],\"properties\":[{\"default\":0,\"kind\":null,\"name\":\"open_modal\"},{\"default\":0,\"kind\":null,\"name\":\"close_modal\"}]},{\"extends\":null,\"module\":null,\"name\":\"MaterialTemplateActions1\",\"overrides\":[],\"properties\":[{\"default\":0,\"kind\":null,\"name\":\"open_modal\"},{\"default\":0,\"kind\":null,\"name\":\"close_modal\"}]}],\"roots\":{\"references\":[{\"attributes\":{\"margin\":[5,10,5,10],\"options\":[\"NumDealsPurchases\",\"NumWebPurchases\",\"NumCatalogPurchases\",\"NumStorePurchases\"],\"value\":\"NumDealsPurchases\"},\"id\":\"18228\",\"type\":\"panel.models.widgets.CustomSelect\"},{\"attributes\":{\"client_comm_id\":\"a407237c790a4fadb63ce81050bc7f44\",\"comm_id\":\"2b528ae72bb5493fa08471c2e940aec8\",\"plot_id\":\"18228\"},\"id\":\"18229\",\"type\":\"panel.models.comm_manager.CommManager\"}],\"root_ids\":[\"18228\",\"18229\"]},\"title\":\"Bokeh Application\",\"version\":\"2.4.2\"}};\n",
       "    var render_items = [{\"docid\":\"bf245a48-6c55-4b8c-a925-a490466f7a49\",\"root_ids\":[\"18228\"],\"roots\":{\"18228\":\"64ae149a-883f-4126-83b6-dee4694bfbda\"}}];\n",
       "    root.Bokeh.embed.embed_items_notebook(docs_json, render_items);\n",
       "  }\n",
       "  if (root.Bokeh !== undefined && root.Bokeh.Panel !== undefined && ( root['Tabulator'] !== undefined)) {\n",
       "    embed_document(root);\n",
       "  } else {\n",
       "    var attempts = 0;\n",
       "    var timer = setInterval(function(root) {\n",
       "      if (root.Bokeh !== undefined && root.Bokeh.Panel !== undefined && (root['Tabulator'] !== undefined)) {\n",
       "        clearInterval(timer);\n",
       "        embed_document(root);\n",
       "      } else if (document.readyState == \"complete\") {\n",
       "        attempts++;\n",
       "        if (attempts > 200) {\n",
       "          clearInterval(timer);\n",
       "          console.log(\"Bokeh: ERROR: Unable to run BokehJS code because BokehJS library is missing\");\n",
       "        }\n",
       "      }\n",
       "    }, 25, root)\n",
       "  }\n",
       "})(window);</script>"
      ],
      "text/plain": [
       "Select(options=['NumDealsPurchases', ...], value='NumDealsPurchases')"
      ]
     },
     "execution_count": 155,
     "metadata": {
      "application/vnd.holoviews_exec.v0+json": {
       "id": "18228"
      }
     },
     "output_type": "execute_result"
    }
   ],
   "source": [
    "#Các kênh bán hàng\n",
    "sale_channel = [\"NumDealsPurchases\", \"NumWebPurchases\", \"NumCatalogPurchases\", \"NumStorePurchases\"]\n",
    "sale_combobox = pn.widgets.Select(options=sale_channel)\n",
    "\n",
    "sale_combobox"
   ]
  },
  {
   "cell_type": "code",
   "execution_count": 156,
   "metadata": {
    "colab": {
     "base_uri": "https://localhost:8080/"
    },
    "id": "ctNpGJhUCwjj",
    "outputId": "38600455-fc26-430e-a69a-8d28f7b4b0d4"
   },
   "outputs": [
    {
     "data": {
      "text/plain": [
       "array([0, 1, 2], dtype=int64)"
      ]
     },
     "execution_count": 156,
     "metadata": {},
     "output_type": "execute_result"
    }
   ],
   "source": [
    "childrent = data.Kidhome.unique()\n",
    "childrent"
   ]
  },
  {
   "cell_type": "code",
   "execution_count": 157,
   "metadata": {
    "colab": {
     "base_uri": "https://localhost:8080/",
     "height": 59
    },
    "id": "W286ejpTCsdj",
    "outputId": "ba08d5da-3cc1-4fbd-abce-80e03f388a99"
   },
   "outputs": [
    {
     "data": {},
     "metadata": {},
     "output_type": "display_data"
    },
    {
     "data": {
      "application/vnd.holoviews_exec.v0+json": "",
      "text/html": [
       "<div id='18230'>\n",
       "\n",
       "\n",
       "\n",
       "\n",
       "\n",
       "  <div class=\"bk-root\" id=\"48e9bfab-8180-4a57-8f3e-ec263a254ca8\" data-root-id=\"18230\"></div>\n",
       "</div>\n",
       "<script type=\"application/javascript\">(function(root) {\n",
       "  function embed_document(root) {\n",
       "    var docs_json = {\"bbca3ea3-5150-43bb-b9e8-83a49ff5a824\":{\"defs\":[{\"extends\":null,\"module\":null,\"name\":\"ReactiveHTML1\",\"overrides\":[],\"properties\":[]},{\"extends\":null,\"module\":null,\"name\":\"FlexBox1\",\"overrides\":[],\"properties\":[{\"default\":\"flex-start\",\"kind\":null,\"name\":\"align_content\"},{\"default\":\"flex-start\",\"kind\":null,\"name\":\"align_items\"},{\"default\":\"row\",\"kind\":null,\"name\":\"flex_direction\"},{\"default\":\"wrap\",\"kind\":null,\"name\":\"flex_wrap\"},{\"default\":\"flex-start\",\"kind\":null,\"name\":\"justify_content\"}]},{\"extends\":null,\"module\":null,\"name\":\"GridStack1\",\"overrides\":[],\"properties\":[{\"default\":\"warn\",\"kind\":null,\"name\":\"mode\"},{\"default\":null,\"kind\":null,\"name\":\"ncols\"},{\"default\":null,\"kind\":null,\"name\":\"nrows\"},{\"default\":true,\"kind\":null,\"name\":\"allow_resize\"},{\"default\":true,\"kind\":null,\"name\":\"allow_drag\"},{\"default\":[],\"kind\":null,\"name\":\"state\"}]},{\"extends\":null,\"module\":null,\"name\":\"click1\",\"overrides\":[],\"properties\":[{\"default\":\"\",\"kind\":null,\"name\":\"terminal_output\"},{\"default\":\"\",\"kind\":null,\"name\":\"debug_name\"},{\"default\":0,\"kind\":null,\"name\":\"clears\"}]},{\"extends\":null,\"module\":null,\"name\":\"TemplateActions1\",\"overrides\":[],\"properties\":[{\"default\":0,\"kind\":null,\"name\":\"open_modal\"},{\"default\":0,\"kind\":null,\"name\":\"close_modal\"}]},{\"extends\":null,\"module\":null,\"name\":\"MaterialTemplateActions1\",\"overrides\":[],\"properties\":[{\"default\":0,\"kind\":null,\"name\":\"open_modal\"},{\"default\":0,\"kind\":null,\"name\":\"close_modal\"}]}],\"roots\":{\"references\":[{\"attributes\":{\"active\":0,\"button_type\":\"success\",\"labels\":[\"0\",\"1\",\"2\"],\"margin\":[5,10,5,10]},\"id\":\"18230\",\"type\":\"RadioButtonGroup\"},{\"attributes\":{\"client_comm_id\":\"8af759a35d4544069282cf3a99665c91\",\"comm_id\":\"63f9ab6ede814b43a222919ff5709072\",\"plot_id\":\"18230\"},\"id\":\"18231\",\"type\":\"panel.models.comm_manager.CommManager\"}],\"root_ids\":[\"18230\",\"18231\"]},\"title\":\"Bokeh Application\",\"version\":\"2.4.2\"}};\n",
       "    var render_items = [{\"docid\":\"bbca3ea3-5150-43bb-b9e8-83a49ff5a824\",\"root_ids\":[\"18230\"],\"roots\":{\"18230\":\"48e9bfab-8180-4a57-8f3e-ec263a254ca8\"}}];\n",
       "    root.Bokeh.embed.embed_items_notebook(docs_json, render_items);\n",
       "  }\n",
       "  if (root.Bokeh !== undefined && root.Bokeh.Panel !== undefined && ( root['Tabulator'] !== undefined)) {\n",
       "    embed_document(root);\n",
       "  } else {\n",
       "    var attempts = 0;\n",
       "    var timer = setInterval(function(root) {\n",
       "      if (root.Bokeh !== undefined && root.Bokeh.Panel !== undefined && (root['Tabulator'] !== undefined)) {\n",
       "        clearInterval(timer);\n",
       "        embed_document(root);\n",
       "      } else if (document.readyState == \"complete\") {\n",
       "        attempts++;\n",
       "        if (attempts > 200) {\n",
       "          clearInterval(timer);\n",
       "          console.log(\"Bokeh: ERROR: Unable to run BokehJS code because BokehJS library is missing\");\n",
       "        }\n",
       "      }\n",
       "    }, 25, root)\n",
       "  }\n",
       "})(window);</script>"
      ],
      "text/plain": [
       "RadioButtonGroup(button_type='success', name='Số trẻ trong nhà', options=[0, 1, 2], value=0)"
      ]
     },
     "execution_count": 157,
     "metadata": {
      "application/vnd.holoviews_exec.v0+json": {
       "id": "18230"
      }
     },
     "output_type": "execute_result"
    }
   ],
   "source": [
    "childrent_radio_group = pn.widgets.RadioButtonGroup(\n",
    "    name='Số trẻ trong nhà', options=list(childrent), button_type='success')\n",
    "childrent_radio_group"
   ]
  },
  {
   "cell_type": "markdown",
   "metadata": {
    "id": "8nWQalnmC1Fp"
   },
   "source": [
    "Tạo RatioButtonGroup cho số Teenhome"
   ]
  },
  {
   "cell_type": "code",
   "execution_count": 158,
   "metadata": {
    "colab": {
     "base_uri": "https://localhost:8080/"
    },
    "id": "Ag4nR-M9C5va",
    "outputId": "9ec5f698-ccd4-475b-8422-e54191bbc7de"
   },
   "outputs": [
    {
     "data": {
      "text/plain": [
       "{'all': -1, '0': 0, '1': 1, '2': 2}"
      ]
     },
     "execution_count": 158,
     "metadata": {},
     "output_type": "execute_result"
    }
   ],
   "source": [
    "teen_home = {\"all\":-1}\n",
    "for th in data.Teenhome.unique():\n",
    "    teen_home[str(th)] = th\n",
    "teen_home"
   ]
  },
  {
   "cell_type": "code",
   "execution_count": 159,
   "metadata": {
    "colab": {
     "base_uri": "https://localhost:8080/",
     "height": 59
    },
    "id": "BsOVK1zYC7sj",
    "outputId": "afbd41bc-8d10-42a4-92d5-c06450ba0a17"
   },
   "outputs": [
    {
     "data": {},
     "metadata": {},
     "output_type": "display_data"
    },
    {
     "data": {
      "application/vnd.holoviews_exec.v0+json": "",
      "text/html": [
       "<div id='18232'>\n",
       "\n",
       "\n",
       "\n",
       "\n",
       "\n",
       "  <div class=\"bk-root\" id=\"599dab4e-9db2-40fc-b7d9-71b0fbe049db\" data-root-id=\"18232\"></div>\n",
       "</div>\n",
       "<script type=\"application/javascript\">(function(root) {\n",
       "  function embed_document(root) {\n",
       "    var docs_json = {\"b947b60a-a83b-435f-8daf-5a70754a87c3\":{\"defs\":[{\"extends\":null,\"module\":null,\"name\":\"ReactiveHTML1\",\"overrides\":[],\"properties\":[]},{\"extends\":null,\"module\":null,\"name\":\"FlexBox1\",\"overrides\":[],\"properties\":[{\"default\":\"flex-start\",\"kind\":null,\"name\":\"align_content\"},{\"default\":\"flex-start\",\"kind\":null,\"name\":\"align_items\"},{\"default\":\"row\",\"kind\":null,\"name\":\"flex_direction\"},{\"default\":\"wrap\",\"kind\":null,\"name\":\"flex_wrap\"},{\"default\":\"flex-start\",\"kind\":null,\"name\":\"justify_content\"}]},{\"extends\":null,\"module\":null,\"name\":\"GridStack1\",\"overrides\":[],\"properties\":[{\"default\":\"warn\",\"kind\":null,\"name\":\"mode\"},{\"default\":null,\"kind\":null,\"name\":\"ncols\"},{\"default\":null,\"kind\":null,\"name\":\"nrows\"},{\"default\":true,\"kind\":null,\"name\":\"allow_resize\"},{\"default\":true,\"kind\":null,\"name\":\"allow_drag\"},{\"default\":[],\"kind\":null,\"name\":\"state\"}]},{\"extends\":null,\"module\":null,\"name\":\"click1\",\"overrides\":[],\"properties\":[{\"default\":\"\",\"kind\":null,\"name\":\"terminal_output\"},{\"default\":\"\",\"kind\":null,\"name\":\"debug_name\"},{\"default\":0,\"kind\":null,\"name\":\"clears\"}]},{\"extends\":null,\"module\":null,\"name\":\"TemplateActions1\",\"overrides\":[],\"properties\":[{\"default\":0,\"kind\":null,\"name\":\"open_modal\"},{\"default\":0,\"kind\":null,\"name\":\"close_modal\"}]},{\"extends\":null,\"module\":null,\"name\":\"MaterialTemplateActions1\",\"overrides\":[],\"properties\":[{\"default\":0,\"kind\":null,\"name\":\"open_modal\"},{\"default\":0,\"kind\":null,\"name\":\"close_modal\"}]}],\"roots\":{\"references\":[{\"attributes\":{\"active\":0,\"button_type\":\"success\",\"labels\":[\"all\",\"0\",\"1\",\"2\"],\"margin\":[5,10,5,10]},\"id\":\"18232\",\"type\":\"RadioButtonGroup\"},{\"attributes\":{\"client_comm_id\":\"f5aa08a998914cccbfec174ec896215d\",\"comm_id\":\"edbc37af67184b198db9ae10f0ce90dd\",\"plot_id\":\"18232\"},\"id\":\"18233\",\"type\":\"panel.models.comm_manager.CommManager\"}],\"root_ids\":[\"18232\",\"18233\"]},\"title\":\"Bokeh Application\",\"version\":\"2.4.2\"}};\n",
       "    var render_items = [{\"docid\":\"b947b60a-a83b-435f-8daf-5a70754a87c3\",\"root_ids\":[\"18232\"],\"roots\":{\"18232\":\"599dab4e-9db2-40fc-b7d9-71b0fbe049db\"}}];\n",
       "    root.Bokeh.embed.embed_items_notebook(docs_json, render_items);\n",
       "  }\n",
       "  if (root.Bokeh !== undefined && root.Bokeh.Panel !== undefined && ( root['Tabulator'] !== undefined)) {\n",
       "    embed_document(root);\n",
       "  } else {\n",
       "    var attempts = 0;\n",
       "    var timer = setInterval(function(root) {\n",
       "      if (root.Bokeh !== undefined && root.Bokeh.Panel !== undefined && (root['Tabulator'] !== undefined)) {\n",
       "        clearInterval(timer);\n",
       "        embed_document(root);\n",
       "      } else if (document.readyState == \"complete\") {\n",
       "        attempts++;\n",
       "        if (attempts > 200) {\n",
       "          clearInterval(timer);\n",
       "          console.log(\"Bokeh: ERROR: Unable to run BokehJS code because BokehJS library is missing\");\n",
       "        }\n",
       "      }\n",
       "    }, 25, root)\n",
       "  }\n",
       "})(window);</script>"
      ],
      "text/plain": [
       "RadioButtonGroup(button_type='success', name='Số thiếu niên trong nhà', options={'all': -1, '0': 0, ...}, value=-1)"
      ]
     },
     "execution_count": 159,
     "metadata": {
      "application/vnd.holoviews_exec.v0+json": {
       "id": "18232"
      }
     },
     "output_type": "execute_result"
    }
   ],
   "source": [
    "teen_home_radio_group = pn.widgets.RadioButtonGroup(\n",
    "    name='Số thiếu niên trong nhà', options=teen_home, button_type='success')\n",
    "teen_home_radio_group"
   ]
  },
  {
   "cell_type": "markdown",
   "metadata": {
    "id": "Gs38K40oDter"
   },
   "source": [
    "Tạo Char Education"
   ]
  },
  {
   "cell_type": "code",
   "execution_count": 160,
   "metadata": {
    "colab": {
     "base_uri": "https://localhost:8080/",
     "height": 206
    },
    "id": "OkQjWHefD9n5",
    "outputId": "e3666570-23d7-49a1-91ef-7521116c2659"
   },
   "outputs": [
    {
     "data": {},
     "metadata": {},
     "output_type": "display_data"
    },
    {
     "data": {
      "application/vnd.holoviews_exec.v0+json": "",
      "text/html": [
       "<div id='18234'>\n",
       "\n",
       "\n",
       "\n",
       "\n",
       "\n",
       "  <div class=\"bk-root\" id=\"25b9b81f-b49d-44b2-a812-144f98490fa6\" data-root-id=\"18234\"></div>\n",
       "</div>\n",
       "<script type=\"application/javascript\">(function(root) {\n",
       "  function embed_document(root) {\n",
       "    var docs_json = {\"850a81f3-71ea-4a3d-a0d1-ff33f17b07dd\":{\"defs\":[{\"extends\":null,\"module\":null,\"name\":\"ReactiveHTML1\",\"overrides\":[],\"properties\":[]},{\"extends\":null,\"module\":null,\"name\":\"FlexBox1\",\"overrides\":[],\"properties\":[{\"default\":\"flex-start\",\"kind\":null,\"name\":\"align_content\"},{\"default\":\"flex-start\",\"kind\":null,\"name\":\"align_items\"},{\"default\":\"row\",\"kind\":null,\"name\":\"flex_direction\"},{\"default\":\"wrap\",\"kind\":null,\"name\":\"flex_wrap\"},{\"default\":\"flex-start\",\"kind\":null,\"name\":\"justify_content\"}]},{\"extends\":null,\"module\":null,\"name\":\"GridStack1\",\"overrides\":[],\"properties\":[{\"default\":\"warn\",\"kind\":null,\"name\":\"mode\"},{\"default\":null,\"kind\":null,\"name\":\"ncols\"},{\"default\":null,\"kind\":null,\"name\":\"nrows\"},{\"default\":true,\"kind\":null,\"name\":\"allow_resize\"},{\"default\":true,\"kind\":null,\"name\":\"allow_drag\"},{\"default\":[],\"kind\":null,\"name\":\"state\"}]},{\"extends\":null,\"module\":null,\"name\":\"click1\",\"overrides\":[],\"properties\":[{\"default\":\"\",\"kind\":null,\"name\":\"terminal_output\"},{\"default\":\"\",\"kind\":null,\"name\":\"debug_name\"},{\"default\":0,\"kind\":null,\"name\":\"clears\"}]},{\"extends\":null,\"module\":null,\"name\":\"TemplateActions1\",\"overrides\":[],\"properties\":[{\"default\":0,\"kind\":null,\"name\":\"open_modal\"},{\"default\":0,\"kind\":null,\"name\":\"close_modal\"}]},{\"extends\":null,\"module\":null,\"name\":\"MaterialTemplateActions1\",\"overrides\":[],\"properties\":[{\"default\":0,\"kind\":null,\"name\":\"open_modal\"},{\"default\":0,\"kind\":null,\"name\":\"close_modal\"}]}],\"roots\":{\"references\":[{\"attributes\":{\"children\":[{\"id\":\"18238\"},{\"id\":\"18239\"}],\"margin\":[0,0,0,0],\"name\":\"Column27229\"},\"id\":\"18237\",\"type\":\"Column\"},{\"attributes\":{\"children\":[{\"id\":\"18235\"}],\"margin\":[0,0,0,0],\"name\":\"Row27270\"},\"id\":\"18234\",\"type\":\"Row\"},{\"attributes\":{\"children\":[{\"id\":\"18236\"},{\"id\":\"18241\"}],\"margin\":[0,0,0,0],\"name\":\"Column27269\"},\"id\":\"18235\",\"type\":\"Column\"},{\"attributes\":{\"children\":[{\"id\":\"18237\"},{\"id\":\"18240\"}],\"margin\":[0,0,0,0],\"name\":\"Row27268\"},\"id\":\"18236\",\"type\":\"Row\"},{\"attributes\":{\"end\":162397,\"margin\":[5,10,5,10],\"start\":1730,\"step\":5,\"title\":\"Max Income slider\",\"value\":162397},\"id\":\"18238\",\"type\":\"Slider\"},{\"attributes\":{\"margin\":[5,5,5,5],\"name\":\"HSpacer27267\",\"sizing_mode\":\"stretch_width\"},\"id\":\"18240\",\"type\":\"Spacer\"},{\"attributes\":{\"end\":162397,\"margin\":[5,10,5,10],\"start\":1730,\"step\":5,\"title\":\"Min Income slider\",\"value\":1730},\"id\":\"18239\",\"type\":\"Slider\"},{\"attributes\":{\"client_comm_id\":\"f3a5bfc76a5c47e6bbcf30759e491380\",\"comm_id\":\"918e857bcfe7409488ad296c11ab58ff\",\"plot_id\":\"18234\"},\"id\":\"18243\",\"type\":\"panel.models.comm_manager.CommManager\"},{\"attributes\":{\"margin\":[5,5,5,5],\"name\":\"DataFrame27265\",\"text\":\"&lt;table border=&quot;0&quot; class=&quot;dataframe panel-df&quot;&gt;\\n  &lt;thead&gt;\\n    &lt;tr style=&quot;text-align: right;&quot;&gt;\\n      &lt;th&gt;&lt;/th&gt;\\n      &lt;th&gt;Education&lt;/th&gt;\\n      &lt;th&gt;Income&lt;/th&gt;\\n    &lt;/tr&gt;\\n  &lt;/thead&gt;\\n  &lt;tbody&gt;\\n    &lt;tr&gt;\\n      &lt;th&gt;0&lt;/th&gt;\\n      &lt;td&gt;2n Cycle&lt;/td&gt;\\n      &lt;td&gt;9526638.0&lt;/td&gt;\\n    &lt;/tr&gt;\\n    &lt;tr&gt;\\n      &lt;th&gt;1&lt;/th&gt;\\n      &lt;td&gt;Basic&lt;/td&gt;\\n      &lt;td&gt;1096538.0&lt;/td&gt;\\n    &lt;/tr&gt;\\n    &lt;tr&gt;\\n      &lt;th&gt;2&lt;/th&gt;\\n      &lt;td&gt;Graduation&lt;/td&gt;\\n      &lt;td&gt;58169271.0&lt;/td&gt;\\n    &lt;/tr&gt;\\n    &lt;tr&gt;\\n      &lt;th&gt;3&lt;/th&gt;\\n      &lt;td&gt;Master&lt;/td&gt;\\n      &lt;td&gt;19314900.0&lt;/td&gt;\\n    &lt;/tr&gt;\\n    &lt;tr&gt;\\n      &lt;th&gt;4&lt;/th&gt;\\n      &lt;td&gt;PhD&lt;/td&gt;\\n      &lt;td&gt;27005896.0&lt;/td&gt;\\n    &lt;/tr&gt;\\n  &lt;/tbody&gt;\\n&lt;/table&gt;\"},\"id\":\"18242\",\"type\":\"panel.models.markup.HTML\"},{\"attributes\":{\"children\":[{\"id\":\"18242\"}],\"margin\":[0,0,0,0],\"name\":\"Row27234\"},\"id\":\"18241\",\"type\":\"Row\"}],\"root_ids\":[\"18234\",\"18243\"]},\"title\":\"Bokeh Application\",\"version\":\"2.4.2\"}};\n",
       "    var render_items = [{\"docid\":\"850a81f3-71ea-4a3d-a0d1-ff33f17b07dd\",\"root_ids\":[\"18234\"],\"roots\":{\"18234\":\"25b9b81f-b49d-44b2-a812-144f98490fa6\"}}];\n",
       "    root.Bokeh.embed.embed_items_notebook(docs_json, render_items);\n",
       "  }\n",
       "  if (root.Bokeh !== undefined && root.Bokeh.Panel !== undefined && ( root['Tabulator'] !== undefined)) {\n",
       "    embed_document(root);\n",
       "  } else {\n",
       "    var attempts = 0;\n",
       "    var timer = setInterval(function(root) {\n",
       "      if (root.Bokeh !== undefined && root.Bokeh.Panel !== undefined && (root['Tabulator'] !== undefined)) {\n",
       "        clearInterval(timer);\n",
       "        embed_document(root);\n",
       "      } else if (document.readyState == \"complete\") {\n",
       "        attempts++;\n",
       "        if (attempts > 200) {\n",
       "          clearInterval(timer);\n",
       "          console.log(\"Bokeh: ERROR: Unable to run BokehJS code because BokehJS library is missing\");\n",
       "        }\n",
       "      }\n",
       "    }, 25, root)\n",
       "  }\n",
       "})(window);</script>"
      ],
      "text/plain": [
       "<hvplot.interactive.Interactive at 0x15df7d1aa40>"
      ]
     },
     "execution_count": 160,
     "metadata": {
      "application/vnd.holoviews_exec.v0+json": {
       "id": "18234"
      }
     },
     "output_type": "execute_result"
    }
   ],
   "source": [
    "edu_data = ( \n",
    "    idf[(idf.Income <= max_income_slider) & \n",
    "        (idf.Income >= min_income_slider)]\n",
    "    .groupby(['Education'])['Income'].sum()\n",
    "    .to_frame()\n",
    "    .reset_index()\n",
    "    # .sort_values(by='year')  \n",
    "    .reset_index(drop=True)\n",
    ")\n",
    "edu_data"
   ]
  },
  {
   "cell_type": "code",
   "execution_count": 161,
   "metadata": {
    "colab": {
     "base_uri": "https://localhost:8080/",
     "height": 17
    },
    "id": "R4HH6ufpEmYk",
    "outputId": "c7029a6d-18b0-41a7-cf42-a23d1b94c826"
   },
   "outputs": [
    {
     "data": {},
     "metadata": {},
     "output_type": "display_data"
    },
    {
     "data": {},
     "metadata": {},
     "output_type": "display_data"
    },
    {
     "data": {
      "application/vnd.holoviews_exec.v0+json": "",
      "text/html": [
       "<div id='18244'>\n",
       "\n",
       "\n",
       "\n",
       "\n",
       "\n",
       "  <div class=\"bk-root\" id=\"c022d193-5dbe-46bc-96c9-dbffca8463a9\" data-root-id=\"18244\"></div>\n",
       "</div>\n",
       "<script type=\"application/javascript\">(function(root) {\n",
       "  function embed_document(root) {\n",
       "    var docs_json = {\"0e519797-e48e-4b5d-b49a-2932ace8317e\":{\"defs\":[{\"extends\":null,\"module\":null,\"name\":\"ReactiveHTML1\",\"overrides\":[],\"properties\":[]},{\"extends\":null,\"module\":null,\"name\":\"FlexBox1\",\"overrides\":[],\"properties\":[{\"default\":\"flex-start\",\"kind\":null,\"name\":\"align_content\"},{\"default\":\"flex-start\",\"kind\":null,\"name\":\"align_items\"},{\"default\":\"row\",\"kind\":null,\"name\":\"flex_direction\"},{\"default\":\"wrap\",\"kind\":null,\"name\":\"flex_wrap\"},{\"default\":\"flex-start\",\"kind\":null,\"name\":\"justify_content\"}]},{\"extends\":null,\"module\":null,\"name\":\"GridStack1\",\"overrides\":[],\"properties\":[{\"default\":\"warn\",\"kind\":null,\"name\":\"mode\"},{\"default\":null,\"kind\":null,\"name\":\"ncols\"},{\"default\":null,\"kind\":null,\"name\":\"nrows\"},{\"default\":true,\"kind\":null,\"name\":\"allow_resize\"},{\"default\":true,\"kind\":null,\"name\":\"allow_drag\"},{\"default\":[],\"kind\":null,\"name\":\"state\"}]},{\"extends\":null,\"module\":null,\"name\":\"click1\",\"overrides\":[],\"properties\":[{\"default\":\"\",\"kind\":null,\"name\":\"terminal_output\"},{\"default\":\"\",\"kind\":null,\"name\":\"debug_name\"},{\"default\":0,\"kind\":null,\"name\":\"clears\"}]},{\"extends\":null,\"module\":null,\"name\":\"TemplateActions1\",\"overrides\":[],\"properties\":[{\"default\":0,\"kind\":null,\"name\":\"open_modal\"},{\"default\":0,\"kind\":null,\"name\":\"close_modal\"}]},{\"extends\":null,\"module\":null,\"name\":\"MaterialTemplateActions1\",\"overrides\":[],\"properties\":[{\"default\":0,\"kind\":null,\"name\":\"open_modal\"},{\"default\":0,\"kind\":null,\"name\":\"close_modal\"}]}],\"roots\":{\"references\":[{\"attributes\":{\"children\":[{\"id\":\"18248\"},{\"id\":\"18249\"}],\"margin\":[0,0,0,0],\"name\":\"Column27377\"},\"id\":\"18247\",\"type\":\"Column\"},{\"attributes\":{\"children\":[{\"id\":\"18255\"}],\"margin\":[0,0,0,0],\"name\":\"Row27382\"},\"id\":\"18251\",\"type\":\"Row\"},{\"attributes\":{},\"id\":\"18298\",\"type\":\"AllLabels\"},{\"attributes\":{\"fill_alpha\":{\"value\":0.1},\"fill_color\":{\"value\":\"#30a2da\"},\"hatch_alpha\":{\"value\":0.1},\"hatch_color\":{\"value\":\"#30a2da\"},\"line_alpha\":{\"value\":0.1},\"line_width\":{\"value\":2},\"top\":{\"field\":\"Income\"},\"width\":{\"value\":0.8},\"x\":{\"field\":\"Education\"}},\"id\":\"18288\",\"type\":\"VBar\"},{\"attributes\":{\"end\":162397,\"margin\":[5,10,5,10],\"start\":1730,\"step\":5,\"title\":\"Min Income slider\",\"value\":1730},\"id\":\"18249\",\"type\":\"Slider\"},{\"attributes\":{},\"id\":\"18275\",\"type\":\"ResetTool\"},{\"attributes\":{},\"id\":\"18265\",\"type\":\"CategoricalTicker\"},{\"attributes\":{},\"id\":\"18262\",\"type\":\"LinearScale\"},{\"attributes\":{\"client_comm_id\":\"51cdc2ab28cc450b957670988584e3ea\",\"comm_id\":\"d33fd7e980e14cf9984333b0ca4cc230\",\"plot_id\":\"18244\"},\"id\":\"18349\",\"type\":\"panel.models.comm_manager.CommManager\"},{\"attributes\":{\"children\":[{\"id\":\"18245\"}],\"margin\":[0,0,0,0],\"name\":\"Row27495\"},\"id\":\"18244\",\"type\":\"Row\"},{\"attributes\":{\"axis\":{\"id\":\"18264\"},\"coordinates\":null,\"grid_line_color\":null,\"group\":null,\"ticker\":null},\"id\":\"18266\",\"type\":\"Grid\"},{\"attributes\":{},\"id\":\"18306\",\"type\":\"UnionRenderers\"},{\"attributes\":{\"bottom_units\":\"screen\",\"coordinates\":null,\"fill_alpha\":0.5,\"fill_color\":\"lightgrey\",\"group\":null,\"left_units\":\"screen\",\"level\":\"overlay\",\"line_alpha\":1.0,\"line_color\":\"black\",\"line_dash\":[4,4],\"line_width\":2,\"right_units\":\"screen\",\"syncable\":false,\"top_units\":\"screen\"},\"id\":\"18276\",\"type\":\"BoxAnnotation\"},{\"attributes\":{\"tools\":[{\"id\":\"18254\"},{\"id\":\"18271\"},{\"id\":\"18272\"},{\"id\":\"18273\"},{\"id\":\"18274\"},{\"id\":\"18275\"}]},\"id\":\"18277\",\"type\":\"Toolbar\"},{\"attributes\":{},\"id\":\"18260\",\"type\":\"CategoricalScale\"},{\"attributes\":{\"overlay\":{\"id\":\"18276\"}},\"id\":\"18274\",\"type\":\"BoxZoomTool\"},{\"attributes\":{\"coordinates\":null,\"group\":null,\"text\":\"Thu nh\\u1eadp theo h\\u1ecdc v\\u1ea5n\",\"text_color\":\"black\",\"text_font_size\":\"12pt\"},\"id\":\"18256\",\"type\":\"Title\"},{\"attributes\":{\"factors\":[\"2n Cycle\",\"Basic\",\"Graduation\",\"Master\",\"PhD\"],\"tags\":[[[\"Education\",\"Education\",null]]]},\"id\":\"18252\",\"type\":\"FactorRange\"},{\"attributes\":{},\"id\":\"18285\",\"type\":\"Selection\"},{\"attributes\":{\"children\":[{\"id\":\"18247\"},{\"id\":\"18250\"}],\"margin\":[0,0,0,0],\"name\":\"Row27493\"},\"id\":\"18246\",\"type\":\"Row\"},{\"attributes\":{\"fill_alpha\":{\"value\":0.2},\"fill_color\":{\"value\":\"#30a2da\"},\"hatch_alpha\":{\"value\":0.2},\"hatch_color\":{\"value\":\"#30a2da\"},\"line_alpha\":{\"value\":0.2},\"line_width\":{\"value\":2},\"top\":{\"field\":\"Income\"},\"width\":{\"value\":0.8},\"x\":{\"field\":\"Education\"}},\"id\":\"18289\",\"type\":\"VBar\"},{\"attributes\":{\"margin\":[5,5,5,5],\"name\":\"HSpacer27492\",\"sizing_mode\":\"stretch_width\"},\"id\":\"18250\",\"type\":\"Spacer\"},{\"attributes\":{\"axis_label\":\"Education\",\"coordinates\":null,\"formatter\":{\"id\":\"18294\"},\"group\":null,\"major_label_orientation\":0.7853981633974483,\"major_label_policy\":{\"id\":\"18295\"},\"ticker\":{\"id\":\"18265\"}},\"id\":\"18264\",\"type\":\"CategoricalAxis\"},{\"attributes\":{\"source\":{\"id\":\"18284\"}},\"id\":\"18291\",\"type\":\"CDSView\"},{\"attributes\":{},\"id\":\"18295\",\"type\":\"AllLabels\"},{\"attributes\":{\"bottom\":{\"value\":0},\"fill_alpha\":{\"value\":1.0},\"fill_color\":{\"value\":\"#30a2da\"},\"hatch_alpha\":{\"value\":1.0},\"hatch_color\":{\"value\":\"#30a2da\"},\"hatch_scale\":{\"value\":12.0},\"hatch_weight\":{\"value\":1.0},\"line_alpha\":{\"value\":1.0},\"line_cap\":{\"value\":\"butt\"},\"line_color\":{\"value\":\"black\"},\"line_dash\":{\"value\":[]},\"line_dash_offset\":{\"value\":0},\"line_join\":{\"value\":\"bevel\"},\"line_width\":{\"value\":2},\"top\":{\"field\":\"Income\"},\"width\":{\"value\":0.8},\"x\":{\"field\":\"Education\"}},\"id\":\"18292\",\"type\":\"VBar\"},{\"attributes\":{\"end\":63876544.3,\"reset_end\":63876544.3,\"reset_start\":0.0,\"tags\":[[[\"Income\",\"Income\",null]]]},\"id\":\"18253\",\"type\":\"Range1d\"},{\"attributes\":{},\"id\":\"18297\",\"type\":\"BasicTickFormatter\"},{\"attributes\":{},\"id\":\"18273\",\"type\":\"WheelZoomTool\"},{\"attributes\":{\"axis\":{\"id\":\"18267\"},\"coordinates\":null,\"dimension\":1,\"grid_line_color\":null,\"group\":null,\"ticker\":null},\"id\":\"18270\",\"type\":\"Grid\"},{\"attributes\":{\"below\":[{\"id\":\"18264\"}],\"center\":[{\"id\":\"18266\"},{\"id\":\"18270\"}],\"height\":300,\"left\":[{\"id\":\"18267\"}],\"margin\":[5,5,5,5],\"min_border_bottom\":10,\"min_border_left\":10,\"min_border_right\":10,\"min_border_top\":10,\"renderers\":[{\"id\":\"18290\"}],\"sizing_mode\":\"fixed\",\"title\":{\"id\":\"18256\"},\"toolbar\":{\"id\":\"18277\"},\"width\":700,\"x_range\":{\"id\":\"18252\"},\"x_scale\":{\"id\":\"18260\"},\"y_range\":{\"id\":\"18253\"},\"y_scale\":{\"id\":\"18262\"}},\"id\":\"18255\",\"subtype\":\"Figure\",\"type\":\"Plot\"},{\"attributes\":{\"callback\":null,\"renderers\":[{\"id\":\"18290\"}],\"tags\":[\"hv_created\"],\"tooltips\":[[\"Education\",\"@{Education}\"],[\"Income\",\"@{Income}\"]]},\"id\":\"18254\",\"type\":\"HoverTool\"},{\"attributes\":{},\"id\":\"18294\",\"type\":\"CategoricalTickFormatter\"},{\"attributes\":{\"data\":{\"Education\":[\"2n Cycle\",\"Basic\",\"Graduation\",\"Master\",\"PhD\"],\"Income\":{\"__ndarray__\":\"AAAAwK0rYkEAAAAAWrswQQAAALi9vItBAAAAQI1rckEAAACAPMF5QQ==\",\"dtype\":\"float64\",\"order\":\"little\",\"shape\":[5]}},\"selected\":{\"id\":\"18285\"},\"selection_policy\":{\"id\":\"18306\"}},\"id\":\"18284\",\"type\":\"ColumnDataSource\"},{\"attributes\":{},\"id\":\"18271\",\"type\":\"SaveTool\"},{\"attributes\":{\"axis_label\":\"Income\",\"coordinates\":null,\"formatter\":{\"id\":\"18297\"},\"group\":null,\"major_label_policy\":{\"id\":\"18298\"},\"ticker\":{\"id\":\"18268\"}},\"id\":\"18267\",\"type\":\"LinearAxis\"},{\"attributes\":{\"end\":162397,\"margin\":[5,10,5,10],\"start\":1730,\"step\":5,\"title\":\"Max Income slider\",\"value\":162397},\"id\":\"18248\",\"type\":\"Slider\"},{\"attributes\":{},\"id\":\"18268\",\"type\":\"BasicTicker\"},{\"attributes\":{\"children\":[{\"id\":\"18246\"},{\"id\":\"18251\"}],\"margin\":[0,0,0,0],\"name\":\"Column27494\"},\"id\":\"18245\",\"type\":\"Column\"},{\"attributes\":{},\"id\":\"18272\",\"type\":\"PanTool\"},{\"attributes\":{\"coordinates\":null,\"data_source\":{\"id\":\"18284\"},\"glyph\":{\"id\":\"18287\"},\"group\":null,\"hover_glyph\":null,\"muted_glyph\":{\"id\":\"18289\"},\"nonselection_glyph\":{\"id\":\"18288\"},\"selection_glyph\":{\"id\":\"18292\"},\"view\":{\"id\":\"18291\"}},\"id\":\"18290\",\"type\":\"GlyphRenderer\"},{\"attributes\":{\"fill_color\":{\"value\":\"#30a2da\"},\"hatch_color\":{\"value\":\"#30a2da\"},\"line_width\":{\"value\":2},\"top\":{\"field\":\"Income\"},\"width\":{\"value\":0.8},\"x\":{\"field\":\"Education\"}},\"id\":\"18287\",\"type\":\"VBar\"}],\"root_ids\":[\"18244\",\"18349\"]},\"title\":\"Bokeh Application\",\"version\":\"2.4.2\"}};\n",
       "    var render_items = [{\"docid\":\"0e519797-e48e-4b5d-b49a-2932ace8317e\",\"root_ids\":[\"18244\"],\"roots\":{\"18244\":\"c022d193-5dbe-46bc-96c9-dbffca8463a9\"}}];\n",
       "    root.Bokeh.embed.embed_items_notebook(docs_json, render_items);\n",
       "  }\n",
       "  if (root.Bokeh !== undefined && root.Bokeh.Panel !== undefined && ( root['Tabulator'] !== undefined)) {\n",
       "    embed_document(root);\n",
       "  } else {\n",
       "    var attempts = 0;\n",
       "    var timer = setInterval(function(root) {\n",
       "      if (root.Bokeh !== undefined && root.Bokeh.Panel !== undefined && (root['Tabulator'] !== undefined)) {\n",
       "        clearInterval(timer);\n",
       "        embed_document(root);\n",
       "      } else if (document.readyState == \"complete\") {\n",
       "        attempts++;\n",
       "        if (attempts > 200) {\n",
       "          clearInterval(timer);\n",
       "          console.log(\"Bokeh: ERROR: Unable to run BokehJS code because BokehJS library is missing\");\n",
       "        }\n",
       "      }\n",
       "    }, 25, root)\n",
       "  }\n",
       "})(window);</script>"
      ],
      "text/plain": [
       "<hvplot.interactive.Interactive at 0x15df7dc3940>"
      ]
     },
     "execution_count": 161,
     "metadata": {
      "application/vnd.holoviews_exec.v0+json": {
       "id": "18244"
      }
     },
     "output_type": "execute_result"
    }
   ],
   "source": [
    "edu_plot = edu_data.hvplot(kind='bar', x='Education', y='Income',line_width=2, title=\"Thu nhập theo học vấn\",rot=45)\n",
    "edu_plot"
   ]
  },
  {
   "cell_type": "code",
   "execution_count": 162,
   "metadata": {},
   "outputs": [
    {
     "data": {},
     "metadata": {},
     "output_type": "display_data"
    },
    {
     "data": {
      "application/vnd.holoviews_exec.v0+json": "",
      "text/html": [
       "<div id='18400'>\n",
       "\n",
       "\n",
       "\n",
       "\n",
       "\n",
       "  <div class=\"bk-root\" id=\"1fda9060-f71b-45e0-a7f6-f8de0fa53a49\" data-root-id=\"18400\"></div>\n",
       "</div>\n",
       "<script type=\"application/javascript\">(function(root) {\n",
       "  function embed_document(root) {\n",
       "    var docs_json = {\"df2aec3f-36d1-4422-a792-6a9384c48421\":{\"defs\":[{\"extends\":null,\"module\":null,\"name\":\"ReactiveHTML1\",\"overrides\":[],\"properties\":[]},{\"extends\":null,\"module\":null,\"name\":\"FlexBox1\",\"overrides\":[],\"properties\":[{\"default\":\"flex-start\",\"kind\":null,\"name\":\"align_content\"},{\"default\":\"flex-start\",\"kind\":null,\"name\":\"align_items\"},{\"default\":\"row\",\"kind\":null,\"name\":\"flex_direction\"},{\"default\":\"wrap\",\"kind\":null,\"name\":\"flex_wrap\"},{\"default\":\"flex-start\",\"kind\":null,\"name\":\"justify_content\"}]},{\"extends\":null,\"module\":null,\"name\":\"GridStack1\",\"overrides\":[],\"properties\":[{\"default\":\"warn\",\"kind\":null,\"name\":\"mode\"},{\"default\":null,\"kind\":null,\"name\":\"ncols\"},{\"default\":null,\"kind\":null,\"name\":\"nrows\"},{\"default\":true,\"kind\":null,\"name\":\"allow_resize\"},{\"default\":true,\"kind\":null,\"name\":\"allow_drag\"},{\"default\":[],\"kind\":null,\"name\":\"state\"}]},{\"extends\":null,\"module\":null,\"name\":\"click1\",\"overrides\":[],\"properties\":[{\"default\":\"\",\"kind\":null,\"name\":\"terminal_output\"},{\"default\":\"\",\"kind\":null,\"name\":\"debug_name\"},{\"default\":0,\"kind\":null,\"name\":\"clears\"}]},{\"extends\":null,\"module\":null,\"name\":\"TemplateActions1\",\"overrides\":[],\"properties\":[{\"default\":0,\"kind\":null,\"name\":\"open_modal\"},{\"default\":0,\"kind\":null,\"name\":\"close_modal\"}]},{\"extends\":null,\"module\":null,\"name\":\"MaterialTemplateActions1\",\"overrides\":[],\"properties\":[{\"default\":0,\"kind\":null,\"name\":\"open_modal\"},{\"default\":0,\"kind\":null,\"name\":\"close_modal\"}]}],\"roots\":{\"references\":[{\"attributes\":{\"end\":162397,\"margin\":[5,10,5,10],\"start\":1730,\"step\":5,\"title\":\"Min Income slider\",\"value\":1730},\"id\":\"18405\",\"type\":\"Slider\"},{\"attributes\":{\"children\":[{\"id\":\"18402\"},{\"id\":\"18407\"}],\"margin\":[0,0,0,0],\"name\":\"Column27891\"},\"id\":\"18401\",\"type\":\"Column\"},{\"attributes\":{\"children\":[{\"id\":\"18401\"}],\"margin\":[0,0,0,0],\"name\":\"Row27892\"},\"id\":\"18400\",\"type\":\"Row\"},{\"attributes\":{\"children\":[{\"id\":\"18403\"},{\"id\":\"18406\"}],\"margin\":[0,0,0,0],\"name\":\"Row27890\"},\"id\":\"18402\",\"type\":\"Row\"},{\"attributes\":{\"client_comm_id\":\"9afca82626024c69bdc19cc3fa49136c\",\"comm_id\":\"303a0df2ba64427baa0dea31867bba0c\",\"plot_id\":\"18400\"},\"id\":\"18409\",\"type\":\"panel.models.comm_manager.CommManager\"},{\"attributes\":{\"children\":[{\"id\":\"18404\"},{\"id\":\"18405\"}],\"margin\":[0,0,0,0],\"name\":\"Column27851\"},\"id\":\"18403\",\"type\":\"Column\"},{\"attributes\":{\"children\":[{\"id\":\"18408\"}],\"margin\":[0,0,0,0],\"name\":\"Row27856\"},\"id\":\"18407\",\"type\":\"Row\"},{\"attributes\":{\"margin\":[5,5,5,5],\"name\":\"DataFrame27887\",\"text\":\"&lt;table border=&quot;0&quot; class=&quot;dataframe panel-df&quot;&gt;\\n  &lt;thead&gt;\\n    &lt;tr style=&quot;text-align: right;&quot;&gt;\\n      &lt;th&gt;&lt;/th&gt;\\n      &lt;th&gt;Marital_Status&lt;/th&gt;\\n      &lt;th&gt;Income&lt;/th&gt;\\n    &lt;/tr&gt;\\n  &lt;/thead&gt;\\n  &lt;tbody&gt;\\n    &lt;tr&gt;\\n      &lt;th&gt;0&lt;/th&gt;\\n      &lt;td&gt;Absurd&lt;/td&gt;\\n      &lt;td&gt;144731.0&lt;/td&gt;\\n    &lt;/tr&gt;\\n    &lt;tr&gt;\\n      &lt;th&gt;1&lt;/th&gt;\\n      &lt;td&gt;Alone&lt;/td&gt;\\n      &lt;td&gt;131367.0&lt;/td&gt;\\n    &lt;/tr&gt;\\n    &lt;tr&gt;\\n      &lt;th&gt;2&lt;/th&gt;\\n      &lt;td&gt;Divorced&lt;/td&gt;\\n      &lt;td&gt;12257541.0&lt;/td&gt;\\n    &lt;/tr&gt;\\n    &lt;tr&gt;\\n      &lt;th&gt;3&lt;/th&gt;\\n      &lt;td&gt;Married&lt;/td&gt;\\n      &lt;td&gt;44328307.0&lt;/td&gt;\\n    &lt;/tr&gt;\\n    &lt;tr&gt;\\n      &lt;th&gt;4&lt;/th&gt;\\n      &lt;td&gt;Single&lt;/td&gt;\\n      &lt;td&gt;24018810.0&lt;/td&gt;\\n    &lt;/tr&gt;\\n    &lt;tr&gt;\\n      &lt;th&gt;5&lt;/th&gt;\\n      &lt;td&gt;Together&lt;/td&gt;\\n      &lt;td&gt;29843025.0&lt;/td&gt;\\n    &lt;/tr&gt;\\n    &lt;tr&gt;\\n      &lt;th&gt;6&lt;/th&gt;\\n      &lt;td&gt;Widow&lt;/td&gt;\\n      &lt;td&gt;4292598.0&lt;/td&gt;\\n    &lt;/tr&gt;\\n    &lt;tr&gt;\\n      &lt;th&gt;7&lt;/th&gt;\\n      &lt;td&gt;YOLO&lt;/td&gt;\\n      &lt;td&gt;96864.0&lt;/td&gt;\\n    &lt;/tr&gt;\\n  &lt;/tbody&gt;\\n&lt;/table&gt;\"},\"id\":\"18408\",\"type\":\"panel.models.markup.HTML\"},{\"attributes\":{\"margin\":[5,5,5,5],\"name\":\"HSpacer27889\",\"sizing_mode\":\"stretch_width\"},\"id\":\"18406\",\"type\":\"Spacer\"},{\"attributes\":{\"end\":162397,\"margin\":[5,10,5,10],\"start\":1730,\"step\":5,\"title\":\"Max Income slider\",\"value\":162397},\"id\":\"18404\",\"type\":\"Slider\"}],\"root_ids\":[\"18400\",\"18409\"]},\"title\":\"Bokeh Application\",\"version\":\"2.4.2\"}};\n",
       "    var render_items = [{\"docid\":\"df2aec3f-36d1-4422-a792-6a9384c48421\",\"root_ids\":[\"18400\"],\"roots\":{\"18400\":\"1fda9060-f71b-45e0-a7f6-f8de0fa53a49\"}}];\n",
       "    root.Bokeh.embed.embed_items_notebook(docs_json, render_items);\n",
       "  }\n",
       "  if (root.Bokeh !== undefined && root.Bokeh.Panel !== undefined && ( root['Tabulator'] !== undefined)) {\n",
       "    embed_document(root);\n",
       "  } else {\n",
       "    var attempts = 0;\n",
       "    var timer = setInterval(function(root) {\n",
       "      if (root.Bokeh !== undefined && root.Bokeh.Panel !== undefined && (root['Tabulator'] !== undefined)) {\n",
       "        clearInterval(timer);\n",
       "        embed_document(root);\n",
       "      } else if (document.readyState == \"complete\") {\n",
       "        attempts++;\n",
       "        if (attempts > 200) {\n",
       "          clearInterval(timer);\n",
       "          console.log(\"Bokeh: ERROR: Unable to run BokehJS code because BokehJS library is missing\");\n",
       "        }\n",
       "      }\n",
       "    }, 25, root)\n",
       "  }\n",
       "})(window);</script>"
      ],
      "text/plain": [
       "<hvplot.interactive.Interactive at 0x15df7bdfb80>"
      ]
     },
     "execution_count": 162,
     "metadata": {
      "application/vnd.holoviews_exec.v0+json": {
       "id": "18400"
      }
     },
     "output_type": "execute_result"
    }
   ],
   "source": [
    "marital_status_data = ( \n",
    "    idf[(idf.Income <= max_income_slider) & \n",
    "        (idf.Income >= min_income_slider)]\n",
    "    .groupby(['Marital_Status'])['Income'].sum()\n",
    "    .to_frame()  \n",
    "    .reset_index()\n",
    "    # .sort_values(by='year')  \n",
    "    .reset_index(drop=True)\n",
    ")\n",
    "marital_status_data"
   ]
  },
  {
   "cell_type": "code",
   "execution_count": 163,
   "metadata": {},
   "outputs": [
    {
     "data": {},
     "metadata": {},
     "output_type": "display_data"
    },
    {
     "data": {},
     "metadata": {},
     "output_type": "display_data"
    },
    {
     "data": {
      "application/vnd.holoviews_exec.v0+json": "",
      "text/html": [
       "<div id='18410'>\n",
       "\n",
       "\n",
       "\n",
       "\n",
       "\n",
       "  <div class=\"bk-root\" id=\"dfd4bd84-086f-431e-909c-a8bbb133ca1d\" data-root-id=\"18410\"></div>\n",
       "</div>\n",
       "<script type=\"application/javascript\">(function(root) {\n",
       "  function embed_document(root) {\n",
       "    var docs_json = {\"e70bc5f8-11fd-45c4-b5a6-05cc87fa063a\":{\"defs\":[{\"extends\":null,\"module\":null,\"name\":\"ReactiveHTML1\",\"overrides\":[],\"properties\":[]},{\"extends\":null,\"module\":null,\"name\":\"FlexBox1\",\"overrides\":[],\"properties\":[{\"default\":\"flex-start\",\"kind\":null,\"name\":\"align_content\"},{\"default\":\"flex-start\",\"kind\":null,\"name\":\"align_items\"},{\"default\":\"row\",\"kind\":null,\"name\":\"flex_direction\"},{\"default\":\"wrap\",\"kind\":null,\"name\":\"flex_wrap\"},{\"default\":\"flex-start\",\"kind\":null,\"name\":\"justify_content\"}]},{\"extends\":null,\"module\":null,\"name\":\"GridStack1\",\"overrides\":[],\"properties\":[{\"default\":\"warn\",\"kind\":null,\"name\":\"mode\"},{\"default\":null,\"kind\":null,\"name\":\"ncols\"},{\"default\":null,\"kind\":null,\"name\":\"nrows\"},{\"default\":true,\"kind\":null,\"name\":\"allow_resize\"},{\"default\":true,\"kind\":null,\"name\":\"allow_drag\"},{\"default\":[],\"kind\":null,\"name\":\"state\"}]},{\"extends\":null,\"module\":null,\"name\":\"click1\",\"overrides\":[],\"properties\":[{\"default\":\"\",\"kind\":null,\"name\":\"terminal_output\"},{\"default\":\"\",\"kind\":null,\"name\":\"debug_name\"},{\"default\":0,\"kind\":null,\"name\":\"clears\"}]},{\"extends\":null,\"module\":null,\"name\":\"TemplateActions1\",\"overrides\":[],\"properties\":[{\"default\":0,\"kind\":null,\"name\":\"open_modal\"},{\"default\":0,\"kind\":null,\"name\":\"close_modal\"}]},{\"extends\":null,\"module\":null,\"name\":\"MaterialTemplateActions1\",\"overrides\":[],\"properties\":[{\"default\":0,\"kind\":null,\"name\":\"open_modal\"},{\"default\":0,\"kind\":null,\"name\":\"close_modal\"}]}],\"roots\":{\"references\":[{\"attributes\":{},\"id\":\"18431\",\"type\":\"CategoricalTicker\"},{\"attributes\":{\"source\":{\"id\":\"18450\"}},\"id\":\"18457\",\"type\":\"CDSView\"},{\"attributes\":{\"children\":[{\"id\":\"18411\"}],\"margin\":[0,0,0,0],\"name\":\"Row28117\"},\"id\":\"18410\",\"type\":\"Row\"},{\"attributes\":{\"factors\":[\"Absurd\",\"Alone\",\"Divorced\",\"Married\",\"Single\",\"Together\",\"Widow\",\"YOLO\"],\"tags\":[[[\"Marital_Status\",\"Marital_Status\",null]]]},\"id\":\"18418\",\"type\":\"FactorRange\"},{\"attributes\":{\"children\":[{\"id\":\"18412\"},{\"id\":\"18417\"}],\"margin\":[0,0,0,0],\"name\":\"Column28116\"},\"id\":\"18411\",\"type\":\"Column\"},{\"attributes\":{\"axis\":{\"id\":\"18430\"},\"coordinates\":null,\"grid_line_color\":null,\"group\":null,\"ticker\":null},\"id\":\"18432\",\"type\":\"Grid\"},{\"attributes\":{\"callback\":null,\"renderers\":[{\"id\":\"18456\"}],\"tags\":[\"hv_created\"],\"tooltips\":[[\"Marital_Status\",\"@{Marital_Status}\"],[\"Income\",\"@{Income}\"]]},\"id\":\"18420\",\"type\":\"HoverTool\"},{\"attributes\":{\"axis_label\":\"Marital_Status\",\"coordinates\":null,\"formatter\":{\"id\":\"18460\"},\"group\":null,\"major_label_orientation\":0.7853981633974483,\"major_label_policy\":{\"id\":\"18461\"},\"ticker\":{\"id\":\"18431\"}},\"id\":\"18430\",\"type\":\"CategoricalAxis\"},{\"attributes\":{},\"id\":\"18426\",\"type\":\"CategoricalScale\"},{\"attributes\":{\"children\":[{\"id\":\"18413\"},{\"id\":\"18416\"}],\"margin\":[0,0,0,0],\"name\":\"Row28115\"},\"id\":\"18412\",\"type\":\"Row\"},{\"attributes\":{},\"id\":\"18439\",\"type\":\"WheelZoomTool\"},{\"attributes\":{\"bottom\":{\"value\":0},\"fill_alpha\":{\"value\":1.0},\"fill_color\":{\"value\":\"#30a2da\"},\"hatch_alpha\":{\"value\":1.0},\"hatch_color\":{\"value\":\"#30a2da\"},\"hatch_scale\":{\"value\":12.0},\"hatch_weight\":{\"value\":1.0},\"line_alpha\":{\"value\":1.0},\"line_cap\":{\"value\":\"butt\"},\"line_color\":{\"value\":\"black\"},\"line_dash\":{\"value\":[]},\"line_dash_offset\":{\"value\":0},\"line_join\":{\"value\":\"bevel\"},\"line_width\":{\"value\":2},\"top\":{\"field\":\"Income\"},\"width\":{\"value\":0.8},\"x\":{\"field\":\"Marital_Status\"}},\"id\":\"18458\",\"type\":\"VBar\"},{\"attributes\":{},\"id\":\"18428\",\"type\":\"LinearScale\"},{\"attributes\":{\"below\":[{\"id\":\"18430\"}],\"center\":[{\"id\":\"18432\"},{\"id\":\"18436\"}],\"height\":300,\"left\":[{\"id\":\"18433\"}],\"margin\":[5,5,5,5],\"min_border_bottom\":10,\"min_border_left\":10,\"min_border_right\":10,\"min_border_top\":10,\"renderers\":[{\"id\":\"18456\"}],\"sizing_mode\":\"fixed\",\"title\":{\"id\":\"18422\"},\"toolbar\":{\"id\":\"18443\"},\"width\":700,\"x_range\":{\"id\":\"18418\"},\"x_scale\":{\"id\":\"18426\"},\"y_range\":{\"id\":\"18419\"},\"y_scale\":{\"id\":\"18428\"}},\"id\":\"18421\",\"subtype\":\"Figure\",\"type\":\"Plot\"},{\"attributes\":{\"end\":162397,\"margin\":[5,10,5,10],\"start\":1730,\"step\":5,\"title\":\"Max Income slider\",\"value\":162397},\"id\":\"18414\",\"type\":\"Slider\"},{\"attributes\":{},\"id\":\"18434\",\"type\":\"BasicTicker\"},{\"attributes\":{\"coordinates\":null,\"group\":null,\"text\":\"Thu nh\\u1eadp theo t\\u00ecnh tr\\u1ea1ng h\\u00f4n nh\\u00e2n\",\"text_color\":\"black\",\"text_font_size\":\"12pt\"},\"id\":\"18422\",\"type\":\"Title\"},{\"attributes\":{\"coordinates\":null,\"data_source\":{\"id\":\"18450\"},\"glyph\":{\"id\":\"18453\"},\"group\":null,\"hover_glyph\":null,\"muted_glyph\":{\"id\":\"18455\"},\"nonselection_glyph\":{\"id\":\"18454\"},\"selection_glyph\":{\"id\":\"18458\"},\"view\":{\"id\":\"18457\"}},\"id\":\"18456\",\"type\":\"GlyphRenderer\"},{\"attributes\":{\"fill_color\":{\"value\":\"#30a2da\"},\"hatch_color\":{\"value\":\"#30a2da\"},\"line_width\":{\"value\":2},\"top\":{\"field\":\"Income\"},\"width\":{\"value\":0.8},\"x\":{\"field\":\"Marital_Status\"}},\"id\":\"18453\",\"type\":\"VBar\"},{\"attributes\":{\"fill_alpha\":{\"value\":0.2},\"fill_color\":{\"value\":\"#30a2da\"},\"hatch_alpha\":{\"value\":0.2},\"hatch_color\":{\"value\":\"#30a2da\"},\"line_alpha\":{\"value\":0.2},\"line_width\":{\"value\":2},\"top\":{\"field\":\"Income\"},\"width\":{\"value\":0.8},\"x\":{\"field\":\"Marital_Status\"}},\"id\":\"18455\",\"type\":\"VBar\"},{\"attributes\":{},\"id\":\"18461\",\"type\":\"AllLabels\"},{\"attributes\":{},\"id\":\"18464\",\"type\":\"AllLabels\"},{\"attributes\":{\"tools\":[{\"id\":\"18420\"},{\"id\":\"18437\"},{\"id\":\"18438\"},{\"id\":\"18439\"},{\"id\":\"18440\"},{\"id\":\"18441\"}]},\"id\":\"18443\",\"type\":\"Toolbar\"},{\"attributes\":{\"client_comm_id\":\"5fbccd8ed9a84fe9ae6b890f69844c8a\",\"comm_id\":\"a4617345dd0b4c5dbad2a4f657951cab\",\"plot_id\":\"18410\"},\"id\":\"18515\",\"type\":\"panel.models.comm_manager.CommManager\"},{\"attributes\":{},\"id\":\"18460\",\"type\":\"CategoricalTickFormatter\"},{\"attributes\":{},\"id\":\"18438\",\"type\":\"PanTool\"},{\"attributes\":{\"margin\":[5,5,5,5],\"name\":\"HSpacer28114\",\"sizing_mode\":\"stretch_width\"},\"id\":\"18416\",\"type\":\"Spacer\"},{\"attributes\":{\"axis_label\":\"Income\",\"coordinates\":null,\"formatter\":{\"id\":\"18463\"},\"group\":null,\"major_label_policy\":{\"id\":\"18464\"},\"ticker\":{\"id\":\"18434\"}},\"id\":\"18433\",\"type\":\"LinearAxis\"},{\"attributes\":{\"end\":162397,\"margin\":[5,10,5,10],\"start\":1730,\"step\":5,\"title\":\"Min Income slider\",\"value\":1730},\"id\":\"18415\",\"type\":\"Slider\"},{\"attributes\":{},\"id\":\"18437\",\"type\":\"SaveTool\"},{\"attributes\":{},\"id\":\"18441\",\"type\":\"ResetTool\"},{\"attributes\":{\"children\":[{\"id\":\"18414\"},{\"id\":\"18415\"}],\"margin\":[0,0,0,0],\"name\":\"Column27999\"},\"id\":\"18413\",\"type\":\"Column\"},{\"attributes\":{\"children\":[{\"id\":\"18421\"}],\"margin\":[0,0,0,0],\"name\":\"Row28004\"},\"id\":\"18417\",\"type\":\"Row\"},{\"attributes\":{\"axis\":{\"id\":\"18433\"},\"coordinates\":null,\"dimension\":1,\"grid_line_color\":null,\"group\":null,\"ticker\":null},\"id\":\"18436\",\"type\":\"Grid\"},{\"attributes\":{},\"id\":\"18463\",\"type\":\"BasicTickFormatter\"},{\"attributes\":{},\"id\":\"18472\",\"type\":\"UnionRenderers\"},{\"attributes\":{\"bottom_units\":\"screen\",\"coordinates\":null,\"fill_alpha\":0.5,\"fill_color\":\"lightgrey\",\"group\":null,\"left_units\":\"screen\",\"level\":\"overlay\",\"line_alpha\":1.0,\"line_color\":\"black\",\"line_dash\":[4,4],\"line_width\":2,\"right_units\":\"screen\",\"syncable\":false,\"top_units\":\"screen\"},\"id\":\"18442\",\"type\":\"BoxAnnotation\"},{\"attributes\":{},\"id\":\"18451\",\"type\":\"Selection\"},{\"attributes\":{\"end\":48751451.3,\"reset_end\":48751451.3,\"reset_start\":0.0,\"tags\":[[[\"Income\",\"Income\",null]]]},\"id\":\"18419\",\"type\":\"Range1d\"},{\"attributes\":{\"data\":{\"Income\":{\"__ndarray__\":\"AAAAANiqAUEAAAAAOAkAQQAAAKAgYWdBAAAAmCsjhUEAAACg9+d2QQAAABDldXxBAAAAgP1fUEEAAAAAAKb3QA==\",\"dtype\":\"float64\",\"order\":\"little\",\"shape\":[8]},\"Marital_Status\":[\"Absurd\",\"Alone\",\"Divorced\",\"Married\",\"Single\",\"Together\",\"Widow\",\"YOLO\"]},\"selected\":{\"id\":\"18451\"},\"selection_policy\":{\"id\":\"18472\"}},\"id\":\"18450\",\"type\":\"ColumnDataSource\"},{\"attributes\":{\"overlay\":{\"id\":\"18442\"}},\"id\":\"18440\",\"type\":\"BoxZoomTool\"},{\"attributes\":{\"fill_alpha\":{\"value\":0.1},\"fill_color\":{\"value\":\"#30a2da\"},\"hatch_alpha\":{\"value\":0.1},\"hatch_color\":{\"value\":\"#30a2da\"},\"line_alpha\":{\"value\":0.1},\"line_width\":{\"value\":2},\"top\":{\"field\":\"Income\"},\"width\":{\"value\":0.8},\"x\":{\"field\":\"Marital_Status\"}},\"id\":\"18454\",\"type\":\"VBar\"}],\"root_ids\":[\"18410\",\"18515\"]},\"title\":\"Bokeh Application\",\"version\":\"2.4.2\"}};\n",
       "    var render_items = [{\"docid\":\"e70bc5f8-11fd-45c4-b5a6-05cc87fa063a\",\"root_ids\":[\"18410\"],\"roots\":{\"18410\":\"dfd4bd84-086f-431e-909c-a8bbb133ca1d\"}}];\n",
       "    root.Bokeh.embed.embed_items_notebook(docs_json, render_items);\n",
       "  }\n",
       "  if (root.Bokeh !== undefined && root.Bokeh.Panel !== undefined && ( root['Tabulator'] !== undefined)) {\n",
       "    embed_document(root);\n",
       "  } else {\n",
       "    var attempts = 0;\n",
       "    var timer = setInterval(function(root) {\n",
       "      if (root.Bokeh !== undefined && root.Bokeh.Panel !== undefined && (root['Tabulator'] !== undefined)) {\n",
       "        clearInterval(timer);\n",
       "        embed_document(root);\n",
       "      } else if (document.readyState == \"complete\") {\n",
       "        attempts++;\n",
       "        if (attempts > 200) {\n",
       "          clearInterval(timer);\n",
       "          console.log(\"Bokeh: ERROR: Unable to run BokehJS code because BokehJS library is missing\");\n",
       "        }\n",
       "      }\n",
       "    }, 25, root)\n",
       "  }\n",
       "})(window);</script>"
      ],
      "text/plain": [
       "<hvplot.interactive.Interactive at 0x15df26c0b20>"
      ]
     },
     "execution_count": 163,
     "metadata": {
      "application/vnd.holoviews_exec.v0+json": {
       "id": "18410"
      }
     },
     "output_type": "execute_result"
    }
   ],
   "source": [
    "marital_status_plot = marital_status_data.hvplot(kind='bar', x='Marital_Status', y='Income',line_width=2, title=\"Thu nhập theo tình trạng hôn nhân\",rot=45)\n",
    "marital_status_plot"
   ]
  },
  {
   "cell_type": "code",
   "execution_count": 164,
   "metadata": {},
   "outputs": [
    {
     "data": {},
     "metadata": {},
     "output_type": "display_data"
    },
    {
     "data": {
      "application/vnd.holoviews_exec.v0+json": "",
      "text/html": [
       "<div id='18566'>\n",
       "\n",
       "\n",
       "\n",
       "\n",
       "\n",
       "  <div class=\"bk-root\" id=\"ca0c5d3a-dffc-4ff4-8f03-c25c853cfe5e\" data-root-id=\"18566\"></div>\n",
       "</div>\n",
       "<script type=\"application/javascript\">(function(root) {\n",
       "  function embed_document(root) {\n",
       "    var docs_json = {\"0ea4eb88-962e-4159-ac82-3c65a543fdcc\":{\"defs\":[{\"extends\":null,\"module\":null,\"name\":\"ReactiveHTML1\",\"overrides\":[],\"properties\":[]},{\"extends\":null,\"module\":null,\"name\":\"FlexBox1\",\"overrides\":[],\"properties\":[{\"default\":\"flex-start\",\"kind\":null,\"name\":\"align_content\"},{\"default\":\"flex-start\",\"kind\":null,\"name\":\"align_items\"},{\"default\":\"row\",\"kind\":null,\"name\":\"flex_direction\"},{\"default\":\"wrap\",\"kind\":null,\"name\":\"flex_wrap\"},{\"default\":\"flex-start\",\"kind\":null,\"name\":\"justify_content\"}]},{\"extends\":null,\"module\":null,\"name\":\"GridStack1\",\"overrides\":[],\"properties\":[{\"default\":\"warn\",\"kind\":null,\"name\":\"mode\"},{\"default\":null,\"kind\":null,\"name\":\"ncols\"},{\"default\":null,\"kind\":null,\"name\":\"nrows\"},{\"default\":true,\"kind\":null,\"name\":\"allow_resize\"},{\"default\":true,\"kind\":null,\"name\":\"allow_drag\"},{\"default\":[],\"kind\":null,\"name\":\"state\"}]},{\"extends\":null,\"module\":null,\"name\":\"click1\",\"overrides\":[],\"properties\":[{\"default\":\"\",\"kind\":null,\"name\":\"terminal_output\"},{\"default\":\"\",\"kind\":null,\"name\":\"debug_name\"},{\"default\":0,\"kind\":null,\"name\":\"clears\"}]},{\"extends\":null,\"module\":null,\"name\":\"TemplateActions1\",\"overrides\":[],\"properties\":[{\"default\":0,\"kind\":null,\"name\":\"open_modal\"},{\"default\":0,\"kind\":null,\"name\":\"close_modal\"}]},{\"extends\":null,\"module\":null,\"name\":\"MaterialTemplateActions1\",\"overrides\":[],\"properties\":[{\"default\":0,\"kind\":null,\"name\":\"open_modal\"},{\"default\":0,\"kind\":null,\"name\":\"close_modal\"}]}],\"roots\":{\"references\":[{\"attributes\":{\"children\":[{\"id\":\"18569\"},{\"id\":\"18572\"}],\"margin\":[0,0,0,0],\"name\":\"Row28452\"},\"id\":\"18568\",\"type\":\"Row\"},{\"attributes\":{\"children\":[{\"id\":\"18568\"},{\"id\":\"18573\"}],\"margin\":[0,0,0,0],\"name\":\"Column28453\"},\"id\":\"18567\",\"type\":\"Column\"},{\"attributes\":{\"client_comm_id\":\"c1b258c0d6994b77a72394e80d52122c\",\"comm_id\":\"3db5af099bf84bcfadf382266a1534bb\",\"plot_id\":\"18566\"},\"id\":\"18575\",\"type\":\"panel.models.comm_manager.CommManager\"},{\"attributes\":{\"children\":[{\"id\":\"18570\"},{\"id\":\"18571\"}],\"margin\":[0,0,0,0],\"name\":\"Column28413\"},\"id\":\"18569\",\"type\":\"Column\"},{\"attributes\":{\"margin\":[5,5,5,5],\"name\":\"HSpacer28451\",\"sizing_mode\":\"stretch_width\"},\"id\":\"18572\",\"type\":\"Spacer\"},{\"attributes\":{\"margin\":[5,5,5,5],\"name\":\"DataFrame28449\",\"text\":\"&lt;table border=&quot;0&quot; class=&quot;dataframe panel-df&quot;&gt;\\n  &lt;thead&gt;\\n    &lt;tr style=&quot;text-align: right;&quot;&gt;\\n      &lt;th&gt;&lt;/th&gt;\\n      &lt;th&gt;index&lt;/th&gt;\\n      &lt;th&gt;0&lt;/th&gt;\\n    &lt;/tr&gt;\\n  &lt;/thead&gt;\\n  &lt;tbody&gt;\\n    &lt;tr&gt;\\n      &lt;th&gt;0&lt;/th&gt;\\n      &lt;td&gt;NumDealsPurchases&lt;/td&gt;\\n      &lt;td&gt;5145&lt;/td&gt;\\n    &lt;/tr&gt;\\n    &lt;tr&gt;\\n      &lt;th&gt;1&lt;/th&gt;\\n      &lt;td&gt;NumWebPurchases&lt;/td&gt;\\n      &lt;td&gt;9050&lt;/td&gt;\\n    &lt;/tr&gt;\\n    &lt;tr&gt;\\n      &lt;th&gt;2&lt;/th&gt;\\n      &lt;td&gt;NumCatalogPurchases&lt;/td&gt;\\n      &lt;td&gt;5918&lt;/td&gt;\\n    &lt;/tr&gt;\\n    &lt;tr&gt;\\n      &lt;th&gt;3&lt;/th&gt;\\n      &lt;td&gt;NumStorePurchases&lt;/td&gt;\\n      &lt;td&gt;12852&lt;/td&gt;\\n    &lt;/tr&gt;\\n  &lt;/tbody&gt;\\n&lt;/table&gt;\"},\"id\":\"18574\",\"type\":\"panel.models.markup.HTML\"},{\"attributes\":{\"end\":162397,\"margin\":[5,10,5,10],\"start\":1730,\"step\":5,\"title\":\"Max Income slider\",\"value\":162397},\"id\":\"18570\",\"type\":\"Slider\"},{\"attributes\":{\"end\":162397,\"margin\":[5,10,5,10],\"start\":1730,\"step\":5,\"title\":\"Min Income slider\",\"value\":1730},\"id\":\"18571\",\"type\":\"Slider\"},{\"attributes\":{\"children\":[{\"id\":\"18567\"}],\"margin\":[0,0,0,0],\"name\":\"Row28454\"},\"id\":\"18566\",\"type\":\"Row\"},{\"attributes\":{\"children\":[{\"id\":\"18574\"}],\"margin\":[0,0,0,0],\"name\":\"Row28418\"},\"id\":\"18573\",\"type\":\"Row\"}],\"root_ids\":[\"18566\",\"18575\"]},\"title\":\"Bokeh Application\",\"version\":\"2.4.2\"}};\n",
       "    var render_items = [{\"docid\":\"0ea4eb88-962e-4159-ac82-3c65a543fdcc\",\"root_ids\":[\"18566\"],\"roots\":{\"18566\":\"ca0c5d3a-dffc-4ff4-8f03-c25c853cfe5e\"}}];\n",
       "    root.Bokeh.embed.embed_items_notebook(docs_json, render_items);\n",
       "  }\n",
       "  if (root.Bokeh !== undefined && root.Bokeh.Panel !== undefined && ( root['Tabulator'] !== undefined)) {\n",
       "    embed_document(root);\n",
       "  } else {\n",
       "    var attempts = 0;\n",
       "    var timer = setInterval(function(root) {\n",
       "      if (root.Bokeh !== undefined && root.Bokeh.Panel !== undefined && (root['Tabulator'] !== undefined)) {\n",
       "        clearInterval(timer);\n",
       "        embed_document(root);\n",
       "      } else if (document.readyState == \"complete\") {\n",
       "        attempts++;\n",
       "        if (attempts > 200) {\n",
       "          clearInterval(timer);\n",
       "          console.log(\"Bokeh: ERROR: Unable to run BokehJS code because BokehJS library is missing\");\n",
       "        }\n",
       "      }\n",
       "    }, 25, root)\n",
       "  }\n",
       "})(window);</script>"
      ],
      "text/plain": [
       "<hvplot.interactive.Interactive at 0x15df7e20820>"
      ]
     },
     "execution_count": 164,
     "metadata": {
      "application/vnd.holoviews_exec.v0+json": {
       "id": "18566"
      }
     },
     "output_type": "execute_result"
    }
   ],
   "source": [
    "total_purchase = [col for col in sale_channel]\n",
    "df_TP = idf[(idf.Income <= max_income_slider) & \n",
    "        (idf.Income >= min_income_slider)][total_purchase].sum().to_frame().reset_index()\n",
    "# df_TP1  = pd.DataFrame(df_TP)\n",
    "# df_TP1\n",
    "df_TP"
   ]
  },
  {
   "cell_type": "code",
   "execution_count": 165,
   "metadata": {},
   "outputs": [
    {
     "data": {},
     "metadata": {},
     "output_type": "display_data"
    },
    {
     "data": {},
     "metadata": {},
     "output_type": "display_data"
    },
    {
     "data": {
      "application/vnd.holoviews_exec.v0+json": "",
      "text/html": [
       "<div id='18576'>\n",
       "\n",
       "\n",
       "\n",
       "\n",
       "\n",
       "  <div class=\"bk-root\" id=\"81e02b5d-7edc-4e93-91bf-200431cd57e2\" data-root-id=\"18576\"></div>\n",
       "</div>\n",
       "<script type=\"application/javascript\">(function(root) {\n",
       "  function embed_document(root) {\n",
       "    var docs_json = {\"2398feae-2496-4a40-95f0-978cb0c2bab7\":{\"defs\":[{\"extends\":null,\"module\":null,\"name\":\"ReactiveHTML1\",\"overrides\":[],\"properties\":[]},{\"extends\":null,\"module\":null,\"name\":\"FlexBox1\",\"overrides\":[],\"properties\":[{\"default\":\"flex-start\",\"kind\":null,\"name\":\"align_content\"},{\"default\":\"flex-start\",\"kind\":null,\"name\":\"align_items\"},{\"default\":\"row\",\"kind\":null,\"name\":\"flex_direction\"},{\"default\":\"wrap\",\"kind\":null,\"name\":\"flex_wrap\"},{\"default\":\"flex-start\",\"kind\":null,\"name\":\"justify_content\"}]},{\"extends\":null,\"module\":null,\"name\":\"GridStack1\",\"overrides\":[],\"properties\":[{\"default\":\"warn\",\"kind\":null,\"name\":\"mode\"},{\"default\":null,\"kind\":null,\"name\":\"ncols\"},{\"default\":null,\"kind\":null,\"name\":\"nrows\"},{\"default\":true,\"kind\":null,\"name\":\"allow_resize\"},{\"default\":true,\"kind\":null,\"name\":\"allow_drag\"},{\"default\":[],\"kind\":null,\"name\":\"state\"}]},{\"extends\":null,\"module\":null,\"name\":\"click1\",\"overrides\":[],\"properties\":[{\"default\":\"\",\"kind\":null,\"name\":\"terminal_output\"},{\"default\":\"\",\"kind\":null,\"name\":\"debug_name\"},{\"default\":0,\"kind\":null,\"name\":\"clears\"}]},{\"extends\":null,\"module\":null,\"name\":\"TemplateActions1\",\"overrides\":[],\"properties\":[{\"default\":0,\"kind\":null,\"name\":\"open_modal\"},{\"default\":0,\"kind\":null,\"name\":\"close_modal\"}]},{\"extends\":null,\"module\":null,\"name\":\"MaterialTemplateActions1\",\"overrides\":[],\"properties\":[{\"default\":0,\"kind\":null,\"name\":\"open_modal\"},{\"default\":0,\"kind\":null,\"name\":\"close_modal\"}]}],\"roots\":{\"references\":[{\"attributes\":{},\"id\":\"18627\",\"type\":\"AllLabels\"},{\"attributes\":{\"tools\":[{\"id\":\"18586\"},{\"id\":\"18603\"},{\"id\":\"18604\"},{\"id\":\"18605\"},{\"id\":\"18606\"},{\"id\":\"18607\"}]},\"id\":\"18609\",\"type\":\"Toolbar\"},{\"attributes\":{},\"id\":\"18629\",\"type\":\"BasicTickFormatter\"},{\"attributes\":{\"end\":13622.7,\"reset_end\":13622.7,\"reset_start\":0.0,\"tags\":[[[\"0\",\"0\",null]]]},\"id\":\"18585\",\"type\":\"Range1d\"},{\"attributes\":{\"end\":162397,\"margin\":[5,10,5,10],\"start\":1730,\"step\":5,\"title\":\"Max Income slider\",\"value\":162397},\"id\":\"18580\",\"type\":\"Slider\"},{\"attributes\":{\"axis_label\":\"\",\"coordinates\":null,\"formatter\":{\"id\":\"18626\"},\"group\":null,\"major_label_orientation\":0.7853981633974483,\"major_label_policy\":{\"id\":\"18627\"},\"ticker\":{\"id\":\"18597\"}},\"id\":\"18596\",\"type\":\"CategoricalAxis\"},{\"attributes\":{\"data\":{\"A_0\":[5145,9050,5918,12852],\"index\":[\"NumDealsPurchases\",\"NumWebPurchases\",\"NumCatalogPurchases\",\"NumStorePurchases\"]},\"selected\":{\"id\":\"18617\"},\"selection_policy\":{\"id\":\"18638\"}},\"id\":\"18616\",\"type\":\"ColumnDataSource\"},{\"attributes\":{},\"id\":\"18604\",\"type\":\"PanTool\"},{\"attributes\":{},\"id\":\"18617\",\"type\":\"Selection\"},{\"attributes\":{\"fill_color\":{\"value\":\"#30a2da\"},\"hatch_color\":{\"value\":\"#30a2da\"},\"line_width\":{\"value\":2},\"top\":{\"field\":\"A_0\"},\"width\":{\"value\":0.8},\"x\":{\"field\":\"index\"}},\"id\":\"18619\",\"type\":\"VBar\"},{\"attributes\":{\"fill_alpha\":{\"value\":0.2},\"fill_color\":{\"value\":\"#30a2da\"},\"hatch_alpha\":{\"value\":0.2},\"hatch_color\":{\"value\":\"#30a2da\"},\"line_alpha\":{\"value\":0.2},\"line_width\":{\"value\":2},\"top\":{\"field\":\"A_0\"},\"width\":{\"value\":0.8},\"x\":{\"field\":\"index\"}},\"id\":\"18621\",\"type\":\"VBar\"},{\"attributes\":{\"axis\":{\"id\":\"18599\"},\"coordinates\":null,\"dimension\":1,\"grid_line_color\":null,\"group\":null,\"ticker\":null},\"id\":\"18602\",\"type\":\"Grid\"},{\"attributes\":{},\"id\":\"18597\",\"type\":\"CategoricalTicker\"},{\"attributes\":{\"callback\":null,\"renderers\":[{\"id\":\"18622\"}],\"tags\":[\"hv_created\"],\"tooltips\":[[\"index\",\"@{index}\"],[\"0\",\"@{A_0}\"]]},\"id\":\"18586\",\"type\":\"HoverTool\"},{\"attributes\":{\"source\":{\"id\":\"18616\"}},\"id\":\"18623\",\"type\":\"CDSView\"},{\"attributes\":{},\"id\":\"18594\",\"type\":\"LinearScale\"},{\"attributes\":{\"coordinates\":null,\"data_source\":{\"id\":\"18616\"},\"glyph\":{\"id\":\"18619\"},\"group\":null,\"hover_glyph\":null,\"muted_glyph\":{\"id\":\"18621\"},\"nonselection_glyph\":{\"id\":\"18620\"},\"selection_glyph\":{\"id\":\"18624\"},\"view\":{\"id\":\"18623\"}},\"id\":\"18622\",\"type\":\"GlyphRenderer\"},{\"attributes\":{\"margin\":[5,5,5,5],\"name\":\"HSpacer28672\",\"sizing_mode\":\"stretch_width\"},\"id\":\"18582\",\"type\":\"Spacer\"},{\"attributes\":{},\"id\":\"18603\",\"type\":\"SaveTool\"},{\"attributes\":{\"children\":[{\"id\":\"18580\"},{\"id\":\"18581\"}],\"margin\":[0,0,0,0],\"name\":\"Column28559\"},\"id\":\"18579\",\"type\":\"Column\"},{\"attributes\":{\"overlay\":{\"id\":\"18608\"}},\"id\":\"18606\",\"type\":\"BoxZoomTool\"},{\"attributes\":{},\"id\":\"18626\",\"type\":\"CategoricalTickFormatter\"},{\"attributes\":{},\"id\":\"18592\",\"type\":\"CategoricalScale\"},{\"attributes\":{},\"id\":\"18607\",\"type\":\"ResetTool\"},{\"attributes\":{\"axis_label\":\"0\",\"coordinates\":null,\"formatter\":{\"id\":\"18629\"},\"group\":null,\"major_label_policy\":{\"id\":\"18630\"},\"ticker\":{\"id\":\"18600\"}},\"id\":\"18599\",\"type\":\"LinearAxis\"},{\"attributes\":{\"fill_alpha\":{\"value\":0.1},\"fill_color\":{\"value\":\"#30a2da\"},\"hatch_alpha\":{\"value\":0.1},\"hatch_color\":{\"value\":\"#30a2da\"},\"line_alpha\":{\"value\":0.1},\"line_width\":{\"value\":2},\"top\":{\"field\":\"A_0\"},\"width\":{\"value\":0.8},\"x\":{\"field\":\"index\"}},\"id\":\"18620\",\"type\":\"VBar\"},{\"attributes\":{\"coordinates\":null,\"group\":null,\"text\":\"T\\u1ef7 tr\\u1ecdng c\\u00e1c k\\u00eanh b\\u00e1n h\\u00e0ng\",\"text_color\":\"black\",\"text_font_size\":\"12pt\"},\"id\":\"18588\",\"type\":\"Title\"},{\"attributes\":{},\"id\":\"18638\",\"type\":\"UnionRenderers\"},{\"attributes\":{\"axis\":{\"id\":\"18596\"},\"coordinates\":null,\"grid_line_color\":null,\"group\":null,\"ticker\":null},\"id\":\"18598\",\"type\":\"Grid\"},{\"attributes\":{},\"id\":\"18605\",\"type\":\"WheelZoomTool\"},{\"attributes\":{\"factors\":[\"NumDealsPurchases\",\"NumWebPurchases\",\"NumCatalogPurchases\",\"NumStorePurchases\"],\"tags\":[[[\"index\",\"index\",null]]]},\"id\":\"18584\",\"type\":\"FactorRange\"},{\"attributes\":{\"bottom_units\":\"screen\",\"coordinates\":null,\"fill_alpha\":0.5,\"fill_color\":\"lightgrey\",\"group\":null,\"left_units\":\"screen\",\"level\":\"overlay\",\"line_alpha\":1.0,\"line_color\":\"black\",\"line_dash\":[4,4],\"line_width\":2,\"right_units\":\"screen\",\"syncable\":false,\"top_units\":\"screen\"},\"id\":\"18608\",\"type\":\"BoxAnnotation\"},{\"attributes\":{\"children\":[{\"id\":\"18577\"}],\"margin\":[0,0,0,0],\"name\":\"Row28675\"},\"id\":\"18576\",\"type\":\"Row\"},{\"attributes\":{\"client_comm_id\":\"a9bb01f0411946b0984227f7d20d886d\",\"comm_id\":\"423fdf509eea44ebbb90dbb4c9dc2afc\",\"plot_id\":\"18576\"},\"id\":\"18681\",\"type\":\"panel.models.comm_manager.CommManager\"},{\"attributes\":{\"end\":162397,\"margin\":[5,10,5,10],\"start\":1730,\"step\":5,\"title\":\"Min Income slider\",\"value\":1730},\"id\":\"18581\",\"type\":\"Slider\"},{\"attributes\":{\"below\":[{\"id\":\"18596\"}],\"center\":[{\"id\":\"18598\"},{\"id\":\"18602\"}],\"height\":300,\"left\":[{\"id\":\"18599\"}],\"margin\":[5,5,5,5],\"min_border_bottom\":10,\"min_border_left\":10,\"min_border_right\":10,\"min_border_top\":10,\"renderers\":[{\"id\":\"18622\"}],\"sizing_mode\":\"fixed\",\"title\":{\"id\":\"18588\"},\"toolbar\":{\"id\":\"18609\"},\"width\":700,\"x_range\":{\"id\":\"18584\"},\"x_scale\":{\"id\":\"18592\"},\"y_range\":{\"id\":\"18585\"},\"y_scale\":{\"id\":\"18594\"}},\"id\":\"18587\",\"subtype\":\"Figure\",\"type\":\"Plot\"},{\"attributes\":{\"children\":[{\"id\":\"18587\"}],\"margin\":[0,0,0,0],\"name\":\"Row28564\"},\"id\":\"18583\",\"type\":\"Row\"},{\"attributes\":{\"children\":[{\"id\":\"18579\"},{\"id\":\"18582\"}],\"margin\":[0,0,0,0],\"name\":\"Row28673\"},\"id\":\"18578\",\"type\":\"Row\"},{\"attributes\":{\"children\":[{\"id\":\"18578\"},{\"id\":\"18583\"}],\"margin\":[0,0,0,0],\"name\":\"Column28674\"},\"id\":\"18577\",\"type\":\"Column\"},{\"attributes\":{},\"id\":\"18630\",\"type\":\"AllLabels\"},{\"attributes\":{\"bottom\":{\"value\":0},\"fill_alpha\":{\"value\":1.0},\"fill_color\":{\"value\":\"#30a2da\"},\"hatch_alpha\":{\"value\":1.0},\"hatch_color\":{\"value\":\"#30a2da\"},\"hatch_scale\":{\"value\":12.0},\"hatch_weight\":{\"value\":1.0},\"line_alpha\":{\"value\":1.0},\"line_cap\":{\"value\":\"butt\"},\"line_color\":{\"value\":\"black\"},\"line_dash\":{\"value\":[]},\"line_dash_offset\":{\"value\":0},\"line_join\":{\"value\":\"bevel\"},\"line_width\":{\"value\":2},\"top\":{\"field\":\"A_0\"},\"width\":{\"value\":0.8},\"x\":{\"field\":\"index\"}},\"id\":\"18624\",\"type\":\"VBar\"},{\"attributes\":{},\"id\":\"18600\",\"type\":\"BasicTicker\"}],\"root_ids\":[\"18576\",\"18681\"]},\"title\":\"Bokeh Application\",\"version\":\"2.4.2\"}};\n",
       "    var render_items = [{\"docid\":\"2398feae-2496-4a40-95f0-978cb0c2bab7\",\"root_ids\":[\"18576\"],\"roots\":{\"18576\":\"81e02b5d-7edc-4e93-91bf-200431cd57e2\"}}];\n",
       "    root.Bokeh.embed.embed_items_notebook(docs_json, render_items);\n",
       "  }\n",
       "  if (root.Bokeh !== undefined && root.Bokeh.Panel !== undefined && ( root['Tabulator'] !== undefined)) {\n",
       "    embed_document(root);\n",
       "  } else {\n",
       "    var attempts = 0;\n",
       "    var timer = setInterval(function(root) {\n",
       "      if (root.Bokeh !== undefined && root.Bokeh.Panel !== undefined && (root['Tabulator'] !== undefined)) {\n",
       "        clearInterval(timer);\n",
       "        embed_document(root);\n",
       "      } else if (document.readyState == \"complete\") {\n",
       "        attempts++;\n",
       "        if (attempts > 200) {\n",
       "          clearInterval(timer);\n",
       "          console.log(\"Bokeh: ERROR: Unable to run BokehJS code because BokehJS library is missing\");\n",
       "        }\n",
       "      }\n",
       "    }, 25, root)\n",
       "  }\n",
       "})(window);</script>"
      ],
      "text/plain": [
       "<hvplot.interactive.Interactive at 0x15df7e228c0>"
      ]
     },
     "execution_count": 165,
     "metadata": {
      "application/vnd.holoviews_exec.v0+json": {
       "id": "18576"
      }
     },
     "output_type": "execute_result"
    }
   ],
   "source": [
    "# Thử làm pie chart\n",
    "# https://discourse.bokeh.org/t/wedge-pie-chart-labels/2696/7\n",
    "pie_chart = df_TP.hvplot(kind='bar', x='index', y='0',line_width=2, title=\"Tỷ trọng các kênh bán hàng\",rot=45)\n",
    "pie_chart"
   ]
  },
  {
   "cell_type": "code",
   "execution_count": 166,
   "metadata": {},
   "outputs": [
    {
     "data": {},
     "metadata": {},
     "output_type": "display_data"
    },
    {
     "data": {
      "application/vnd.holoviews_exec.v0+json": "",
      "text/html": [
       "<div id='18732'>\n",
       "\n",
       "\n",
       "\n",
       "\n",
       "\n",
       "  <div class=\"bk-root\" id=\"d6d7abcf-ffb4-40d6-879d-62eac0229d6c\" data-root-id=\"18732\"></div>\n",
       "</div>\n",
       "<script type=\"application/javascript\">(function(root) {\n",
       "  function embed_document(root) {\n",
       "    var docs_json = {\"65adf3eb-4a35-4f9c-91a9-383c637103bc\":{\"defs\":[{\"extends\":null,\"module\":null,\"name\":\"ReactiveHTML1\",\"overrides\":[],\"properties\":[]},{\"extends\":null,\"module\":null,\"name\":\"FlexBox1\",\"overrides\":[],\"properties\":[{\"default\":\"flex-start\",\"kind\":null,\"name\":\"align_content\"},{\"default\":\"flex-start\",\"kind\":null,\"name\":\"align_items\"},{\"default\":\"row\",\"kind\":null,\"name\":\"flex_direction\"},{\"default\":\"wrap\",\"kind\":null,\"name\":\"flex_wrap\"},{\"default\":\"flex-start\",\"kind\":null,\"name\":\"justify_content\"}]},{\"extends\":null,\"module\":null,\"name\":\"GridStack1\",\"overrides\":[],\"properties\":[{\"default\":\"warn\",\"kind\":null,\"name\":\"mode\"},{\"default\":null,\"kind\":null,\"name\":\"ncols\"},{\"default\":null,\"kind\":null,\"name\":\"nrows\"},{\"default\":true,\"kind\":null,\"name\":\"allow_resize\"},{\"default\":true,\"kind\":null,\"name\":\"allow_drag\"},{\"default\":[],\"kind\":null,\"name\":\"state\"}]},{\"extends\":null,\"module\":null,\"name\":\"click1\",\"overrides\":[],\"properties\":[{\"default\":\"\",\"kind\":null,\"name\":\"terminal_output\"},{\"default\":\"\",\"kind\":null,\"name\":\"debug_name\"},{\"default\":0,\"kind\":null,\"name\":\"clears\"}]},{\"extends\":null,\"module\":null,\"name\":\"TemplateActions1\",\"overrides\":[],\"properties\":[{\"default\":0,\"kind\":null,\"name\":\"open_modal\"},{\"default\":0,\"kind\":null,\"name\":\"close_modal\"}]},{\"extends\":null,\"module\":null,\"name\":\"MaterialTemplateActions1\",\"overrides\":[],\"properties\":[{\"default\":0,\"kind\":null,\"name\":\"open_modal\"},{\"default\":0,\"kind\":null,\"name\":\"close_modal\"}]}],\"roots\":{\"references\":[{\"attributes\":{\"margin\":[5,10,5,10],\"options\":[\"NumDealsPurchases\",\"NumWebPurchases\",\"NumCatalogPurchases\",\"NumStorePurchases\"],\"value\":\"NumDealsPurchases\"},\"id\":\"18738\",\"type\":\"panel.models.widgets.CustomSelect\"},{\"attributes\":{\"end\":162397,\"margin\":[5,10,5,10],\"start\":1730,\"step\":5,\"title\":\"Min Income slider\",\"value\":1730},\"id\":\"18737\",\"type\":\"Slider\"},{\"attributes\":{\"end\":162397,\"margin\":[5,10,5,10],\"start\":1730,\"step\":5,\"title\":\"Max Income slider\",\"value\":162397},\"id\":\"18736\",\"type\":\"Slider\"},{\"attributes\":{\"children\":[{\"id\":\"18735\"},{\"id\":\"18739\"}],\"margin\":[0,0,0,0],\"name\":\"Row29070\"},\"id\":\"18734\",\"type\":\"Row\"},{\"attributes\":{\"children\":[{\"id\":\"18733\"}],\"margin\":[0,0,0,0],\"name\":\"Row29072\"},\"id\":\"18732\",\"type\":\"Row\"},{\"attributes\":{\"children\":[{\"id\":\"18736\"},{\"id\":\"18737\"},{\"id\":\"18738\"}],\"margin\":[0,0,0,0],\"name\":\"Column29031\"},\"id\":\"18735\",\"type\":\"Column\"},{\"attributes\":{\"margin\":[5,5,5,5],\"name\":\"HSpacer29069\",\"sizing_mode\":\"stretch_width\"},\"id\":\"18739\",\"type\":\"Spacer\"},{\"attributes\":{\"children\":[{\"id\":\"18734\"},{\"id\":\"18740\"}],\"margin\":[0,0,0,0],\"name\":\"Column29071\"},\"id\":\"18733\",\"type\":\"Column\"},{\"attributes\":{\"margin\":[5,5,5,5],\"name\":\"DataFrame29067\",\"text\":\"&lt;table border=&quot;0&quot; class=&quot;dataframe panel-df&quot;&gt;\\n  &lt;thead&gt;\\n    &lt;tr style=&quot;text-align: right;&quot;&gt;\\n      &lt;th&gt;&lt;/th&gt;\\n      &lt;th&gt;Education&lt;/th&gt;\\n      &lt;th&gt;NumDealsPurchases&lt;/th&gt;\\n    &lt;/tr&gt;\\n  &lt;/thead&gt;\\n  &lt;tbody&gt;\\n    &lt;tr&gt;\\n      &lt;th&gt;0&lt;/th&gt;\\n      &lt;td&gt;2n Cycle&lt;/td&gt;\\n      &lt;td&gt;452&lt;/td&gt;\\n    &lt;/tr&gt;\\n    &lt;tr&gt;\\n      &lt;th&gt;1&lt;/th&gt;\\n      &lt;td&gt;Basic&lt;/td&gt;\\n      &lt;td&gt;97&lt;/td&gt;\\n    &lt;/tr&gt;\\n    &lt;tr&gt;\\n      &lt;th&gt;2&lt;/th&gt;\\n      &lt;td&gt;Graduation&lt;/td&gt;\\n      &lt;td&gt;2576&lt;/td&gt;\\n    &lt;/tr&gt;\\n    &lt;tr&gt;\\n      &lt;th&gt;3&lt;/th&gt;\\n      &lt;td&gt;Master&lt;/td&gt;\\n      &lt;td&gt;885&lt;/td&gt;\\n    &lt;/tr&gt;\\n    &lt;tr&gt;\\n      &lt;th&gt;4&lt;/th&gt;\\n      &lt;td&gt;PhD&lt;/td&gt;\\n      &lt;td&gt;1135&lt;/td&gt;\\n    &lt;/tr&gt;\\n  &lt;/tbody&gt;\\n&lt;/table&gt;\"},\"id\":\"18741\",\"type\":\"panel.models.markup.HTML\"},{\"attributes\":{\"client_comm_id\":\"a3cd49e3fe9543549131f6c83adb2566\",\"comm_id\":\"ab10c65edd064bf3aa12601d082842ac\",\"plot_id\":\"18732\"},\"id\":\"18742\",\"type\":\"panel.models.comm_manager.CommManager\"},{\"attributes\":{\"children\":[{\"id\":\"18741\"}],\"margin\":[0,0,0,0],\"name\":\"Row29036\"},\"id\":\"18740\",\"type\":\"Row\"}],\"root_ids\":[\"18732\",\"18742\"]},\"title\":\"Bokeh Application\",\"version\":\"2.4.2\"}};\n",
       "    var render_items = [{\"docid\":\"65adf3eb-4a35-4f9c-91a9-383c637103bc\",\"root_ids\":[\"18732\"],\"roots\":{\"18732\":\"d6d7abcf-ffb4-40d6-879d-62eac0229d6c\"}}];\n",
       "    root.Bokeh.embed.embed_items_notebook(docs_json, render_items);\n",
       "  }\n",
       "  if (root.Bokeh !== undefined && root.Bokeh.Panel !== undefined && ( root['Tabulator'] !== undefined)) {\n",
       "    embed_document(root);\n",
       "  } else {\n",
       "    var attempts = 0;\n",
       "    var timer = setInterval(function(root) {\n",
       "      if (root.Bokeh !== undefined && root.Bokeh.Panel !== undefined && (root['Tabulator'] !== undefined)) {\n",
       "        clearInterval(timer);\n",
       "        embed_document(root);\n",
       "      } else if (document.readyState == \"complete\") {\n",
       "        attempts++;\n",
       "        if (attempts > 200) {\n",
       "          clearInterval(timer);\n",
       "          console.log(\"Bokeh: ERROR: Unable to run BokehJS code because BokehJS library is missing\");\n",
       "        }\n",
       "      }\n",
       "    }, 25, root)\n",
       "  }\n",
       "})(window);</script>"
      ],
      "text/plain": [
       "<hvplot.interactive.Interactive at 0x15df7ed8730>"
      ]
     },
     "execution_count": 166,
     "metadata": {
      "application/vnd.holoviews_exec.v0+json": {
       "id": "18732"
      }
     },
     "output_type": "execute_result"
    }
   ],
   "source": [
    "edu_data_by_sale_channel = ( \n",
    "    idf[(idf.Income <= max_income_slider) & \n",
    "        (idf.Income >= min_income_slider)]\n",
    "    .groupby(['Education'])[sale_combobox].sum()\n",
    "    .to_frame()\n",
    "    .reset_index()\n",
    "    # .sort_values(by='year')  \n",
    "    .reset_index(drop=True)\n",
    ")\n",
    "edu_data_by_sale_channel"
   ]
  },
  {
   "cell_type": "code",
   "execution_count": 167,
   "metadata": {},
   "outputs": [
    {
     "data": {},
     "metadata": {},
     "output_type": "display_data"
    },
    {
     "data": {},
     "metadata": {},
     "output_type": "display_data"
    },
    {
     "data": {
      "application/vnd.holoviews_exec.v0+json": "",
      "text/html": [
       "<div id='18743'>\n",
       "\n",
       "\n",
       "\n",
       "\n",
       "\n",
       "  <div class=\"bk-root\" id=\"cacc3183-f0f7-44ea-852d-77aface5abbc\" data-root-id=\"18743\"></div>\n",
       "</div>\n",
       "<script type=\"application/javascript\">(function(root) {\n",
       "  function embed_document(root) {\n",
       "    var docs_json = {\"53bd7c0c-d29b-4533-8149-f758316ce37c\":{\"defs\":[{\"extends\":null,\"module\":null,\"name\":\"ReactiveHTML1\",\"overrides\":[],\"properties\":[]},{\"extends\":null,\"module\":null,\"name\":\"FlexBox1\",\"overrides\":[],\"properties\":[{\"default\":\"flex-start\",\"kind\":null,\"name\":\"align_content\"},{\"default\":\"flex-start\",\"kind\":null,\"name\":\"align_items\"},{\"default\":\"row\",\"kind\":null,\"name\":\"flex_direction\"},{\"default\":\"wrap\",\"kind\":null,\"name\":\"flex_wrap\"},{\"default\":\"flex-start\",\"kind\":null,\"name\":\"justify_content\"}]},{\"extends\":null,\"module\":null,\"name\":\"GridStack1\",\"overrides\":[],\"properties\":[{\"default\":\"warn\",\"kind\":null,\"name\":\"mode\"},{\"default\":null,\"kind\":null,\"name\":\"ncols\"},{\"default\":null,\"kind\":null,\"name\":\"nrows\"},{\"default\":true,\"kind\":null,\"name\":\"allow_resize\"},{\"default\":true,\"kind\":null,\"name\":\"allow_drag\"},{\"default\":[],\"kind\":null,\"name\":\"state\"}]},{\"extends\":null,\"module\":null,\"name\":\"click1\",\"overrides\":[],\"properties\":[{\"default\":\"\",\"kind\":null,\"name\":\"terminal_output\"},{\"default\":\"\",\"kind\":null,\"name\":\"debug_name\"},{\"default\":0,\"kind\":null,\"name\":\"clears\"}]},{\"extends\":null,\"module\":null,\"name\":\"TemplateActions1\",\"overrides\":[],\"properties\":[{\"default\":0,\"kind\":null,\"name\":\"open_modal\"},{\"default\":0,\"kind\":null,\"name\":\"close_modal\"}]},{\"extends\":null,\"module\":null,\"name\":\"MaterialTemplateActions1\",\"overrides\":[],\"properties\":[{\"default\":0,\"kind\":null,\"name\":\"open_modal\"},{\"default\":0,\"kind\":null,\"name\":\"close_modal\"}]}],\"roots\":{\"references\":[{\"attributes\":{\"children\":[{\"id\":\"18744\"}],\"margin\":[0,0,0,0],\"name\":\"Row29297\"},\"id\":\"18743\",\"type\":\"Row\"},{\"attributes\":{\"below\":[{\"id\":\"18764\"}],\"center\":[{\"id\":\"18766\"},{\"id\":\"18770\"}],\"height\":300,\"left\":[{\"id\":\"18767\"}],\"margin\":[5,5,5,5],\"min_border_bottom\":10,\"min_border_left\":10,\"min_border_right\":10,\"min_border_top\":10,\"renderers\":[{\"id\":\"18790\"}],\"sizing_mode\":\"fixed\",\"title\":{\"id\":\"18756\"},\"toolbar\":{\"id\":\"18777\"},\"width\":700,\"x_range\":{\"id\":\"18752\"},\"x_scale\":{\"id\":\"18760\"},\"y_range\":{\"id\":\"18753\"},\"y_scale\":{\"id\":\"18762\"}},\"id\":\"18755\",\"subtype\":\"Figure\",\"type\":\"Plot\"},{\"attributes\":{},\"id\":\"18797\",\"type\":\"BasicTickFormatter\"},{\"attributes\":{\"source\":{\"id\":\"18784\"}},\"id\":\"18791\",\"type\":\"CDSView\"},{\"attributes\":{\"end\":162397,\"margin\":[5,10,5,10],\"start\":1730,\"step\":5,\"title\":\"Max Income slider\",\"value\":162397},\"id\":\"18747\",\"type\":\"Slider\"},{\"attributes\":{\"fill_color\":{\"value\":\"#30a2da\"},\"hatch_color\":{\"value\":\"#30a2da\"},\"line_width\":{\"value\":2},\"top\":{\"field\":\"NumDealsPurchases\"},\"width\":{\"value\":0.8},\"x\":{\"field\":\"Education\"}},\"id\":\"18787\",\"type\":\"VBar\"},{\"attributes\":{\"children\":[{\"id\":\"18747\"},{\"id\":\"18748\"},{\"id\":\"18749\"}],\"margin\":[0,0,0,0],\"name\":\"Column29179\"},\"id\":\"18746\",\"type\":\"Column\"},{\"attributes\":{\"coordinates\":null,\"data_source\":{\"id\":\"18784\"},\"glyph\":{\"id\":\"18787\"},\"group\":null,\"hover_glyph\":null,\"muted_glyph\":{\"id\":\"18789\"},\"nonselection_glyph\":{\"id\":\"18788\"},\"selection_glyph\":{\"id\":\"18792\"},\"view\":{\"id\":\"18791\"}},\"id\":\"18790\",\"type\":\"GlyphRenderer\"},{\"attributes\":{\"callback\":null,\"renderers\":[{\"id\":\"18790\"}],\"tags\":[\"hv_created\"],\"tooltips\":[[\"Education\",\"@{Education}\"],[\"NumDealsPurchases\",\"@{NumDealsPurchases}\"]]},\"id\":\"18754\",\"type\":\"HoverTool\"},{\"attributes\":{},\"id\":\"18765\",\"type\":\"CategoricalTicker\"},{\"attributes\":{\"margin\":[5,5,5,5],\"name\":\"HSpacer29294\",\"sizing_mode\":\"stretch_width\"},\"id\":\"18750\",\"type\":\"Spacer\"},{\"attributes\":{},\"id\":\"18794\",\"type\":\"CategoricalTickFormatter\"},{\"attributes\":{},\"id\":\"18762\",\"type\":\"LinearScale\"},{\"attributes\":{\"end\":2823.9,\"reset_end\":2823.9,\"reset_start\":0.0,\"tags\":[[[\"NumDealsPurchases\",\"NumDealsPurchases\",null]]]},\"id\":\"18753\",\"type\":\"Range1d\"},{\"attributes\":{\"fill_alpha\":{\"value\":0.1},\"fill_color\":{\"value\":\"#30a2da\"},\"hatch_alpha\":{\"value\":0.1},\"hatch_color\":{\"value\":\"#30a2da\"},\"line_alpha\":{\"value\":0.1},\"line_width\":{\"value\":2},\"top\":{\"field\":\"NumDealsPurchases\"},\"width\":{\"value\":0.8},\"x\":{\"field\":\"Education\"}},\"id\":\"18788\",\"type\":\"VBar\"},{\"attributes\":{},\"id\":\"18772\",\"type\":\"PanTool\"},{\"attributes\":{\"axis_label\":\"Education\",\"coordinates\":null,\"formatter\":{\"id\":\"18794\"},\"group\":null,\"major_label_orientation\":0.7853981633974483,\"major_label_policy\":{\"id\":\"18795\"},\"ticker\":{\"id\":\"18765\"}},\"id\":\"18764\",\"type\":\"CategoricalAxis\"},{\"attributes\":{\"axis\":{\"id\":\"18767\"},\"coordinates\":null,\"dimension\":1,\"grid_line_color\":null,\"group\":null,\"ticker\":null},\"id\":\"18770\",\"type\":\"Grid\"},{\"attributes\":{},\"id\":\"18806\",\"type\":\"UnionRenderers\"},{\"attributes\":{\"bottom\":{\"value\":0},\"fill_alpha\":{\"value\":1.0},\"fill_color\":{\"value\":\"#30a2da\"},\"hatch_alpha\":{\"value\":1.0},\"hatch_color\":{\"value\":\"#30a2da\"},\"hatch_scale\":{\"value\":12.0},\"hatch_weight\":{\"value\":1.0},\"line_alpha\":{\"value\":1.0},\"line_cap\":{\"value\":\"butt\"},\"line_color\":{\"value\":\"black\"},\"line_dash\":{\"value\":[]},\"line_dash_offset\":{\"value\":0},\"line_join\":{\"value\":\"bevel\"},\"line_width\":{\"value\":2},\"top\":{\"field\":\"NumDealsPurchases\"},\"width\":{\"value\":0.8},\"x\":{\"field\":\"Education\"}},\"id\":\"18792\",\"type\":\"VBar\"},{\"attributes\":{\"axis_label\":\"NumDealsPurchases\",\"coordinates\":null,\"formatter\":{\"id\":\"18797\"},\"group\":null,\"major_label_policy\":{\"id\":\"18798\"},\"ticker\":{\"id\":\"18768\"}},\"id\":\"18767\",\"type\":\"LinearAxis\"},{\"attributes\":{},\"id\":\"18768\",\"type\":\"BasicTicker\"},{\"attributes\":{},\"id\":\"18773\",\"type\":\"WheelZoomTool\"},{\"attributes\":{},\"id\":\"18771\",\"type\":\"SaveTool\"},{\"attributes\":{},\"id\":\"18798\",\"type\":\"AllLabels\"},{\"attributes\":{\"end\":162397,\"margin\":[5,10,5,10],\"start\":1730,\"step\":5,\"title\":\"Min Income slider\",\"value\":1730},\"id\":\"18748\",\"type\":\"Slider\"},{\"attributes\":{},\"id\":\"18760\",\"type\":\"CategoricalScale\"},{\"attributes\":{\"data\":{\"Education\":[\"2n Cycle\",\"Basic\",\"Graduation\",\"Master\",\"PhD\"],\"NumDealsPurchases\":[452,97,2576,885,1135]},\"selected\":{\"id\":\"18785\"},\"selection_policy\":{\"id\":\"18806\"}},\"id\":\"18784\",\"type\":\"ColumnDataSource\"},{\"attributes\":{\"overlay\":{\"id\":\"18776\"}},\"id\":\"18774\",\"type\":\"BoxZoomTool\"},{\"attributes\":{},\"id\":\"18775\",\"type\":\"ResetTool\"},{\"attributes\":{\"axis\":{\"id\":\"18764\"},\"coordinates\":null,\"grid_line_color\":null,\"group\":null,\"ticker\":null},\"id\":\"18766\",\"type\":\"Grid\"},{\"attributes\":{\"children\":[{\"id\":\"18746\"},{\"id\":\"18750\"}],\"margin\":[0,0,0,0],\"name\":\"Row29295\"},\"id\":\"18745\",\"type\":\"Row\"},{\"attributes\":{\"margin\":[5,10,5,10],\"options\":[\"NumDealsPurchases\",\"NumWebPurchases\",\"NumCatalogPurchases\",\"NumStorePurchases\"],\"value\":\"NumDealsPurchases\"},\"id\":\"18749\",\"type\":\"panel.models.widgets.CustomSelect\"},{\"attributes\":{\"children\":[{\"id\":\"18755\"}],\"margin\":[0,0,0,0],\"name\":\"Row29184\"},\"id\":\"18751\",\"type\":\"Row\"},{\"attributes\":{\"bottom_units\":\"screen\",\"coordinates\":null,\"fill_alpha\":0.5,\"fill_color\":\"lightgrey\",\"group\":null,\"left_units\":\"screen\",\"level\":\"overlay\",\"line_alpha\":1.0,\"line_color\":\"black\",\"line_dash\":[4,4],\"line_width\":2,\"right_units\":\"screen\",\"syncable\":false,\"top_units\":\"screen\"},\"id\":\"18776\",\"type\":\"BoxAnnotation\"},{\"attributes\":{},\"id\":\"18795\",\"type\":\"AllLabels\"},{\"attributes\":{\"tools\":[{\"id\":\"18754\"},{\"id\":\"18771\"},{\"id\":\"18772\"},{\"id\":\"18773\"},{\"id\":\"18774\"},{\"id\":\"18775\"}]},\"id\":\"18777\",\"type\":\"Toolbar\"},{\"attributes\":{\"children\":[{\"id\":\"18745\"},{\"id\":\"18751\"}],\"margin\":[0,0,0,0],\"name\":\"Column29296\"},\"id\":\"18744\",\"type\":\"Column\"},{\"attributes\":{\"coordinates\":null,\"group\":null,\"text\":\"T\\u1ef7 l\\u1ec7 h\\u1ecdc v\\u1ea5n mua theo k\\u00eanh\",\"text_color\":\"black\",\"text_font_size\":\"12pt\"},\"id\":\"18756\",\"type\":\"Title\"},{\"attributes\":{\"client_comm_id\":\"487a464e3d304327860a3e8aa718ec22\",\"comm_id\":\"d603b723b30646458b62b23f3a29436d\",\"plot_id\":\"18743\"},\"id\":\"18849\",\"type\":\"panel.models.comm_manager.CommManager\"},{\"attributes\":{},\"id\":\"18785\",\"type\":\"Selection\"},{\"attributes\":{\"factors\":[\"2n Cycle\",\"Basic\",\"Graduation\",\"Master\",\"PhD\"],\"tags\":[[[\"Education\",\"Education\",null]]]},\"id\":\"18752\",\"type\":\"FactorRange\"},{\"attributes\":{\"fill_alpha\":{\"value\":0.2},\"fill_color\":{\"value\":\"#30a2da\"},\"hatch_alpha\":{\"value\":0.2},\"hatch_color\":{\"value\":\"#30a2da\"},\"line_alpha\":{\"value\":0.2},\"line_width\":{\"value\":2},\"top\":{\"field\":\"NumDealsPurchases\"},\"width\":{\"value\":0.8},\"x\":{\"field\":\"Education\"}},\"id\":\"18789\",\"type\":\"VBar\"}],\"root_ids\":[\"18743\",\"18849\"]},\"title\":\"Bokeh Application\",\"version\":\"2.4.2\"}};\n",
       "    var render_items = [{\"docid\":\"53bd7c0c-d29b-4533-8149-f758316ce37c\",\"root_ids\":[\"18743\"],\"roots\":{\"18743\":\"cacc3183-f0f7-44ea-852d-77aface5abbc\"}}];\n",
       "    root.Bokeh.embed.embed_items_notebook(docs_json, render_items);\n",
       "  }\n",
       "  if (root.Bokeh !== undefined && root.Bokeh.Panel !== undefined && ( root['Tabulator'] !== undefined)) {\n",
       "    embed_document(root);\n",
       "  } else {\n",
       "    var attempts = 0;\n",
       "    var timer = setInterval(function(root) {\n",
       "      if (root.Bokeh !== undefined && root.Bokeh.Panel !== undefined && (root['Tabulator'] !== undefined)) {\n",
       "        clearInterval(timer);\n",
       "        embed_document(root);\n",
       "      } else if (document.readyState == \"complete\") {\n",
       "        attempts++;\n",
       "        if (attempts > 200) {\n",
       "          clearInterval(timer);\n",
       "          console.log(\"Bokeh: ERROR: Unable to run BokehJS code because BokehJS library is missing\");\n",
       "        }\n",
       "      }\n",
       "    }, 25, root)\n",
       "  }\n",
       "})(window);</script>"
      ],
      "text/plain": [
       "<hvplot.interactive.Interactive at 0x15df7eda530>"
      ]
     },
     "execution_count": 167,
     "metadata": {
      "application/vnd.holoviews_exec.v0+json": {
       "id": "18743"
      }
     },
     "output_type": "execute_result"
    }
   ],
   "source": [
    "# Vẽ bar theo kênh bán hàng\n",
    "edu_plot_by_sale_channel = edu_data_by_sale_channel.hvplot(kind='bar', x='Education', y=sale_combobox,line_width=2, title=\"Tỷ lệ học vấn mua theo kênh\",rot=45)\n",
    "edu_plot_by_sale_channel"
   ]
  },
  {
   "cell_type": "code",
   "execution_count": 168,
   "metadata": {},
   "outputs": [
    {
     "data": {},
     "metadata": {},
     "output_type": "display_data"
    },
    {
     "data": {
      "application/vnd.holoviews_exec.v0+json": "",
      "text/html": [
       "<div id='18900'>\n",
       "\n",
       "\n",
       "\n",
       "\n",
       "\n",
       "  <div class=\"bk-root\" id=\"96620ccc-df72-4c62-ad75-88fb33987f98\" data-root-id=\"18900\"></div>\n",
       "</div>\n",
       "<script type=\"application/javascript\">(function(root) {\n",
       "  function embed_document(root) {\n",
       "    var docs_json = {\"d93cc3eb-d01d-4457-a6bb-70ce95a724a5\":{\"defs\":[{\"extends\":null,\"module\":null,\"name\":\"ReactiveHTML1\",\"overrides\":[],\"properties\":[]},{\"extends\":null,\"module\":null,\"name\":\"FlexBox1\",\"overrides\":[],\"properties\":[{\"default\":\"flex-start\",\"kind\":null,\"name\":\"align_content\"},{\"default\":\"flex-start\",\"kind\":null,\"name\":\"align_items\"},{\"default\":\"row\",\"kind\":null,\"name\":\"flex_direction\"},{\"default\":\"wrap\",\"kind\":null,\"name\":\"flex_wrap\"},{\"default\":\"flex-start\",\"kind\":null,\"name\":\"justify_content\"}]},{\"extends\":null,\"module\":null,\"name\":\"GridStack1\",\"overrides\":[],\"properties\":[{\"default\":\"warn\",\"kind\":null,\"name\":\"mode\"},{\"default\":null,\"kind\":null,\"name\":\"ncols\"},{\"default\":null,\"kind\":null,\"name\":\"nrows\"},{\"default\":true,\"kind\":null,\"name\":\"allow_resize\"},{\"default\":true,\"kind\":null,\"name\":\"allow_drag\"},{\"default\":[],\"kind\":null,\"name\":\"state\"}]},{\"extends\":null,\"module\":null,\"name\":\"click1\",\"overrides\":[],\"properties\":[{\"default\":\"\",\"kind\":null,\"name\":\"terminal_output\"},{\"default\":\"\",\"kind\":null,\"name\":\"debug_name\"},{\"default\":0,\"kind\":null,\"name\":\"clears\"}]},{\"extends\":null,\"module\":null,\"name\":\"TemplateActions1\",\"overrides\":[],\"properties\":[{\"default\":0,\"kind\":null,\"name\":\"open_modal\"},{\"default\":0,\"kind\":null,\"name\":\"close_modal\"}]},{\"extends\":null,\"module\":null,\"name\":\"MaterialTemplateActions1\",\"overrides\":[],\"properties\":[{\"default\":0,\"kind\":null,\"name\":\"open_modal\"},{\"default\":0,\"kind\":null,\"name\":\"close_modal\"}]}],\"roots\":{\"references\":[{\"attributes\":{\"end\":162397,\"margin\":[5,10,5,10],\"start\":1730,\"step\":5,\"title\":\"Max Income slider\",\"value\":162397},\"id\":\"18904\",\"type\":\"Slider\"},{\"attributes\":{\"margin\":[5,5,5,5],\"name\":\"HSpacer29769\",\"sizing_mode\":\"stretch_width\"},\"id\":\"18907\",\"type\":\"Spacer\"},{\"attributes\":{\"children\":[{\"id\":\"18904\"},{\"id\":\"18905\"},{\"id\":\"18906\"}],\"margin\":[0,0,0,0],\"name\":\"Column29728\"},\"id\":\"18903\",\"type\":\"Column\"},{\"attributes\":{\"client_comm_id\":\"450be0c86b0241449a4e8dd0946143a7\",\"comm_id\":\"81f8202b482d42ce8287e5842b1f64bb\",\"plot_id\":\"18900\"},\"id\":\"18910\",\"type\":\"panel.models.comm_manager.CommManager\"},{\"attributes\":{\"children\":[{\"id\":\"18903\"},{\"id\":\"18907\"}],\"margin\":[0,0,0,0],\"name\":\"Row29770\"},\"id\":\"18902\",\"type\":\"Row\"},{\"attributes\":{\"margin\":[5,5,5,5],\"name\":\"DataFrame29767\",\"text\":\"&lt;table border=&quot;0&quot; class=&quot;dataframe panel-df&quot;&gt;\\n  &lt;thead&gt;\\n    &lt;tr style=&quot;text-align: right;&quot;&gt;\\n      &lt;th&gt;&lt;/th&gt;\\n      &lt;th&gt;Education&lt;/th&gt;\\n      &lt;th&gt;TotalPurchases&lt;/th&gt;\\n    &lt;/tr&gt;\\n  &lt;/thead&gt;\\n  &lt;tbody&gt;\\n    &lt;tr&gt;\\n      &lt;th&gt;0&lt;/th&gt;\\n      &lt;td&gt;2n Cycle&lt;/td&gt;\\n      &lt;td&gt;1878&lt;/td&gt;\\n    &lt;/tr&gt;\\n    &lt;tr&gt;\\n      &lt;th&gt;1&lt;/th&gt;\\n      &lt;td&gt;Basic&lt;/td&gt;\\n      &lt;td&gt;145&lt;/td&gt;\\n    &lt;/tr&gt;\\n    &lt;tr&gt;\\n      &lt;th&gt;2&lt;/th&gt;\\n      &lt;td&gt;Graduation&lt;/td&gt;\\n      &lt;td&gt;11797&lt;/td&gt;\\n    &lt;/tr&gt;\\n    &lt;tr&gt;\\n      &lt;th&gt;3&lt;/th&gt;\\n      &lt;td&gt;Master&lt;/td&gt;\\n      &lt;td&gt;3645&lt;/td&gt;\\n    &lt;/tr&gt;\\n    &lt;tr&gt;\\n      &lt;th&gt;4&lt;/th&gt;\\n      &lt;td&gt;PhD&lt;/td&gt;\\n      &lt;td&gt;5783&lt;/td&gt;\\n    &lt;/tr&gt;\\n  &lt;/tbody&gt;\\n&lt;/table&gt;\"},\"id\":\"18909\",\"type\":\"panel.models.markup.HTML\"},{\"attributes\":{\"active\":0,\"button_type\":\"success\",\"labels\":[\"0\",\"1\",\"2\"],\"margin\":[5,10,5,10]},\"id\":\"18906\",\"type\":\"RadioButtonGroup\"},{\"attributes\":{\"children\":[{\"id\":\"18902\"},{\"id\":\"18908\"}],\"margin\":[0,0,0,0],\"name\":\"Column29771\"},\"id\":\"18901\",\"type\":\"Column\"},{\"attributes\":{\"children\":[{\"id\":\"18901\"}],\"margin\":[0,0,0,0],\"name\":\"Row29772\"},\"id\":\"18900\",\"type\":\"Row\"},{\"attributes\":{\"children\":[{\"id\":\"18909\"}],\"margin\":[0,0,0,0],\"name\":\"Row29733\"},\"id\":\"18908\",\"type\":\"Row\"},{\"attributes\":{\"end\":162397,\"margin\":[5,10,5,10],\"start\":1730,\"step\":5,\"title\":\"Min Income slider\",\"value\":1730},\"id\":\"18905\",\"type\":\"Slider\"}],\"root_ids\":[\"18900\",\"18910\"]},\"title\":\"Bokeh Application\",\"version\":\"2.4.2\"}};\n",
       "    var render_items = [{\"docid\":\"d93cc3eb-d01d-4457-a6bb-70ce95a724a5\",\"root_ids\":[\"18900\"],\"roots\":{\"18900\":\"96620ccc-df72-4c62-ad75-88fb33987f98\"}}];\n",
       "    root.Bokeh.embed.embed_items_notebook(docs_json, render_items);\n",
       "  }\n",
       "  if (root.Bokeh !== undefined && root.Bokeh.Panel !== undefined && ( root['Tabulator'] !== undefined)) {\n",
       "    embed_document(root);\n",
       "  } else {\n",
       "    var attempts = 0;\n",
       "    var timer = setInterval(function(root) {\n",
       "      if (root.Bokeh !== undefined && root.Bokeh.Panel !== undefined && (root['Tabulator'] !== undefined)) {\n",
       "        clearInterval(timer);\n",
       "        embed_document(root);\n",
       "      } else if (document.readyState == \"complete\") {\n",
       "        attempts++;\n",
       "        if (attempts > 200) {\n",
       "          clearInterval(timer);\n",
       "          console.log(\"Bokeh: ERROR: Unable to run BokehJS code because BokehJS library is missing\");\n",
       "        }\n",
       "      }\n",
       "    }, 25, root)\n",
       "  }\n",
       "})(window);</script>"
      ],
      "text/plain": [
       "<hvplot.interactive.Interactive at 0x15df7eda6e0>"
      ]
     },
     "execution_count": 168,
     "metadata": {
      "application/vnd.holoviews_exec.v0+json": {
       "id": "18900"
      }
     },
     "output_type": "execute_result"
    }
   ],
   "source": [
    "# Sức mua theo số trẻ em theo tình trạng hôn nhân\n",
    "edu_data_by_kid = ( \n",
    "    idf[(idf.Income <= max_income_slider) & \n",
    "        (idf.Income >= min_income_slider) & (idf.Kidhome == childrent_radio_group)]\n",
    "    .groupby(['Education'])['TotalPurchases'].sum()\n",
    "    .to_frame()\n",
    "    .reset_index()\n",
    "    # .sort_values(by='year')  \n",
    "    .reset_index(drop=True)\n",
    ")\n",
    "edu_data_by_kid"
   ]
  },
  {
   "cell_type": "code",
   "execution_count": 169,
   "metadata": {},
   "outputs": [
    {
     "data": {},
     "metadata": {},
     "output_type": "display_data"
    },
    {
     "data": {},
     "metadata": {},
     "output_type": "display_data"
    },
    {
     "data": {
      "application/vnd.holoviews_exec.v0+json": "",
      "text/html": [
       "<div id='18911'>\n",
       "\n",
       "\n",
       "\n",
       "\n",
       "\n",
       "  <div class=\"bk-root\" id=\"bff7ff4d-c555-40e5-bbbb-84a0e7a2733e\" data-root-id=\"18911\"></div>\n",
       "</div>\n",
       "<script type=\"application/javascript\">(function(root) {\n",
       "  function embed_document(root) {\n",
       "    var docs_json = {\"518375f7-ec6a-40f7-8089-3038faa1c118\":{\"defs\":[{\"extends\":null,\"module\":null,\"name\":\"ReactiveHTML1\",\"overrides\":[],\"properties\":[]},{\"extends\":null,\"module\":null,\"name\":\"FlexBox1\",\"overrides\":[],\"properties\":[{\"default\":\"flex-start\",\"kind\":null,\"name\":\"align_content\"},{\"default\":\"flex-start\",\"kind\":null,\"name\":\"align_items\"},{\"default\":\"row\",\"kind\":null,\"name\":\"flex_direction\"},{\"default\":\"wrap\",\"kind\":null,\"name\":\"flex_wrap\"},{\"default\":\"flex-start\",\"kind\":null,\"name\":\"justify_content\"}]},{\"extends\":null,\"module\":null,\"name\":\"GridStack1\",\"overrides\":[],\"properties\":[{\"default\":\"warn\",\"kind\":null,\"name\":\"mode\"},{\"default\":null,\"kind\":null,\"name\":\"ncols\"},{\"default\":null,\"kind\":null,\"name\":\"nrows\"},{\"default\":true,\"kind\":null,\"name\":\"allow_resize\"},{\"default\":true,\"kind\":null,\"name\":\"allow_drag\"},{\"default\":[],\"kind\":null,\"name\":\"state\"}]},{\"extends\":null,\"module\":null,\"name\":\"click1\",\"overrides\":[],\"properties\":[{\"default\":\"\",\"kind\":null,\"name\":\"terminal_output\"},{\"default\":\"\",\"kind\":null,\"name\":\"debug_name\"},{\"default\":0,\"kind\":null,\"name\":\"clears\"}]},{\"extends\":null,\"module\":null,\"name\":\"TemplateActions1\",\"overrides\":[],\"properties\":[{\"default\":0,\"kind\":null,\"name\":\"open_modal\"},{\"default\":0,\"kind\":null,\"name\":\"close_modal\"}]},{\"extends\":null,\"module\":null,\"name\":\"MaterialTemplateActions1\",\"overrides\":[],\"properties\":[{\"default\":0,\"kind\":null,\"name\":\"open_modal\"},{\"default\":0,\"kind\":null,\"name\":\"close_modal\"}]}],\"roots\":{\"references\":[{\"attributes\":{\"coordinates\":null,\"group\":null,\"text\":\"T\\u1ef7 l\\u1ec7 h\\u1ecdc v\\u1ea5n mua theo s\\u1ed1 tr\\u1ebb\",\"text_color\":\"black\",\"text_font_size\":\"12pt\"},\"id\":\"18924\",\"type\":\"Title\"},{\"attributes\":{\"active\":0,\"button_type\":\"success\",\"labels\":[\"0\",\"1\",\"2\"],\"margin\":[5,10,5,10]},\"id\":\"18917\",\"type\":\"RadioButtonGroup\"},{\"attributes\":{\"factors\":[\"2n Cycle\",\"Basic\",\"Graduation\",\"Master\",\"PhD\"],\"tags\":[[[\"Education\",\"Education\",null]]]},\"id\":\"18920\",\"type\":\"FactorRange\"},{\"attributes\":{\"data\":{\"Education\":[\"2n Cycle\",\"Basic\",\"Graduation\",\"Master\",\"PhD\"],\"TotalPurchases\":[1878,145,11797,3645,5783]},\"selected\":{\"id\":\"18953\"},\"selection_policy\":{\"id\":\"18974\"}},\"id\":\"18952\",\"type\":\"ColumnDataSource\"},{\"attributes\":{\"below\":[{\"id\":\"18932\"}],\"center\":[{\"id\":\"18934\"},{\"id\":\"18938\"}],\"height\":300,\"left\":[{\"id\":\"18935\"}],\"margin\":[5,5,5,5],\"min_border_bottom\":10,\"min_border_left\":10,\"min_border_right\":10,\"min_border_top\":10,\"renderers\":[{\"id\":\"18958\"}],\"sizing_mode\":\"fixed\",\"title\":{\"id\":\"18924\"},\"toolbar\":{\"id\":\"18945\"},\"width\":700,\"x_range\":{\"id\":\"18920\"},\"x_scale\":{\"id\":\"18928\"},\"y_range\":{\"id\":\"18921\"},\"y_scale\":{\"id\":\"18930\"}},\"id\":\"18923\",\"subtype\":\"Figure\",\"type\":\"Plot\"},{\"attributes\":{\"fill_color\":{\"value\":\"#30a2da\"},\"hatch_color\":{\"value\":\"#30a2da\"},\"line_width\":{\"value\":2},\"top\":{\"field\":\"TotalPurchases\"},\"width\":{\"value\":0.8},\"x\":{\"field\":\"Education\"}},\"id\":\"18955\",\"type\":\"VBar\"},{\"attributes\":{},\"id\":\"18953\",\"type\":\"Selection\"},{\"attributes\":{\"children\":[{\"id\":\"18912\"}],\"margin\":[0,0,0,0],\"name\":\"Row30154\"},\"id\":\"18911\",\"type\":\"Row\"},{\"attributes\":{\"callback\":null,\"renderers\":[{\"id\":\"18958\"}],\"tags\":[\"hv_created\"],\"tooltips\":[[\"Education\",\"@{Education}\"],[\"TotalPurchases\",\"@{TotalPurchases}\"]]},\"id\":\"18922\",\"type\":\"HoverTool\"},{\"attributes\":{\"end\":162397,\"margin\":[5,10,5,10],\"start\":1730,\"step\":5,\"title\":\"Max Income slider\",\"value\":162397},\"id\":\"18915\",\"type\":\"Slider\"},{\"attributes\":{},\"id\":\"18933\",\"type\":\"CategoricalTicker\"},{\"attributes\":{\"end\":162397,\"margin\":[5,10,5,10],\"start\":1730,\"step\":5,\"title\":\"Min Income slider\",\"value\":1730},\"id\":\"18916\",\"type\":\"Slider\"},{\"attributes\":{},\"id\":\"18930\",\"type\":\"LinearScale\"},{\"attributes\":{\"source\":{\"id\":\"18952\"}},\"id\":\"18959\",\"type\":\"CDSView\"},{\"attributes\":{\"children\":[{\"id\":\"18923\"}],\"margin\":[0,0,0,0],\"name\":\"Row30038\"},\"id\":\"18919\",\"type\":\"Row\"},{\"attributes\":{\"fill_alpha\":{\"value\":0.2},\"fill_color\":{\"value\":\"#30a2da\"},\"hatch_alpha\":{\"value\":0.2},\"hatch_color\":{\"value\":\"#30a2da\"},\"line_alpha\":{\"value\":0.2},\"line_width\":{\"value\":2},\"top\":{\"field\":\"TotalPurchases\"},\"width\":{\"value\":0.8},\"x\":{\"field\":\"Education\"}},\"id\":\"18957\",\"type\":\"VBar\"},{\"attributes\":{\"coordinates\":null,\"data_source\":{\"id\":\"18952\"},\"glyph\":{\"id\":\"18955\"},\"group\":null,\"hover_glyph\":null,\"muted_glyph\":{\"id\":\"18957\"},\"nonselection_glyph\":{\"id\":\"18956\"},\"selection_glyph\":{\"id\":\"18960\"},\"view\":{\"id\":\"18959\"}},\"id\":\"18958\",\"type\":\"GlyphRenderer\"},{\"attributes\":{\"end\":12962.2,\"reset_end\":12962.2,\"reset_start\":0.0,\"tags\":[[[\"TotalPurchases\",\"TotalPurchases\",null]]]},\"id\":\"18921\",\"type\":\"Range1d\"},{\"attributes\":{\"children\":[{\"id\":\"18915\"},{\"id\":\"18916\"},{\"id\":\"18917\"}],\"margin\":[0,0,0,0],\"name\":\"Column30033\"},\"id\":\"18914\",\"type\":\"Column\"},{\"attributes\":{\"fill_alpha\":{\"value\":0.1},\"fill_color\":{\"value\":\"#30a2da\"},\"hatch_alpha\":{\"value\":0.1},\"hatch_color\":{\"value\":\"#30a2da\"},\"line_alpha\":{\"value\":0.1},\"line_width\":{\"value\":2},\"top\":{\"field\":\"TotalPurchases\"},\"width\":{\"value\":0.8},\"x\":{\"field\":\"Education\"}},\"id\":\"18956\",\"type\":\"VBar\"},{\"attributes\":{},\"id\":\"18940\",\"type\":\"PanTool\"},{\"attributes\":{\"axis_label\":\"Education\",\"coordinates\":null,\"formatter\":{\"id\":\"18962\"},\"group\":null,\"major_label_orientation\":0.7853981633974483,\"major_label_policy\":{\"id\":\"18963\"},\"ticker\":{\"id\":\"18933\"}},\"id\":\"18932\",\"type\":\"CategoricalAxis\"},{\"attributes\":{\"axis\":{\"id\":\"18935\"},\"coordinates\":null,\"dimension\":1,\"grid_line_color\":null,\"group\":null,\"ticker\":null},\"id\":\"18938\",\"type\":\"Grid\"},{\"attributes\":{\"bottom\":{\"value\":0},\"fill_alpha\":{\"value\":1.0},\"fill_color\":{\"value\":\"#30a2da\"},\"hatch_alpha\":{\"value\":1.0},\"hatch_color\":{\"value\":\"#30a2da\"},\"hatch_scale\":{\"value\":12.0},\"hatch_weight\":{\"value\":1.0},\"line_alpha\":{\"value\":1.0},\"line_cap\":{\"value\":\"butt\"},\"line_color\":{\"value\":\"black\"},\"line_dash\":{\"value\":[]},\"line_dash_offset\":{\"value\":0},\"line_join\":{\"value\":\"bevel\"},\"line_width\":{\"value\":2},\"top\":{\"field\":\"TotalPurchases\"},\"width\":{\"value\":0.8},\"x\":{\"field\":\"Education\"}},\"id\":\"18960\",\"type\":\"VBar\"},{\"attributes\":{},\"id\":\"18962\",\"type\":\"CategoricalTickFormatter\"},{\"attributes\":{\"margin\":[5,5,5,5],\"name\":\"HSpacer30151\",\"sizing_mode\":\"stretch_width\"},\"id\":\"18918\",\"type\":\"Spacer\"},{\"attributes\":{\"children\":[{\"id\":\"18914\"},{\"id\":\"18918\"}],\"margin\":[0,0,0,0],\"name\":\"Row30152\"},\"id\":\"18913\",\"type\":\"Row\"},{\"attributes\":{\"axis_label\":\"TotalPurchases\",\"coordinates\":null,\"formatter\":{\"id\":\"18965\"},\"group\":null,\"major_label_policy\":{\"id\":\"18966\"},\"ticker\":{\"id\":\"18936\"}},\"id\":\"18935\",\"type\":\"LinearAxis\"},{\"attributes\":{},\"id\":\"18966\",\"type\":\"AllLabels\"},{\"attributes\":{},\"id\":\"18936\",\"type\":\"BasicTicker\"},{\"attributes\":{},\"id\":\"18941\",\"type\":\"WheelZoomTool\"},{\"attributes\":{\"children\":[{\"id\":\"18913\"},{\"id\":\"18919\"}],\"margin\":[0,0,0,0],\"name\":\"Column30153\"},\"id\":\"18912\",\"type\":\"Column\"},{\"attributes\":{},\"id\":\"18939\",\"type\":\"SaveTool\"},{\"attributes\":{},\"id\":\"18928\",\"type\":\"CategoricalScale\"},{\"attributes\":{},\"id\":\"18974\",\"type\":\"UnionRenderers\"},{\"attributes\":{\"overlay\":{\"id\":\"18944\"}},\"id\":\"18942\",\"type\":\"BoxZoomTool\"},{\"attributes\":{},\"id\":\"18965\",\"type\":\"BasicTickFormatter\"},{\"attributes\":{},\"id\":\"18943\",\"type\":\"ResetTool\"},{\"attributes\":{\"axis\":{\"id\":\"18932\"},\"coordinates\":null,\"grid_line_color\":null,\"group\":null,\"ticker\":null},\"id\":\"18934\",\"type\":\"Grid\"},{\"attributes\":{\"bottom_units\":\"screen\",\"coordinates\":null,\"fill_alpha\":0.5,\"fill_color\":\"lightgrey\",\"group\":null,\"left_units\":\"screen\",\"level\":\"overlay\",\"line_alpha\":1.0,\"line_color\":\"black\",\"line_dash\":[4,4],\"line_width\":2,\"right_units\":\"screen\",\"syncable\":false,\"top_units\":\"screen\"},\"id\":\"18944\",\"type\":\"BoxAnnotation\"},{\"attributes\":{\"client_comm_id\":\"ccf8f50b989d485c9e3276ca31c10a3f\",\"comm_id\":\"3e40439d3c024375a03b2908be451c87\",\"plot_id\":\"18911\"},\"id\":\"19017\",\"type\":\"panel.models.comm_manager.CommManager\"},{\"attributes\":{},\"id\":\"18963\",\"type\":\"AllLabels\"},{\"attributes\":{\"tools\":[{\"id\":\"18922\"},{\"id\":\"18939\"},{\"id\":\"18940\"},{\"id\":\"18941\"},{\"id\":\"18942\"},{\"id\":\"18943\"}]},\"id\":\"18945\",\"type\":\"Toolbar\"}],\"root_ids\":[\"18911\",\"19017\"]},\"title\":\"Bokeh Application\",\"version\":\"2.4.2\"}};\n",
       "    var render_items = [{\"docid\":\"518375f7-ec6a-40f7-8089-3038faa1c118\",\"root_ids\":[\"18911\"],\"roots\":{\"18911\":\"bff7ff4d-c555-40e5-bbbb-84a0e7a2733e\"}}];\n",
       "    root.Bokeh.embed.embed_items_notebook(docs_json, render_items);\n",
       "  }\n",
       "  if (root.Bokeh !== undefined && root.Bokeh.Panel !== undefined && ( root['Tabulator'] !== undefined)) {\n",
       "    embed_document(root);\n",
       "  } else {\n",
       "    var attempts = 0;\n",
       "    var timer = setInterval(function(root) {\n",
       "      if (root.Bokeh !== undefined && root.Bokeh.Panel !== undefined && (root['Tabulator'] !== undefined)) {\n",
       "        clearInterval(timer);\n",
       "        embed_document(root);\n",
       "      } else if (document.readyState == \"complete\") {\n",
       "        attempts++;\n",
       "        if (attempts > 200) {\n",
       "          clearInterval(timer);\n",
       "          console.log(\"Bokeh: ERROR: Unable to run BokehJS code because BokehJS library is missing\");\n",
       "        }\n",
       "      }\n",
       "    }, 25, root)\n",
       "  }\n",
       "})(window);</script>"
      ],
      "text/plain": [
       "<hvplot.interactive.Interactive at 0x15df7f627a0>"
      ]
     },
     "execution_count": 169,
     "metadata": {
      "application/vnd.holoviews_exec.v0+json": {
       "id": "18911"
      }
     },
     "output_type": "execute_result"
    }
   ],
   "source": [
    "# Vẽ bar theo kênh bán hàng\n",
    "edu_by_kid = edu_data_by_kid.hvplot(kind='bar', x='Education', y='TotalPurchases',line_width=2, title=\"Tỷ lệ học vấn mua theo số trẻ\",rot=45)\n",
    "edu_by_kid.opts(xrotation=90)\n",
    "edu_by_kid"
   ]
  },
  {
   "cell_type": "code",
   "execution_count": 170,
   "metadata": {},
   "outputs": [
    {
     "data": {
      "text/plain": [
       "False"
      ]
     },
     "execution_count": 170,
     "metadata": {},
     "output_type": "execute_result"
    }
   ],
   "source": [
    "teen_home_radio_group.value != -1"
   ]
  },
  {
   "cell_type": "code",
   "execution_count": null,
   "metadata": {},
   "outputs": [],
   "source": []
  },
  {
   "cell_type": "code",
   "execution_count": 171,
   "metadata": {},
   "outputs": [
    {
     "data": {},
     "metadata": {},
     "output_type": "display_data"
    },
    {
     "data": {
      "application/vnd.holoviews_exec.v0+json": "",
      "text/html": [
       "<div id='19068'>\n",
       "\n",
       "\n",
       "\n",
       "\n",
       "\n",
       "  <div class=\"bk-root\" id=\"a9b89a7b-bbfa-48a6-a203-b59cb144beda\" data-root-id=\"19068\"></div>\n",
       "</div>\n",
       "<script type=\"application/javascript\">(function(root) {\n",
       "  function embed_document(root) {\n",
       "    var docs_json = {\"4de17933-5492-4e73-a1cb-6d15490bd833\":{\"defs\":[{\"extends\":null,\"module\":null,\"name\":\"ReactiveHTML1\",\"overrides\":[],\"properties\":[]},{\"extends\":null,\"module\":null,\"name\":\"FlexBox1\",\"overrides\":[],\"properties\":[{\"default\":\"flex-start\",\"kind\":null,\"name\":\"align_content\"},{\"default\":\"flex-start\",\"kind\":null,\"name\":\"align_items\"},{\"default\":\"row\",\"kind\":null,\"name\":\"flex_direction\"},{\"default\":\"wrap\",\"kind\":null,\"name\":\"flex_wrap\"},{\"default\":\"flex-start\",\"kind\":null,\"name\":\"justify_content\"}]},{\"extends\":null,\"module\":null,\"name\":\"GridStack1\",\"overrides\":[],\"properties\":[{\"default\":\"warn\",\"kind\":null,\"name\":\"mode\"},{\"default\":null,\"kind\":null,\"name\":\"ncols\"},{\"default\":null,\"kind\":null,\"name\":\"nrows\"},{\"default\":true,\"kind\":null,\"name\":\"allow_resize\"},{\"default\":true,\"kind\":null,\"name\":\"allow_drag\"},{\"default\":[],\"kind\":null,\"name\":\"state\"}]},{\"extends\":null,\"module\":null,\"name\":\"click1\",\"overrides\":[],\"properties\":[{\"default\":\"\",\"kind\":null,\"name\":\"terminal_output\"},{\"default\":\"\",\"kind\":null,\"name\":\"debug_name\"},{\"default\":0,\"kind\":null,\"name\":\"clears\"}]},{\"extends\":null,\"module\":null,\"name\":\"TemplateActions1\",\"overrides\":[],\"properties\":[{\"default\":0,\"kind\":null,\"name\":\"open_modal\"},{\"default\":0,\"kind\":null,\"name\":\"close_modal\"}]},{\"extends\":null,\"module\":null,\"name\":\"MaterialTemplateActions1\",\"overrides\":[],\"properties\":[{\"default\":0,\"kind\":null,\"name\":\"open_modal\"},{\"default\":0,\"kind\":null,\"name\":\"close_modal\"}]}],\"roots\":{\"references\":[{\"attributes\":{\"children\":[{\"id\":\"19072\"},{\"id\":\"19073\"},{\"id\":\"19074\"}],\"margin\":[0,0,0,0],\"name\":\"Column30660\"},\"id\":\"19071\",\"type\":\"Column\"},{\"attributes\":{\"children\":[{\"id\":\"19069\"}],\"margin\":[0,0,0,0],\"name\":\"Row30707\"},\"id\":\"19068\",\"type\":\"Row\"},{\"attributes\":{\"children\":[{\"id\":\"19070\"},{\"id\":\"19076\"}],\"margin\":[0,0,0,0],\"name\":\"Column30706\"},\"id\":\"19069\",\"type\":\"Column\"},{\"attributes\":{\"client_comm_id\":\"03b9c2ab78744b708061e14db1b20fcc\",\"comm_id\":\"58489cc31a334a3089f390f6a8acff5d\",\"plot_id\":\"19068\"},\"id\":\"19078\",\"type\":\"panel.models.comm_manager.CommManager\"},{\"attributes\":{\"children\":[{\"id\":\"19077\"}],\"margin\":[0,0,0,0],\"name\":\"Row30665\"},\"id\":\"19076\",\"type\":\"Row\"},{\"attributes\":{\"end\":162397,\"margin\":[5,10,5,10],\"start\":1730,\"step\":5,\"title\":\"Min Income slider\",\"value\":1730},\"id\":\"19073\",\"type\":\"Slider\"},{\"attributes\":{\"margin\":[5,5,5,5],\"name\":\"HSpacer30704\",\"sizing_mode\":\"stretch_width\"},\"id\":\"19075\",\"type\":\"Spacer\"},{\"attributes\":{\"children\":[{\"id\":\"19071\"},{\"id\":\"19075\"}],\"margin\":[0,0,0,0],\"name\":\"Row30705\"},\"id\":\"19070\",\"type\":\"Row\"},{\"attributes\":{\"end\":162397,\"margin\":[5,10,5,10],\"start\":1730,\"step\":5,\"title\":\"Max Income slider\",\"value\":162397},\"id\":\"19072\",\"type\":\"Slider\"},{\"attributes\":{\"margin\":[5,5,5,5],\"name\":\"DataFrame30702\",\"text\":\"&lt;table border=&quot;0&quot; class=&quot;dataframe panel-df&quot;&gt;\\n  &lt;thead&gt;\\n    &lt;tr style=&quot;text-align: right;&quot;&gt;\\n      &lt;th&gt;&lt;/th&gt;\\n      &lt;th&gt;Marital_Status&lt;/th&gt;\\n      &lt;th&gt;TotalPurchases&lt;/th&gt;\\n    &lt;/tr&gt;\\n  &lt;/thead&gt;\\n  &lt;tbody&gt;\\n    &lt;tr&gt;\\n      &lt;th&gt;0&lt;/th&gt;\\n      &lt;td&gt;Absurd&lt;/td&gt;\\n      &lt;td&gt;39&lt;/td&gt;\\n    &lt;/tr&gt;\\n    &lt;tr&gt;\\n      &lt;th&gt;1&lt;/th&gt;\\n      &lt;td&gt;Alone&lt;/td&gt;\\n      &lt;td&gt;40&lt;/td&gt;\\n    &lt;/tr&gt;\\n    &lt;tr&gt;\\n      &lt;th&gt;2&lt;/th&gt;\\n      &lt;td&gt;Divorced&lt;/td&gt;\\n      &lt;td&gt;3535&lt;/td&gt;\\n    &lt;/tr&gt;\\n    &lt;tr&gt;\\n      &lt;th&gt;3&lt;/th&gt;\\n      &lt;td&gt;Married&lt;/td&gt;\\n      &lt;td&gt;12810&lt;/td&gt;\\n    &lt;/tr&gt;\\n    &lt;tr&gt;\\n      &lt;th&gt;4&lt;/th&gt;\\n      &lt;td&gt;Single&lt;/td&gt;\\n      &lt;td&gt;6732&lt;/td&gt;\\n    &lt;/tr&gt;\\n    &lt;tr&gt;\\n      &lt;th&gt;5&lt;/th&gt;\\n      &lt;td&gt;Together&lt;/td&gt;\\n      &lt;td&gt;8507&lt;/td&gt;\\n    &lt;/tr&gt;\\n    &lt;tr&gt;\\n      &lt;th&gt;6&lt;/th&gt;\\n      &lt;td&gt;Widow&lt;/td&gt;\\n      &lt;td&gt;1264&lt;/td&gt;\\n    &lt;/tr&gt;\\n    &lt;tr&gt;\\n      &lt;th&gt;7&lt;/th&gt;\\n      &lt;td&gt;YOLO&lt;/td&gt;\\n      &lt;td&gt;38&lt;/td&gt;\\n    &lt;/tr&gt;\\n  &lt;/tbody&gt;\\n&lt;/table&gt;\"},\"id\":\"19077\",\"type\":\"panel.models.markup.HTML\"},{\"attributes\":{\"active\":0,\"button_type\":\"success\",\"labels\":[\"all\",\"0\",\"1\",\"2\"],\"margin\":[5,10,5,10]},\"id\":\"19074\",\"type\":\"RadioButtonGroup\"}],\"root_ids\":[\"19068\",\"19078\"]},\"title\":\"Bokeh Application\",\"version\":\"2.4.2\"}};\n",
       "    var render_items = [{\"docid\":\"4de17933-5492-4e73-a1cb-6d15490bd833\",\"root_ids\":[\"19068\"],\"roots\":{\"19068\":\"a9b89a7b-bbfa-48a6-a203-b59cb144beda\"}}];\n",
       "    root.Bokeh.embed.embed_items_notebook(docs_json, render_items);\n",
       "  }\n",
       "  if (root.Bokeh !== undefined && root.Bokeh.Panel !== undefined && ( root['Tabulator'] !== undefined)) {\n",
       "    embed_document(root);\n",
       "  } else {\n",
       "    var attempts = 0;\n",
       "    var timer = setInterval(function(root) {\n",
       "      if (root.Bokeh !== undefined && root.Bokeh.Panel !== undefined && (root['Tabulator'] !== undefined)) {\n",
       "        clearInterval(timer);\n",
       "        embed_document(root);\n",
       "      } else if (document.readyState == \"complete\") {\n",
       "        attempts++;\n",
       "        if (attempts > 200) {\n",
       "          clearInterval(timer);\n",
       "          console.log(\"Bokeh: ERROR: Unable to run BokehJS code because BokehJS library is missing\");\n",
       "        }\n",
       "      }\n",
       "    }, 25, root)\n",
       "  }\n",
       "})(window);</script>"
      ],
      "text/plain": [
       "<hvplot.interactive.Interactive at 0x15df7fb0670>"
      ]
     },
     "execution_count": 171,
     "metadata": {
      "application/vnd.holoviews_exec.v0+json": {
       "id": "19068"
      }
     },
     "output_type": "execute_result"
    }
   ],
   "source": [
    "marital_status_data_by_teen = ( \n",
    "    idf[(idf.Income <= max_income_slider) & \n",
    "        (idf.Income >= min_income_slider)&((idf.Teenhome == teen_home_radio_group)|(idf.LAL == teen_home_radio_group))]\n",
    "    .groupby(['Marital_Status'])['TotalPurchases'].sum()\n",
    "    .to_frame()  \n",
    "    .reset_index()\n",
    "    # .sort_values(by='year')  \n",
    "    .reset_index(drop=True)\n",
    ")\n",
    "# type(marital_status_data_by_teen)\n",
    "marital_status_data_by_teen"
   ]
  },
  {
   "cell_type": "code",
   "execution_count": 172,
   "metadata": {},
   "outputs": [
    {
     "data": {},
     "metadata": {},
     "output_type": "display_data"
    },
    {
     "data": {},
     "metadata": {},
     "output_type": "display_data"
    },
    {
     "data": {
      "application/vnd.holoviews_exec.v0+json": "",
      "text/html": [
       "<div id='19079'>\n",
       "\n",
       "\n",
       "\n",
       "\n",
       "\n",
       "  <div class=\"bk-root\" id=\"44f53aab-5927-4046-ba5a-7e7fb6797fb2\" data-root-id=\"19079\"></div>\n",
       "</div>\n",
       "<script type=\"application/javascript\">(function(root) {\n",
       "  function embed_document(root) {\n",
       "    var docs_json = {\"7956869f-1287-47e9-a7db-52a77e7fc98c\":{\"defs\":[{\"extends\":null,\"module\":null,\"name\":\"ReactiveHTML1\",\"overrides\":[],\"properties\":[]},{\"extends\":null,\"module\":null,\"name\":\"FlexBox1\",\"overrides\":[],\"properties\":[{\"default\":\"flex-start\",\"kind\":null,\"name\":\"align_content\"},{\"default\":\"flex-start\",\"kind\":null,\"name\":\"align_items\"},{\"default\":\"row\",\"kind\":null,\"name\":\"flex_direction\"},{\"default\":\"wrap\",\"kind\":null,\"name\":\"flex_wrap\"},{\"default\":\"flex-start\",\"kind\":null,\"name\":\"justify_content\"}]},{\"extends\":null,\"module\":null,\"name\":\"GridStack1\",\"overrides\":[],\"properties\":[{\"default\":\"warn\",\"kind\":null,\"name\":\"mode\"},{\"default\":null,\"kind\":null,\"name\":\"ncols\"},{\"default\":null,\"kind\":null,\"name\":\"nrows\"},{\"default\":true,\"kind\":null,\"name\":\"allow_resize\"},{\"default\":true,\"kind\":null,\"name\":\"allow_drag\"},{\"default\":[],\"kind\":null,\"name\":\"state\"}]},{\"extends\":null,\"module\":null,\"name\":\"click1\",\"overrides\":[],\"properties\":[{\"default\":\"\",\"kind\":null,\"name\":\"terminal_output\"},{\"default\":\"\",\"kind\":null,\"name\":\"debug_name\"},{\"default\":0,\"kind\":null,\"name\":\"clears\"}]},{\"extends\":null,\"module\":null,\"name\":\"TemplateActions1\",\"overrides\":[],\"properties\":[{\"default\":0,\"kind\":null,\"name\":\"open_modal\"},{\"default\":0,\"kind\":null,\"name\":\"close_modal\"}]},{\"extends\":null,\"module\":null,\"name\":\"MaterialTemplateActions1\",\"overrides\":[],\"properties\":[{\"default\":0,\"kind\":null,\"name\":\"open_modal\"},{\"default\":0,\"kind\":null,\"name\":\"close_modal\"}]}],\"roots\":{\"references\":[{\"attributes\":{\"coordinates\":null,\"group\":null,\"text\":\"T\\u1ef7 l\\u1ec7 h\\u1ecdc v\\u1ea5n mua theo s\\u1ed1 tr\\u1ebb\",\"text_color\":\"black\",\"text_font_size\":\"12pt\"},\"id\":\"19092\",\"type\":\"Title\"},{\"attributes\":{\"factors\":[\"Absurd\",\"Alone\",\"Divorced\",\"Married\",\"Single\",\"Together\",\"Widow\",\"YOLO\"],\"tags\":[[[\"Marital_Status\",\"Marital_Status\",null]]]},\"id\":\"19088\",\"type\":\"FactorRange\"},{\"attributes\":{\"children\":[{\"id\":\"19083\"},{\"id\":\"19084\"},{\"id\":\"19085\"}],\"margin\":[0,0,0,0],\"name\":\"Column30974\"},\"id\":\"19082\",\"type\":\"Column\"},{\"attributes\":{\"active\":0,\"button_type\":\"success\",\"labels\":[\"all\",\"0\",\"1\",\"2\"],\"margin\":[5,10,5,10]},\"id\":\"19085\",\"type\":\"RadioButtonGroup\"},{\"attributes\":{\"children\":[{\"id\":\"19082\"},{\"id\":\"19086\"}],\"margin\":[0,0,0,0],\"name\":\"Row31096\"},\"id\":\"19081\",\"type\":\"Row\"},{\"attributes\":{\"below\":[{\"id\":\"19100\"}],\"center\":[{\"id\":\"19102\"},{\"id\":\"19106\"}],\"height\":300,\"left\":[{\"id\":\"19103\"}],\"margin\":[5,5,5,5],\"min_border_bottom\":10,\"min_border_left\":10,\"min_border_right\":10,\"min_border_top\":10,\"renderers\":[{\"id\":\"19126\"}],\"sizing_mode\":\"fixed\",\"title\":{\"id\":\"19092\"},\"toolbar\":{\"id\":\"19113\"},\"width\":700,\"x_range\":{\"id\":\"19088\"},\"x_scale\":{\"id\":\"19096\"},\"y_range\":{\"id\":\"19089\"},\"y_scale\":{\"id\":\"19098\"}},\"id\":\"19091\",\"subtype\":\"Figure\",\"type\":\"Plot\"},{\"attributes\":{\"coordinates\":null,\"data_source\":{\"id\":\"19120\"},\"glyph\":{\"id\":\"19123\"},\"group\":null,\"hover_glyph\":null,\"muted_glyph\":{\"id\":\"19125\"},\"nonselection_glyph\":{\"id\":\"19124\"},\"selection_glyph\":{\"id\":\"19128\"},\"view\":{\"id\":\"19127\"}},\"id\":\"19126\",\"type\":\"GlyphRenderer\"},{\"attributes\":{\"client_comm_id\":\"8e1944e9f52b4a3bad977a4f4cca0fa7\",\"comm_id\":\"d097ed2a2e424ff1b2f330cd333cb3fd\",\"plot_id\":\"19079\"},\"id\":\"19185\",\"type\":\"panel.models.comm_manager.CommManager\"},{\"attributes\":{\"children\":[{\"id\":\"19081\"},{\"id\":\"19087\"}],\"margin\":[0,0,0,0],\"name\":\"Column31097\"},\"id\":\"19080\",\"type\":\"Column\"},{\"attributes\":{\"fill_color\":{\"value\":\"#30a2da\"},\"hatch_color\":{\"value\":\"#30a2da\"},\"line_width\":{\"value\":2},\"top\":{\"field\":\"TotalPurchases\"},\"width\":{\"value\":0.8},\"x\":{\"field\":\"Marital_Status\"}},\"id\":\"19123\",\"type\":\"VBar\"},{\"attributes\":{\"fill_alpha\":{\"value\":0.2},\"fill_color\":{\"value\":\"#30a2da\"},\"hatch_alpha\":{\"value\":0.2},\"hatch_color\":{\"value\":\"#30a2da\"},\"line_alpha\":{\"value\":0.2},\"line_width\":{\"value\":2},\"top\":{\"field\":\"TotalPurchases\"},\"width\":{\"value\":0.8},\"x\":{\"field\":\"Marital_Status\"}},\"id\":\"19125\",\"type\":\"VBar\"},{\"attributes\":{\"callback\":null,\"renderers\":[{\"id\":\"19126\"}],\"tags\":[\"hv_created\"],\"tooltips\":[[\"Marital_Status\",\"@{Marital_Status}\"],[\"TotalPurchases\",\"@{TotalPurchases}\"]]},\"id\":\"19090\",\"type\":\"HoverTool\"},{\"attributes\":{\"source\":{\"id\":\"19120\"}},\"id\":\"19127\",\"type\":\"CDSView\"},{\"attributes\":{},\"id\":\"19101\",\"type\":\"CategoricalTicker\"},{\"attributes\":{\"end\":162397,\"margin\":[5,10,5,10],\"start\":1730,\"step\":5,\"title\":\"Min Income slider\",\"value\":1730},\"id\":\"19084\",\"type\":\"Slider\"},{\"attributes\":{},\"id\":\"19098\",\"type\":\"LinearScale\"},{\"attributes\":{\"children\":[{\"id\":\"19091\"}],\"margin\":[0,0,0,0],\"name\":\"Row30979\"},\"id\":\"19087\",\"type\":\"Row\"},{\"attributes\":{\"end\":14087.2,\"reset_end\":14087.2,\"reset_start\":0.0,\"tags\":[[[\"TotalPurchases\",\"TotalPurchases\",null]]]},\"id\":\"19089\",\"type\":\"Range1d\"},{\"attributes\":{},\"id\":\"19121\",\"type\":\"Selection\"},{\"attributes\":{},\"id\":\"19108\",\"type\":\"PanTool\"},{\"attributes\":{\"axis_label\":\"Marital_Status\",\"coordinates\":null,\"formatter\":{\"id\":\"19130\"},\"group\":null,\"major_label_orientation\":0.7853981633974483,\"major_label_policy\":{\"id\":\"19131\"},\"ticker\":{\"id\":\"19101\"}},\"id\":\"19100\",\"type\":\"CategoricalAxis\"},{\"attributes\":{\"axis\":{\"id\":\"19103\"},\"coordinates\":null,\"dimension\":1,\"grid_line_color\":null,\"group\":null,\"ticker\":null},\"id\":\"19106\",\"type\":\"Grid\"},{\"attributes\":{\"bottom\":{\"value\":0},\"fill_alpha\":{\"value\":1.0},\"fill_color\":{\"value\":\"#30a2da\"},\"hatch_alpha\":{\"value\":1.0},\"hatch_color\":{\"value\":\"#30a2da\"},\"hatch_scale\":{\"value\":12.0},\"hatch_weight\":{\"value\":1.0},\"line_alpha\":{\"value\":1.0},\"line_cap\":{\"value\":\"butt\"},\"line_color\":{\"value\":\"black\"},\"line_dash\":{\"value\":[]},\"line_dash_offset\":{\"value\":0},\"line_join\":{\"value\":\"bevel\"},\"line_width\":{\"value\":2},\"top\":{\"field\":\"TotalPurchases\"},\"width\":{\"value\":0.8},\"x\":{\"field\":\"Marital_Status\"}},\"id\":\"19128\",\"type\":\"VBar\"},{\"attributes\":{},\"id\":\"19134\",\"type\":\"AllLabels\"},{\"attributes\":{},\"id\":\"19133\",\"type\":\"BasicTickFormatter\"},{\"attributes\":{\"margin\":[5,5,5,5],\"name\":\"HSpacer31095\",\"sizing_mode\":\"stretch_width\"},\"id\":\"19086\",\"type\":\"Spacer\"},{\"attributes\":{\"data\":{\"Marital_Status\":[\"Absurd\",\"Alone\",\"Divorced\",\"Married\",\"Single\",\"Together\",\"Widow\",\"YOLO\"],\"TotalPurchases\":[39,40,3535,12810,6732,8507,1264,38]},\"selected\":{\"id\":\"19121\"},\"selection_policy\":{\"id\":\"19142\"}},\"id\":\"19120\",\"type\":\"ColumnDataSource\"},{\"attributes\":{\"axis_label\":\"TotalPurchases\",\"coordinates\":null,\"formatter\":{\"id\":\"19133\"},\"group\":null,\"major_label_policy\":{\"id\":\"19134\"},\"ticker\":{\"id\":\"19104\"}},\"id\":\"19103\",\"type\":\"LinearAxis\"},{\"attributes\":{},\"id\":\"19131\",\"type\":\"AllLabels\"},{\"attributes\":{},\"id\":\"19104\",\"type\":\"BasicTicker\"},{\"attributes\":{},\"id\":\"19109\",\"type\":\"WheelZoomTool\"},{\"attributes\":{},\"id\":\"19107\",\"type\":\"SaveTool\"},{\"attributes\":{},\"id\":\"19096\",\"type\":\"CategoricalScale\"},{\"attributes\":{},\"id\":\"19142\",\"type\":\"UnionRenderers\"},{\"attributes\":{\"tools\":[{\"id\":\"19090\"},{\"id\":\"19107\"},{\"id\":\"19108\"},{\"id\":\"19109\"},{\"id\":\"19110\"},{\"id\":\"19111\"}]},\"id\":\"19113\",\"type\":\"Toolbar\"},{\"attributes\":{\"overlay\":{\"id\":\"19112\"}},\"id\":\"19110\",\"type\":\"BoxZoomTool\"},{\"attributes\":{},\"id\":\"19111\",\"type\":\"ResetTool\"},{\"attributes\":{\"end\":162397,\"margin\":[5,10,5,10],\"start\":1730,\"step\":5,\"title\":\"Max Income slider\",\"value\":162397},\"id\":\"19083\",\"type\":\"Slider\"},{\"attributes\":{\"axis\":{\"id\":\"19100\"},\"coordinates\":null,\"grid_line_color\":null,\"group\":null,\"ticker\":null},\"id\":\"19102\",\"type\":\"Grid\"},{\"attributes\":{\"bottom_units\":\"screen\",\"coordinates\":null,\"fill_alpha\":0.5,\"fill_color\":\"lightgrey\",\"group\":null,\"left_units\":\"screen\",\"level\":\"overlay\",\"line_alpha\":1.0,\"line_color\":\"black\",\"line_dash\":[4,4],\"line_width\":2,\"right_units\":\"screen\",\"syncable\":false,\"top_units\":\"screen\"},\"id\":\"19112\",\"type\":\"BoxAnnotation\"},{\"attributes\":{\"fill_alpha\":{\"value\":0.1},\"fill_color\":{\"value\":\"#30a2da\"},\"hatch_alpha\":{\"value\":0.1},\"hatch_color\":{\"value\":\"#30a2da\"},\"line_alpha\":{\"value\":0.1},\"line_width\":{\"value\":2},\"top\":{\"field\":\"TotalPurchases\"},\"width\":{\"value\":0.8},\"x\":{\"field\":\"Marital_Status\"}},\"id\":\"19124\",\"type\":\"VBar\"},{\"attributes\":{},\"id\":\"19130\",\"type\":\"CategoricalTickFormatter\"},{\"attributes\":{\"children\":[{\"id\":\"19080\"}],\"margin\":[0,0,0,0],\"name\":\"Row31098\"},\"id\":\"19079\",\"type\":\"Row\"}],\"root_ids\":[\"19079\",\"19185\"]},\"title\":\"Bokeh Application\",\"version\":\"2.4.2\"}};\n",
       "    var render_items = [{\"docid\":\"7956869f-1287-47e9-a7db-52a77e7fc98c\",\"root_ids\":[\"19079\"],\"roots\":{\"19079\":\"44f53aab-5927-4046-ba5a-7e7fb6797fb2\"}}];\n",
       "    root.Bokeh.embed.embed_items_notebook(docs_json, render_items);\n",
       "  }\n",
       "  if (root.Bokeh !== undefined && root.Bokeh.Panel !== undefined && ( root['Tabulator'] !== undefined)) {\n",
       "    embed_document(root);\n",
       "  } else {\n",
       "    var attempts = 0;\n",
       "    var timer = setInterval(function(root) {\n",
       "      if (root.Bokeh !== undefined && root.Bokeh.Panel !== undefined && (root['Tabulator'] !== undefined)) {\n",
       "        clearInterval(timer);\n",
       "        embed_document(root);\n",
       "      } else if (document.readyState == \"complete\") {\n",
       "        attempts++;\n",
       "        if (attempts > 200) {\n",
       "          clearInterval(timer);\n",
       "          console.log(\"Bokeh: ERROR: Unable to run BokehJS code because BokehJS library is missing\");\n",
       "        }\n",
       "      }\n",
       "    }, 25, root)\n",
       "  }\n",
       "})(window);</script>"
      ],
      "text/plain": [
       "<hvplot.interactive.Interactive at 0x15df7ff9840>"
      ]
     },
     "execution_count": 172,
     "metadata": {
      "application/vnd.holoviews_exec.v0+json": {
       "id": "19079"
      }
     },
     "output_type": "execute_result"
    }
   ],
   "source": [
    "# Vẽ bar theo kênh bán hàng\n",
    "marital_status_plot_by_teen = marital_status_data_by_teen.hvplot(kind='bar', x='Marital_Status', y='TotalPurchases',line_width=2, title=\"Tỷ lệ học vấn mua theo số trẻ\",rot=45)\n",
    "marital_status_plot_by_teen.opts(xrotation=90)\n",
    "marital_status_plot_by_teen"
   ]
  },
  {
   "cell_type": "code",
   "execution_count": 173,
   "metadata": {},
   "outputs": [],
   "source": [
    "left_panel = [\n",
    "    pn.pane.Markdown(\"# Giới thiệu\"),\n",
    "    pn.pane.Markdown(\"#### Đây là Dashboard phân tích dữ liệu kinh doanh của nhóm siêu DA bao gồm:\"), \n",
    "    pn.pane.Markdown(\"- Phạm Thế Anh\"), \n",
    "    pn.pane.Markdown(\"- Trần Đình Hội\"), \n",
    "    pn.pane.Markdown(\"- Nguyên Đức Quân\"), \n",
    "    pn.pane.Markdown(\"- Nguyễn Duy Đường Vũ\"), \n",
    "    pn.pane.Markdown(\"- Trần Hữu Ân\"), \n",
    "    pn.pane.PNG('climate_day.png', sizing_mode='scale_both'),\n",
    "    pn.pane.Markdown(\"## Settings\"), \n",
    "    pn.Row(min_income_slider, align=\"center\"),\n",
    "    pn.Row(max_income_slider, align=\"center\")\n",
    "    \n",
    "]"
   ]
  },
  {
   "cell_type": "code",
   "execution_count": 174,
   "metadata": {},
   "outputs": [
    {
     "name": "stdout",
     "output_type": "stream",
     "text": [
      "Launching server at http://localhost:50087\n"
     ]
    },
    {
     "data": {
      "text/plain": [
       "<bokeh.server.server.Server at 0x15df822c580>"
      ]
     },
     "execution_count": 174,
     "metadata": {},
     "output_type": "execute_result"
    }
   ],
   "source": [
    "template = pn.template.FastListTemplate(\n",
    "    title=\"Dashboard 4\",\n",
    "    sidebar=left_panel,\n",
    "    main = [\n",
    "        pn.Row(\n",
    "            pn.Column(edu_plot.panel(width=350), margin=(0,1)),\n",
    "            pn.Column(marital_status_plot.panel(width=350), margin=(0,1)),\n",
    "            pn.Column(pie_chart.panel(width=350), margin=(0,1))\n",
    "        ),\n",
    "        pn.Row(\n",
    "            pn.Column(\n",
    "                pn.Row(sale_combobox),\n",
    "                pn.Row(edu_plot_by_sale_channel.panel(width=270), margin=(0,1))\n",
    "            ),\n",
    "             pn.Column(                 \n",
    "                pn.Row(childrent_radio_group),\n",
    "                pn.Row(edu_by_kid.panel(width=270), margin=(0,1))\n",
    "            ),\n",
    "            pn.Column(                 \n",
    "                pn.Row(teen_home_radio_group),\n",
    "                pn.Row(marital_status_plot_by_teen.panel(width=270), margin=(0,1))\n",
    "            ),\n",
    "            \n",
    "             pn.Column(                 \n",
    "                pn.Row(teen_home_radio_group),\n",
    "                pn.Row(marital_status_data_by_teen.panel(width=270), margin=(0,1))\n",
    "            ),\n",
    "        )\n",
    "    ]\n",
    ")\n",
    "template.show()\n",
    "# template.servable()"
   ]
  },
  {
   "cell_type": "code",
   "execution_count": null,
   "metadata": {},
   "outputs": [],
   "source": []
  },
  {
   "cell_type": "code",
   "execution_count": null,
   "metadata": {},
   "outputs": [],
   "source": []
  }
 ],
 "metadata": {
  "colab": {
   "collapsed_sections": [],
   "name": "Dashboard with pyplot + panel.ipynb",
   "provenance": []
  },
  "kernelspec": {
   "display_name": "Python 3 (ipykernel)",
   "language": "python",
   "name": "python3"
  },
  "language_info": {
   "codemirror_mode": {
    "name": "ipython",
    "version": 3
   },
   "file_extension": ".py",
   "mimetype": "text/x-python",
   "name": "python",
   "nbconvert_exporter": "python",
   "pygments_lexer": "ipython3",
   "version": "3.10.0"
  }
 },
 "nbformat": 4,
 "nbformat_minor": 4
}
