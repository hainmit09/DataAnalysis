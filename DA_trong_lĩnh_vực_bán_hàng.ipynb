{
  "nbformat": 4,
  "nbformat_minor": 0,
  "metadata": {
    "colab": {
      "name": "DA trong lĩnh vực bán hàng.ipynb",
      "provenance": [],
      "collapsed_sections": [],
      "authorship_tag": "ABX9TyMLLbuPmoKH62hnDANWVhn4",
      "include_colab_link": true
    },
    "kernelspec": {
      "name": "python3",
      "display_name": "Python 3"
    },
    "language_info": {
      "name": "python"
    }
  },
  "cells": [
    {
      "cell_type": "markdown",
      "metadata": {
        "id": "view-in-github",
        "colab_type": "text"
      },
      "source": [
        "<a href=\"https://colab.research.google.com/github/hainmit09/DataAnalysis/blob/main/DA_trong_l%C4%A9nh_v%E1%BB%B1c_b%C3%A1n_h%C3%A0ng.ipynb\" target=\"_parent\"><img src=\"https://colab.research.google.com/assets/colab-badge.svg\" alt=\"Open In Colab\"/></a>"
      ]
    },
    {
      "cell_type": "markdown",
      "source": [
        "#1. Nội dung học.\n",
        "- DA trong marketing\n",
        "- Các thuộc tính dữ liệu cần thiết của dữ liệu trong bài toán sales\n",
        "- Các yêu cầu phần tích trong bài toán sale DA\n",
        "- Các dạng báo cáo cần thiết trong bài toán sale DA\n",
        "- Bài toán cụ thể"
      ],
      "metadata": {
        "id": "yLKFWsClQuU3"
      }
    },
    {
      "cell_type": "markdown",
      "source": [
        "#2. DA trong lĩnh vực marketing\n",
        "##2.1. Yêu cầu của DA trong marketing.\n",
        "\n",
        "Trong lĩnh vực marketing, việc ứng dụng phân tích dữ liệu là rất quan trọng nhằm hiểu được tác động của tiếp thị, dự đoán xu hướng tiếp thị, hành vi người dùng, tối ưu hóa trải nghiệm người dùng, thúc đẩy doanh số bán hàng.\n",
        "\n",
        "Có 2 yêu cầu chính của DA trong marketing\n",
        "- Để đánh giá các nỗ lực tiếp thị của công ty đang hoạt động tốt như thế nào, hãy đo lường hiệu quả của hoạt động tiếp thị của bạn.\n",
        "- Để xác định những gì công ty có thể làm khác đi để có được kết quả tốt hơn trên các kênh tiếp thị của mình.\n",
        "\n",
        "##2.2. Tại sao DA trong marketing lại quan trọng.\n",
        "Phân tích không phải là phần phụ, nó là cách tốt nhất để hiểu được hành trình của khách hàng, tìm ra điều gì hiệu quả trong các chiến dịch của bạn. Cụ thể\n",
        "- Định lượng các yêu cầu\n",
        "- Biến dữ liệu thành thông tin.\n",
        "- So sánh và đối chiếu dữ liệu tiếp thị.\n",
        "- Phân tích hiệu quả mục tiêu marketing\n"
      ],
      "metadata": {
        "id": "PswK7C4XVo8E"
      }
    },
    {
      "cell_type": "markdown",
      "source": [
        "#3. Yêu cầu dữ liệu.\n",
        "Để làm DA trong marketing cần có các dữ liệu sau:\n",
        "##3.1. Dữ liệu khách hàng\n",
        "- Nhóm tuổi\n",
        "- Giới tính\n",
        "- Trình độ học vấn\n",
        "- Thu nhập hàng năm\n",
        "- Tình trạng gia đình\n",
        "- Vị trí địa lý\n",
        "\n",
        "##3.2. Dữ liệu lịch sử bán hàng\n",
        "- Mặt hàng.\n",
        "- Thời gian bán.\n",
        "- Địa điểm\n",
        "- Giá bán.\n",
        "- Giảm giá\n",
        "\n",
        "##3.3. Thông tin môi trường.\n",
        "- Thời tiết.\n",
        "- Chỉ số thất nghiệp\n",
        "- Giá các mặt hàng chi phối."
      ],
      "metadata": {
        "id": "puj0UnBaU8vc"
      }
    },
    {
      "cell_type": "markdown",
      "source": [
        ""
      ],
      "metadata": {
        "id": "vCT6n64iRpuN"
      }
    },
    {
      "cell_type": "markdown",
      "source": [
        "#4. Kết quả trả về.\n",
        "#4.1. Dashboard\n",
        "- Dạng ảnh.\n",
        "- Dạng văn bản\n",
        "- Dạng web\n",
        "#4.2. Báo cáo\n",
        "- Dạng file\n",
        "- Dạng trực tuyến."
      ],
      "metadata": {
        "id": "nq80dksEfkfE"
      }
    },
    {
      "cell_type": "markdown",
      "source": [
        "#5. Bài toán cụ thể\n"
      ],
      "metadata": {
        "id": "23LVWYHEhZSc"
      }
    },
    {
      "cell_type": "markdown",
      "source": [
        "##5.1. Bài toán được giao\n",
        "- Lập mô hình ảnh hưởng của giảm giá vào các tuần lễ\n",
        "- Đưa ra các đề xuất, với ưu tiên càng cao khi tác động kinh doanh càng cao"
      ],
      "metadata": {
        "id": "WkVc3bbyiySM"
      }
    },
    {
      "cell_type": "markdown",
      "source": [
        "##5.3 Đi xin dữ liệu\n",
        "###5.3.1 Features\n",
        "Chứa dữ liệu bổ sung liên quan đến hoạt động của cửa hàng, bộ phận và khu vực cho những ngày nhất định.\n",
        "\n",
        "- Store - store number\n",
        "- Date - ngày trong tuần\n",
        "- Temperature - nhiệt độ trung bình trong khu vực\n",
        "- Fuel_Price - chi phí nhiên liệu trong khu vực\n",
        "- MarkDown1-5 - dữ liệu ẩn danh liên quan đến giảm giá khuyến mại. Dữ liệu MarkDown chỉ có sau tháng 11 năm 2011 và không phải lúc nào cũng có sẵn cho tất cả các cửa hàng. Bất kỳ giá trị nào bị thiếu đều được đánh dấu bằng NA\n",
        "- CPI - chỉ số giá tiêu dùng\n",
        "- Unemployment - tỷ lệ thất nghiệp\n",
        "- IsHoliday - liệu tuần đó có phải là tuần lễ đặc biệt hay không"
      ],
      "metadata": {
        "id": "aBLeRZxZhdju"
      }
    },
    {
      "cell_type": "markdown",
      "source": [
        "###5.3.2 Sales\n",
        "Dữ liệu bán hàng lịch sử, bao gồm từ 2010-02-05 đến 2012-11-01.\n",
        "\n",
        "- Store - store number\n",
        "- Dept - department number\n",
        "- Date -  ngày trong tuần\n",
        "- Weekly_Sales -  doanh số bán hàng cho bộ phận nhất định trong cửa hàng nhất định\n",
        "- IsHoliday - liệu tuần này có phải là tuần lễ đặc biệt hay không"
      ],
      "metadata": {
        "id": "ERraonokiNQs"
      }
    },
    {
      "cell_type": "code",
      "execution_count": null,
      "metadata": {
        "id": "L4kGETpZND4r"
      },
      "outputs": [],
      "source": [
        "import pandas as pd\n",
        "import numpy as np\n",
        "import seaborn as sns\n",
        "from matplotlib import pyplot as plt\n",
        "import matplotlib.style as style\n",
        "from datetime import timedelta\n",
        "import datetime as dt\n",
        "import time\n",
        "import os"
      ]
    },
    {
      "cell_type": "code",
      "source": [
        "customer = pd.read_csv(\"/Customer.csv\")\n",
        "prod_cat= pd.read_csv(\"/prod_cat_info.csv\")\n",
        "transactions = pd.read_csv(\"Transactions.csv\")"
      ],
      "metadata": {
        "id": "fhJI8whQo91N"
      },
      "execution_count": null,
      "outputs": []
    },
    {
      "cell_type": "code",
      "source": [
        "#DATA PREPROCESSING\n",
        "customer.isnull().sum()\n",
        "\"\"\"Both Gender and city_code columns have null values\"\"\"\n",
        "\n",
        "#To fix this, I applied ffill (fill forward) to the null cells\n",
        "customers = customer.fillna({\n",
        "    'Gender': customer['Gender'].ffill(),\n",
        "    'city_code': customer['city_code'].ffill()\n",
        "})\n",
        "\n",
        "#Splitting transaction date into year, month and day of week"
      ],
      "metadata": {
        "id": "92GpX0cupEEs"
      },
      "execution_count": null,
      "outputs": []
    },
    {
      "cell_type": "code",
      "source": [
        "transactions['tran_date'] = pd.to_datetime(transactions['tran_date'], errors='coerce')"
      ],
      "metadata": {
        "id": "Cf7DGDE8pQ9D"
      },
      "execution_count": null,
      "outputs": []
    },
    {
      "cell_type": "code",
      "source": [
        "transactions.insert(loc=3, column='year', value= transactions.tran_date.dt.year)\n",
        "transactions.insert(loc=4, column='month', value= transactions.tran_date.dt.month)\n",
        "transactions.insert(loc=5, column='day', value=(transactions.tran_date.dt.weekday_name))\n",
        "\n",
        "transactions.head()"
      ],
      "metadata": {
        "id": "cjuaNDaypYNT"
      },
      "execution_count": null,
      "outputs": []
    },
    {
      "cell_type": "code",
      "source": [
        "###### Transactions and Product Category datasets have no null cells.\n",
        "\n",
        "df = pd.merge(left = customers, right = transactions, left_on = 'customer_Id', right_on = 'cust_id').drop('cust_id', axis =1)\n",
        "#This joins the customers and transactions dataset on customer_Id and cust_id. The duplicate column (cust_id)\n",
        "#is dropped.\n",
        "df.duplicated().sum()\n",
        "#There are 13 duplicate cells in the df dataframe. Next step: drop duplicates.\n",
        "\n",
        "df.drop_duplicates(inplace = True)\n",
        "df_new = pd.merge(df, prod_cat, left_on = ('prod_subcat_code', \"prod_cat_code\"), right_on = ('prod_sub_cat_code', \"prod_cat_code\")).drop('prod_sub_cat_code', axis =1)\n",
        "df_new.shape\n",
        "#Columns from the prod_cat dataset have been added to the df dataframe\n",
        "\n",
        "df_new.describe()\n",
        "#showing basic statistical details\n",
        "\n",
        "\n",
        "customer_city=df_new[['city_code','customer_Id']]\n",
        "customer_city.groupby(['city_code'])['customer_Id'].aggregate('count').reset_index().sort_values('customer_Id', ascending=False)"
      ],
      "metadata": {
        "id": "eqN183bJpY00"
      },
      "execution_count": null,
      "outputs": []
    },
    {
      "cell_type": "code",
      "source": [
        "rdf = df_new[df_new['Qty'] <= -1]\n",
        "sdf = df_new[df_new['Qty'] >= 0]\n",
        "\"\"\"To analyze negative and positive order values seperately, 2 new datasets were created.\"\"\""
      ],
      "metadata": {
        "id": "_pNFIzMCpcub"
      },
      "execution_count": null,
      "outputs": []
    },
    {
      "cell_type": "code",
      "source": [
        "#1. Returned Orders Per Store Category"
      ],
      "metadata": {
        "id": "RJltpKyepnaT"
      },
      "execution_count": null,
      "outputs": []
    },
    {
      "cell_type": "code",
      "source": [
        "\"\"\"The e-shop accounted for the most returns in the returned orders dataset.\"\"\"\n",
        "orders = rdf.groupby(by=['Store_type'], as_index = False)['Qty'].count()\n",
        "plt.figure(figsize=(6,4))\n",
        "sns.set_style('whitegrid')\n",
        "sns.barplot(x = \"Store_type\", y = 'Qty', data = orders,  palette= \"magma\")\n",
        "plt.xlabel('Store Category')\n",
        "plt.ylabel('Returned Orders')\n",
        "plt.title('Total number of returned orders per store category')\n",
        "plt.show()"
      ],
      "metadata": {
        "id": "jblEWOtxppl7"
      },
      "execution_count": null,
      "outputs": []
    },
    {
      "cell_type": "code",
      "source": [
        "#2. Returned Orders Per Product Category\n",
        "\"\"\"Books, Electronics and Home & Kitchen were the most returned product categories.\"\"\"\n",
        "category = rdf.groupby(by=['prod_cat'], as_index = False)['Qty'].count()\n",
        "plt.figure(figsize=(8,4))\n",
        "sns.set_style('whitegrid')\n",
        "sns.barplot(x = \"prod_cat\", y = 'Qty', data = category,  palette= \"inferno\")\n",
        "plt.xlabel('Product Category')\n",
        "plt.ylabel('Returned Orders')\n",
        "plt.title('Total number of returned orders per product category')\n",
        "plt.show()"
      ],
      "metadata": {
        "id": "4n8-1p9xpuZK"
      },
      "execution_count": null,
      "outputs": []
    },
    {
      "cell_type": "code",
      "source": [
        "#4. Returned Orders By City\n",
        "\"\"\"Returns across cities were quite similar, with the highest recorded for City Code 8.\"\"\"\n",
        "city = rdf.groupby(by= ['city_code'], as_index = False)['Qty'].count()\n",
        "plt.figure(figsize=(8,4))\n",
        "sns.set_style('whitegrid')\n",
        "sns.barplot(x = \"city_code\", y = 'Qty', data = city,  palette= \"viridis\")\n",
        "plt.xlabel('City Code')\n",
        "plt.ylabel('Returned Orders')\n",
        "plt.title('Total number of returned orders per city')\n",
        "plt.show()"
      ],
      "metadata": {
        "id": "V51wdmVmp06U"
      },
      "execution_count": null,
      "outputs": []
    },
    {
      "cell_type": "code",
      "source": [
        "# 5. Returned Orders By Year\n",
        "\"\"\"The highest product returns were recorded in 2012.\"\"\"\n",
        "order_year = rdf.groupby(by=['year'], as_index = False)['Qty'].count()\n",
        "plt.figure(figsize=(6,5))\n",
        "sns.barplot(x = \"year\", y = 'Qty', data = order_year,  palette= \"plasma\")\n",
        "plt.xlabel('Year')\n",
        "plt.ylabel('Returned Orders')\n",
        "plt.title('Returned Orders Per Year')\n",
        "plt.show()\n",
        "\n",
        "\"\"\"Chart below shows revenue loss.\"\"\"\n",
        "sales = rdf.groupby(by=['year'], as_index = False)['total_amt'].sum()\n",
        "plt.figure(figsize=(6,5))\n",
        "sns.barplot(x = \"year\", y = 'total_amt', data = sales,  palette = 'plasma')\n",
        "plt.xlabel('Year')\n",
        "plt.ylabel('Returned Orders')\n",
        "plt.title('Revenue Lost Due To Returns')\n",
        "plt.show()"
      ],
      "metadata": {
        "id": "R4Yp0QR4p3vs"
      },
      "execution_count": null,
      "outputs": []
    },
    {
      "cell_type": "code",
      "source": [
        "Successful Orders Dataset\n",
        "\n",
        "1. Total Orders Per Store Category\n",
        "\n",
        "\"\"\"The most purchases were made through the e-shop.\"\"\"\n",
        "orders1 = sdf.groupby(by=['Store_type'], as_index = False)['Qty'].count()\n",
        "plt.figure(figsize=(6,4))\n",
        "sns.set_style('whitegrid')\n",
        "sns.barplot(x = \"Store_type\", y = 'Qty', data = orders1,  palette= \"inferno\")\n",
        "plt.xlabel('Store Category')\n",
        "plt.ylabel('Total Orders')\n",
        "plt.title('Total successful orders per store category')\n",
        "plt.show()\n",
        "\n"
      ],
      "metadata": {
        "id": "vdb-Ur9Kp8tD"
      },
      "execution_count": null,
      "outputs": []
    },
    {
      "cell_type": "code",
      "source": [
        "2. Total Orders Per Product Category\n",
        "\"\"\"Books, Electronics and Home & Kitchen were the most purchased product categories.\"\"\"\n",
        "category1 = sdf.groupby(by=['prod_cat'], as_index = False)['Qty'].count()\n",
        "plt.figure(figsize=(8,4))\n",
        "sns.set_style('whitegrid')\n",
        "sns.barplot(x = \"prod_cat\", y = 'Qty', data = category1,  palette= \"plasma\")\n",
        "plt.xlabel('Product Category')\n",
        "plt.ylabel('Total Orders')\n",
        "plt.title('Total successful orders per product category')\n",
        "plt.show()"
      ],
      "metadata": {
        "id": "w4CzZNoVqEts"
      },
      "execution_count": null,
      "outputs": []
    },
    {
      "cell_type": "code",
      "source": [
        "3. Total Successful Orders Per City\n",
        "location1 = sdf.groupby(by= ['city_code'], as_index = False)['Qty'].count()\n",
        "plt.figure(figsize=(8,4))\n",
        "sns.set_style('whitegrid')\n",
        "sns.barplot(x = \"city_code\", y = 'Qty', data = location1,  palette= \"viridis\")\n",
        "plt.xlabel('City Code')\n",
        "plt.ylabel('Successful Orders')\n",
        "plt.title('Orders placed per location')\n",
        "plt.show()"
      ],
      "metadata": {
        "id": "XkgQm40OqIIC"
      },
      "execution_count": null,
      "outputs": []
    },
    {
      "cell_type": "code",
      "source": [
        "5. Total Orders Per Year\n",
        "\"\"\"Highest sales occured in the years 2012 and 2013.\"\"\"\n",
        "order_year1 = sdf.groupby(by=['year'], as_index = False)['Qty'].count()\n",
        "plt.figure(figsize=(6,5))\n",
        "sns.barplot(x = \"year\", y = 'Qty', data = order_year1,  palette= \"plasma\")\n",
        "plt.xlabel('Year')\n",
        "plt.ylabel('Total Orders')\n",
        "plt.title('Order Quantity Per Year')\n",
        "plt.show()\n",
        "\n",
        "\"\"\"The most successful sales occured in 2012 and 2013\"\"\"\n",
        "sales1 = sdf.groupby(by=['year'], as_index = False)['total_amt'].sum()\n",
        "plt.figure(figsize=(6,5))\n",
        "sns.barplot(x = \"year\", y = 'total_amt', data = sales1,  palette= \"plasma\")\n",
        "plt.xlabel('Year')\n",
        "plt.ylabel('Total Orders')\n",
        "plt.title('Revenue Generated')\n",
        "plt.show()"
      ],
      "metadata": {
        "id": "zkbAIVqmqLpb"
      },
      "execution_count": null,
      "outputs": []
    },
    {
      "cell_type": "code",
      "source": [
        "6. Revenue Per Category\n",
        "\"\"\"Products in the Women, Mens and Kids categories sold better than other categories.\"\"\"\n",
        "subcategory = sdf.groupby(by=['prod_subcat'], as_index = False)['total_amt'].sum()\n",
        "plt.figure(figsize=(8,6))\n",
        "sns.set_style('whitegrid')\n",
        "sns.barplot(x = \"total_amt\", y = 'prod_subcat', data = subcategory, palette= \"inferno\")\n",
        "plt.xlabel('Amount Spent')\n",
        "plt.ylabel('Product Subcategories')\n",
        "plt.title('Amount Spent Per Subcategories')\n",
        "plt.show()"
      ],
      "metadata": {
        "id": "l11LkH36qPtb"
      },
      "execution_count": null,
      "outputs": []
    },
    {
      "cell_type": "code",
      "source": [
        "7. Purchase By Gender\n",
        "\"\"\"Purchases by men accounted for the highest percentage across all product categories except footwear and bags.\"\"\"\n",
        "plt.figure(figsize=(8,4))\n",
        "sns.set_style('whitegrid')\n",
        "sns.countplot(x = 'prod_cat', hue = \"Gender\", data = sdf, palette= \"inferno\")\n",
        "plt.xlabel('Amount Spent')\n",
        "plt.ylabel('Product Categories')\n",
        "plt.title('Purchase By Gender')\n",
        "plt.show()\n",
        "\n",
        "\"\"\"Pivot chart representation\"\"\"\n",
        "product_by_gender = sdf.groupby([\"Gender\",\"prod_cat\"])[[\"Qty\"]].sum().reset_index()\n",
        "product_by_gender.pivot(index=\"Gender\",columns=\"prod_cat\",values=\"Qty\")"
      ],
      "metadata": {
        "id": "DiL353c7qVAT"
      },
      "execution_count": null,
      "outputs": []
    },
    {
      "cell_type": "code",
      "source": [
        "\"\"\"To analyze data based on customer age, a new age column is created.\"\"\"\n",
        "now = pd.Timestamp('now')\n",
        "sdf['DOB'] = pd.to_datetime(sdf['DOB'], errors = 'coerce')    #1\n",
        "sdf['DOB'] = sdf['DOB'].where(sdf['DOB'] < now, sdf['DOB'] -  np.timedelta64(100, 'Y'))   # 2\n",
        "sdf['AGE'] = (now - sdf['DOB']).astype('<m8[Y]').round()\n",
        "\n",
        "#check for max and min age\n",
        "sdf['AGE'].max()\n",
        "sdf['AGE'].min()\n",
        "\n",
        "\"\"\"The cut() method is used to bin age values into discrete intervals.\"\"\"\n",
        "sdf['age_category'] = pd.cut(x = sdf['AGE'], bins = [24, 30, 39, 49], labels=['24-29','30-39','40-50'],include_lowest=True)"
      ],
      "metadata": {
        "id": "dDQj3EUwqdsK"
      },
      "execution_count": null,
      "outputs": []
    },
    {
      "cell_type": "code",
      "source": [
        "sdf['age_category'].value_counts()"
      ],
      "metadata": {
        "id": "-WbHq5PBqhR7"
      },
      "execution_count": null,
      "outputs": []
    },
    {
      "cell_type": "code",
      "source": [
        "7. Purchase By Age Category\n",
        "\"\"\"Customers aged betweeen 40-50 purchased the most products and 24-30 customers purchased the least\"\"\"\n",
        "plt.figure(figsize=(8,6))\n",
        "sns.countplot(x = 'prod_cat', hue = 'age_category', data = sdf, palette= \"inferno\")\n",
        "\n",
        "\"\"\"Pivot chart representation\"\"\"\n",
        "spend_per_category = sdf.groupby(['age_category','prod_cat'])['total_amt'].sum().reset_index()\n",
        "spend_per_category.pivot(index = \"age_category\", columns = \"prod_cat\", values = 'total_amt').round(0)"
      ],
      "metadata": {
        "id": "ATyrfRx3qh4j"
      },
      "execution_count": null,
      "outputs": []
    },
    {
      "cell_type": "code",
      "source": [
        "7. Quantity Sold By Month\n",
        "\"\"\"Showing category sales by month.\"\"\"\n",
        "plt.figure(figsize=(12,6))\n",
        "sns.countplot(x = 'prod_cat', hue = 'month', data = sdf, palette= \"plasma\")\n",
        "\n",
        "sale_by_month = sdf.groupby(['month','prod_cat'])['Qty'].count().reset_index()\n",
        "sale_by_month.pivot(index = \"month\", columns = \"prod_cat\", values = 'Qty').round(0)\n",
        "\n",
        "sdf['month'].value_counts()"
      ],
      "metadata": {
        "id": "Ed_v1eNbqnvk"
      },
      "execution_count": null,
      "outputs": []
    },
    {
      "cell_type": "code",
      "source": [
        "RFM Score Calculation\n",
        "\"\"\"When it comes to finding out who your best customers are, the old RFM matrix principle is the best. RFM stands for Recency, Frequency and Monetary. It is a customer segmentation technique that uses past purchase behavior to divide customers into groups.\n",
        "RFM Score Calculations\n",
        "RECENCY (R): Days since last purchase\n",
        "FREQUENCY (F): Total number of purchases\n",
        "MONETARY VALUE (M): Total money this customer spent\"\"\"\n",
        "\n",
        "df_new['tran_date'].min()\n",
        "\n",
        "df_new['tran_date'].max()\n",
        "\n",
        "NOW = dt.datetime(2014,12,3)\n",
        "\n",
        "rfmTable = sdf.groupby('customer_Id').agg({'tran_date': lambda x: (NOW - x.max()).days, 'transaction_id': lambda x: len(x), 'total_amt': lambda x: x.sum()})\n",
        "\n",
        "rfmTable['tran_date'] = rfmTable['tran_date'].astype(int)\n",
        "\n",
        "rfmTable.rename(columns={'tran_date': 'recency', \n",
        "                         'transaction_id': 'frequency', \n",
        "                         'total_amt': 'monetary_value'}, inplace=True)\n",
        "\n",
        "rfmTable.head()\n"
      ],
      "metadata": {
        "id": "GIUDVP2HquR2"
      },
      "execution_count": null,
      "outputs": []
    },
    {
      "cell_type": "code",
      "source": [
        "sort_by_monetary_value = rfmTable.sort_values('monetary_value',ascending=False)\n",
        "\n",
        "\"\"\"Customers with the highest purchases:\"\"\"\n",
        "print(sort_by_monetary_value.head(n=10))"
      ],
      "metadata": {
        "id": "B--3QNyGqxpC"
      },
      "execution_count": null,
      "outputs": []
    },
    {
      "cell_type": "code",
      "source": [
        "\"\"\"Getting rows for the most valuable customer.\"\"\"\n",
        "most_valued_customer = sdf.loc[sdf['customer_Id'] == 271834]"
      ],
      "metadata": {
        "id": "pFRCL5wpq0Gr"
      },
      "execution_count": null,
      "outputs": []
    },
    {
      "cell_type": "code",
      "source": [
        "print(most_valued_customer)"
      ],
      "metadata": {
        "id": "7eLM374yq3PC"
      },
      "execution_count": null,
      "outputs": []
    }
  ]
}